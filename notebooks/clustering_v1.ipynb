{
 "cells": [
  {
   "cell_type": "code",
   "execution_count": 2,
   "metadata": {},
   "outputs": [],
   "source": [
    "import sys\n",
    "import os\n",
    "sys.path.append(\"../\")\n",
    "\n",
    "import pandas as pd\n",
    "import numpy as np\n",
    "import pickle\n",
    "from sklearn.cluster import KMeans\n",
    "from sklearn.metrics import  silhouette_score, silhouette_samples\n",
    "import matplotlib.pyplot as plt\n",
    "from IPython.display import HTML\n",
    "%matplotlib inline\n",
    "from ipywidgets import interact, interactive, fixed, interact_manual\n",
    "import ipywidgets as widgets\n",
    "from scipy import stats"
   ]
  },
  {
   "cell_type": "markdown",
   "metadata": {
    "slideshow": {
     "slide_type": "slide"
    }
   },
   "source": [
    "## Reading the change object and clustering."
   ]
  },
  {
   "cell_type": "code",
   "execution_count": 3,
   "metadata": {},
   "outputs": [],
   "source": [
    "article_name = \"Truth\"\n",
    "change_object_dir =  \"../data/change objects/\"\n",
    "change_vector_dir = \"../data/change_vector/\"\n",
    "\n",
    "change_object_file_name = f\"{article_name}_vec.npz\"\n",
    "filename =  f\"{article_name}_change.h5\"\n",
    "\n",
    "change_object_file = os.path.join(change_object_dir, filename)\n",
    "change_vector_file = os.path.join(change_vector_dir, change_object_file_name)"
   ]
  },
  {
   "cell_type": "code",
   "execution_count": 4,
   "metadata": {},
   "outputs": [
    {
     "name": "stdout",
     "output_type": "stream",
     "text": [
      "CPU times: user 940 ms, sys: 40.2 s, total: 41.2 s\n",
      "Wall time: 41.6 s\n"
     ]
    }
   ],
   "source": [
    "%%time\n",
    "if os.path.exists(change_object_file):\n",
    "    with pd.HDFStore(change_object_file, 'r') as store:\n",
    "        change_object_dataframe = store.get(\"data\")\n",
    "else:\n",
    "    print(\"file do not exist\")"
   ]
  },
  {
   "cell_type": "code",
   "execution_count": 5,
   "metadata": {},
   "outputs": [
    {
     "data": {
      "text/html": [
       "<div>\n",
       "<style scoped>\n",
       "    .dataframe tbody tr th:only-of-type {\n",
       "        vertical-align: middle;\n",
       "    }\n",
       "\n",
       "    .dataframe tbody tr th {\n",
       "        vertical-align: top;\n",
       "    }\n",
       "\n",
       "    .dataframe thead th {\n",
       "        text-align: right;\n",
       "    }\n",
       "</style>\n",
       "<table border=\"1\" class=\"dataframe\">\n",
       "  <thead>\n",
       "    <tr style=\"text-align: right;\">\n",
       "      <th></th>\n",
       "      <th></th>\n",
       "      <th></th>\n",
       "      <th></th>\n",
       "      <th></th>\n",
       "      <th></th>\n",
       "      <th>ins_start_pos</th>\n",
       "      <th>ins_end_pos</th>\n",
       "      <th>left_neigh</th>\n",
       "      <th>right_neigh</th>\n",
       "      <th>del_start_pos</th>\n",
       "      <th>del_end_pos</th>\n",
       "      <th>ins_tokens</th>\n",
       "      <th>del_tokens</th>\n",
       "      <th>left_neigh_slice</th>\n",
       "      <th>right_neigh_slice</th>\n",
       "      <th>left_token</th>\n",
       "      <th>right_token</th>\n",
       "    </tr>\n",
       "    <tr>\n",
       "      <th>from revision id</th>\n",
       "      <th>to revision id</th>\n",
       "      <th>timestamp</th>\n",
       "      <th>timegap</th>\n",
       "      <th>editor</th>\n",
       "      <th></th>\n",
       "      <th></th>\n",
       "      <th></th>\n",
       "      <th></th>\n",
       "      <th></th>\n",
       "      <th></th>\n",
       "      <th></th>\n",
       "      <th></th>\n",
       "      <th></th>\n",
       "      <th></th>\n",
       "      <th></th>\n",
       "      <th></th>\n",
       "      <th></th>\n",
       "    </tr>\n",
       "  </thead>\n",
       "  <tbody>\n",
       "    <tr>\n",
       "      <th rowspan=\"5\" valign=\"top\">286436</th>\n",
       "      <th rowspan=\"5\" valign=\"top\">286907</th>\n",
       "      <th rowspan=\"5\" valign=\"top\">2001-03-21 00:36:45</th>\n",
       "      <th rowspan=\"5\" valign=\"top\">46 days 20:40:01</th>\n",
       "      <th rowspan=\"5\" valign=\"top\">0|Larry_Sanger</th>\n",
       "      <th>0</th>\n",
       "      <td>4230.0</td>\n",
       "      <td>4233.0</td>\n",
       "      <td>2</td>\n",
       "      <td>1</td>\n",
       "      <td>-1.0</td>\n",
       "      <td>-1.0</td>\n",
       "      <td>(-, -, -, -)</td>\n",
       "      <td>()</td>\n",
       "      <td>slice(0, 3, None)</td>\n",
       "      <td>slice(1, 32, None)</td>\n",
       "      <td>({st@rt}, &lt;, the)</td>\n",
       "      <td>(&lt;, the, following, is, a, portion, of, larrys...</td>\n",
       "    </tr>\n",
       "    <tr>\n",
       "      <th>1</th>\n",
       "      <td>4236.0</td>\n",
       "      <td>4236.0</td>\n",
       "      <td>7</td>\n",
       "      <td>4</td>\n",
       "      <td>-1.0</td>\n",
       "      <td>-1.0</td>\n",
       "      <td>(foregoing,)</td>\n",
       "      <td>()</td>\n",
       "      <td>slice(0, 8, None)</td>\n",
       "      <td>slice(4, 35, None)</td>\n",
       "      <td>({st@rt}, &lt;, the, following, is, a, portion, of)</td>\n",
       "      <td>(is, a, portion, of, larrystext, ,, wikificati...</td>\n",
       "    </tr>\n",
       "    <tr>\n",
       "      <th>2</th>\n",
       "      <td>4241.0</td>\n",
       "      <td>4250.0</td>\n",
       "      <td>9</td>\n",
       "      <td>9</td>\n",
       "      <td>-1.0</td>\n",
       "      <td>-1.0</td>\n",
       "      <td>([[, larrys, text, ]], ., if, you, can, do, be...</td>\n",
       "      <td>()</td>\n",
       "      <td>slice(0, 10, None)</td>\n",
       "      <td>slice(9, 40, None)</td>\n",
       "      <td>({st@rt}, &lt;, the, following, is, a, portion, o...</td>\n",
       "      <td>(,, wikification, is, encouraged, &gt;, what, is,...</td>\n",
       "    </tr>\n",
       "    <tr>\n",
       "      <th>3</th>\n",
       "      <td>4252.0</td>\n",
       "      <td>4288.0</td>\n",
       "      <td>4242</td>\n",
       "      <td>13</td>\n",
       "      <td>-1.0</td>\n",
       "      <td>-1.0</td>\n",
       "      <td>(you, can, feel, free, to, radically, update, ...</td>\n",
       "      <td>()</td>\n",
       "      <td>slice(4212, 4243, None)</td>\n",
       "      <td>slice(13, 44, None)</td>\n",
       "      <td>(to, rest, content, with, any, sort, of, relat...</td>\n",
       "      <td>(&gt;, what, is, truth, ?, we, ’, ll, look, at, a...</td>\n",
       "    </tr>\n",
       "    <tr>\n",
       "      <th>4</th>\n",
       "      <td>-1.0</td>\n",
       "      <td>-1.0</td>\n",
       "      <td>2</td>\n",
       "      <td>4</td>\n",
       "      <td>3.0</td>\n",
       "      <td>3.0</td>\n",
       "      <td>()</td>\n",
       "      <td>(following,)</td>\n",
       "      <td>slice(0, 3, None)</td>\n",
       "      <td>slice(4, 35, None)</td>\n",
       "      <td>({st@rt}, &lt;, the)</td>\n",
       "      <td>(is, a, portion, of, larrystext, ,, wikificati...</td>\n",
       "    </tr>\n",
       "  </tbody>\n",
       "</table>\n",
       "</div>"
      ],
      "text/plain": [
       "                                                                                       ins_start_pos  \\\n",
       "from revision id to revision id timestamp           timegap          editor                            \n",
       "286436           286907         2001-03-21 00:36:45 46 days 20:40:01 0|Larry_Sanger 0         4230.0   \n",
       "                                                                                    1         4236.0   \n",
       "                                                                                    2         4241.0   \n",
       "                                                                                    3         4252.0   \n",
       "                                                                                    4           -1.0   \n",
       "\n",
       "                                                                                       ins_end_pos  \\\n",
       "from revision id to revision id timestamp           timegap          editor                          \n",
       "286436           286907         2001-03-21 00:36:45 46 days 20:40:01 0|Larry_Sanger 0       4233.0   \n",
       "                                                                                    1       4236.0   \n",
       "                                                                                    2       4250.0   \n",
       "                                                                                    3       4288.0   \n",
       "                                                                                    4         -1.0   \n",
       "\n",
       "                                                                                       left_neigh  \\\n",
       "from revision id to revision id timestamp           timegap          editor                         \n",
       "286436           286907         2001-03-21 00:36:45 46 days 20:40:01 0|Larry_Sanger 0           2   \n",
       "                                                                                    1           7   \n",
       "                                                                                    2           9   \n",
       "                                                                                    3        4242   \n",
       "                                                                                    4           2   \n",
       "\n",
       "                                                                                       right_neigh  \\\n",
       "from revision id to revision id timestamp           timegap          editor                          \n",
       "286436           286907         2001-03-21 00:36:45 46 days 20:40:01 0|Larry_Sanger 0            1   \n",
       "                                                                                    1            4   \n",
       "                                                                                    2            9   \n",
       "                                                                                    3           13   \n",
       "                                                                                    4            4   \n",
       "\n",
       "                                                                                       del_start_pos  \\\n",
       "from revision id to revision id timestamp           timegap          editor                            \n",
       "286436           286907         2001-03-21 00:36:45 46 days 20:40:01 0|Larry_Sanger 0           -1.0   \n",
       "                                                                                    1           -1.0   \n",
       "                                                                                    2           -1.0   \n",
       "                                                                                    3           -1.0   \n",
       "                                                                                    4            3.0   \n",
       "\n",
       "                                                                                       del_end_pos  \\\n",
       "from revision id to revision id timestamp           timegap          editor                          \n",
       "286436           286907         2001-03-21 00:36:45 46 days 20:40:01 0|Larry_Sanger 0         -1.0   \n",
       "                                                                                    1         -1.0   \n",
       "                                                                                    2         -1.0   \n",
       "                                                                                    3         -1.0   \n",
       "                                                                                    4          3.0   \n",
       "\n",
       "                                                                                                                              ins_tokens  \\\n",
       "from revision id to revision id timestamp           timegap          editor                                                                \n",
       "286436           286907         2001-03-21 00:36:45 46 days 20:40:01 0|Larry_Sanger 0                                       (-, -, -, -)   \n",
       "                                                                                    1                                       (foregoing,)   \n",
       "                                                                                    2  ([[, larrys, text, ]], ., if, you, can, do, be...   \n",
       "                                                                                    3  (you, can, feel, free, to, radically, update, ...   \n",
       "                                                                                    4                                                 ()   \n",
       "\n",
       "                                                                                         del_tokens  \\\n",
       "from revision id to revision id timestamp           timegap          editor                           \n",
       "286436           286907         2001-03-21 00:36:45 46 days 20:40:01 0|Larry_Sanger 0            ()   \n",
       "                                                                                    1            ()   \n",
       "                                                                                    2            ()   \n",
       "                                                                                    3            ()   \n",
       "                                                                                    4  (following,)   \n",
       "\n",
       "                                                                                              left_neigh_slice  \\\n",
       "from revision id to revision id timestamp           timegap          editor                                      \n",
       "286436           286907         2001-03-21 00:36:45 46 days 20:40:01 0|Larry_Sanger 0        slice(0, 3, None)   \n",
       "                                                                                    1        slice(0, 8, None)   \n",
       "                                                                                    2       slice(0, 10, None)   \n",
       "                                                                                    3  slice(4212, 4243, None)   \n",
       "                                                                                    4        slice(0, 3, None)   \n",
       "\n",
       "                                                                                         right_neigh_slice  \\\n",
       "from revision id to revision id timestamp           timegap          editor                                  \n",
       "286436           286907         2001-03-21 00:36:45 46 days 20:40:01 0|Larry_Sanger 0   slice(1, 32, None)   \n",
       "                                                                                    1   slice(4, 35, None)   \n",
       "                                                                                    2   slice(9, 40, None)   \n",
       "                                                                                    3  slice(13, 44, None)   \n",
       "                                                                                    4   slice(4, 35, None)   \n",
       "\n",
       "                                                                                                                              left_token  \\\n",
       "from revision id to revision id timestamp           timegap          editor                                                                \n",
       "286436           286907         2001-03-21 00:36:45 46 days 20:40:01 0|Larry_Sanger 0                                  ({st@rt}, <, the)   \n",
       "                                                                                    1   ({st@rt}, <, the, following, is, a, portion, of)   \n",
       "                                                                                    2  ({st@rt}, <, the, following, is, a, portion, o...   \n",
       "                                                                                    3  (to, rest, content, with, any, sort, of, relat...   \n",
       "                                                                                    4                                  ({st@rt}, <, the)   \n",
       "\n",
       "                                                                                                                             right_token  \n",
       "from revision id to revision id timestamp           timegap          editor                                                               \n",
       "286436           286907         2001-03-21 00:36:45 46 days 20:40:01 0|Larry_Sanger 0  (<, the, following, is, a, portion, of, larrys...  \n",
       "                                                                                    1  (is, a, portion, of, larrystext, ,, wikificati...  \n",
       "                                                                                    2  (,, wikification, is, encouraged, >, what, is,...  \n",
       "                                                                                    3  (>, what, is, truth, ?, we, ’, ll, look, at, a...  \n",
       "                                                                                    4  (is, a, portion, of, larrystext, ,, wikificati...  "
      ]
     },
     "execution_count": 5,
     "metadata": {},
     "output_type": "execute_result"
    }
   ],
   "source": [
    "change_object_dataframe.head()"
   ]
  },
  {
   "cell_type": "markdown",
   "metadata": {},
   "source": [
    "## Read Vectors of change object."
   ]
  },
  {
   "cell_type": "code",
   "execution_count": 6,
   "metadata": {},
   "outputs": [],
   "source": [
    "with open(change_vector_file, \"rb\") as file:\n",
    "    arrays_dict = np.load(file)\n",
    "    neighbour_10_matrix = arrays_dict[\"neighbour_10\"]\n",
    "    ins_del_10_sum_neighbour_matrix = arrays_dict[\"ins_del_10_sum_neighbour\"]\n",
    "    neighbour_4_matrix = arrays_dict[\"neighbour_4\"]\n",
    "    ins_del_4_sum_neighbour_matrix = arrays_dict[\"ins_del_4_sum_neighbour\"]\n",
    "    weighted_neighbour_matrix_matrix = arrays_dict[\"weighted_neighbour_matrix\"]\n",
    "    ins_del_weighted_neighbour_matrix = arrays_dict[\"ins_del_weighted_neighbour_matrix\"]"
   ]
  },
  {
   "cell_type": "markdown",
   "metadata": {},
   "source": [
    "### Make left, ins and delete string for visualisation"
   ]
  },
  {
   "cell_type": "code",
   "execution_count": 7,
   "metadata": {},
   "outputs": [],
   "source": [
    "change_object_dataframe[\"left_string\"] = change_object_dataframe[\"left_token\"].str.join(\" \")\n",
    "change_object_dataframe[\"ins_string\"] = change_object_dataframe[\"ins_tokens\"].str.join(\" \")\n",
    "change_object_dataframe[\"del_string\"] = change_object_dataframe[\"del_tokens\"].str.join(\" \")\n",
    "change_object_dataframe[\"right_string\"] = change_object_dataframe[\"right_token\"].str.join(\" \")"
   ]
  },
  {
   "cell_type": "code",
   "execution_count": 8,
   "metadata": {},
   "outputs": [],
   "source": [
    "change_object_dataframe[\"ins_token_len\"]=change_object_dataframe[\"ins_tokens\"].str.len()\n",
    "change_object_dataframe[\"del_token_len\"]=change_object_dataframe[\"del_tokens\"].str.len()"
   ]
  },
  {
   "cell_type": "markdown",
   "metadata": {},
   "source": [
    "## Clustering"
   ]
  },
  {
   "cell_type": "code",
   "execution_count": 9,
   "metadata": {},
   "outputs": [],
   "source": [
    "table_style =     [\n",
    "    {'selector': 'table', 'props': [('border', \"6px double #696969\")]},\n",
    "    {'selector': 'th', 'props': [('border', \"2px solid #D3D3D3\"), (\"font-size\", \"100%\")]},\n",
    "    {\"selector\":\".data\", \"props\":[(\"text-align\", \"justify\"), ('border', \"1px solid #000\"), ('margin', '4px 24px 4px 24px' ), (\"font-size\", \"8pt\")]}\n",
    "] \n",
    "\n",
    "deleted_token_style = {\"color\":\"red\", \"font-weight\": \"bold\",\"font-size\": \"100px\"}\n",
    "inserted_token_style = {\"color\":\"blue\", \"font-weight\": \"bold\",\"font-size\": \"100px\"}"
   ]
  },
  {
   "cell_type": "code",
   "execution_count": 10,
   "metadata": {
    "slideshow": {
     "slide_type": "-"
    }
   },
   "outputs": [],
   "source": [
    "style_dict = {'border': \"2px solid #000\",\n",
    "              \"text-align\": \"justify\"\n",
    "    \n",
    "}"
   ]
  },
  {
   "cell_type": "code",
   "execution_count": 11,
   "metadata": {},
   "outputs": [
    {
     "name": "stdout",
     "output_type": "stream",
     "text": [
      "CPU times: user 4min 34s, sys: 47.6 s, total: 5min 22s\n",
      "Wall time: 1min 35s\n"
     ]
    }
   ],
   "source": [
    "%%time\n",
    "NO_OF_CLUSTERS = 70\n",
    "km = KMeans(n_clusters= NO_OF_CLUSTERS, n_jobs=3)\n",
    "clusters_4 = km.fit(neighbour_4_matrix)"
   ]
  },
  {
   "cell_type": "code",
   "execution_count": 12,
   "metadata": {},
   "outputs": [],
   "source": [
    "change_object_dataframe[\"cluster_4\"] = pd.Series(clusters_4.labels_, index= change_object_dataframe.index)\n",
    "change_grouped_by_tokens_4_neigh = change_object_dataframe.groupby(\"cluster_4\")"
   ]
  },
  {
   "cell_type": "code",
   "execution_count": 13,
   "metadata": {},
   "outputs": [],
   "source": [
    "repers_4_neigh = change_grouped_by_tokens_4_neigh[[\"left_string\", \"del_string\", \"ins_string\", \"right_string\"]].apply(lambda x: x.style.render())"
   ]
  },
  {
   "cell_type": "code",
   "execution_count": 14,
   "metadata": {},
   "outputs": [
    {
     "data": {
      "application/vnd.jupyter.widget-view+json": {
       "model_id": "488e618ceeff475c903cef695bf13b52",
       "version_major": 2,
       "version_minor": 0
      },
      "text/plain": [
       "interactive(children=(Dropdown(description='group', options=(0, 1, 2, 3, 4, 5, 6, 7, 8, 9, 10, 11, 12, 13, 14,…"
      ]
     },
     "metadata": {},
     "output_type": "display_data"
    }
   ],
   "source": [
    "@interact( clusters_html=fixed(repers_4_neigh), group=range(change_grouped_by_tokens_4_neigh.ngroups))\n",
    "def display_clusters(clusters_html, group):\n",
    "     return display(HTML(clusters_html.iloc[group]))"
   ]
  },
  {
   "cell_type": "markdown",
   "metadata": {},
   "source": [
    "##### Cluster number of neighbour tokens=10, number of clusters =100 "
   ]
  },
  {
   "cell_type": "code",
   "execution_count": 15,
   "metadata": {},
   "outputs": [
    {
     "name": "stdout",
     "output_type": "stream",
     "text": [
      "CPU times: user 5min 40s, sys: 34.4 s, total: 6min 15s\n",
      "Wall time: 1min 55s\n"
     ]
    }
   ],
   "source": [
    "%%time\n",
    "NO_OF_CLUSTERS = 100\n",
    "km = KMeans(n_clusters= NO_OF_CLUSTERS, n_jobs=3)\n",
    "clusters_10 = km.fit(neighbour_10_matrix)"
   ]
  },
  {
   "cell_type": "code",
   "execution_count": 16,
   "metadata": {},
   "outputs": [],
   "source": [
    "change_object_dataframe[\"cluster_10\"] = pd.Series(clusters_10.labels_, index= change_object_dataframe.index)\n",
    "change_grouped_by_tokens_10_neigh = change_object_dataframe.groupby(\"cluster_10\")"
   ]
  },
  {
   "cell_type": "code",
   "execution_count": 17,
   "metadata": {},
   "outputs": [],
   "source": [
    "repers_10_full_neigh = change_grouped_by_tokens_10_neigh[[\"left_string\", \"del_string\", \"ins_string\", \"right_string\"]].apply(lambda x: x.style.render())"
   ]
  },
  {
   "cell_type": "code",
   "execution_count": 18,
   "metadata": {},
   "outputs": [
    {
     "data": {
      "application/vnd.jupyter.widget-view+json": {
       "model_id": "a999da28113f4226a6cabf9059b0be47",
       "version_major": 2,
       "version_minor": 0
      },
      "text/plain": [
       "interactive(children=(Dropdown(description='group', options=(0, 1, 2, 3, 4, 5, 6, 7, 8, 9, 10, 11, 12, 13, 14,…"
      ]
     },
     "metadata": {},
     "output_type": "display_data"
    }
   ],
   "source": [
    "@interact( clusters_html=fixed(repers_10_full_neigh), group=range(change_grouped_by_tokens_10_neigh.ngroups))\n",
    "def display_clusters(clusters_html, group):\n",
    "     return display(HTML(clusters_html.iloc[group]))"
   ]
  },
  {
   "cell_type": "markdown",
   "metadata": {},
   "source": [
    "### Clustering with vectors concatinated vectors average of 4 right and left neighbours and average of inserted and deleted tokens. "
   ]
  },
  {
   "cell_type": "code",
   "execution_count": 19,
   "metadata": {},
   "outputs": [
    {
     "name": "stdout",
     "output_type": "stream",
     "text": [
      "CPU times: user 8min 2s, sys: 58.6 s, total: 9min 1s\n",
      "Wall time: 3min\n"
     ]
    }
   ],
   "source": [
    "%%time\n",
    "NO_OF_CLUSTERS = 100\n",
    "km = KMeans(n_clusters= NO_OF_CLUSTERS, n_jobs=3)\n",
    "clusters_4_full = km.fit(ins_del_4_sum_neighbour_matrix)\n",
    "change_object_dataframe[\"cluster_4_full\"] = pd.Series(clusters_4_full.labels_, index= change_object_dataframe.index)"
   ]
  },
  {
   "cell_type": "code",
   "execution_count": 20,
   "metadata": {},
   "outputs": [],
   "source": [
    "change_grouped_by_tokens_4_full = change_object_dataframe.groupby(\"cluster_4_full\")"
   ]
  },
  {
   "cell_type": "code",
   "execution_count": 21,
   "metadata": {},
   "outputs": [],
   "source": [
    "repers_4_full_neigh = change_grouped_by_tokens_4_full[[\"left_string\", \"del_string\", \"ins_string\", \"right_string\"]].apply(lambda x: x.style.render())"
   ]
  },
  {
   "cell_type": "code",
   "execution_count": 22,
   "metadata": {},
   "outputs": [
    {
     "data": {
      "application/vnd.jupyter.widget-view+json": {
       "model_id": "44bc16d5aa324fb990ddfcfe51483f4a",
       "version_major": 2,
       "version_minor": 0
      },
      "text/plain": [
       "interactive(children=(Dropdown(description='group', options=(0, 1, 2, 3, 4, 5, 6, 7, 8, 9, 10, 11, 12, 13, 14,…"
      ]
     },
     "metadata": {},
     "output_type": "display_data"
    }
   ],
   "source": [
    "@interact( clusters_html=fixed(repers_4_full_neigh), group=range(change_grouped_by_tokens_4_full.ngroups))\n",
    "def display_clusters(clusters_html, group):\n",
    "     return display(HTML(clusters_html.iloc[group]))"
   ]
  },
  {
   "cell_type": "markdown",
   "metadata": {},
   "source": [
    "### Clustering with vectors concatinated vectors weighted average of 4 right and left neighbours and average of inserted and deleted tokens. "
   ]
  },
  {
   "cell_type": "code",
   "execution_count": 23,
   "metadata": {},
   "outputs": [
    {
     "name": "stdout",
     "output_type": "stream",
     "text": [
      "CPU times: user 7min 54s, sys: 41.1 s, total: 8min 35s\n",
      "Wall time: 2min 51s\n"
     ]
    }
   ],
   "source": [
    "%%time\n",
    "NO_OF_CLUSTERS = 100\n",
    "km = KMeans(n_clusters= NO_OF_CLUSTERS, n_jobs=3)\n",
    "clusters_4_full = km.fit(ins_del_weighted_neighbour_matrix)\n",
    "change_object_dataframe[\"cluster_4_weighted\"] = pd.Series(clusters_4_full.labels_, index= change_object_dataframe.index)"
   ]
  },
  {
   "cell_type": "code",
   "execution_count": 24,
   "metadata": {},
   "outputs": [],
   "source": [
    "change_grouped_by_tokens_4_weighted = change_object_dataframe.groupby(\"cluster_4_weighted\")"
   ]
  },
  {
   "cell_type": "code",
   "execution_count": 25,
   "metadata": {},
   "outputs": [],
   "source": [
    "repers_4_weighted = change_grouped_by_tokens_4_weighted[[\"left_string\", \"del_string\", \"ins_string\", \"right_string\"]].apply(lambda x: x.style.render())"
   ]
  },
  {
   "cell_type": "code",
   "execution_count": 26,
   "metadata": {},
   "outputs": [
    {
     "data": {
      "application/vnd.jupyter.widget-view+json": {
       "model_id": "ed2b00930cba4eaea4974d3f18d4f473",
       "version_major": 2,
       "version_minor": 0
      },
      "text/plain": [
       "interactive(children=(Dropdown(description='group', options=(0, 1, 2, 3, 4, 5, 6, 7, 8, 9, 10, 11, 12, 13, 14,…"
      ]
     },
     "metadata": {},
     "output_type": "display_data"
    }
   ],
   "source": [
    "@interact( clusters_html=fixed(repers_4_weighted), group=range(change_grouped_by_tokens_4_weighted.ngroups))\n",
    "def display_clusters(clusters_html, group):\n",
    "     return display(HTML(clusters_html.iloc[group]))"
   ]
  },
  {
   "cell_type": "markdown",
   "metadata": {},
   "source": [
    "### Saving the cluster with change object\n",
    "###### TO-DO: save change object and cluster seperately."
   ]
  },
  {
   "cell_type": "code",
   "execution_count": 34,
   "metadata": {},
   "outputs": [],
   "source": [
    "cluster_dir = \"../data/clusters/\"\n",
    "file_name = article_name + \"_cluster.h5\"\n",
    "full_file_path = os.path.join(cluster_dir, file_name)\n",
    "with pd.HDFStore(full_file_path, 'w') as store:\n",
    "    store.put(\"cluster\", change_object_dataframe[['cluster_4', 'cluster_10',\n",
    "       'cluster_4_full', 'cluster_4_weighted']], table=False)"
   ]
  },
  {
   "cell_type": "markdown",
   "metadata": {},
   "source": [
    "### Ranking\n",
    "###### Ranking clustered groups on following parameters.\n",
    "1. Size of clusters\n",
    "2. No of unique editors is clusters\n",
    "3. Total period of cluster. i.e difference between start and end date.\n",
    "4. Median length of edited token in each cluster."
   ]
  },
  {
   "cell_type": "code",
   "execution_count": 28,
   "metadata": {},
   "outputs": [],
   "source": [
    "rank_by_size = change_grouped_by_tokens_4_weighted.size().sort_values(ascending=False)"
   ]
  },
  {
   "cell_type": "code",
   "execution_count": 29,
   "metadata": {},
   "outputs": [],
   "source": [
    "rank_by_uniq_editor = change_object_dataframe.reset_index().groupby(\"cluster_4_weighted\")[\"editor\"].nunique().sort_values(ascending=False)"
   ]
  },
  {
   "cell_type": "code",
   "execution_count": 30,
   "metadata": {},
   "outputs": [],
   "source": [
    "rank_by_period = change_object_dataframe.reset_index().groupby(\"cluster_4_weighted\")[\"timestamp\"].apply(lambda x: x.max() - x.min()).sort_values(ascending=False)"
   ]
  },
  {
   "cell_type": "code",
   "execution_count": 31,
   "metadata": {},
   "outputs": [],
   "source": [
    "rank_by_rate = change_object_dataframe.reset_index().groupby(\"cluster_4_weighted\")[\"timegap\"].apply(lambda x: x.mean()).sort_values(ascending=False)"
   ]
  },
  {
   "cell_type": "code",
   "execution_count": 32,
   "metadata": {},
   "outputs": [],
   "source": [
    "rank_by_token_length = (change_grouped_by_tokens_4_weighted[\"ins_token_len\"].median() + change_grouped_by_tokens_4_weighted[\"del_token_len\"].median()).sort_values()\n",
    "rank_by_token_length = rank_by_token_length /2"
   ]
  },
  {
   "cell_type": "code",
   "execution_count": 33,
   "metadata": {},
   "outputs": [],
   "source": [
    "ins_tokens_per_group = change_grouped_by_tokens_4_weighted[\"ins_tokens\"].apply(lambda x: pd.Series(np.concatenate(x.values,axis=0)))\n",
    "ins_tokens_per_group = change_grouped_by_tokens_4_weighted[\"del_tokens\"].apply(lambda x: pd.Series(np.concatenate(x.values,axis=0)))"
   ]
  },
  {
   "cell_type": "code",
   "execution_count": 98,
   "metadata": {},
   "outputs": [
    {
     "data": {
      "text/plain": [
       "[<matplotlib.lines.Line2D at 0x7f6d541f7358>]"
      ]
     },
     "execution_count": 98,
     "metadata": {},
     "output_type": "execute_result"
    },
    {
     "data": {
      "image/png": "[encoded data removed]",
      "text/plain": [
       "<Figure size 432x288 with 1 Axes>"
      ]
     },
     "metadata": {},
     "output_type": "display_data"
    }
   ],
   "source": [
    "plt.plot(rank_by_period.index, \"r+\")\n",
    "plt.plot( rank_by_uniq_editor.index, \"b*\")\n",
    "# plt.scatter(np.log10(rank_by_size), rank_by_token_length)\n",
    "# plt.scatter(np.log10(rank_by_size), np.log10(pd.to_numeric(rank_by_period)))\n",
    "# plt.scatter(np.log10(rank_by_size), np.log10(pd.to_numeric(rank_by_rate)))"
   ]
  },
  {
   "cell_type": "code",
   "execution_count": null,
   "metadata": {},
   "outputs": [],
   "source": [
    "change_grouped_by_tokens.get_group(cluster_ranks_by_period.index.tolist()[0])"
   ]
  },
  {
   "cell_type": "code",
   "execution_count": null,
   "metadata": {},
   "outputs": [],
   "source": [
    "change_grouped_by_tokens.get_group(cluster_ranks_by_period.index.tolist()[0])[\"del_string\"].str.cat()"
   ]
  },
  {
   "cell_type": "code",
   "execution_count": null,
   "metadata": {},
   "outputs": [],
   "source": [
    "%%time\n",
    "silhoutee_s = []\n",
    "for n in range(2,48,2):\n",
    "    km = KMeans(n_clusters= n, n_jobs=3)\n",
    "    clusters = km.fit(ins_del_sum_neighbour_matrix)\n",
    "    cluster_s = pd.Series(clusters.labels_, index= change_df.index)\n",
    "    silhoutee_s.append(silhouette_score(change_matrix, cluster_s))"
   ]
  },
  {
   "cell_type": "code",
   "execution_count": null,
   "metadata": {},
   "outputs": [],
   "source": [
    "x = np.arange(2,48,2)\n",
    "plt.plot(x,silhoutee_s)"
   ]
  },
  {
   "cell_type": "code",
   "execution_count": null,
   "metadata": {},
   "outputs": [],
   "source": [
    "x[np.argsort(silhoutee_s)[-8:]]"
   ]
  },
  {
   "cell_type": "code",
   "execution_count": null,
   "metadata": {},
   "outputs": [],
   "source": [
    "np.array(silhoutee_s)[np.argsort(silhoutee_s)[-8:]]"
   ]
  },
  {
   "cell_type": "code",
   "execution_count": null,
   "metadata": {},
   "outputs": [],
   "source": [
    "%%time\n",
    "km = KMeans(n_clusters= 12, n_jobs=3)\n",
    "clusters = km.fit(ins_del_sum_neighbour_matrix)\n",
    "cluster_s = pd.Series(clusters.labels_, index= change_df.index)\n",
    "change_df[\"cluster\"] = cluster_s\n",
    "change_grouped_by_sum = change_df.groupby(\"cluster\")\n",
    "change_grouped_by_sum.size().plot()"
   ]
  },
  {
   "cell_type": "code",
   "execution_count": null,
   "metadata": {},
   "outputs": [],
   "source": [
    "rank_by_size = change_grouped_by_sum.size().sort_values()\n",
    "rank_by_size"
   ]
  },
  {
   "cell_type": "code",
   "execution_count": null,
   "metadata": {},
   "outputs": [],
   "source": [
    "rank_by_uniq_editor = change_grouped_by_sum[\"editor_s\"].nunique().sort_values()"
   ]
  },
  {
   "cell_type": "code",
   "execution_count": null,
   "metadata": {},
   "outputs": [],
   "source": [
    "rank_by_period = change_grouped_by_sum[\"timestamp\"].apply(lambda x: x.max() - x.min()).sort_values()"
   ]
  },
  {
   "cell_type": "code",
   "execution_count": null,
   "metadata": {},
   "outputs": [],
   "source": [
    "rank_by_rate = change_grouped_by_sum[\"time_gap\"].apply(lambda x: x.mean()).sort_values()"
   ]
  },
  {
   "cell_type": "code",
   "execution_count": null,
   "metadata": {},
   "outputs": [],
   "source": [
    "rank_by_token_length = (change_grouped_by_sum[\"ins_token_len\"].median() + change_grouped_by_sum[\"del_token_len\"].median()).sort_values()\n",
    "rank_by_token_length = ranks_by_token_length /2"
   ]
  },
  {
   "cell_type": "code",
   "execution_count": null,
   "metadata": {},
   "outputs": [],
   "source": [
    "plt.scatter(np.log10(cluster_ranks_by_size), rank_by_uniq_editor)\n",
    "plt.scatter(np.log10(cluster_ranks_by_size), rank_by_token_length)\n",
    "plt.scatter(np.log10(cluster_ranks_by_size), np.log10(pd.to_numeric(rank_by_period)))\n",
    "plt.scatter(np.log10(cluster_ranks_by_size), np.log10(pd.to_numeric(rank_by_rate)))"
   ]
  },
  {
   "cell_type": "code",
   "execution_count": null,
   "metadata": {},
   "outputs": [],
   "source": [
    "change_grouped_by_sum.get_group(9)[[\"del_string\", \"ins_string\"]]"
   ]
  },
  {
   "cell_type": "code",
   "execution_count": null,
   "metadata": {},
   "outputs": [],
   "source": []
  }
 ],
 "metadata": {
  "kernelspec": {
   "display_name": "Python 3",
   "language": "python",
   "name": "python3"
  },
  "language_info": {
   "codemirror_mode": {
    "name": "ipython",
    "version": 3
   },
   "file_extension": ".py",
   "mimetype": "text/x-python",
   "name": "python",
   "nbconvert_exporter": "python",
   "pygments_lexer": "ipython3",
   "version": "3.6.4"
  }
 },
 "nbformat": 4,
 "nbformat_minor": 2
}
