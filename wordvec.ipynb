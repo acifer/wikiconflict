{
 "cells": [
  {
   "cell_type": "code",
   "execution_count": 1,
   "metadata": {},
   "outputs": [],
   "source": [
    "import gensim\n",
    "from gensim.models import KeyedVectors\n",
    "from gensim.models.fasttext import FastText as FT_gensim\n",
    "import pandas as pd\n",
    "import numpy as np\n",
    "import requests\n",
    "import pickle"
   ]
  },
  {
   "cell_type": "code",
   "execution_count": 2,
   "metadata": {},
   "outputs": [],
   "source": [
    "class Wiki:\n",
    "    def __init__(self,id,title, all_tokens=[]):\n",
    "        self.id = id\n",
    "        self.title = title\n",
    "        self.all_tokens = all_tokens\n",
    "        \n",
    "    def init_revisions(self, revisions):\n",
    "#         self.revisions = {revision[\"id\"] : Revision(revision[\"id\"],revision[\"timestamp\"], revision[\"editor\"]) for revision in revisions}\n",
    "          self.revisions = pd.Series( {revision[\"id\"] : \n",
    "                                       Revision(revision[\"id\"],revision[\"timestamp\"], revision[\"editor\"]) for revision in revisions} )\n",
    "\n",
    " \n",
    "    def add_all_token(self, all_tokens):\n",
    "        self.all_tokens = all_tokens\n",
    "        for token in self.all_tokens:\n",
    "            self.revisions.loc[token[\"o_rev_id\"]].added.add(token[\"token_id\"])\n",
    "            for in_revision in token[\"in\"]:\n",
    "                self.revisions.loc[in_revision].added.add(token[\"token_id\"])\n",
    "            for out_revision in token[\"out\"]:\n",
    "                self.revisions.loc[out_revision].removed.add(token[\"token_id\"])\n",
    "class Revision:\n",
    "    def __init__(self, id, timestamp,editor):\n",
    "        self.id = id\n",
    "        self.timestamp = timestamp\n",
    "        self.editor = editor\n",
    "        self.added = set()\n",
    "        self.removed = set()   \n",
    "        \n",
    "    def deleted(self, to_rev):\n",
    "        self.content[\"removed\"] = self.content[\"token_id\"].isin(to_rev.removed)\n",
    "        end_pos = np.argwhere(np.ediff1d(np.pad(self.content[\"removed\"].astype(np.int), (1,1), mode=\"constant\", constant_values=0)) == -1) -1 \n",
    "        start_pos = np.argwhere(np.ediff1d(np.pad(self.content[\"removed\"].astype(np.int), (1,1), mode=\"constant\", constant_values=0)) == 1)\n",
    "        start_neighbour = start_pos - 1\n",
    "        end_neighbour = end_pos + 1\n",
    "        self.first_last_token_del = self.content[\"removed\"].values[[0,-1]]\n",
    "        if self.first_last_token_del[0]:\n",
    "            start_pos[0] = end_pos[0]\n",
    "            start_neighbour[0] = end_neighbour[0]\n",
    "        if self.first_last_token_del[1]:\n",
    "            end_pos[-1] = start_pos[-1]\n",
    "            start_neighbour[-1] = end_neighbour[-1]\n",
    "        self.deleted_object = pd.DataFrame(np.c_[ start_pos, end_pos, start_neighbour, end_neighbour ],\n",
    "                                       columns=[ \"del_start_pos\", \"del_end_pos\", \"left_neigh\", \"right_neigh\",])\n",
    "    \n",
    "    def inserted_continuous_pos(self):\n",
    "        self.content[\"added\"] = self.content[\"token_id\"].isin(self.added)\n",
    "        end_pos = np.argwhere(np.ediff1d(np.pad(self.content[\"added\"].astype(np.int), (1,1), mode=\"constant\", constant_values=0)) == -1) -1 \n",
    "        start_pos = np.argwhere(np.ediff1d(np.pad(self.content[\"added\"].astype(np.int), (1,1), mode=\"constant\", constant_values=0)) == 1)\n",
    "        self.added_pos = np.c_[start_pos, end_pos]\n",
    "\n",
    "    def inserted_neighbours(self):\n",
    "        start_token_pos = self.added_pos[:,0] - 1\n",
    "        end_token_pos = self.added_pos[:,1] + 1\n",
    "        self.first_last_token = self.content[\"added\"].values[[0,-1]]\n",
    "        if self.first_last_token[0]:\n",
    "            start_token_pos[0] = end_token_pos[0]\n",
    "        if self.first_last_token[1]:\n",
    "            end_token_pos[-1] = start_token_pos[-1]\n",
    "        self.start_token_id = self.content[\"token_id\"].values[start_token_pos]\n",
    "        self.end_token_id = self.content[\"token_id\"].values[end_token_pos]\n",
    "    \n",
    "    def create_change_object(self, to_rev):\n",
    "        self.ins_left = np.argwhere(self.content.token_id.isin(to_rev.start_token_id))\n",
    "        self.ins_right = np.argwhere(self.content.token_id.isin(to_rev.end_token_id))\n",
    "        self.inserted_object = pd.DataFrame(np.concatenate([to_rev.added_pos, self.ins_left, self.ins_right], axis=1),\n",
    "                                       columns=[\"ins_start_pos\", \"ins_end_pos\", \"left_neigh\", \"right_neigh\", ])\n",
    "\n",
    "        self.change = pd.merge(self.inserted_object, self.deleted_object,how=\"outer\", on=[\"left_neigh\", \"right_neigh\"])\n",
    "        self.change.fillna(0, inplace=True)\n",
    "        \n",
    "#     def find_tokens(self, epsilon_size):\n",
    "#         self.vocabs_pos = np.argwhere( self.content[\"invocab\"].values)\n",
    "#         self.content_str_vec = self.content.str.values\n",
    "#         del self.content\n",
    "\n",
    "\n",
    "#         return pd.Series([tuple(ins_tokens), tuple(del_tokens), tuple(left_neigh), tuple(right_neigh), tuple(left_token), tuple(right_token)])\n",
    "    \n",
    "#     def find_neighbour_tokens(self, change_neigh, epsilon_size):\n",
    "#         left_neigh_start = change_neigh[0]\n",
    "#         right_neigh_start = change_neigh[1]\n",
    "#         left_neigh = self.vocabs_pos[self.vocabs_pos <= left_neigh_start][-epsilon_size:]\n",
    "#         right_neigh = self.vocabs_pos[self.vocabs_pos >= right_neigh_start][:epsilon_size]\n",
    "#         left_tokens = tuple(self.content_str_vec[left_neigh])\n",
    "#         right_tokens = tuple(self.content_str_vec[right_neigh])\n",
    "#         return np.c_[left_tokens, right_tokens]\n",
    "        \n",
    "#     def find_changed_tokens(self, change_pos, epsilon_size):\n",
    "#         ins_start_pos = change_pos[0]\n",
    "#         ins_end_pos = change_pos[1]\n",
    "#         del_start_pos = change_pos[0]\n",
    "#         del_end_pos = change_pos[1]\n",
    "#         ins_slice = slice(int(ins_start_pos), int(ins_end_pos)+1 )\n",
    "#         del_slice = slice(int(del_start_pos), int(del_end_pos)+1 )\n",
    "#         ins_tokens = tuple(self.content_str_vec[ins_slice])\n",
    "#         del_tokens = tuple(self.content_str_vec[del_slice])\n",
    "#         return np.c_[[ins_tokens], [del_tokens]]\n",
    "    \n",
    "#     def find_tokens(change, revision, epsilon_size):\n",
    "#         left_neigh = revision.vocabs_pos[revision.vocabs_pos <= change[\"left_neigh\"]][-epsilon_size:]\n",
    "#         right_neigh = revision.vocabs_pos[revision.vocabs_pos >= change[\"right_neigh\"]][:epsilon_size]\n",
    "#         ins_slice = slice(int(change[\"ins_start_pos\"]), int(change[\"ins_end_pos\"]+1) )\n",
    "#         del_slice = slice(int(change[\"del_start_pos\"]), int(change[\"del_end_pos\"]+1) )\n",
    "#         left_token = revision.content_str_vec[left_neigh]\n",
    "#         right_token = revision.content_str_vec[right_neigh]\n",
    "#         ins_tokens = revision.content_str_vec[ins_slice]\n",
    "#         del_tokens = revision.content_str_vec[del_slice]\n",
    "#         return pd.Series([tuple(ins_tokens), tuple(del_tokens), tuple(left_neigh), tuple(right_neigh), tuple(left_token), tuple(right_token)])\n",
    "        \n",
    "    def append_neighbour_vec(self, epsilon_size):\n",
    "        self.vocabs_pos = np.argwhere( self.content[\"invocab\"].values)\n",
    "        self.content_str_vec = self.content.str.values\n",
    "        del self.content\n",
    "        neighbour_df = self.change.apply(find_tokens, axis=1, args=(self, epsilon_size))\n",
    "        neighbour_df.columns= [\"ins_tokens\", \"del_tokens\", \"left_neigh\", \"right_neigh\", \"left_token\", \"right_token\"]\n",
    "        self.neighbour = neighbour_df\n",
    "        self.change_df = pd.concat([self.change, neighbour_df], sort=False, axis=1)\n",
    "        \n",
    "class Change:\n",
    "    def __init__(self, token, start, end, left_context, right_context):\n",
    "        self.token = token\n",
    "        self.start = start\n",
    "        self.end = end\n",
    "        self.left = left_context\n",
    "        self.right = right_context\n",
    "        \n",
    "def find_tokens(change, revision, epsilon_size):\n",
    "    left_neigh = revision.vocabs_pos[revision.vocabs_pos <= change[\"left_neigh\"]][-epsilon_size:]\n",
    "    right_neigh = revision.vocabs_pos[revision.vocabs_pos >= change[\"right_neigh\"]][:epsilon_size]\n",
    "    ins_slice = slice(int(change[\"ins_start_pos\"]), int(change[\"ins_end_pos\"]+1) )\n",
    "    del_slice = slice(int(change[\"del_start_pos\"]), int(change[\"del_end_pos\"]+1) )\n",
    "    left_token = revision.content_str_vec[left_neigh]\n",
    "    right_token = revision.content_str_vec[right_neigh]\n",
    "    ins_tokens = revision.content_str_vec[ins_slice]\n",
    "    del_tokens = revision.content_str_vec[del_slice]\n",
    "    return pd.Series([tuple(ins_tokens), tuple(del_tokens), tuple(left_neigh), tuple(right_neigh), tuple(left_token), tuple(right_token)])\n"
   ]
  },
  {
   "cell_type": "code",
   "execution_count": 3,
   "metadata": {},
   "outputs": [],
   "source": [
    "baseurl = \"https://api.wikiwho.net/en/api/v1.0.0-beta/\"\n",
    "content = \"Mama's_Family\"\n",
    "def _url(url, path):\n",
    "    return url + path\n",
    "revisions_url = _url( baseurl,\"rev_ids/\")\n",
    "mama_revisions_url = _url(revisions_url, content+\"/\")\n",
    "params = {\"editor\": \"true\", \"timestamp\": \"true\"}\n",
    "response = requests.get(mama_revisions_url, params= params)\n",
    "revisons_list = response.json()[\"revisions\"]"
   ]
  },
  {
   "cell_type": "code",
   "execution_count": 4,
   "metadata": {},
   "outputs": [],
   "source": [
    "all_content_url = _url(baseurl, \"all_content/\" )\n",
    "mama_all_content_url = _url(all_content_url, content +\"/\")\n",
    "params = { \"o_rev_id\": \"true\", \"editor\": \"false\", \"token_id\": \"true\", \"in\": \"true\", \"out\": \"true\" }\n",
    "all_rev_data = requests.get(mama_all_content_url, params= params)\n",
    "all_tokens_mama = all_rev_data.json()[\"all_tokens\"]"
   ]
  },
  {
   "cell_type": "code",
   "execution_count": 5,
   "metadata": {},
   "outputs": [
    {
     "name": "stdout",
     "output_type": "stream",
     "text": [
      "CPU times: user 7.36 s, sys: 12 ms, total: 7.38 s\n",
      "Wall time: 7.38 s\n"
     ]
    }
   ],
   "source": [
    "%%time\n",
    "test_wiki = Wiki(2345, \"a test wiki\", all_tokens=4)\n",
    "test_wiki.init_revisions(revisons_list)\n",
    "test_wiki.add_all_token(all_tokens_mama) \n",
    "epsilon_size = 6\n",
    "# del all_tokens_mama"
   ]
  },
  {
   "cell_type": "code",
   "execution_count": 6,
   "metadata": {},
   "outputs": [],
   "source": [
    "# FT_gensim.load('../wordvectors/wiki-news-300d-1M-subword.vec.zip')\n",
    "wiki_vec = KeyedVectors.load_word2vec_format('../wordvectors/wiki.en.vec', binary=False, limit=5000)\n",
    "vocab = set(wiki_vec.vocab)"
   ]
  },
  {
   "cell_type": "code",
   "execution_count": 7,
   "metadata": {},
   "outputs": [],
   "source": [
    "def get_contents(baseurl, content, start_rev_id, end_rev_id):\n",
    "    rev_content_url = _url(baseurl, \"rev_content/\" )\n",
    "    mama_rev_content_url = _url(rev_content_url, content +\"/\")\n",
    "    url = _url(mama_rev_content_url, str(start_rev_id) + \"/\")\n",
    "    if end_rev_id:\n",
    "        url = _url(url, str(end_rev_id) + \"/\")\n",
    "    params = { \"o_rev_id\": \"false\", \"editor\": \"false\", \"token_id\": \"true\", \"in\": \"false\", \"out\": \"false\" }\n",
    "    rev_contents = requests.get(url, params= params).json()['revisions']\n",
    "    return rev_contents"
   ]
  },
  {
   "cell_type": "code",
   "execution_count": 8,
   "metadata": {},
   "outputs": [],
   "source": [
    "# %%time\n",
    "# epsilon_size = 6\n",
    "# test_wiki.revisions.iloc[0].content = pd.DataFrame(list(rev_contents[0].values())[0][\"tokens\"])\n",
    "# from_index = 0\n",
    "# for rev_content in rev_contents[1:]:\n",
    "#     from_rev = test_wiki.revisions.iloc[from_index]\n",
    "#     to_rev = test_wiki.revisions.iloc[from_index+1]\n",
    "#     from_index += 1\n",
    "#     from_rev.deleted(to_rev)\n",
    "#     from_rev.content[\"invocab\"] = from_rev.content[\"str\"].isin(vocab)\n",
    "#     to_rev.content = pd.DataFrame(list(rev_content.values())[0][\"tokens\"])\n",
    "#     to_rev.inserted_continuous_pos()\n",
    "#     to_rev.inserted_neighbours()\n",
    "#     from_rev.create_change_object(to_rev)\n",
    "#     from_rev.append_neighbour_vec(epsilon_size)"
   ]
  },
  {
   "cell_type": "code",
   "execution_count": 9,
   "metadata": {},
   "outputs": [],
   "source": [
    "def create_change(wiki, rev_contents, from_index, vocab, epsilon_size):\n",
    "    for rev_content in rev_contents:\n",
    "#         print(test_wiki.revisions.index[from_index])\n",
    "        f_rev = wiki.revisions.iloc[from_index]\n",
    "        t_rev = wiki.revisions.iloc[from_index+1]\n",
    "        from_index += 1\n",
    "        f_rev.deleted(t_rev)\n",
    "        f_rev.content[\"invocab\"] = f_rev.content[\"str\"].isin(vocab)\n",
    "        t_rev.content = pd.DataFrame(list(rev_content.values())[0][\"tokens\"])\n",
    "        t_rev.inserted_continuous_pos()\n",
    "        t_rev.inserted_neighbours()\n",
    "        f_rev.create_change_object(t_rev)\n",
    "        f_rev.append_neighbour_vec(epsilon_size)\n",
    "    return from_index\n",
    "        "
   ]
  },
  {
   "cell_type": "code",
   "execution_count": 10,
   "metadata": {},
   "outputs": [],
   "source": [
    "# %%time\n",
    "# rev_contents = get_contents(baseurl, content, str(revisons_list[0][\"id\"]), str(revisons_list[1][\"id\"]))\n",
    "\n",
    "# epsilon_size = 6\n",
    "# test_wiki.revisions.iloc[0].content = pd.DataFrame(list(rev_contents[0].values())[0][\"tokens\"])\n",
    "# from_index = 0"
   ]
  },
  {
   "cell_type": "code",
   "execution_count": 11,
   "metadata": {},
   "outputs": [
    {
     "ename": "ValueError",
     "evalue": "all the input array dimensions except for the concatenation axis must match exactly",
     "output_type": "error",
     "traceback": [
      "\u001b[0;31m---------------------------------------------------------------------------\u001b[0m",
      "\u001b[0;31mValueError\u001b[0m                                Traceback (most recent call last)",
      "\u001b[0;32m<timed exec>\u001b[0m in \u001b[0;36m<module>\u001b[0;34m()\u001b[0m\n",
      "\u001b[0;32m<ipython-input-9-4ad1764d5de0>\u001b[0m in \u001b[0;36mcreate_change\u001b[0;34m(wiki, rev_contents, from_index, vocab, epsilon_size)\u001b[0m\n\u001b[1;32m     10\u001b[0m         \u001b[0mt_rev\u001b[0m\u001b[0;34m.\u001b[0m\u001b[0minserted_continuous_pos\u001b[0m\u001b[0;34m(\u001b[0m\u001b[0;34m)\u001b[0m\u001b[0;34m\u001b[0m\u001b[0m\n\u001b[1;32m     11\u001b[0m         \u001b[0mt_rev\u001b[0m\u001b[0;34m.\u001b[0m\u001b[0minserted_neighbours\u001b[0m\u001b[0;34m(\u001b[0m\u001b[0;34m)\u001b[0m\u001b[0;34m\u001b[0m\u001b[0m\n\u001b[0;32m---> 12\u001b[0;31m         \u001b[0mf_rev\u001b[0m\u001b[0;34m.\u001b[0m\u001b[0mcreate_change_object\u001b[0m\u001b[0;34m(\u001b[0m\u001b[0mt_rev\u001b[0m\u001b[0;34m)\u001b[0m\u001b[0;34m\u001b[0m\u001b[0m\n\u001b[0m\u001b[1;32m     13\u001b[0m         \u001b[0mf_rev\u001b[0m\u001b[0;34m.\u001b[0m\u001b[0mappend_neighbour_vec\u001b[0m\u001b[0;34m(\u001b[0m\u001b[0mepsilon_size\u001b[0m\u001b[0;34m)\u001b[0m\u001b[0;34m\u001b[0m\u001b[0m\n\u001b[1;32m     14\u001b[0m     \u001b[0;32mreturn\u001b[0m \u001b[0mfrom_index\u001b[0m\u001b[0;34m\u001b[0m\u001b[0m\n",
      "\u001b[0;32m<ipython-input-2-57d78659142d>\u001b[0m in \u001b[0;36mcreate_change_object\u001b[0;34m(self, to_rev)\u001b[0m\n\u001b[1;32m     63\u001b[0m         \u001b[0mself\u001b[0m\u001b[0;34m.\u001b[0m\u001b[0mins_left\u001b[0m \u001b[0;34m=\u001b[0m \u001b[0mnp\u001b[0m\u001b[0;34m.\u001b[0m\u001b[0margwhere\u001b[0m\u001b[0;34m(\u001b[0m\u001b[0mself\u001b[0m\u001b[0;34m.\u001b[0m\u001b[0mcontent\u001b[0m\u001b[0;34m.\u001b[0m\u001b[0mtoken_id\u001b[0m\u001b[0;34m.\u001b[0m\u001b[0misin\u001b[0m\u001b[0;34m(\u001b[0m\u001b[0mto_rev\u001b[0m\u001b[0;34m.\u001b[0m\u001b[0mstart_token_id\u001b[0m\u001b[0;34m)\u001b[0m\u001b[0;34m)\u001b[0m\u001b[0;34m\u001b[0m\u001b[0m\n\u001b[1;32m     64\u001b[0m         \u001b[0mself\u001b[0m\u001b[0;34m.\u001b[0m\u001b[0mins_right\u001b[0m \u001b[0;34m=\u001b[0m \u001b[0mnp\u001b[0m\u001b[0;34m.\u001b[0m\u001b[0margwhere\u001b[0m\u001b[0;34m(\u001b[0m\u001b[0mself\u001b[0m\u001b[0;34m.\u001b[0m\u001b[0mcontent\u001b[0m\u001b[0;34m.\u001b[0m\u001b[0mtoken_id\u001b[0m\u001b[0;34m.\u001b[0m\u001b[0misin\u001b[0m\u001b[0;34m(\u001b[0m\u001b[0mto_rev\u001b[0m\u001b[0;34m.\u001b[0m\u001b[0mend_token_id\u001b[0m\u001b[0;34m)\u001b[0m\u001b[0;34m)\u001b[0m\u001b[0;34m\u001b[0m\u001b[0m\n\u001b[0;32m---> 65\u001b[0;31m         self.inserted_object = pd.DataFrame(np.concatenate([to_rev.added_pos, self.ins_left, self.ins_right], axis=1),\n\u001b[0m\u001b[1;32m     66\u001b[0m                                        columns=[\"ins_start_pos\", \"ins_end_pos\", \"left_neigh\", \"right_neigh\", ])\n\u001b[1;32m     67\u001b[0m \u001b[0;34m\u001b[0m\u001b[0m\n",
      "\u001b[0;31mValueError\u001b[0m: all the input array dimensions except for the concatenation axis must match exactly"
     ]
    }
   ],
   "source": [
    "%%time\n",
    "rev_contents = get_contents(baseurl, content, str(revisons_list[0][\"id\"]), str(revisons_list[1][\"id\"]))\n",
    "epsilon_size = 6\n",
    "test_wiki.revisions.iloc[0].content = pd.DataFrame(list(rev_contents[0].values())[0][\"tokens\"])\n",
    "from_index = 0\n",
    "step = 200\n",
    "start_index = from_index + 1\n",
    "end_index = len(revisons_list)\n",
    "for to_index in  range(start_index, end_index, step):\n",
    "    rev_contents = get_contents(baseurl, content, str(revisons_list[(from_index+1)][\"id\"]), str(revisons_list[to_index][\"id\"]))\n",
    "    create_change(test_wiki, rev_contents, from_index, vocab, epsilon_size)\n",
    "    from_index = to_index - 1\n",
    "to_index = from_index + (end_index-1)%step\n",
    "rev_contents = get_contents(baseurl, content, str(revisons_list[(from_index+1)][\"id\"]), str(revisons_list[to_index][\"id\"]))\n",
    "create_change(test_wiki, rev_contents, from_index, vocab, epsilon_size)\n",
    "from_index = to_index - 1\n",
    "rev_contents = get_contents(baseurl, content, str(revisons_list[(from_index+1)][\"id\"]), \"\")\n",
    "create_change(test_wiki, rev_contents, from_index, vocab, epsilon_size)\n"
   ]
  },
  {
   "cell_type": "code",
   "execution_count": null,
   "metadata": {},
   "outputs": [],
   "source": [
    "with open(content+\".pkl\", \"wb\") as file:\n",
    "    pickle.dump(test_wiki, file)"
   ]
  },
  {
   "cell_type": "code",
   "execution_count": null,
   "metadata": {},
   "outputs": [],
   "source": [
    "with open(content+\".pkl\", \"rb\") as file:\n",
    "    wiki = pickle.open(file)"
   ]
  },
  {
   "cell_type": "code",
   "execution_count": null,
   "metadata": {},
   "outputs": [],
   "source": [
    "change_objects = []\n",
    "wiki.revisions[:from_index].apply(lambda revision: change_objects.append(revision.change))\n",
    "change_df = pd.concat(change_objects, sort=False, keys=wiki.revisions.index[:from_index])"
   ]
  },
  {
   "cell_type": "code",
   "execution_count": null,
   "metadata": {},
   "outputs": [],
   "source": [
    "def get_word_vecs(tokens):\n",
    "    in_vocab_tokens = set(tokens) & set(wiki_vec.vocab)\n",
    "    if in_vocab_tokens:\n",
    "        return wiki_vec[in_vocab_tokens].sum(axis=0, keepdims=True)\n",
    "    else:\n",
    "        return np.zeros((1, wiki_vec.vector_size))"
   ]
  },
  {
   "cell_type": "code",
   "execution_count": null,
   "metadata": {},
   "outputs": [],
   "source": [
    "%%time\n",
    "change_vecs_list = []\n",
    "change_token_s = change_df[\"ins_tokens\"] + change_df[\"del_tokens\"]\n",
    "change_token_s.apply(lambda token_set: change_vecs_list.append(get_word_vecs(token_set)))\n",
    "\n",
    "change_matrix = np.concatenate(change_vecs_list, axis=0)\n"
   ]
  },
  {
   "cell_type": "code",
   "execution_count": null,
   "metadata": {},
   "outputs": [],
   "source": [
    "%%time\n",
    "neigh_vecs_list = []\n",
    "neighbour_s = change_df['left_token'] + change_df['right_token']\n",
    "neighbour_s.apply(lambda token_set: neigh_vecs_list.append(get_word_vecs(token_set)))\n",
    "\n",
    "neighbour_matrix = np.concatenate(neigh_vecs_list, axis=0)"
   ]
  },
  {
   "cell_type": "code",
   "execution_count": null,
   "metadata": {},
   "outputs": [],
   "source": [
    "from_rev = test_wiki.revisions.iloc[0] \n",
    "to_rev = test_wiki.revisions.iloc[1]\n"
   ]
  },
  {
   "cell_type": "code",
   "execution_count": null,
   "metadata": {},
   "outputs": [],
   "source": [
    "# def neighbours(change, revision, wiki_vec, epsilon_size):\n",
    "#     vocabs_pos = np.argwhere( revision.content[\"invocab\"].values)\n",
    "#     left = vocabs_pos[vocabs_pos < change[\"ins_starting_pos\"]][:epsilon_size]\n",
    "#     right = vocabs_pos[vocabs_pos > change[\"ins_end_pos\"]][:epsilon_size]\n",
    "#     neighbor_tokens = from_rev.content.str.values[np.r_[left,right]]\n",
    "#     neighbour_vec = wiki_vec[neighbor_tokens].sum(axis=0)\n",
    "#     combined_neighbour_vec = np.r_[left, right, neighbor_tokens, neighbour_vec]\n",
    "#     return combined_neighbour_vec  \n",
    "# added_pos = test_wiki.revisions[3317921].added_pos\n",
    "# start_token_id = test_wiki.revisions[3317921].content[\"token_id\"].values[added_pos[:,0]-1]\n",
    "# end_token_id = test_wiki.revisions[3317921].content[\"token_id\"].values[added_pos[:,1]+1]\n",
    "# first_last_token = test_wiki.revisions[3317921].content[\"added\"].values[[0,-1]]\n",
    "\n",
    "# test_wiki.revisions[3317921].content[\"str\"].values[np.s_[start_pos,end_pos[1:]]]\n",
    "\n",
    "# test_wiki.revisions[3317921].content[\"str\"].values[start_pos[0][0]:end_pos[1][0]+1]\n",
    "\n",
    "# np.compress(test_wiki.revisions[3317921].content[\"removed\"].values, test_wiki.revisions[3317921].content[\"str\"].values)"
   ]
  },
  {
   "cell_type": "markdown",
   "metadata": {},
   "source": [
    "### Do clustering"
   ]
  },
  {
   "cell_type": "code",
   "execution_count": null,
   "metadata": {},
   "outputs": [],
   "source": [
    "from sklearn.cluster import KMeans"
   ]
  }
 ],
 "metadata": {
  "kernelspec": {
   "display_name": "Python 3",
   "language": "python",
   "name": "python3"
  },
  "language_info": {
   "codemirror_mode": {
    "name": "ipython",
    "version": 3
   },
   "file_extension": ".py",
   "mimetype": "text/x-python",
   "name": "python",
   "nbconvert_exporter": "python",
   "pygments_lexer": "ipython3",
   "version": "3.6.4"
  }
 },
 "nbformat": 4,
 "nbformat_minor": 2
}
