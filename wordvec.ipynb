{
 "cells": [
  {
   "cell_type": "code",
   "execution_count": 1,
   "metadata": {},
   "outputs": [],
   "source": [
    "import gensim\n",
    "from gensim.models import KeyedVectors\n",
    "from gensim.models.fasttext import FastText as FT_gensim\n",
    "import pandas as pd\n",
    "import numpy as np"
   ]
  },
  {
   "cell_type": "code",
   "execution_count": 2,
   "metadata": {},
   "outputs": [],
   "source": [
    "# FT_gensim.load('../wordvectors/wiki-news-300d-1M-subword.vec.zip')\n",
    "wiki_vec = KeyedVectors.load_word2vec_format('../wordvectors/wiki.en.vec', binary=False, limit=10000)"
   ]
  },
  {
   "cell_type": "code",
   "execution_count": 3,
   "metadata": {},
   "outputs": [
    {
     "name": "stdout",
     "output_type": "stream",
     "text": [
      "/home/ubuntu/code/wikiconflict\n"
     ]
    }
   ],
   "source": [
    "!pwd"
   ]
  },
  {
   "cell_type": "code",
   "execution_count": 38,
   "metadata": {},
   "outputs": [
    {
     "data": {
      "text/plain": [
       "300"
      ]
     },
     "execution_count": 38,
     "metadata": {},
     "output_type": "execute_result"
    }
   ],
   "source": [
    "wiki_vec[\"he\"].size"
   ]
  },
  {
   "cell_type": "code",
   "execution_count": 5,
   "metadata": {},
   "outputs": [],
   "source": [
    "class Wiki:\n",
    "    def __init__(self,id,title, all_tokens=[]):\n",
    "        self.id = id\n",
    "        self.title = title\n",
    "        self.all_tokens = all_tokens\n",
    "        \n",
    "    def init_revisions(self, revisions):\n",
    "        self.revisions = {revision[\"id\"] : Revision(revision[\"id\"],revision[\"timestamp\"], revision[\"editor\"]) for revision in revisions}\n",
    "    \n",
    "class Revision:\n",
    "    def __init__(self, id, timestamp,editor):\n",
    "        self.id = id\n",
    "        self.timestamp = timestamp\n",
    "        self.editor = editor\n",
    "        self.added = set()\n",
    "        self.removed = set()\n",
    "        \n",
    "class Change:\n",
    "    def __init__(self, token, left_context, right_context):\n",
    "        self.token = token\n",
    "        self.from = from\n",
    "        self.to = to\n",
    "        self.left = left_context\n",
    "        self.right = right_context\n",
    "        \n",
    "test_wiki = Wiki(2345, \"a test wiki\", all_tokens=4)\n",
    "test_wiki.init_revisions([{'timestamp': '2004-04-24T07:40:27Z',\n",
    "  'id': 3317807,\n",
    "  'editor': '0|172.194.5.181'},\n",
    " {'timestamp': '2004-04-24T07:49:11Z',\n",
    "  'id': 3317866,\n",
    "  'editor': '0|172.194.5.181'},\n",
    " {'timestamp': '2004-04-24T07:49:11Z',\n",
    "  'id': 3317921,\n",
    "  'editor': '0|172.194.5.181'}])\n",
    "test_wiki.all_tokens = [{'token_id': 0, 'o_rev_id': 3317807, 'str': 'an', 'in': [], 'out': [3317921]},\n",
    " {'token_id': 1, 'o_rev_id': 3317807, 'str': '80', 'in': [], 'out': [3317921]}]\n"
   ]
  },
  {
   "cell_type": "code",
   "execution_count": 6,
   "metadata": {},
   "outputs": [],
   "source": [
    "for token in test_wiki.all_tokens:\n",
    "        test_wiki.revisions[token[\"o_rev_id\"]].added.add(token[\"token_id\"])\n",
    "        for in_revision in token[\"in\"]:\n",
    "            test_wiki.revisions[in_revision].added.add(token[\"token_id\"])\n",
    "        for out_revision in token[\"out\"]:\n",
    "            test_wiki.revisions[out_revision].removed.add(token[\"token_id\"])"
   ]
  },
  {
   "cell_type": "code",
   "execution_count": 7,
   "metadata": {},
   "outputs": [],
   "source": [
    "test_wiki.revisions[3317921].content = pd.DataFrame( [{'str': 'an', 'token_id': 0},\n",
    " {'str': '80', 'token_id': 1},\n",
    " {'str': \"'\", 'token_id': 2},\n",
    " {'str': 's', 'token_id': 3},\n",
    " {'str': 'u', 'token_id': 4}])"
   ]
  },
  {
   "cell_type": "code",
   "execution_count": 8,
   "metadata": {},
   "outputs": [
    {
     "data": {
      "text/html": [
       "<div>\n",
       "<style scoped>\n",
       "    .dataframe tbody tr th:only-of-type {\n",
       "        vertical-align: middle;\n",
       "    }\n",
       "\n",
       "    .dataframe tbody tr th {\n",
       "        vertical-align: top;\n",
       "    }\n",
       "\n",
       "    .dataframe thead th {\n",
       "        text-align: right;\n",
       "    }\n",
       "</style>\n",
       "<table border=\"1\" class=\"dataframe\">\n",
       "  <thead>\n",
       "    <tr style=\"text-align: right;\">\n",
       "      <th></th>\n",
       "      <th>str</th>\n",
       "      <th>token_id</th>\n",
       "    </tr>\n",
       "  </thead>\n",
       "  <tbody>\n",
       "    <tr>\n",
       "      <th>0</th>\n",
       "      <td>an</td>\n",
       "      <td>0</td>\n",
       "    </tr>\n",
       "    <tr>\n",
       "      <th>1</th>\n",
       "      <td>80</td>\n",
       "      <td>1</td>\n",
       "    </tr>\n",
       "    <tr>\n",
       "      <th>2</th>\n",
       "      <td>'</td>\n",
       "      <td>2</td>\n",
       "    </tr>\n",
       "    <tr>\n",
       "      <th>3</th>\n",
       "      <td>s</td>\n",
       "      <td>3</td>\n",
       "    </tr>\n",
       "    <tr>\n",
       "      <th>4</th>\n",
       "      <td>u</td>\n",
       "      <td>4</td>\n",
       "    </tr>\n",
       "  </tbody>\n",
       "</table>\n",
       "</div>"
      ],
      "text/plain": [
       "  str  token_id\n",
       "0  an         0\n",
       "1  80         1\n",
       "2   '         2\n",
       "3   s         3\n",
       "4   u         4"
      ]
     },
     "execution_count": 8,
     "metadata": {},
     "output_type": "execute_result"
    }
   ],
   "source": [
    "test_wiki.revisions[3317921].content"
   ]
  },
  {
   "cell_type": "code",
   "execution_count": 14,
   "metadata": {},
   "outputs": [
    {
     "data": {
      "text/plain": [
       "0     True\n",
       "1     True\n",
       "2    False\n",
       "3    False\n",
       "4    False\n",
       "Name: token_id, dtype: bool"
      ]
     },
     "execution_count": 14,
     "metadata": {},
     "output_type": "execute_result"
    }
   ],
   "source": [
    "removed = test_wiki.revisions[3317921].content[\"token_id\"].isin(test_wiki.revisions[3317921].removed)\n",
    "removed"
   ]
  },
  {
   "cell_type": "code",
   "execution_count": 37,
   "metadata": {},
   "outputs": [
    {
     "data": {
      "text/plain": [
       "array([ 1, -1,  0,  1,  0, -1,  1,  0,  0])"
      ]
     },
     "execution_count": 37,
     "metadata": {},
     "output_type": "execute_result"
    }
   ],
   "source": [
    "np.ediff1d([0,1,0,0,1,1,0,1,1,1])"
   ]
  },
  {
   "cell_type": "code",
   "execution_count": 36,
   "metadata": {},
   "outputs": [
    {
     "data": {
      "text/plain": [
       "array([[2],\n",
       "       [6]])"
      ]
     },
     "execution_count": 36,
     "metadata": {},
     "output_type": "execute_result"
    }
   ],
   "source": [
    "np.argwhere(np.ediff1d([0,1,0,0,1,1,0,1,1,1])==-1) +1"
   ]
  },
  {
   "cell_type": "code",
   "execution_count": 35,
   "metadata": {},
   "outputs": [
    {
     "data": {
      "text/plain": [
       "array([[0],\n",
       "       [3],\n",
       "       [6]])"
      ]
     },
     "execution_count": 35,
     "metadata": {},
     "output_type": "execute_result"
    }
   ],
   "source": [
    "np.argwhere(np.ediff1d([0,1,0,0,1,1,0,1,1,1])==1) "
   ]
  },
  {
   "cell_type": "code",
   "execution_count": null,
   "metadata": {},
   "outputs": [],
   "source": []
  }
 ],
 "metadata": {
  "kernelspec": {
   "display_name": "Python 3",
   "language": "python",
   "name": "python3"
  },
  "language_info": {
   "codemirror_mode": {
    "name": "ipython",
    "version": 3
   },
   "file_extension": ".py",
   "mimetype": "text/x-python",
   "name": "python",
   "nbconvert_exporter": "python",
   "pygments_lexer": "ipython3",
   "version": "3.6.4"
  }
 },
 "nbformat": 4,
 "nbformat_minor": 2
}
