{
 "cells": [
  {
   "cell_type": "code",
   "execution_count": 3,
   "metadata": {},
   "outputs": [],
   "source": [
    "import gensim\n",
    "from gensim.models import KeyedVectors\n",
    "from gensim.models.fasttext import FastText as FT_gensim\n",
    "import pandas as pd\n",
    "import numpy as np\n",
    "import pickle\n",
    "from wiki import Wiki,Revision\n",
    "%matplotlib inline"
   ]
  },
  {
   "cell_type": "code",
   "execution_count": 4,
   "metadata": {},
   "outputs": [],
   "source": [
    "def get_word_vecs(wiki_vec, tokens):\n",
    "    in_vocab_tokens = set(tokens) & set(wiki_vec.vocab)\n",
    "    if in_vocab_tokens:\n",
    "        return wiki_vec[in_vocab_tokens].sum(axis=0, keepdims=True)\n",
    "    else:\n",
    "        return np.zeros((1, wiki_vec.vector_size))"
   ]
  },
  {
   "cell_type": "code",
   "execution_count": 5,
   "metadata": {},
   "outputs": [],
   "source": [
    "wiki_vec = KeyedVectors.load_word2vec_format('../wordvectors/wiki.en.vec', binary=False, limit=5000)"
   ]
  },
  {
   "cell_type": "markdown",
   "metadata": {},
   "source": [
    "### reading the change object and clustering."
   ]
  },
  {
   "cell_type": "code",
   "execution_count": 6,
   "metadata": {},
   "outputs": [
    {
     "name": "stdout",
     "output_type": "stream",
     "text": [
      "CPU times: user 4.87 s, sys: 10.1 s, total: 14.9 s\n",
      "Wall time: 15 s\n"
     ]
    }
   ],
   "source": [
    "%%time\n",
    "content = \"Violence_against_Muslims_in_India\"\n",
    "with open(content+\".pkl\", \"rb\") as file:\n",
    "    wiki = pickle.load(file)"
   ]
  },
  {
   "cell_type": "code",
   "execution_count": 32,
   "metadata": {},
   "outputs": [
    {
     "name": "stdout",
     "output_type": "stream",
     "text": [
      "CPU times: user 228 ms, sys: 20 ms, total: 248 ms\n",
      "Wall time: 248 ms\n"
     ]
    }
   ],
   "source": [
    "%%time\n",
    "change_objects = []\n",
    "wiki.revisions.iloc[:-1].apply(lambda revision: change_objects.append(revision.neighbour))\n",
    "change_index = [ (rev.editor, rev.timestamp) for rev in  wiki.revisions[:-1].values.ravel().tolist()]\n",
    "change_df = pd.concat(change_objects, sort=False, keys=change_index, names=[\"editor\", \"timestamp\", \"id\"])\n"
   ]
  },
  {
   "cell_type": "code",
   "execution_count": 12,
   "metadata": {},
   "outputs": [
    {
     "name": "stdout",
     "output_type": "stream",
     "text": [
      "CPU times: user 3.8 s, sys: 68 ms, total: 3.87 s\n",
      "Wall time: 3.87 s\n"
     ]
    }
   ],
   "source": [
    "%%time\n",
    "ins_vec_list = []\n",
    "change_df[\"ins_tokens\"].apply(lambda token_set: ins_vec_list.append(get_word_vecs(wiki_vec, token_set)))\n",
    "ins_matrix = np.concatenate(ins_vec_list, axis=0)\n",
    "\n",
    "del_vec_list = []\n",
    "change_df[\"del_tokens\"].apply(lambda token_set: del_vec_list.append(get_word_vecs(wiki_vec, token_set)))\n",
    "del_matrix = np.concatenate(del_vec_list, axis=0)\n",
    "\n",
    "left_vec_list = []\n",
    "change_df[\"left_token\"].apply(lambda token_set: left_vec_list.append(get_word_vecs(wiki_vec, token_set)))\n",
    "left_neighbour_matrix = np.concatenate(left_vec_list, axis=0)\n",
    "\n",
    "right_vec_list = []\n",
    "change_df[\"right_token\"].apply(lambda token_set: right_vec_list.append(get_word_vecs(wiki_vec, token_set)))\n",
    "right_neighbour_matrix = np.concatenate(right_vec_list, axis=0)"
   ]
  },
  {
   "cell_type": "code",
   "execution_count": 13,
   "metadata": {},
   "outputs": [],
   "source": [
    "change_matrix = np.concatenate([ins_matrix, del_matrix], axis=1)\n",
    "neighbour_matrix = np.concatenate([right_neighbour_matrix, left_neighbour_matrix], axis=1)\n",
    "change_neighbour_matrix = np.concatenate([left_neighbour_matrix, change_matrix, right_neighbour_matrix], axis=1)"
   ]
  },
  {
   "cell_type": "code",
   "execution_count": 14,
   "metadata": {},
   "outputs": [],
   "source": [
    "change_df[\"left_string\"] = change_df[\"left_token\"].str.join(\" \")\n",
    "change_df[\"ins_string\"] = change_df[\"ins_tokens\"].str.join(\" \")\n",
    "change_df[\"del_string\"] = change_df[\"del_tokens\"].str.join(\" \")\n",
    "change_df[\"right_string\"] = change_df[\"right_token\"].str.join(\" \")"
   ]
  },
  {
   "cell_type": "markdown",
   "metadata": {},
   "source": [
    "### Do clustering"
   ]
  },
  {
   "cell_type": "code",
   "execution_count": 15,
   "metadata": {},
   "outputs": [],
   "source": [
    "from sklearn.cluster import KMeans"
   ]
  },
  {
   "cell_type": "code",
   "execution_count": 16,
   "metadata": {},
   "outputs": [],
   "source": [
    "km = KMeans(n_clusters= 30, n_jobs=3)"
   ]
  },
  {
   "cell_type": "code",
   "execution_count": 17,
   "metadata": {},
   "outputs": [
    {
     "name": "stdout",
     "output_type": "stream",
     "text": [
      "CPU times: user 1.42 s, sys: 720 ms, total: 2.14 s\n",
      "Wall time: 12.7 s\n"
     ]
    },
    {
     "data": {
      "image/png": "[encoded data removed]",
      "text/plain": [
       "<Figure size 432x288 with 1 Axes>"
      ]
     },
     "metadata": {},
     "output_type": "display_data"
    }
   ],
   "source": [
    "%%time\n",
    "clusters = km.fit(right_neighbour_matrix)\n",
    "cluster_s = pd.Series(clusters.labels_, index= change_df.index)\n",
    "change_df[\"cluster\"] = cluster_s\n",
    "change_grouped_by_right = change_df.groupby(\"cluster\")\n",
    "change_grouped_by_right.size().plot()"
   ]
  },
  {
   "cell_type": "code",
   "execution_count": 18,
   "metadata": {},
   "outputs": [
    {
     "data": {
      "text/html": [
       "<div>\n",
       "<style scoped>\n",
       "    .dataframe tbody tr th:only-of-type {\n",
       "        vertical-align: middle;\n",
       "    }\n",
       "\n",
       "    .dataframe tbody tr th {\n",
       "        vertical-align: top;\n",
       "    }\n",
       "\n",
       "    .dataframe thead th {\n",
       "        text-align: right;\n",
       "    }\n",
       "</style>\n",
       "<table border=\"1\" class=\"dataframe\">\n",
       "  <thead>\n",
       "    <tr style=\"text-align: right;\">\n",
       "      <th></th>\n",
       "      <th></th>\n",
       "      <th></th>\n",
       "      <th>left_string</th>\n",
       "      <th>del_string</th>\n",
       "      <th>ins_string</th>\n",
       "      <th>right_string</th>\n",
       "    </tr>\n",
       "  </thead>\n",
       "  <tbody>\n",
       "    <tr>\n",
       "      <th>1224855</th>\n",
       "      <th>2013-06-12T09:58:52Z</th>\n",
       "      <th>47</th>\n",
       "      <td>been in command . ref name</td>\n",
       "      <td>mander</td>\n",
       "      <td>rajnayaran</td>\n",
       "      <td>&gt; cite news last first title</td>\n",
       "    </tr>\n",
       "    <tr>\n",
       "      <th rowspan=\"4\" valign=\"top\">14904681</th>\n",
       "      <th rowspan=\"4\" valign=\"top\">2013-06-27T21:27:42Z</th>\n",
       "      <th>0</th>\n",
       "      <td>issue since of india ref name</td>\n",
       "      <td></td>\n",
       "      <td>\"</td>\n",
       "      <td>&gt; cite book last first paul</td>\n",
       "    </tr>\n",
       "    <tr>\n",
       "      <th>2</th>\n",
       "      <td>}} / ref &gt; ref name</td>\n",
       "      <td></td>\n",
       "      <td>\"</td>\n",
       "      <td>&gt; cite book last first ali</td>\n",
       "    </tr>\n",
       "    <tr>\n",
       "      <th>4</th>\n",
       "      <td>is not so . ref name</td>\n",
       "      <td></td>\n",
       "      <td>\"</td>\n",
       "      <td>&gt; cite book last first stephen</td>\n",
       "    </tr>\n",
       "    <tr>\n",
       "      <th>6</th>\n",
       "      <td>incidents occurred in in ref name</td>\n",
       "      <td></td>\n",
       "      <td>\"</td>\n",
       "      <td>&gt; cite book last first title</td>\n",
       "    </tr>\n",
       "  </tbody>\n",
       "</table>\n",
       "</div>"
      ],
      "text/plain": [
       "                                                        left_string  \\\n",
       "1224855  2013-06-12T09:58:52Z 47         been in command . ref name   \n",
       "14904681 2013-06-27T21:27:42Z 0       issue since of india ref name   \n",
       "                              2                 }} / ref > ref name   \n",
       "                              4                is not so . ref name   \n",
       "                              6   incidents occurred in in ref name   \n",
       "\n",
       "                                 del_string  ins_string  \\\n",
       "1224855  2013-06-12T09:58:52Z 47     mander  rajnayaran   \n",
       "14904681 2013-06-27T21:27:42Z 0                       \"   \n",
       "                              2                       \"   \n",
       "                              4                       \"   \n",
       "                              6                       \"   \n",
       "\n",
       "                                                    right_string  \n",
       "1224855  2013-06-12T09:58:52Z 47    > cite news last first title  \n",
       "14904681 2013-06-27T21:27:42Z 0      > cite book last first paul  \n",
       "                              2       > cite book last first ali  \n",
       "                              4   > cite book last first stephen  \n",
       "                              6     > cite book last first title  "
      ]
     },
     "execution_count": 18,
     "metadata": {},
     "output_type": "execute_result"
    }
   ],
   "source": [
    "change_grouped_by_right.get_group(2)[[\"left_string\",\"del_string\", \"ins_string\", \"right_string\"]].head(5)"
   ]
  },
  {
   "cell_type": "code",
   "execution_count": 19,
   "metadata": {},
   "outputs": [
    {
     "name": "stdout",
     "output_type": "stream",
     "text": [
      "CPU times: user 1.12 s, sys: 168 ms, total: 1.28 s\n",
      "Wall time: 4.71 s\n"
     ]
    },
    {
     "data": {
      "image/png": "[encoded data removed]",
      "text/plain": [
       "<Figure size 432x288 with 1 Axes>"
      ]
     },
     "metadata": {},
     "output_type": "display_data"
    }
   ],
   "source": [
    "%%time\n",
    "clusters = km.fit(left_neighbour_matrix)\n",
    "cluster_s = pd.Series(clusters.labels_, index= change_df.index)\n",
    "change_df[\"cluster\"] = cluster_s\n",
    "change_grouped_by_left = change_df.groupby(\"cluster\")\n",
    "change_grouped_by_left.size().plot()"
   ]
  },
  {
   "cell_type": "code",
   "execution_count": 20,
   "metadata": {},
   "outputs": [
    {
     "data": {
      "text/html": [
       "<div>\n",
       "<style scoped>\n",
       "    .dataframe tbody tr th:only-of-type {\n",
       "        vertical-align: middle;\n",
       "    }\n",
       "\n",
       "    .dataframe tbody tr th {\n",
       "        vertical-align: top;\n",
       "    }\n",
       "\n",
       "    .dataframe thead th {\n",
       "        text-align: right;\n",
       "    }\n",
       "</style>\n",
       "<table border=\"1\" class=\"dataframe\">\n",
       "  <thead>\n",
       "    <tr style=\"text-align: right;\">\n",
       "      <th></th>\n",
       "      <th></th>\n",
       "      <th></th>\n",
       "      <th>left_string</th>\n",
       "      <th>del_string</th>\n",
       "      <th>ins_string</th>\n",
       "      <th>right_string</th>\n",
       "    </tr>\n",
       "  </thead>\n",
       "  <tbody>\n",
       "    <tr>\n",
       "      <th rowspan=\"2\" valign=\"top\">4894531</th>\n",
       "      <th rowspan=\"2\" valign=\"top\">2013-07-09T17:01:02Z</th>\n",
       "      <th>0</th>\n",
       "      <td>particular , organizations associated with the</td>\n",
       "      <td></td>\n",
       "      <td>[[</td>\n",
       "      <td>( ) such as the party</td>\n",
       "    </tr>\n",
       "    <tr>\n",
       "      <th>1</th>\n",
       "      <td>particular , organizations associated with the</td>\n",
       "      <td></td>\n",
       "      <td>]]</td>\n",
       "      <td>( ) such as the party</td>\n",
       "    </tr>\n",
       "    <tr>\n",
       "      <th rowspan=\"2\" valign=\"top\">6060594</th>\n",
       "      <th>2013-07-18T02:03:38Z</th>\n",
       "      <th>0</th>\n",
       "      <td>particular , organizations associated with the</td>\n",
       "      <td>( rss )</td>\n",
       "      <td></td>\n",
       "      <td>such as the party ( )</td>\n",
       "    </tr>\n",
       "    <tr>\n",
       "      <th>2013-07-18T02:05:46Z</th>\n",
       "      <th>3</th>\n",
       "      <td>was widespread support for the movement</td>\n",
       "      <td>although this support</td>\n",
       "      <td>which</td>\n",
       "      <td>off between and . the movement</td>\n",
       "    </tr>\n",
       "    <tr>\n",
       "      <th>14904681</th>\n",
       "      <th>2013-08-17T15:42:44Z</th>\n",
       "      <th>27</th>\n",
       "      <td>particular , organizations associated with the</td>\n",
       "      <td></td>\n",
       "      <td>,</td>\n",
       "      <td>such as the party , hindu</td>\n",
       "    </tr>\n",
       "  </tbody>\n",
       "</table>\n",
       "</div>"
      ],
      "text/plain": [
       "                                                                     left_string  \\\n",
       "4894531  2013-07-09T17:01:02Z 0   particular , organizations associated with the   \n",
       "                              1   particular , organizations associated with the   \n",
       "6060594  2013-07-18T02:03:38Z 0   particular , organizations associated with the   \n",
       "         2013-07-18T02:05:46Z 3          was widespread support for the movement   \n",
       "14904681 2013-08-17T15:42:44Z 27  particular , organizations associated with the   \n",
       "\n",
       "                                             del_string ins_string  \\\n",
       "4894531  2013-07-09T17:01:02Z 0                                 [[   \n",
       "                              1                                 ]]   \n",
       "6060594  2013-07-18T02:03:38Z 0                 ( rss )              \n",
       "         2013-07-18T02:05:46Z 3   although this support      which   \n",
       "14904681 2013-08-17T15:42:44Z 27                                 ,   \n",
       "\n",
       "                                                    right_string  \n",
       "4894531  2013-07-09T17:01:02Z 0            ( ) such as the party  \n",
       "                              1            ( ) such as the party  \n",
       "6060594  2013-07-18T02:03:38Z 0            such as the party ( )  \n",
       "         2013-07-18T02:05:46Z 3   off between and . the movement  \n",
       "14904681 2013-08-17T15:42:44Z 27       such as the party , hindu  "
      ]
     },
     "execution_count": 20,
     "metadata": {},
     "output_type": "execute_result"
    }
   ],
   "source": [
    "change_grouped_by_left.get_group(1)[[\"left_string\",\"del_string\", \"ins_string\", \"right_string\"]].head(5)"
   ]
  },
  {
   "cell_type": "code",
   "execution_count": 21,
   "metadata": {},
   "outputs": [
    {
     "name": "stdout",
     "output_type": "stream",
     "text": [
      "CPU times: user 1.6 s, sys: 532 ms, total: 2.13 s\n",
      "Wall time: 10.8 s\n"
     ]
    },
    {
     "data": {
      "image/png": "[encoded data removed]",
      "text/plain": [
       "<Figure size 432x288 with 1 Axes>"
      ]
     },
     "metadata": {},
     "output_type": "display_data"
    }
   ],
   "source": [
    "%%time\n",
    "clusters = km.fit(neighbour_matrix)\n",
    "cluster_s = pd.Series(clusters.labels_, index= change_df.index)\n",
    "change_df[\"cluster\"] = cluster_s\n",
    "change_grouped_by_neigh = change_df.groupby(\"cluster\")\n",
    "change_grouped_by_neigh.size().plot()"
   ]
  },
  {
   "cell_type": "code",
   "execution_count": 22,
   "metadata": {},
   "outputs": [
    {
     "data": {
      "text/html": [
       "<div>\n",
       "<style scoped>\n",
       "    .dataframe tbody tr th:only-of-type {\n",
       "        vertical-align: middle;\n",
       "    }\n",
       "\n",
       "    .dataframe tbody tr th {\n",
       "        vertical-align: top;\n",
       "    }\n",
       "\n",
       "    .dataframe thead th {\n",
       "        text-align: right;\n",
       "    }\n",
       "</style>\n",
       "<table border=\"1\" class=\"dataframe\">\n",
       "  <thead>\n",
       "    <tr style=\"text-align: right;\">\n",
       "      <th></th>\n",
       "      <th></th>\n",
       "      <th></th>\n",
       "      <th>left_string</th>\n",
       "      <th>del_string</th>\n",
       "      <th>ins_string</th>\n",
       "      <th>right_string</th>\n",
       "    </tr>\n",
       "  </thead>\n",
       "  <tbody>\n",
       "    <tr>\n",
       "      <th rowspan=\"2\" valign=\"top\">1224855</th>\n",
       "      <th rowspan=\"2\" valign=\"top\">2013-06-07T12:51:58Z</th>\n",
       "      <th>4</th>\n",
       "      <td>june }} date june }} }}</td>\n",
       "      <td>' ' ' anti - muslim pogroms in india ' ' ' ref...</td>\n",
       "      <td></td>\n",
       "      <td>ref name &gt; cite book last</td>\n",
       "    </tr>\n",
       "    <tr>\n",
       "      <th>6</th>\n",
       "      <td>/ ref &gt; since of india</td>\n",
       "      <td>these pogroms have been endemic</td>\n",
       "      <td></td>\n",
       "      <td>in india . ref name &gt;</td>\n",
       "    </tr>\n",
       "  </tbody>\n",
       "</table>\n",
       "</div>"
      ],
      "text/plain": [
       "                                            left_string  \\\n",
       "1224855 2013-06-07T12:51:58Z 4  june }} date june }} }}   \n",
       "                             6   / ref > since of india   \n",
       "\n",
       "                                                                       del_string  \\\n",
       "1224855 2013-06-07T12:51:58Z 4  ' ' ' anti - muslim pogroms in india ' ' ' ref...   \n",
       "                             6                    these pogroms have been endemic   \n",
       "\n",
       "                               ins_string               right_string  \n",
       "1224855 2013-06-07T12:51:58Z 4             ref name > cite book last  \n",
       "                             6                 in india . ref name >  "
      ]
     },
     "execution_count": 22,
     "metadata": {},
     "output_type": "execute_result"
    }
   ],
   "source": [
    "change_grouped_by_neigh.get_group(2)[[\"left_string\",\"del_string\", \"ins_string\", \"right_string\"]].head(2)"
   ]
  },
  {
   "cell_type": "code",
   "execution_count": 23,
   "metadata": {},
   "outputs": [
    {
     "name": "stdout",
     "output_type": "stream",
     "text": [
      "CPU times: user 924 ms, sys: 204 ms, total: 1.13 s\n",
      "Wall time: 3.08 s\n"
     ]
    },
    {
     "data": {
      "image/png": "[encoded data removed]",
      "text/plain": [
       "<Figure size 432x288 with 1 Axes>"
      ]
     },
     "metadata": {},
     "output_type": "display_data"
    }
   ],
   "source": [
    "%%time\n",
    "clusters = km.fit(ins_matrix)\n",
    "cluster_s = pd.Series(clusters.labels_, index= change_df.index)\n",
    "change_df[\"cluster\"] = cluster_s\n",
    "change_grouped_by_ins = change_df.groupby(\"cluster\")\n",
    "change_grouped_by_ins.size().plot()"
   ]
  },
  {
   "cell_type": "code",
   "execution_count": 24,
   "metadata": {},
   "outputs": [
    {
     "data": {
      "text/html": [
       "<div>\n",
       "<style scoped>\n",
       "    .dataframe tbody tr th:only-of-type {\n",
       "        vertical-align: middle;\n",
       "    }\n",
       "\n",
       "    .dataframe tbody tr th {\n",
       "        vertical-align: top;\n",
       "    }\n",
       "\n",
       "    .dataframe thead th {\n",
       "        text-align: right;\n",
       "    }\n",
       "</style>\n",
       "<table border=\"1\" class=\"dataframe\">\n",
       "  <thead>\n",
       "    <tr style=\"text-align: right;\">\n",
       "      <th></th>\n",
       "      <th></th>\n",
       "      <th></th>\n",
       "      <th>left_string</th>\n",
       "      <th>del_string</th>\n",
       "      <th>ins_string</th>\n",
       "      <th>right_string</th>\n",
       "    </tr>\n",
       "  </thead>\n",
       "  <tbody>\n",
       "    <tr>\n",
       "      <th>0|183.82.173.219</th>\n",
       "      <th>2013-12-07T03:31:07Z</th>\n",
       "      <th>0</th>\n",
       "      <td>july }} violence against muslims }}</td>\n",
       "      <td></td>\n",
       "      <td>' ' ' anti - muslim violence in india ' ' ' ha...</td>\n",
       "      <td>references }} }} cite book last</td>\n",
       "    </tr>\n",
       "  </tbody>\n",
       "</table>\n",
       "</div>"
      ],
      "text/plain": [
       "                                                                 left_string  \\\n",
       "0|183.82.173.219 2013-12-07T03:31:07Z 0  july }} violence against muslims }}   \n",
       "\n",
       "                                        del_string  \\\n",
       "0|183.82.173.219 2013-12-07T03:31:07Z 0              \n",
       "\n",
       "                                                                                ins_string  \\\n",
       "0|183.82.173.219 2013-12-07T03:31:07Z 0  ' ' ' anti - muslim violence in india ' ' ' ha...   \n",
       "\n",
       "                                                            right_string  \n",
       "0|183.82.173.219 2013-12-07T03:31:07Z 0  references }} }} cite book last  "
      ]
     },
     "execution_count": 24,
     "metadata": {},
     "output_type": "execute_result"
    }
   ],
   "source": [
    "change_grouped_by_ins.get_group(1)[[\"left_string\",\"del_string\", \"ins_string\", \"right_string\"]].tail(5)"
   ]
  },
  {
   "cell_type": "code",
   "execution_count": 25,
   "metadata": {},
   "outputs": [
    {
     "data": {
      "text/html": [
       "<div>\n",
       "<style scoped>\n",
       "    .dataframe tbody tr th:only-of-type {\n",
       "        vertical-align: middle;\n",
       "    }\n",
       "\n",
       "    .dataframe tbody tr th {\n",
       "        vertical-align: top;\n",
       "    }\n",
       "\n",
       "    .dataframe thead th {\n",
       "        text-align: right;\n",
       "    }\n",
       "</style>\n",
       "<table border=\"1\" class=\"dataframe\">\n",
       "  <thead>\n",
       "    <tr style=\"text-align: right;\">\n",
       "      <th></th>\n",
       "      <th></th>\n",
       "      <th></th>\n",
       "      <th>left_string</th>\n",
       "      <th>del_string</th>\n",
       "      <th>ins_string</th>\n",
       "      <th>right_string</th>\n",
       "    </tr>\n",
       "  </thead>\n",
       "  <tbody>\n",
       "    <tr>\n",
       "      <th rowspan=\"2\" valign=\"top\">14904681</th>\n",
       "      <th>2013-06-03T14:57:37Z</th>\n",
       "      <th>0</th>\n",
       "      <td>}} / ref &gt; references }}</td>\n",
       "      <td></td>\n",
       "      <td>[[ category : pogroms ]]</td>\n",
       "      <td></td>\n",
       "    </tr>\n",
       "    <tr>\n",
       "      <th>2013-06-03T14:58:33Z</th>\n",
       "      <th>0</th>\n",
       "      <td>/ ref &gt; references }} category</td>\n",
       "      <td></td>\n",
       "      <td>[[ category : anti - muslim pogroms in india ]]</td>\n",
       "      <td></td>\n",
       "    </tr>\n",
       "    <tr>\n",
       "      <th>283225</th>\n",
       "      <th>2013-06-03T15:17:08Z</th>\n",
       "      <th>0</th>\n",
       "      <td>r . }} / ref &gt;</td>\n",
       "      <td></td>\n",
       "      <td>since 1950 violent confrontations between hind...</td>\n",
       "      <td>causes and effects has said that</td>\n",
       "    </tr>\n",
       "    <tr>\n",
       "      <th>17823581</th>\n",
       "      <th>2013-06-03T15:21:34Z</th>\n",
       "      <th>0</th>\n",
       "      <td>month february }} / ref &gt;</td>\n",
       "      <td></td>\n",
       "      <td>according to [[ harsh mander ]] there is a con...</td>\n",
       "      <td>after the violence in the indian</td>\n",
       "    </tr>\n",
       "    <tr>\n",
       "      <th>12160875</th>\n",
       "      <th>2013-06-04T05:01:29Z</th>\n",
       "      <th>0</th>\n",
       "      <td>month february }} / ref &gt;</td>\n",
       "      <td></td>\n",
       "      <td>= = timeline = = = = 1960s = = = = = = gujarat...</td>\n",
       "      <td>the has been described as one</td>\n",
       "    </tr>\n",
       "  </tbody>\n",
       "</table>\n",
       "</div>"
      ],
      "text/plain": [
       "                                                    left_string del_string  \\\n",
       "14904681 2013-06-03T14:57:37Z 0        }} / ref > references }}              \n",
       "         2013-06-03T14:58:33Z 0  / ref > references }} category              \n",
       "283225   2013-06-03T15:17:08Z 0                  r . }} / ref >              \n",
       "17823581 2013-06-03T15:21:34Z 0       month february }} / ref >              \n",
       "12160875 2013-06-04T05:01:29Z 0       month february }} / ref >              \n",
       "\n",
       "                                                                        ins_string  \\\n",
       "14904681 2013-06-03T14:57:37Z 0                           [[ category : pogroms ]]   \n",
       "         2013-06-03T14:58:33Z 0    [[ category : anti - muslim pogroms in india ]]   \n",
       "283225   2013-06-03T15:17:08Z 0  since 1950 violent confrontations between hind...   \n",
       "17823581 2013-06-03T15:21:34Z 0  according to [[ harsh mander ]] there is a con...   \n",
       "12160875 2013-06-04T05:01:29Z 0  = = timeline = = = = 1960s = = = = = = gujarat...   \n",
       "\n",
       "                                                     right_string  \n",
       "14904681 2013-06-03T14:57:37Z 0                                    \n",
       "         2013-06-03T14:58:33Z 0                                    \n",
       "283225   2013-06-03T15:17:08Z 0  causes and effects has said that  \n",
       "17823581 2013-06-03T15:21:34Z 0  after the violence in the indian  \n",
       "12160875 2013-06-04T05:01:29Z 0     the has been described as one  "
      ]
     },
     "execution_count": 25,
     "metadata": {},
     "output_type": "execute_result"
    }
   ],
   "source": [
    "change_grouped_by_left.get_group(2)[[\"left_string\",\"del_string\", \"ins_string\", \"right_string\"]].head(5)"
   ]
  },
  {
   "cell_type": "code",
   "execution_count": 26,
   "metadata": {},
   "outputs": [
    {
     "name": "stdout",
     "output_type": "stream",
     "text": [
      "CPU times: user 1.53 s, sys: 260 ms, total: 1.79 s\n",
      "Wall time: 4.87 s\n"
     ]
    },
    {
     "data": {
      "image/png": "[encoded data removed]",
      "text/plain": [
       "<Figure size 432x288 with 1 Axes>"
      ]
     },
     "metadata": {},
     "output_type": "display_data"
    }
   ],
   "source": [
    "%%time\n",
    "km = KMeans(n_clusters= 10, n_jobs=3)\n",
    "clusters = km.fit(change_matrix)\n",
    "cluster_s = pd.Series(clusters.labels_, index= change_df.index)\n",
    "change_df[\"cluster\"] = cluster_s\n",
    "change_grouped_by_tokens = change_df.groupby(\"cluster\")\n",
    "change_grouped_by_tokens.size().plot()"
   ]
  },
  {
   "cell_type": "code",
   "execution_count": 27,
   "metadata": {},
   "outputs": [
    {
     "data": {
      "text/plain": [
       "cluster\n",
       "0    3227\n",
       "1       2\n",
       "2       5\n",
       "3      70\n",
       "4      16\n",
       "5      66\n",
       "6     221\n",
       "7     239\n",
       "8       2\n",
       "9      17\n",
       "dtype: int64"
      ]
     },
     "execution_count": 27,
     "metadata": {},
     "output_type": "execute_result"
    }
   ],
   "source": [
    "change_grouped_by_tokens.size()"
   ]
  },
  {
   "cell_type": "code",
   "execution_count": 28,
   "metadata": {},
   "outputs": [
    {
     "data": {
      "text/html": [
       "<div>\n",
       "<style scoped>\n",
       "    .dataframe tbody tr th:only-of-type {\n",
       "        vertical-align: middle;\n",
       "    }\n",
       "\n",
       "    .dataframe tbody tr th {\n",
       "        vertical-align: top;\n",
       "    }\n",
       "\n",
       "    .dataframe thead th {\n",
       "        text-align: right;\n",
       "    }\n",
       "</style>\n",
       "<table border=\"1\" class=\"dataframe\">\n",
       "  <thead>\n",
       "    <tr style=\"text-align: right;\">\n",
       "      <th></th>\n",
       "      <th></th>\n",
       "      <th></th>\n",
       "      <th>del_string</th>\n",
       "      <th>ins_string</th>\n",
       "    </tr>\n",
       "  </thead>\n",
       "  <tbody>\n",
       "    <tr>\n",
       "      <th rowspan=\"10\" valign=\"top\">14904681</th>\n",
       "      <th>2013-06-03T14:57:37Z</th>\n",
       "      <th>0</th>\n",
       "      <td></td>\n",
       "      <td>[[ category : pogroms ]]</td>\n",
       "    </tr>\n",
       "    <tr>\n",
       "      <th>2013-06-03T14:58:33Z</th>\n",
       "      <th>0</th>\n",
       "      <td></td>\n",
       "      <td>[[ category : anti - muslim pogroms in india ]]</td>\n",
       "    </tr>\n",
       "    <tr>\n",
       "      <th>2013-06-03T15:00:42Z</th>\n",
       "      <th>0</th>\n",
       "      <td></td>\n",
       "      <td>[[ category : ethnic cleansing ]]</td>\n",
       "    </tr>\n",
       "    <tr>\n",
       "      <th rowspan=\"7\" valign=\"top\">2013-06-03T15:03:34Z</th>\n",
       "      <th>0</th>\n",
       "      <td></td>\n",
       "      <td>{{ orphan | date = june 2013 }}</td>\n",
       "    </tr>\n",
       "    <tr>\n",
       "      <th>1</th>\n",
       "      <td></td>\n",
       "      <td>s</td>\n",
       "    </tr>\n",
       "    <tr>\n",
       "      <th>2</th>\n",
       "      <td>-</td>\n",
       "      <td>–</td>\n",
       "    </tr>\n",
       "    <tr>\n",
       "      <th>3</th>\n",
       "      <td>| pogroms</td>\n",
       "      <td></td>\n",
       "    </tr>\n",
       "    <tr>\n",
       "      <th>4</th>\n",
       "      <td>,</td>\n",
       "      <td></td>\n",
       "    </tr>\n",
       "    <tr>\n",
       "      <th>5</th>\n",
       "      <td>,</td>\n",
       "      <td></td>\n",
       "    </tr>\n",
       "    <tr>\n",
       "      <th>6</th>\n",
       "      <td>,</td>\n",
       "      <td></td>\n",
       "    </tr>\n",
       "  </tbody>\n",
       "</table>\n",
       "</div>"
      ],
      "text/plain": [
       "                                del_string  \\\n",
       "14904681 2013-06-03T14:57:37Z 0              \n",
       "         2013-06-03T14:58:33Z 0              \n",
       "         2013-06-03T15:00:42Z 0              \n",
       "         2013-06-03T15:03:34Z 0              \n",
       "                              1              \n",
       "                              2          -   \n",
       "                              3  | pogroms   \n",
       "                              4          ,   \n",
       "                              5          ,   \n",
       "                              6          ,   \n",
       "\n",
       "                                                                      ins_string  \n",
       "14904681 2013-06-03T14:57:37Z 0                         [[ category : pogroms ]]  \n",
       "         2013-06-03T14:58:33Z 0  [[ category : anti - muslim pogroms in india ]]  \n",
       "         2013-06-03T15:00:42Z 0                [[ category : ethnic cleansing ]]  \n",
       "         2013-06-03T15:03:34Z 0                  {{ orphan | date = june 2013 }}  \n",
       "                              1                                                s  \n",
       "                              2                                                –  \n",
       "                              3                                                   \n",
       "                              4                                                   \n",
       "                              5                                                   \n",
       "                              6                                                   "
      ]
     },
     "execution_count": 28,
     "metadata": {},
     "output_type": "execute_result"
    }
   ],
   "source": [
    "change_grouped_by_tokens.get_group(0)[[\"del_string\", \"ins_string\"]].head(10)"
   ]
  },
  {
   "cell_type": "code",
   "execution_count": null,
   "metadata": {},
   "outputs": [],
   "source": []
  }
 ],
 "metadata": {
  "kernelspec": {
   "display_name": "Python 3",
   "language": "python",
   "name": "python3"
  },
  "language_info": {
   "codemirror_mode": {
    "name": "ipython",
    "version": 3
   },
   "file_extension": ".py",
   "mimetype": "text/x-python",
   "name": "python",
   "nbconvert_exporter": "python",
   "pygments_lexer": "ipython3",
   "version": "3.6.4"
  }
 },
 "nbformat": 4,
 "nbformat_minor": 2
}
