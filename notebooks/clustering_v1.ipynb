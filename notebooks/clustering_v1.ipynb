{
 "cells": [
  {
   "cell_type": "code",
   "execution_count": 1,
   "metadata": {},
   "outputs": [],
   "source": [
    "import sys\n",
    "import os\n",
    "sys.path.append(\"../\")\n",
    "\n",
    "import pandas as pd\n",
    "import numpy as np\n",
    "import pickle\n",
    "from sklearn.cluster import KMeans\n",
    "from sklearn.metrics import  silhouette_score, silhouette_samples\n",
    "import matplotlib.pyplot as plt\n",
    "from IPython.display import HTML\n",
    "%matplotlib inline\n",
    "from ipywidgets import interact, interactive, fixed, interact_manual\n",
    "import ipywidgets as widgets\n",
    "from scipy import stats"
   ]
  },
  {
   "cell_type": "markdown",
   "metadata": {
    "slideshow": {
     "slide_type": "slide"
    }
   },
   "source": [
    "## Reading the change object and clustering."
   ]
  },
  {
   "cell_type": "code",
   "execution_count": 2,
   "metadata": {},
   "outputs": [],
   "source": [
    "article_name = \"Truth\"\n",
    "change_object_dir =  \"../data/change objects/\"\n",
    "change_vector_dir = \"../data/change_vector/\"\n",
    "\n",
    "change_object_file_name = f\"{article_name}_vec.npz\"\n",
    "filename =  f\"{article_name}_change.h5\"\n",
    "\n",
    "change_object_file = os.path.join(change_object_dir, filename)\n",
    "change_vector_file = os.path.join(change_vector_dir, change_object_file_name)"
   ]
  },
  {
   "cell_type": "code",
   "execution_count": 3,
   "metadata": {},
   "outputs": [
    {
     "name": "stdout",
     "output_type": "stream",
     "text": [
      "CPU times: user 1.25 s, sys: 19.9 s, total: 21.2 s\n",
      "Wall time: 21.1 s\n"
     ]
    }
   ],
   "source": [
    "%%time\n",
    "if os.path.exists(change_object_file):\n",
    "    with pd.HDFStore(change_object_file, 'r') as store:\n",
    "        change_object_dataframe = store.get(\"data\")\n",
    "else:\n",
    "    print(\"file do not exist\")"
   ]
  },
  {
   "cell_type": "code",
   "execution_count": 4,
   "metadata": {},
   "outputs": [
    {
     "data": {
      "text/html": [
       "<div>\n",
       "<style scoped>\n",
       "    .dataframe tbody tr th:only-of-type {\n",
       "        vertical-align: middle;\n",
       "    }\n",
       "\n",
       "    .dataframe tbody tr th {\n",
       "        vertical-align: top;\n",
       "    }\n",
       "\n",
       "    .dataframe thead th {\n",
       "        text-align: right;\n",
       "    }\n",
       "</style>\n",
       "<table border=\"1\" class=\"dataframe\">\n",
       "  <thead>\n",
       "    <tr style=\"text-align: right;\">\n",
       "      <th></th>\n",
       "      <th></th>\n",
       "      <th></th>\n",
       "      <th></th>\n",
       "      <th></th>\n",
       "      <th></th>\n",
       "      <th>ins_tokens</th>\n",
       "      <th>del_tokens</th>\n",
       "      <th>left_neigh</th>\n",
       "      <th>right_neigh</th>\n",
       "      <th>left_token</th>\n",
       "      <th>right_token</th>\n",
       "    </tr>\n",
       "    <tr>\n",
       "      <th>from revision id</th>\n",
       "      <th>to revision id</th>\n",
       "      <th>timestamp</th>\n",
       "      <th>timegap</th>\n",
       "      <th>editor</th>\n",
       "      <th></th>\n",
       "      <th></th>\n",
       "      <th></th>\n",
       "      <th></th>\n",
       "      <th></th>\n",
       "      <th></th>\n",
       "      <th></th>\n",
       "    </tr>\n",
       "  </thead>\n",
       "  <tbody>\n",
       "    <tr>\n",
       "      <th rowspan=\"5\" valign=\"top\">286436</th>\n",
       "      <th rowspan=\"5\" valign=\"top\">286907</th>\n",
       "      <th rowspan=\"5\" valign=\"top\">2001-03-21 00:36:45</th>\n",
       "      <th rowspan=\"5\" valign=\"top\">46 days 20:40:01</th>\n",
       "      <th rowspan=\"5\" valign=\"top\">0|Larry_Sanger</th>\n",
       "      <th>0</th>\n",
       "      <td>(-, -, -, -)</td>\n",
       "      <td>()</td>\n",
       "      <td>slice(0, 3, None)</td>\n",
       "      <td>slice(1, 32, None)</td>\n",
       "      <td>({st@rt}, &lt;, the)</td>\n",
       "      <td>(&lt;, the, following, is, a, portion, of, larrys...</td>\n",
       "    </tr>\n",
       "    <tr>\n",
       "      <th>1</th>\n",
       "      <td>(foregoing,)</td>\n",
       "      <td>()</td>\n",
       "      <td>slice(0, 8, None)</td>\n",
       "      <td>slice(4, 35, None)</td>\n",
       "      <td>({st@rt}, &lt;, the, following, is, a, portion, of)</td>\n",
       "      <td>(is, a, portion, of, larrystext, ,, wikificati...</td>\n",
       "    </tr>\n",
       "    <tr>\n",
       "      <th>2</th>\n",
       "      <td>([[, larrys, text, ]], ., if, you, can, do, be...</td>\n",
       "      <td>()</td>\n",
       "      <td>slice(0, 10, None)</td>\n",
       "      <td>slice(9, 40, None)</td>\n",
       "      <td>({st@rt}, &lt;, the, following, is, a, portion, o...</td>\n",
       "      <td>(,, wikification, is, encouraged, &gt;, what, is,...</td>\n",
       "    </tr>\n",
       "    <tr>\n",
       "      <th>3</th>\n",
       "      <td>(you, can, feel, free, to, radically, update, ...</td>\n",
       "      <td>()</td>\n",
       "      <td>slice(4212, 4243, None)</td>\n",
       "      <td>slice(13, 44, None)</td>\n",
       "      <td>(to, rest, content, with, any, sort, of, relat...</td>\n",
       "      <td>(&gt;, what, is, truth, ?, we, ’, ll, look, at, a...</td>\n",
       "    </tr>\n",
       "    <tr>\n",
       "      <th>4</th>\n",
       "      <td>()</td>\n",
       "      <td>(following,)</td>\n",
       "      <td>slice(0, 3, None)</td>\n",
       "      <td>slice(4, 35, None)</td>\n",
       "      <td>({st@rt}, &lt;, the)</td>\n",
       "      <td>(is, a, portion, of, larrystext, ,, wikificati...</td>\n",
       "    </tr>\n",
       "  </tbody>\n",
       "</table>\n",
       "</div>"
      ],
      "text/plain": [
       "                                                                                                                              ins_tokens  \\\n",
       "from revision id to revision id timestamp           timegap          editor                                                                \n",
       "286436           286907         2001-03-21 00:36:45 46 days 20:40:01 0|Larry_Sanger 0                                       (-, -, -, -)   \n",
       "                                                                                    1                                       (foregoing,)   \n",
       "                                                                                    2  ([[, larrys, text, ]], ., if, you, can, do, be...   \n",
       "                                                                                    3  (you, can, feel, free, to, radically, update, ...   \n",
       "                                                                                    4                                                 ()   \n",
       "\n",
       "                                                                                         del_tokens  \\\n",
       "from revision id to revision id timestamp           timegap          editor                           \n",
       "286436           286907         2001-03-21 00:36:45 46 days 20:40:01 0|Larry_Sanger 0            ()   \n",
       "                                                                                    1            ()   \n",
       "                                                                                    2            ()   \n",
       "                                                                                    3            ()   \n",
       "                                                                                    4  (following,)   \n",
       "\n",
       "                                                                                                    left_neigh  \\\n",
       "from revision id to revision id timestamp           timegap          editor                                      \n",
       "286436           286907         2001-03-21 00:36:45 46 days 20:40:01 0|Larry_Sanger 0        slice(0, 3, None)   \n",
       "                                                                                    1        slice(0, 8, None)   \n",
       "                                                                                    2       slice(0, 10, None)   \n",
       "                                                                                    3  slice(4212, 4243, None)   \n",
       "                                                                                    4        slice(0, 3, None)   \n",
       "\n",
       "                                                                                               right_neigh  \\\n",
       "from revision id to revision id timestamp           timegap          editor                                  \n",
       "286436           286907         2001-03-21 00:36:45 46 days 20:40:01 0|Larry_Sanger 0   slice(1, 32, None)   \n",
       "                                                                                    1   slice(4, 35, None)   \n",
       "                                                                                    2   slice(9, 40, None)   \n",
       "                                                                                    3  slice(13, 44, None)   \n",
       "                                                                                    4   slice(4, 35, None)   \n",
       "\n",
       "                                                                                                                              left_token  \\\n",
       "from revision id to revision id timestamp           timegap          editor                                                                \n",
       "286436           286907         2001-03-21 00:36:45 46 days 20:40:01 0|Larry_Sanger 0                                  ({st@rt}, <, the)   \n",
       "                                                                                    1   ({st@rt}, <, the, following, is, a, portion, of)   \n",
       "                                                                                    2  ({st@rt}, <, the, following, is, a, portion, o...   \n",
       "                                                                                    3  (to, rest, content, with, any, sort, of, relat...   \n",
       "                                                                                    4                                  ({st@rt}, <, the)   \n",
       "\n",
       "                                                                                                                             right_token  \n",
       "from revision id to revision id timestamp           timegap          editor                                                               \n",
       "286436           286907         2001-03-21 00:36:45 46 days 20:40:01 0|Larry_Sanger 0  (<, the, following, is, a, portion, of, larrys...  \n",
       "                                                                                    1  (is, a, portion, of, larrystext, ,, wikificati...  \n",
       "                                                                                    2  (,, wikification, is, encouraged, >, what, is,...  \n",
       "                                                                                    3  (>, what, is, truth, ?, we, ’, ll, look, at, a...  \n",
       "                                                                                    4  (is, a, portion, of, larrystext, ,, wikificati...  "
      ]
     },
     "execution_count": 4,
     "metadata": {},
     "output_type": "execute_result"
    }
   ],
   "source": [
    "change_object_dataframe.head()"
   ]
  },
  {
   "cell_type": "markdown",
   "metadata": {},
   "source": [
    "## Read Vectors of change object."
   ]
  },
  {
   "cell_type": "code",
   "execution_count": 5,
   "metadata": {},
   "outputs": [],
   "source": [
    "with open(change_vector_file, \"rb\") as file:\n",
    "    arrays_dict = np.load(file)\n",
    "    neighbour_10_matrix = arrays_dict[\"neighbour_10\"]\n",
    "    ins_del_10_sum_neighbour_matrix = arrays_dict[\"ins_del_10_sum_neighbour\"]\n",
    "    neighbour_4_matrix = arrays_dict[\"neighbour_4\"]\n",
    "    ins_del_4_sum_neighbour_matrix = arrays_dict[\"ins_del_4_sum_neighbour\"]\n",
    "    weighted_neighbour_matrix_matrix = arrays_dict[\"weighted_neighbour_matrix\"]\n",
    "    ins_del_weighted_neighbour_matrix = arrays_dict[\"ins_del_weighted_neighbour_matrix\"]"
   ]
  },
  {
   "cell_type": "markdown",
   "metadata": {},
   "source": [
    "### Make left, ins and delete string for visualisation"
   ]
  },
  {
   "cell_type": "code",
   "execution_count": 6,
   "metadata": {},
   "outputs": [],
   "source": [
    "change_object_dataframe[\"left_string\"] = change_object_dataframe[\"left_token\"].str.join(\" \")\n",
    "change_object_dataframe[\"ins_string\"] = change_object_dataframe[\"ins_tokens\"].str.join(\" \")\n",
    "change_object_dataframe[\"del_string\"] = change_object_dataframe[\"del_tokens\"].str.join(\" \")\n",
    "change_object_dataframe[\"right_string\"] = change_object_dataframe[\"right_token\"].str.join(\" \")"
   ]
  },
  {
   "cell_type": "code",
   "execution_count": 7,
   "metadata": {},
   "outputs": [],
   "source": [
    "change_object_dataframe[\"ins_token_len\"]=change_object_dataframe[\"ins_tokens\"].str.len()\n",
    "change_object_dataframe[\"del_token_len\"]=change_object_dataframe[\"del_tokens\"].str.len()"
   ]
  },
  {
   "cell_type": "markdown",
   "metadata": {},
   "source": [
    "## Clustering"
   ]
  },
  {
   "cell_type": "code",
   "execution_count": 8,
   "metadata": {
    "slideshow": {
     "slide_type": "-"
    }
   },
   "outputs": [],
   "source": [
    "style_dict = {'border': \"2px solid #000\",\n",
    "              \"text-align\": \"justify\"\n",
    "    \n",
    "}"
   ]
  },
  {
   "cell_type": "code",
   "execution_count": 9,
   "metadata": {},
   "outputs": [
    {
     "name": "stdout",
     "output_type": "stream",
     "text": [
      "CPU times: user 7min 45s, sys: 38.3 s, total: 8min 23s\n",
      "Wall time: 2min 8s\n"
     ]
    },
    {
     "name": "stderr",
     "output_type": "stream",
     "text": [
      "/home/ubuntu/anaconda3/envs/wrod2vec/lib/python3.6/site-packages/sklearn/cluster/k_means_.py:968: ConvergenceWarning: Number of distinct clusters (1) found smaller than n_clusters (70). Possibly due to duplicate points in X.\n",
      "  return_n_iter=True)\n"
     ]
    }
   ],
   "source": [
    "%%time\n",
    "NO_OF_CLUSTERS = 70\n",
    "km = KMeans(n_clusters= NO_OF_CLUSTERS, n_jobs=3)\n",
    "clusters_4 = km.fit(neighbour_4_matrix)"
   ]
  },
  {
   "cell_type": "code",
   "execution_count": 10,
   "metadata": {},
   "outputs": [],
   "source": [
    "change_object_dataframe[\"cluster_4\"] = pd.Series(clusters_4.labels_, index= change_object_dataframe.index)\n",
    "change_grouped_by_tokens_4_neigh = change_object_dataframe.groupby(\"cluster_4\")"
   ]
  },
  {
   "cell_type": "code",
   "execution_count": 11,
   "metadata": {},
   "outputs": [
    {
     "ename": "KeyError",
     "evalue": "1",
     "output_type": "error",
     "traceback": [
      "\u001b[0;31m---------------------------------------------------------------------------\u001b[0m",
      "\u001b[0;31mKeyError\u001b[0m                                  Traceback (most recent call last)",
      "\u001b[0;32m<ipython-input-11-ead0dff16cf8>\u001b[0m in \u001b[0;36m<module>\u001b[0;34m()\u001b[0m\n\u001b[0;32m----> 1\u001b[0;31m \u001b[0mrepers_4_neigh\u001b[0m \u001b[0;34m=\u001b[0m \u001b[0;34m[\u001b[0m \u001b[0mchange_grouped_by_tokens_4_neigh\u001b[0m\u001b[0;34m[\u001b[0m\u001b[0;34m[\u001b[0m\u001b[0;34m\"left_string\"\u001b[0m\u001b[0;34m,\u001b[0m\u001b[0;34m\"del_string\"\u001b[0m\u001b[0;34m,\u001b[0m \u001b[0;34m\"ins_string\"\u001b[0m\u001b[0;34m,\u001b[0m \u001b[0;34m\"right_string\"\u001b[0m\u001b[0;34m]\u001b[0m\u001b[0;34m]\u001b[0m\u001b[0;34m.\u001b[0m\u001b[0mget_group\u001b[0m\u001b[0;34m(\u001b[0m\u001b[0mi\u001b[0m\u001b[0;34m)\u001b[0m\u001b[0;34m.\u001b[0m\u001b[0mstyle\u001b[0m\u001b[0;34m.\u001b[0m\u001b[0mset_caption\u001b[0m\u001b[0;34m(\u001b[0m\u001b[0;34m\"group \"\u001b[0m\u001b[0;34m+\u001b[0m \u001b[0mstr\u001b[0m\u001b[0;34m(\u001b[0m\u001b[0mi\u001b[0m\u001b[0;34m)\u001b[0m \u001b[0;34m)\u001b[0m\u001b[0;34m.\u001b[0m\u001b[0mrender\u001b[0m\u001b[0;34m(\u001b[0m\u001b[0;34m)\u001b[0m \u001b[0;32mfor\u001b[0m \u001b[0mi\u001b[0m \u001b[0;32min\u001b[0m \u001b[0mrange\u001b[0m\u001b[0;34m(\u001b[0m\u001b[0mNO_OF_CLUSTERS\u001b[0m\u001b[0;34m)\u001b[0m\u001b[0;34m]\u001b[0m\u001b[0;34m\u001b[0m\u001b[0m\n\u001b[0m",
      "\u001b[0;32m<ipython-input-11-ead0dff16cf8>\u001b[0m in \u001b[0;36m<listcomp>\u001b[0;34m(.0)\u001b[0m\n\u001b[0;32m----> 1\u001b[0;31m \u001b[0mrepers_4_neigh\u001b[0m \u001b[0;34m=\u001b[0m \u001b[0;34m[\u001b[0m \u001b[0mchange_grouped_by_tokens_4_neigh\u001b[0m\u001b[0;34m[\u001b[0m\u001b[0;34m[\u001b[0m\u001b[0;34m\"left_string\"\u001b[0m\u001b[0;34m,\u001b[0m\u001b[0;34m\"del_string\"\u001b[0m\u001b[0;34m,\u001b[0m \u001b[0;34m\"ins_string\"\u001b[0m\u001b[0;34m,\u001b[0m \u001b[0;34m\"right_string\"\u001b[0m\u001b[0;34m]\u001b[0m\u001b[0;34m]\u001b[0m\u001b[0;34m.\u001b[0m\u001b[0mget_group\u001b[0m\u001b[0;34m(\u001b[0m\u001b[0mi\u001b[0m\u001b[0;34m)\u001b[0m\u001b[0;34m.\u001b[0m\u001b[0mstyle\u001b[0m\u001b[0;34m.\u001b[0m\u001b[0mset_caption\u001b[0m\u001b[0;34m(\u001b[0m\u001b[0;34m\"group \"\u001b[0m\u001b[0;34m+\u001b[0m \u001b[0mstr\u001b[0m\u001b[0;34m(\u001b[0m\u001b[0mi\u001b[0m\u001b[0;34m)\u001b[0m \u001b[0;34m)\u001b[0m\u001b[0;34m.\u001b[0m\u001b[0mrender\u001b[0m\u001b[0;34m(\u001b[0m\u001b[0;34m)\u001b[0m \u001b[0;32mfor\u001b[0m \u001b[0mi\u001b[0m \u001b[0;32min\u001b[0m \u001b[0mrange\u001b[0m\u001b[0;34m(\u001b[0m\u001b[0mNO_OF_CLUSTERS\u001b[0m\u001b[0;34m)\u001b[0m\u001b[0;34m]\u001b[0m\u001b[0;34m\u001b[0m\u001b[0m\n\u001b[0m",
      "\u001b[0;32m~/anaconda3/envs/wrod2vec/lib/python3.6/site-packages/pandas/core/groupby/groupby.py\u001b[0m in \u001b[0;36mget_group\u001b[0;34m(self, name, obj)\u001b[0m\n\u001b[1;32m    875\u001b[0m         \u001b[0minds\u001b[0m \u001b[0;34m=\u001b[0m \u001b[0mself\u001b[0m\u001b[0;34m.\u001b[0m\u001b[0m_get_index\u001b[0m\u001b[0;34m(\u001b[0m\u001b[0mname\u001b[0m\u001b[0;34m)\u001b[0m\u001b[0;34m\u001b[0m\u001b[0m\n\u001b[1;32m    876\u001b[0m         \u001b[0;32mif\u001b[0m \u001b[0;32mnot\u001b[0m \u001b[0mlen\u001b[0m\u001b[0;34m(\u001b[0m\u001b[0minds\u001b[0m\u001b[0;34m)\u001b[0m\u001b[0;34m:\u001b[0m\u001b[0;34m\u001b[0m\u001b[0m\n\u001b[0;32m--> 877\u001b[0;31m             \u001b[0;32mraise\u001b[0m \u001b[0mKeyError\u001b[0m\u001b[0;34m(\u001b[0m\u001b[0mname\u001b[0m\u001b[0;34m)\u001b[0m\u001b[0;34m\u001b[0m\u001b[0m\n\u001b[0m\u001b[1;32m    878\u001b[0m \u001b[0;34m\u001b[0m\u001b[0m\n\u001b[1;32m    879\u001b[0m         \u001b[0;32mreturn\u001b[0m \u001b[0mobj\u001b[0m\u001b[0;34m.\u001b[0m\u001b[0m_take\u001b[0m\u001b[0;34m(\u001b[0m\u001b[0minds\u001b[0m\u001b[0;34m,\u001b[0m \u001b[0maxis\u001b[0m\u001b[0;34m=\u001b[0m\u001b[0mself\u001b[0m\u001b[0;34m.\u001b[0m\u001b[0maxis\u001b[0m\u001b[0;34m)\u001b[0m\u001b[0;34m\u001b[0m\u001b[0m\n",
      "\u001b[0;31mKeyError\u001b[0m: 1"
     ]
    }
   ],
   "source": [
    "repers_4_neigh = [ change_grouped_by_tokens_4_neigh[[\"left_string\",\"del_string\", \"ins_string\", \"right_string\"]].get_group(i).style.set_caption(\"group \"+ str(i) ).render() for i in range(NO_OF_CLUSTERS)]"
   ]
  },
  {
   "cell_type": "code",
   "execution_count": null,
   "metadata": {},
   "outputs": [],
   "source": [
    "all_html = \" \".join(repers_4_neigh)\n",
    "file_name = article_name + \"_4_neigh_\"+str(NO_OF_CLUSTERS) + \"_clusters.html\"\n",
    "file_path = os.path.join(\"./visualisation\", file_name)\n",
    "with open(file_path, 'wb') as f:\n",
    "    f.write(all_html.encode())"
   ]
  },
  {
   "cell_type": "code",
   "execution_count": null,
   "metadata": {},
   "outputs": [],
   "source": [
    "@interact( clusters_html=fixed(repers_4_neigh), group=range(70))\n",
    "def display_clusters(clusters_html, group):\n",
    "     return display(HTML(clusters_html[group]))\n"
   ]
  },
  {
   "cell_type": "markdown",
   "metadata": {},
   "source": [
    "##### Cluster number of neighbour tokens=10, number of clusters =100 "
   ]
  },
  {
   "cell_type": "code",
   "execution_count": null,
   "metadata": {},
   "outputs": [],
   "source": [
    "%%time\n",
    "NO_OF_CLUSTERS = 100\n",
    "km = KMeans(n_clusters= NO_OF_CLUSTERS, n_jobs=3)\n",
    "clusters_10 = km.fit(neighbour_10_matrix)"
   ]
  },
  {
   "cell_type": "code",
   "execution_count": null,
   "metadata": {},
   "outputs": [],
   "source": [
    "change_object_dataframe[\"cluster_10\"] = pd.Series(clusters_10.labels_, index= change_object_dataframe.index)\n",
    "change_grouped_by_tokens_10_neigh = change_object_dataframe.groupby(\"cluster_10\")"
   ]
  },
  {
   "cell_type": "code",
   "execution_count": null,
   "metadata": {},
   "outputs": [],
   "source": [
    "repers_10_neigh = [ change_grouped_by_tokens_10_neigh[[\"left_string\",\"del_string\", \"ins_string\", \"right_string\"]].get_group(i).style.set_properties(**style_dict, axis=None).set_caption(\"group \"+ str(i) ).render() for i in range(NO_OF_CLUSTERS)]"
   ]
  },
  {
   "cell_type": "code",
   "execution_count": null,
   "metadata": {},
   "outputs": [],
   "source": [
    "all_html = \" \".join(repers_10_neigh)\n",
    "file_name = article_name + \"_10_neigh_\"+str(NO_OF_CLUSTERS) +\"_clusters.html\"\n",
    "file_path = os.path.join(\"./visualisation\", file_name)\n",
    "with open(file_path, 'wb') as f:\n",
    "    f.write(all_html.encode())"
   ]
  },
  {
   "cell_type": "code",
   "execution_count": null,
   "metadata": {},
   "outputs": [],
   "source": [
    "@interact( clusters_html=fixed(repers_10_neigh), group=range(100))\n",
    "def display_clusters(clusters_html, group):\n",
    "     return display(HTML(clusters_html[group]))\n"
   ]
  },
  {
   "cell_type": "code",
   "execution_count": null,
   "metadata": {},
   "outputs": [],
   "source": [
    "# id = list(range(20))\n",
    "# id_str = [\"group \"+str(i) for i in id]\n",
    "# drop_down = list(zip(id_str, id))\n",
    "# # interact(display_clusters, clusters_html=fixed(repers), group= drop_down);\n",
    "# interact(display_clusters, clusters_html=fixed(repers),  group= drop_down)\n"
   ]
  },
  {
   "cell_type": "markdown",
   "metadata": {},
   "source": [
    "### Clustering with vectors concatinated vectors average of 4 right and left neighbours and average of inserted and deleted tokens. "
   ]
  },
  {
   "cell_type": "code",
   "execution_count": null,
   "metadata": {},
   "outputs": [],
   "source": [
    "%%time\n",
    "NO_OF_CLUSTERS = 100\n",
    "km = KMeans(n_clusters= NO_OF_CLUSTERS, n_jobs=3)\n",
    "clusters_4_full = km.fit(ins_del_4_sum_neighbour_matrix)\n",
    "change_object_dataframe[\"cluster_4_full\"] = pd.Series(clusters_4_full.labels_, index= change_object_dataframe.index)"
   ]
  },
  {
   "cell_type": "code",
   "execution_count": null,
   "metadata": {},
   "outputs": [],
   "source": [
    "change_grouped_by_tokens_4_full = change_object_dataframe.groupby(\"cluster_4_full\")"
   ]
  },
  {
   "cell_type": "code",
   "execution_count": null,
   "metadata": {},
   "outputs": [],
   "source": [
    "repers_4_full = [ change_grouped_by_tokens_4_full[[\"left_string\",\"del_string\", \"ins_string\", \"right_string\"]].get_group(i).style.set_caption(\"group \"+ str(i) ).render() for i in range(NO_OF_CLUSTERS)]"
   ]
  },
  {
   "cell_type": "code",
   "execution_count": null,
   "metadata": {},
   "outputs": [],
   "source": [
    "all_html = \" \".join(repers_4_full)\n",
    "file_name = article_name + \"_4_full_\"+str(NO_OF_CLUSTERS) + \"_clusters.html\"\n",
    "file_path = os.path.join(\"./visualisation\", file_name)\n",
    "with open(file_path, 'wb') as f:\n",
    "    f.write(all_html.encode())"
   ]
  },
  {
   "cell_type": "code",
   "execution_count": null,
   "metadata": {},
   "outputs": [],
   "source": [
    "@interact( clusters_html=fixed(repers_4_full), group=range(100))\n",
    "def display_clusters(clusters_html, group):\n",
    "     return display(HTML(clusters_html[group]))\n"
   ]
  },
  {
   "cell_type": "markdown",
   "metadata": {},
   "source": [
    "### Saving the cluster with change object\n",
    "###### TO-DO: save change object and cluster seperately."
   ]
  },
  {
   "cell_type": "code",
   "execution_count": null,
   "metadata": {},
   "outputs": [],
   "source": [
    "cluster_dir = \"../data/clusters/\"\n",
    "file_name = article_name + \"_cluster.h5\"\n",
    "full_file_path = os.path.join(cluster_dir, file_name)\n",
    "with pd.HDFStore(full_file_path, 'w') as store:\n",
    "    store.put(\"change_object\", change_object_dataframe, table=False)"
   ]
  },
  {
   "cell_type": "markdown",
   "metadata": {},
   "source": [
    "### Ranking\n",
    "###### Ranking clustered groups on following parameters.\n",
    "1. Size of clusters\n",
    "2. No of unique editors is clusters\n",
    "3. Total period of cluster. i.e difference between start and end date.\n",
    "4. Median length of edited token in each cluster."
   ]
  },
  {
   "cell_type": "code",
   "execution_count": null,
   "metadata": {},
   "outputs": [],
   "source": [
    "rank_by_size = change_grouped_by_tokens.size().sort_values()\n",
    "rank_by_size"
   ]
  },
  {
   "cell_type": "code",
   "execution_count": null,
   "metadata": {},
   "outputs": [],
   "source": [
    "rank_by_uniq_editor = change_grouped_by_tokens[\"editor_s\"].nunique().sort_values()"
   ]
  },
  {
   "cell_type": "code",
   "execution_count": null,
   "metadata": {},
   "outputs": [],
   "source": [
    "rank_by_period = change_grouped_by_tokens[\"timestamp\"].apply(lambda x: x.max() - x.min()).sort_values()"
   ]
  },
  {
   "cell_type": "code",
   "execution_count": null,
   "metadata": {},
   "outputs": [],
   "source": [
    "rank_by_rate = change_grouped_by_tokens[\"time_gap\"].apply(lambda x: x.mean()).sort_values()"
   ]
  },
  {
   "cell_type": "code",
   "execution_count": null,
   "metadata": {},
   "outputs": [],
   "source": [
    "rank_by_token_length = (change_grouped_by_tokens[\"ins_token_len\"].median() + change_grouped_by_tokens[\"del_token_len\"].median()).sort_values()\n",
    "rank_by_token_length = ranks_by_token_length /2"
   ]
  },
  {
   "cell_type": "code",
   "execution_count": null,
   "metadata": {},
   "outputs": [],
   "source": [
    "plt.scatter(np.log10(cluster_ranks_by_size), rank_by_uniq_editor)\n",
    "plt.scatter(np.log10(cluster_ranks_by_size), rank_by_token_length)\n",
    "plt.scatter(np.log10(cluster_ranks_by_size), np.log10(pd.to_numeric(rank_by_period)))\n",
    "plt.scatter(np.log10(cluster_ranks_by_size), np.log10(pd.to_numeric(rank_by_rate)))"
   ]
  },
  {
   "cell_type": "code",
   "execution_count": null,
   "metadata": {},
   "outputs": [],
   "source": [
    "change_grouped_by_tokens.get_group(cluster_ranks_by_period.index.tolist()[0])"
   ]
  },
  {
   "cell_type": "code",
   "execution_count": null,
   "metadata": {},
   "outputs": [],
   "source": [
    "change_grouped_by_tokens.get_group(cluster_ranks_by_period.index.tolist()[0])[\"del_string\"].str.cat()"
   ]
  },
  {
   "cell_type": "code",
   "execution_count": null,
   "metadata": {},
   "outputs": [],
   "source": [
    "%%time\n",
    "silhoutee_s = []\n",
    "for n in range(2,48,2):\n",
    "    km = KMeans(n_clusters= n, n_jobs=3)\n",
    "    clusters = km.fit(ins_del_sum_neighbour_matrix)\n",
    "    cluster_s = pd.Series(clusters.labels_, index= change_df.index)\n",
    "    silhoutee_s.append(silhouette_score(change_matrix, cluster_s))"
   ]
  },
  {
   "cell_type": "code",
   "execution_count": null,
   "metadata": {},
   "outputs": [],
   "source": [
    "x = np.arange(2,48,2)\n",
    "plt.plot(x,silhoutee_s)"
   ]
  },
  {
   "cell_type": "code",
   "execution_count": null,
   "metadata": {},
   "outputs": [],
   "source": [
    "x[np.argsort(silhoutee_s)[-8:]]"
   ]
  },
  {
   "cell_type": "code",
   "execution_count": null,
   "metadata": {},
   "outputs": [],
   "source": [
    "np.array(silhoutee_s)[np.argsort(silhoutee_s)[-8:]]"
   ]
  },
  {
   "cell_type": "code",
   "execution_count": null,
   "metadata": {},
   "outputs": [],
   "source": [
    "%%time\n",
    "km = KMeans(n_clusters= 12, n_jobs=3)\n",
    "clusters = km.fit(ins_del_sum_neighbour_matrix)\n",
    "cluster_s = pd.Series(clusters.labels_, index= change_df.index)\n",
    "change_df[\"cluster\"] = cluster_s\n",
    "change_grouped_by_sum = change_df.groupby(\"cluster\")\n",
    "change_grouped_by_sum.size().plot()"
   ]
  },
  {
   "cell_type": "code",
   "execution_count": null,
   "metadata": {},
   "outputs": [],
   "source": [
    "rank_by_size = change_grouped_by_sum.size().sort_values()\n",
    "rank_by_size"
   ]
  },
  {
   "cell_type": "code",
   "execution_count": null,
   "metadata": {},
   "outputs": [],
   "source": [
    "rank_by_uniq_editor = change_grouped_by_sum[\"editor_s\"].nunique().sort_values()"
   ]
  },
  {
   "cell_type": "code",
   "execution_count": null,
   "metadata": {},
   "outputs": [],
   "source": [
    "rank_by_period = change_grouped_by_sum[\"timestamp\"].apply(lambda x: x.max() - x.min()).sort_values()"
   ]
  },
  {
   "cell_type": "code",
   "execution_count": null,
   "metadata": {},
   "outputs": [],
   "source": [
    "rank_by_rate = change_grouped_by_sum[\"time_gap\"].apply(lambda x: x.mean()).sort_values()"
   ]
  },
  {
   "cell_type": "code",
   "execution_count": null,
   "metadata": {},
   "outputs": [],
   "source": [
    "rank_by_token_length = (change_grouped_by_sum[\"ins_token_len\"].median() + change_grouped_by_sum[\"del_token_len\"].median()).sort_values()\n",
    "rank_by_token_length = ranks_by_token_length /2"
   ]
  },
  {
   "cell_type": "code",
   "execution_count": null,
   "metadata": {},
   "outputs": [],
   "source": [
    "plt.scatter(np.log10(cluster_ranks_by_size), rank_by_uniq_editor)\n",
    "plt.scatter(np.log10(cluster_ranks_by_size), rank_by_token_length)\n",
    "plt.scatter(np.log10(cluster_ranks_by_size), np.log10(pd.to_numeric(rank_by_period)))\n",
    "plt.scatter(np.log10(cluster_ranks_by_size), np.log10(pd.to_numeric(rank_by_rate)))"
   ]
  },
  {
   "cell_type": "code",
   "execution_count": null,
   "metadata": {},
   "outputs": [],
   "source": [
    "change_grouped_by_sum.get_group(9)[[\"del_string\", \"ins_string\"]]"
   ]
  },
  {
   "cell_type": "code",
   "execution_count": null,
   "metadata": {},
   "outputs": [],
   "source": []
  }
 ],
 "metadata": {
  "kernelspec": {
   "display_name": "Python 3",
   "language": "python",
   "name": "python3"
  },
  "language_info": {
   "codemirror_mode": {
    "name": "ipython",
    "version": 3
   },
   "file_extension": ".py",
   "mimetype": "text/x-python",
   "name": "python",
   "nbconvert_exporter": "python",
   "pygments_lexer": "ipython3",
   "version": "3.6.4"
  }
 },
 "nbformat": 4,
 "nbformat_minor": 2
}
