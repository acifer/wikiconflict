{
 "cells": [
  {
   "cell_type": "code",
   "execution_count": 1,
   "metadata": {},
   "outputs": [],
   "source": [
    "import requests\n",
    "import pandas as pd\n",
    "import os\n",
    "from pathlib import Path\n",
    "import numpy as np"
   ]
  },
  {
   "cell_type": "code",
   "execution_count": 2,
   "metadata": {},
   "outputs": [],
   "source": [
    "baseurl = \"https://api.wikiwho.net/en/api/v1.0.0-beta/\"\n",
    "content = \"Mama's_Family\"\n",
    "def _url(url, path):\n",
    "    return url + path\n",
    "revisions_url = _url( baseurl,\"rev_ids/\")\n",
    "mama_revisions_url = _url(revisions_url, content+\"/\")\n",
    "params = {\"editor\": \"true\", \"timestamp\": \"true\"}\n",
    "response = requests.get(mama_revisions_url, params= params)"
   ]
  },
  {
   "cell_type": "code",
   "execution_count": 3,
   "metadata": {},
   "outputs": [
    {
     "data": {
      "text/plain": [
       "\"https://api.wikiwho.net/en/api/v1.0.0-beta/rev_ids/Mama's_Family/?editor=true&timestamp=true\""
      ]
     },
     "execution_count": 3,
     "metadata": {},
     "output_type": "execute_result"
    }
   ],
   "source": [
    "response.url"
   ]
  },
  {
   "cell_type": "code",
   "execution_count": 4,
   "metadata": {},
   "outputs": [],
   "source": [
    "revisons = pd.DataFrame(response.json()[\"revisions\"])\n",
    "revisons_list = response.json()[\"revisions\"]"
   ]
  },
  {
   "cell_type": "code",
   "execution_count": 5,
   "metadata": {},
   "outputs": [
    {
     "data": {
      "text/plain": [
       "2547"
      ]
     },
     "execution_count": 5,
     "metadata": {},
     "output_type": "execute_result"
    }
   ],
   "source": [
    "revisons[\"id\"].size"
   ]
  },
  {
   "cell_type": "code",
   "execution_count": 6,
   "metadata": {},
   "outputs": [],
   "source": [
    "rev_content_url = _url(baseurl,\"rev_content/\")\n",
    "mama_rev_content_url = _url(rev_content_url, content+\"/\")\n",
    "filename = content + \".h5\""
   ]
  },
  {
   "cell_type": "code",
   "execution_count": 7,
   "metadata": {},
   "outputs": [],
   "source": [
    "all_content_ul = _url(baseurl, \"all_content/\" )\n",
    "mama_all_content_url = _url(all_content_ul, content +\"/\")\n",
    "params = { \"o_rev_id\": \"true\", \"editor\": \"false\", \"token_id\": \"true\", \"in\": \"true\", \"out\": \"true\" }\n",
    "all_rev_data = requests.get(mama_all_content_url, params= params)\n",
    "\n",
    "\n",
    "all_tokens_mama = all_rev_data.json()[\"all_tokens\"]"
   ]
  },
  {
   "cell_type": "code",
   "execution_count": null,
   "metadata": {},
   "outputs": [],
   "source": [
    "%%time\n",
    "rev_contents = []\n",
    "params ={ \"o_rev_id\": \"false\", \"editor\": \"false\", \"token_id\": \"true\",\"in\": \"false\", \"out\": \"false\",\"str\": \"false\" }\n",
    "for i in range(15):\n",
    "    url = _url(mama_rev_content_url, str(revisons.id.tolist()[i]) + \"/\")\n",
    "    response = requests.get(url, params= params)\n",
    "    rev_contents.append(response.json()[\"revisions\"][0][str(revisons.id.tolist()[i])][\"tokens\"])"
   ]
  },
  {
   "cell_type": "code",
   "execution_count": 28,
   "metadata": {},
   "outputs": [
    {
     "name": "stdout",
     "output_type": "stream",
     "text": [
      "CPU times: user 352 ms, sys: 1.57 s, total: 1.92 s\n",
      "Wall time: 4.68 s\n"
     ]
    }
   ],
   "source": [
    "%%time\n",
    "params ={ \"o_rev_id\": \"false\", \"editor\": \"false\", \"token_id\": \"true\",\"in\": \"false\", \"out\": \"false\",\"str\": \"false\" }\n",
    "\n",
    "url = _url(mama_rev_content_url, str(revisons.id.tolist()[0]) + \"/\")\n",
    "url = _url(url, str(revisons.id.tolist()[200]) + \"/\")\n",
    "\n",
    "response = requests.get(url, params= params)"
   ]
  },
  {
   "cell_type": "code",
   "execution_count": 18,
   "metadata": {},
   "outputs": [
    {
     "data": {
      "text/plain": [
       "[]"
      ]
     },
     "execution_count": 18,
     "metadata": {},
     "output_type": "execute_result"
    }
   ],
   "source": [
    "response.json()[\"revisions\"]"
   ]
  },
  {
   "cell_type": "markdown",
   "metadata": {},
   "source": [
    "#### Main cell to calculate the deleted and edited positions"
   ]
  },
  {
   "cell_type": "code",
   "execution_count": null,
   "metadata": {},
   "outputs": [],
   "source": [
    "import time\n",
    "params ={ \"o_rev_id\": \"true\", \"editor\": \"false\", \"token_id\": \"true\",\"in\": \"true\", \"out\": \"true\" }\n",
    "with pd.HDFStore(filename, 'a') as store:\n",
    "    for revision in revisons_list:\n",
    "        revision = str(revision[\"id\"])\n",
    "        url = _url(mama_rev_content_url, revision+\"/\")\n",
    "        response = requests.get(url, params= params)\n",
    "        if response.status_code == requests.codes.ok :\n",
    "            df = pd.DataFrame.from_dict(response.json()[\"revisions\"][0][revision][\"tokens\"])\n",
    "#             df[\"inserted\"] = df[\"in\"].apply(lambda x: int(revision) in  set(x))\n",
    "#             df[\"inserted\"] = np.logical_or( df[\"inserted\"].values, df[\"o_rev_id\"].values == int(revision))\n",
    "#             if(itr < (len(revisions) - 1) ):\n",
    "#                 deleted_revision = revisions[itr + 1]\n",
    "#             else :\n",
    "#                 deleted_revision = -1\n",
    "#             df[\"deleted\"] = df[\"out\"].apply(lambda x: deleted_revision in  set(x))\n",
    "            store.put(revision, df, table=True)\n",
    "        else:\n",
    "            print(response.json())"
   ]
  },
  {
   "cell_type": "code",
   "execution_count": null,
   "metadata": {},
   "outputs": [],
   "source": [
    "with pd.HDFStore( filename, 'r') as store1:\n",
    "    df_3317807 = store1.get(\"3317807\")\n",
    "    df_3317866 = store1.get(\"3317866\")\n",
    "    print(df_3317807.head(2))\n",
    "    print(\"\\n\")   \n",
    "    print(df_3317866.head(2))"
   ]
  },
  {
   "cell_type": "code",
   "execution_count": null,
   "metadata": {},
   "outputs": [],
   "source": [
    "inserted_array = np.array(df_3317866[\"inserted\"])\n",
    "inserted_pos = np.argwhere(inserted_array == True)\n",
    "inserted_tokens = np.array(df_3317866 [\"token_id\"])[inserted_pos]"
   ]
  },
  {
   "cell_type": "code",
   "execution_count": null,
   "metadata": {},
   "outputs": [],
   "source": [
    "# inserted_pos = inserted_pos[0].reshape(1,108)\n",
    "inserted_pos.shape\n",
    "# inserted_tokens.shape"
   ]
  },
  {
   "cell_type": "code",
   "execution_count": null,
   "metadata": {},
   "outputs": [],
   "source": [
    "inserted_token_pos = np.stack((inserted_tokens, inserted_pos), axis = -1)\n",
    "inserted_token_pos = inserted_token_pos.reshape(inserted_token_pos.shape[0],2)\n",
    "inserted_token_pos"
   ]
  },
  {
   "cell_type": "markdown",
   "metadata": {},
   "source": [
    "### To cluster elements using position of there relative position in doc"
   ]
  },
  {
   "cell_type": "code",
   "execution_count": null,
   "metadata": {},
   "outputs": [],
   "source": [
    "from sklearn.cluster import DBSCAN"
   ]
  },
  {
   "cell_type": "code",
   "execution_count": null,
   "metadata": {},
   "outputs": [],
   "source": [
    "db = DBSCAN(eps=5, min_samples=1, p=1).fit(inserted_pos)\n",
    "a = db.fit_predict(inserted_pos)\n",
    "db.components_"
   ]
  },
  {
   "cell_type": "code",
   "execution_count": null,
   "metadata": {},
   "outputs": [],
   "source": [
    "unique_clusters = set(db.labels_) - {-1}"
   ]
  },
  {
   "cell_type": "code",
   "execution_count": null,
   "metadata": {},
   "outputs": [],
   "source": [
    "ls"
   ]
  },
  {
   "cell_type": "code",
   "execution_count": null,
   "metadata": {},
   "outputs": [],
   "source": [
    "# rm Mama*"
   ]
  },
  {
   "cell_type": "markdown",
   "metadata": {},
   "source": [
    "$$f'(a) = \\lim_{x \\to a} \\frac{f(x) - f(a)}{x - a}$$"
   ]
  },
  {
   "cell_type": "markdown",
   "metadata": {},
   "source": [
    "\\begin{"
   ]
  }
 ],
 "metadata": {
  "kernelspec": {
   "display_name": "Python 3",
   "language": "python",
   "name": "python3"
  },
  "language_info": {
   "codemirror_mode": {
    "name": "ipython",
    "version": 3
   },
   "file_extension": ".py",
   "mimetype": "text/x-python",
   "name": "python",
   "nbconvert_exporter": "python",
   "pygments_lexer": "ipython3",
   "version": "3.6.4"
  }
 },
 "nbformat": 4,
 "nbformat_minor": 2
}
