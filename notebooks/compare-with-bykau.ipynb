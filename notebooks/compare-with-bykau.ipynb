{
 "cells": [
  {
   "cell_type": "code",
   "execution_count": 3,
   "metadata": {},
   "outputs": [],
   "source": [
    "import sys,os\n",
    "sys.path.append(\"../\")\n",
    "\n",
    "import pandas as pd\n",
    "import numpy as np\n",
    "from sklearn.cluster import KMeans\n",
    "import matplotlib.pyplot as plt\n",
    "from IPython.display import HTML\n",
    "%matplotlib inline\n",
    "from ipywidgets import interact, interactive, fixed, interact_manual\n",
    "import ipywidgets as widgets\n",
    "from scipy import stats\n",
    "from sklearn.cluster import DBSCAN\n",
    "from sklearn.preprocessing import LabelEncoder\n",
    "from sklearn.preprocessing import OneHotEncoder\n",
    "from sklearn.preprocessing import MultiLabelBinarizer\n",
    "\n",
    "\n",
    "from sklearn.metrics import adjusted_mutual_info_score\n",
    "from sklearn.metrics import pairwise_distances  \n",
    "from sklearn.metrics import adjusted_rand_score\n",
    "from sklearn.metrics import mutual_info_score\n",
    "from sklearn.metrics import normalized_mutual_info_score"
   ]
  },
  {
   "cell_type": "markdown",
   "metadata": {
    "slideshow": {
     "slide_type": "slide"
    }
   },
   "source": [
    "## reading the change object and clustering."
   ]
  },
  {
   "cell_type": "code",
   "execution_count": 4,
   "metadata": {},
   "outputs": [
    {
     "data": {
      "text/html": [
       "<div>\n",
       "<style scoped>\n",
       "    .dataframe tbody tr th:only-of-type {\n",
       "        vertical-align: middle;\n",
       "    }\n",
       "\n",
       "    .dataframe tbody tr th {\n",
       "        vertical-align: top;\n",
       "    }\n",
       "\n",
       "    .dataframe thead th {\n",
       "        text-align: right;\n",
       "    }\n",
       "</style>\n",
       "<table border=\"1\" class=\"dataframe\">\n",
       "  <thead>\n",
       "    <tr style=\"text-align: right;\">\n",
       "      <th></th>\n",
       "      <th></th>\n",
       "      <th></th>\n",
       "      <th></th>\n",
       "      <th></th>\n",
       "      <th></th>\n",
       "      <th>ins_start_pos</th>\n",
       "      <th>ins_end_pos</th>\n",
       "      <th>left_neigh</th>\n",
       "      <th>right_neigh</th>\n",
       "      <th>del_start_pos</th>\n",
       "      <th>del_end_pos</th>\n",
       "      <th>ins_tokens</th>\n",
       "      <th>del_tokens</th>\n",
       "      <th>left_neigh_slice</th>\n",
       "      <th>right_neigh_slice</th>\n",
       "      <th>left_token</th>\n",
       "      <th>right_token</th>\n",
       "      <th>ins_length</th>\n",
       "      <th>del_length</th>\n",
       "      <th>del_string_tokens</th>\n",
       "      <th>ins_string_tokens</th>\n",
       "      <th>left_context</th>\n",
       "      <th>right_context</th>\n",
       "      <th>bykau_cluster</th>\n",
       "    </tr>\n",
       "    <tr>\n",
       "      <th>from revision id</th>\n",
       "      <th>to revision id</th>\n",
       "      <th>timestamp</th>\n",
       "      <th>timegap</th>\n",
       "      <th>editor</th>\n",
       "      <th></th>\n",
       "      <th></th>\n",
       "      <th></th>\n",
       "      <th></th>\n",
       "      <th></th>\n",
       "      <th></th>\n",
       "      <th></th>\n",
       "      <th></th>\n",
       "      <th></th>\n",
       "      <th></th>\n",
       "      <th></th>\n",
       "      <th></th>\n",
       "      <th></th>\n",
       "      <th></th>\n",
       "      <th></th>\n",
       "      <th></th>\n",
       "      <th></th>\n",
       "      <th></th>\n",
       "      <th></th>\n",
       "      <th></th>\n",
       "    </tr>\n",
       "  </thead>\n",
       "  <tbody>\n",
       "    <tr>\n",
       "      <th rowspan=\"5\" valign=\"top\">203693</th>\n",
       "      <th rowspan=\"5\" valign=\"top\">203699</th>\n",
       "      <th rowspan=\"5\" valign=\"top\">2002-09-08 14:05:32</th>\n",
       "      <th rowspan=\"5\" valign=\"top\">194 days 22:14:17</th>\n",
       "      <th rowspan=\"5\" valign=\"top\">3646</th>\n",
       "      <th>0</th>\n",
       "      <td>10.0</td>\n",
       "      <td>30.0</td>\n",
       "      <td>9</td>\n",
       "      <td>10</td>\n",
       "      <td>-1.0</td>\n",
       "      <td>-1.0</td>\n",
       "      <td>(41, 42, 43, 44, 45, 46, 47, 48, 49, 50, 51, 5...</td>\n",
       "      <td>()</td>\n",
       "      <td>slice(0, 10, None)</td>\n",
       "      <td>slice(10, 41, None)</td>\n",
       "      <td>(-1, 0, 1, 2, 3, 4, 5, 6, 7, 8)</td>\n",
       "      <td>(9, 10, 11, 12, 13, 14, 15, 16, 17, 18, 19, 20...</td>\n",
       "      <td>21</td>\n",
       "      <td>0</td>\n",
       "      <td>()</td>\n",
       "      <td>((, b, ., [[, august, 14, ]], [[, 1888, ]], ,,...</td>\n",
       "      <td>St@rt ' ' ' john logie baird ' ' '</td>\n",
       "      <td>of scotland ( [[ university of glasgow ]] ) wa...</td>\n",
       "      <td>-99</td>\n",
       "    </tr>\n",
       "    <tr>\n",
       "      <th>1</th>\n",
       "      <td>32.0</td>\n",
       "      <td>32.0</td>\n",
       "      <td>10</td>\n",
       "      <td>11</td>\n",
       "      <td>-1.0</td>\n",
       "      <td>-1.0</td>\n",
       "      <td>(62,)</td>\n",
       "      <td>()</td>\n",
       "      <td>slice(0, 11, None)</td>\n",
       "      <td>slice(11, 42, None)</td>\n",
       "      <td>(-1, 0, 1, 2, 3, 4, 5, 6, 7, 8, 9)</td>\n",
       "      <td>(10, 11, 12, 13, 14, 15, 16, 17, 18, 19, 20, 2...</td>\n",
       "      <td>1</td>\n",
       "      <td>0</td>\n",
       "      <td>()</td>\n",
       "      <td>([[,)</td>\n",
       "      <td>St@rt ' ' ' john logie baird ' ' ' of</td>\n",
       "      <td>scotland ( [[ university of glasgow ]] ) was t...</td>\n",
       "      <td>-99</td>\n",
       "    </tr>\n",
       "    <tr>\n",
       "      <th>2</th>\n",
       "      <td>34.0</td>\n",
       "      <td>34.0</td>\n",
       "      <td>11</td>\n",
       "      <td>12</td>\n",
       "      <td>-1.0</td>\n",
       "      <td>-1.0</td>\n",
       "      <td>(63,)</td>\n",
       "      <td>()</td>\n",
       "      <td>slice(0, 12, None)</td>\n",
       "      <td>slice(12, 42, None)</td>\n",
       "      <td>(-1, 0, 1, 2, 3, 4, 5, 6, 7, 8, 9, 10)</td>\n",
       "      <td>(11, 12, 13, 14, 15, 16, 17, 18, 19, 20, 21, 2...</td>\n",
       "      <td>1</td>\n",
       "      <td>0</td>\n",
       "      <td>()</td>\n",
       "      <td>(]],)</td>\n",
       "      <td>St@rt ' ' ' john logie baird ' ' ' of scotland</td>\n",
       "      <td>( [[ university of glasgow ]] ) was the first ...</td>\n",
       "      <td>-99</td>\n",
       "    </tr>\n",
       "    <tr>\n",
       "      <th>3</th>\n",
       "      <td>50.0</td>\n",
       "      <td>55.0</td>\n",
       "      <td>26</td>\n",
       "      <td>32</td>\n",
       "      <td>27.0</td>\n",
       "      <td>31.0</td>\n",
       "      <td>(64, 65, 66, 67, 68, 69)</td>\n",
       "      <td>(26, 27, 28, 29, 30)</td>\n",
       "      <td>slice(0, 27, None)</td>\n",
       "      <td>slice(32, 42, None)</td>\n",
       "      <td>(-1, 0, 1, 2, 3, 4, 5, 6, 7, 8, 9, 10, 11, 12,...</td>\n",
       "      <td>(31, 32, 33, 34, 35, 36, 37, 38, 39, 40)</td>\n",
       "      <td>6</td>\n",
       "      <td>5</td>\n",
       "      <td>((, which, see, ), in)</td>\n",
       "      <td>(,, a, device, he, presented, to)</td>\n",
       "      <td>St@rt ' ' ' john logie baird ' ' ' of scotland...</td>\n",
       "      <td>the mid 1920s ( [[ 1926 ]] ? ) .</td>\n",
       "      <td>-99</td>\n",
       "    </tr>\n",
       "    <tr>\n",
       "      <th>4</th>\n",
       "      <td>57.0</td>\n",
       "      <td>73.0</td>\n",
       "      <td>32</td>\n",
       "      <td>36</td>\n",
       "      <td>33.0</td>\n",
       "      <td>35.0</td>\n",
       "      <td>(70, 71, 72, 73, 74, 75, 76, 77, 78, 79, 80, 8...</td>\n",
       "      <td>(32, 33, 34)</td>\n",
       "      <td>slice(2, 33, None)</td>\n",
       "      <td>slice(36, 42, None)</td>\n",
       "      <td>(1, 2, 3, 4, 5, 6, 7, 8, 9, 10, 11, 12, 13, 14...</td>\n",
       "      <td>(35, 36, 37, 38, 39, 40)</td>\n",
       "      <td>17</td>\n",
       "      <td>3</td>\n",
       "      <td>(mid, 1920s, ()</td>\n",
       "      <td>([[, royal, institute, ]], and, a, reporter, f...</td>\n",
       "      <td>' ' john logie baird ' ' ' of scotland ( [[ un...</td>\n",
       "      <td>[[ 1926 ]] ? ) .</td>\n",
       "      <td>-99</td>\n",
       "    </tr>\n",
       "  </tbody>\n",
       "</table>\n",
       "</div>"
      ],
      "text/plain": [
       "                                                                                ins_start_pos  \\\n",
       "from revision id to revision id timestamp           timegap           editor                    \n",
       "203693           203699         2002-09-08 14:05:32 194 days 22:14:17 3646   0           10.0   \n",
       "                                                                             1           32.0   \n",
       "                                                                             2           34.0   \n",
       "                                                                             3           50.0   \n",
       "                                                                             4           57.0   \n",
       "\n",
       "                                                                                ins_end_pos  \\\n",
       "from revision id to revision id timestamp           timegap           editor                  \n",
       "203693           203699         2002-09-08 14:05:32 194 days 22:14:17 3646   0         30.0   \n",
       "                                                                             1         32.0   \n",
       "                                                                             2         34.0   \n",
       "                                                                             3         55.0   \n",
       "                                                                             4         73.0   \n",
       "\n",
       "                                                                                left_neigh  \\\n",
       "from revision id to revision id timestamp           timegap           editor                 \n",
       "203693           203699         2002-09-08 14:05:32 194 days 22:14:17 3646   0           9   \n",
       "                                                                             1          10   \n",
       "                                                                             2          11   \n",
       "                                                                             3          26   \n",
       "                                                                             4          32   \n",
       "\n",
       "                                                                                right_neigh  \\\n",
       "from revision id to revision id timestamp           timegap           editor                  \n",
       "203693           203699         2002-09-08 14:05:32 194 days 22:14:17 3646   0           10   \n",
       "                                                                             1           11   \n",
       "                                                                             2           12   \n",
       "                                                                             3           32   \n",
       "                                                                             4           36   \n",
       "\n",
       "                                                                                del_start_pos  \\\n",
       "from revision id to revision id timestamp           timegap           editor                    \n",
       "203693           203699         2002-09-08 14:05:32 194 days 22:14:17 3646   0           -1.0   \n",
       "                                                                             1           -1.0   \n",
       "                                                                             2           -1.0   \n",
       "                                                                             3           27.0   \n",
       "                                                                             4           33.0   \n",
       "\n",
       "                                                                                del_end_pos  \\\n",
       "from revision id to revision id timestamp           timegap           editor                  \n",
       "203693           203699         2002-09-08 14:05:32 194 days 22:14:17 3646   0         -1.0   \n",
       "                                                                             1         -1.0   \n",
       "                                                                             2         -1.0   \n",
       "                                                                             3         31.0   \n",
       "                                                                             4         35.0   \n",
       "\n",
       "                                                                                                                       ins_tokens  \\\n",
       "from revision id to revision id timestamp           timegap           editor                                                        \n",
       "203693           203699         2002-09-08 14:05:32 194 days 22:14:17 3646   0  (41, 42, 43, 44, 45, 46, 47, 48, 49, 50, 51, 5...   \n",
       "                                                                             1                                              (62,)   \n",
       "                                                                             2                                              (63,)   \n",
       "                                                                             3                           (64, 65, 66, 67, 68, 69)   \n",
       "                                                                             4  (70, 71, 72, 73, 74, 75, 76, 77, 78, 79, 80, 8...   \n",
       "\n",
       "                                                                                          del_tokens  \\\n",
       "from revision id to revision id timestamp           timegap           editor                           \n",
       "203693           203699         2002-09-08 14:05:32 194 days 22:14:17 3646   0                    ()   \n",
       "                                                                             1                    ()   \n",
       "                                                                             2                    ()   \n",
       "                                                                             3  (26, 27, 28, 29, 30)   \n",
       "                                                                             4          (32, 33, 34)   \n",
       "\n",
       "                                                                                  left_neigh_slice  \\\n",
       "from revision id to revision id timestamp           timegap           editor                         \n",
       "203693           203699         2002-09-08 14:05:32 194 days 22:14:17 3646   0  slice(0, 10, None)   \n",
       "                                                                             1  slice(0, 11, None)   \n",
       "                                                                             2  slice(0, 12, None)   \n",
       "                                                                             3  slice(0, 27, None)   \n",
       "                                                                             4  slice(2, 33, None)   \n",
       "\n",
       "                                                                                  right_neigh_slice  \\\n",
       "from revision id to revision id timestamp           timegap           editor                          \n",
       "203693           203699         2002-09-08 14:05:32 194 days 22:14:17 3646   0  slice(10, 41, None)   \n",
       "                                                                             1  slice(11, 42, None)   \n",
       "                                                                             2  slice(12, 42, None)   \n",
       "                                                                             3  slice(32, 42, None)   \n",
       "                                                                             4  slice(36, 42, None)   \n",
       "\n",
       "                                                                                                                       left_token  \\\n",
       "from revision id to revision id timestamp           timegap           editor                                                        \n",
       "203693           203699         2002-09-08 14:05:32 194 days 22:14:17 3646   0                    (-1, 0, 1, 2, 3, 4, 5, 6, 7, 8)   \n",
       "                                                                             1                 (-1, 0, 1, 2, 3, 4, 5, 6, 7, 8, 9)   \n",
       "                                                                             2             (-1, 0, 1, 2, 3, 4, 5, 6, 7, 8, 9, 10)   \n",
       "                                                                             3  (-1, 0, 1, 2, 3, 4, 5, 6, 7, 8, 9, 10, 11, 12,...   \n",
       "                                                                             4  (1, 2, 3, 4, 5, 6, 7, 8, 9, 10, 11, 12, 13, 14...   \n",
       "\n",
       "                                                                                                                      right_token  \\\n",
       "from revision id to revision id timestamp           timegap           editor                                                        \n",
       "203693           203699         2002-09-08 14:05:32 194 days 22:14:17 3646   0  (9, 10, 11, 12, 13, 14, 15, 16, 17, 18, 19, 20...   \n",
       "                                                                             1  (10, 11, 12, 13, 14, 15, 16, 17, 18, 19, 20, 2...   \n",
       "                                                                             2  (11, 12, 13, 14, 15, 16, 17, 18, 19, 20, 21, 2...   \n",
       "                                                                             3           (31, 32, 33, 34, 35, 36, 37, 38, 39, 40)   \n",
       "                                                                             4                           (35, 36, 37, 38, 39, 40)   \n",
       "\n",
       "                                                                                ins_length  \\\n",
       "from revision id to revision id timestamp           timegap           editor                 \n",
       "203693           203699         2002-09-08 14:05:32 194 days 22:14:17 3646   0          21   \n",
       "                                                                             1           1   \n",
       "                                                                             2           1   \n",
       "                                                                             3           6   \n",
       "                                                                             4          17   \n",
       "\n",
       "                                                                                del_length  \\\n",
       "from revision id to revision id timestamp           timegap           editor                 \n",
       "203693           203699         2002-09-08 14:05:32 194 days 22:14:17 3646   0           0   \n",
       "                                                                             1           0   \n",
       "                                                                             2           0   \n",
       "                                                                             3           5   \n",
       "                                                                             4           3   \n",
       "\n",
       "                                                                                     del_string_tokens  \\\n",
       "from revision id to revision id timestamp           timegap           editor                             \n",
       "203693           203699         2002-09-08 14:05:32 194 days 22:14:17 3646   0                      ()   \n",
       "                                                                             1                      ()   \n",
       "                                                                             2                      ()   \n",
       "                                                                             3  ((, which, see, ), in)   \n",
       "                                                                             4         (mid, 1920s, ()   \n",
       "\n",
       "                                                                                                                ins_string_tokens  \\\n",
       "from revision id to revision id timestamp           timegap           editor                                                        \n",
       "203693           203699         2002-09-08 14:05:32 194 days 22:14:17 3646   0  ((, b, ., [[, august, 14, ]], [[, 1888, ]], ,,...   \n",
       "                                                                             1                                              ([[,)   \n",
       "                                                                             2                                              (]],)   \n",
       "                                                                             3                  (,, a, device, he, presented, to)   \n",
       "                                                                             4  ([[, royal, institute, ]], and, a, reporter, f...   \n",
       "\n",
       "                                                                                                                     left_context  \\\n",
       "from revision id to revision id timestamp           timegap           editor                                                        \n",
       "203693           203699         2002-09-08 14:05:32 194 days 22:14:17 3646   0                 St@rt ' ' ' john logie baird ' ' '   \n",
       "                                                                             1              St@rt ' ' ' john logie baird ' ' ' of   \n",
       "                                                                             2     St@rt ' ' ' john logie baird ' ' ' of scotland   \n",
       "                                                                             3  St@rt ' ' ' john logie baird ' ' ' of scotland...   \n",
       "                                                                             4  ' ' john logie baird ' ' ' of scotland ( [[ un...   \n",
       "\n",
       "                                                                                                                    right_context  \\\n",
       "from revision id to revision id timestamp           timegap           editor                                                        \n",
       "203693           203699         2002-09-08 14:05:32 194 days 22:14:17 3646   0  of scotland ( [[ university of glasgow ]] ) wa...   \n",
       "                                                                             1  scotland ( [[ university of glasgow ]] ) was t...   \n",
       "                                                                             2  ( [[ university of glasgow ]] ) was the first ...   \n",
       "                                                                             3                   the mid 1920s ( [[ 1926 ]] ? ) .   \n",
       "                                                                             4                                   [[ 1926 ]] ? ) .   \n",
       "\n",
       "                                                                                bykau_cluster  \n",
       "from revision id to revision id timestamp           timegap           editor                   \n",
       "203693           203699         2002-09-08 14:05:32 194 days 22:14:17 3646   0            -99  \n",
       "                                                                             1            -99  \n",
       "                                                                             2            -99  \n",
       "                                                                             3            -99  \n",
       "                                                                             4            -99  "
      ]
     },
     "execution_count": 4,
     "metadata": {},
     "output_type": "execute_result"
    }
   ],
   "source": [
    "article_name = \"John_Logie_Baird\"\n",
    "change_object_dir =  \"../data/change objects/\"\n",
    "content_dir = \"../data/content/\"\n",
    "filename =  f\"{article_name}_change.h5\"\n",
    "change_object_file = os.path.join(change_object_dir, filename)\n",
    "filename = article_name + \".h5\"\n",
    "filepath = os.path.join(content_dir, filename)\n",
    "with pd.HDFStore(filepath, 'r') as store:\n",
    "    token_string_df = store.get(\"all_tokens\")\n",
    "\n",
    "token_string_df = token_string_df.set_index(\"token_id\")[\"str\"]\n",
    "token_string_df[-1] = \"St@rt\"\n",
    "token_string_df[-2] = \"$nd\"\n",
    "\n",
    "\n",
    "if os.path.exists(change_object_file):\n",
    "    with pd.HDFStore(change_object_file, 'r') as store:\n",
    "        change_object_dataframe = store.get(\"data\")\n",
    "else:\n",
    "    print(\"file do not exist\")\n",
    "change_object_dataframe.shape\n",
    "\n",
    "\n",
    "change_object_dataframe[\"ins_length\"] = change_object_dataframe[\"ins_tokens\"].str.len()\n",
    "change_object_dataframe[\"del_length\"] = change_object_dataframe[\"del_tokens\"].str.len()\n",
    "\n",
    "change_object_dataframe[\"del_string_tokens\"] = change_object_dataframe[\"del_tokens\"].apply(\n",
    "    lambda x:  tuple(token_string_df[np.array(x)].tolist()))\n",
    "\n",
    "change_object_dataframe[\"ins_string_tokens\"] = change_object_dataframe[\"ins_tokens\"].apply(\n",
    "    lambda x:  tuple(token_string_df[np.array(x)].tolist()))\n",
    "\n",
    "change_object_dataframe[\"left_context\"] = change_object_dataframe[\"left_token\"].apply(\n",
    "    lambda x:  tuple(token_string_df[np.array(x)].tolist())).str.join(\" \")\n",
    "\n",
    "\n",
    "change_object_dataframe[\"right_context\"] = change_object_dataframe[\"right_token\"].apply(\n",
    "    lambda x:  tuple(token_string_df[np.array(x)].tolist())).str.join(\" \")\n",
    "\n",
    "change_object_dataframe[\"bykau_cluster\"] = pd.Series(-99,index=change_object_dataframe.index)\n",
    "\n",
    "# change_object_dataframe = change_object_dataframe[[\"left_context\",\"del_string_tokens\",\"ins_string_tokens\", \"right_context\", \n",
    "#                                                    \"ins_length\", \"del_length\", \"bykau_cluster\" ]]\n",
    "change_object_dataframe.head()"
   ]
  },
  {
   "cell_type": "markdown",
   "metadata": {},
   "source": [
    "## Reduce the change object."
   ]
  },
  {
   "cell_type": "code",
   "execution_count": null,
   "metadata": {},
   "outputs": [],
   "source": [
    "ins_and_del = change_object_dataframe[(change_object_dataframe[\"ins_string_tokens\"]!=()) & (change_object_dataframe[\"del_string_tokens\"]!=())]\n",
    "display(ins_and_del.shape)"
   ]
  },
  {
   "cell_type": "markdown",
   "metadata": {},
   "source": [
    "### Removing change object with insert or delete token size more than five."
   ]
  },
  {
   "cell_type": "code",
   "execution_count": null,
   "metadata": {},
   "outputs": [],
   "source": [
    "reduced_ins_and_del = ins_and_del[~((ins_and_del[\"ins_length\"] >5 ) | (ins_and_del[\"del_length\"] >5) )]\n",
    "reduced_ins_and_del.shape"
   ]
  },
  {
   "cell_type": "code",
   "execution_count": null,
   "metadata": {},
   "outputs": [],
   "source": [
    "reduced_ins_and_del.reset_index(drop=True)[[\"ins_string_tokens\", \"del_string_tokens\"]].sample(3)"
   ]
  },
  {
   "cell_type": "markdown",
   "metadata": {},
   "source": [
    "### Removing low user support tokens"
   ]
  },
  {
   "cell_type": "code",
   "execution_count": null,
   "metadata": {},
   "outputs": [],
   "source": [
    "bykau_change_object = reduced_ins_and_del.groupby(\"ins_string_tokens\").filter(lambda x : x.index.get_level_values(\"editor\").nunique()>=2)\n",
    "bykau_change_object = bykau_change_object.groupby(\"del_string_tokens\").filter(lambda x : x.index.get_level_values(\"editor\").nunique()>=2)\n",
    "bykau_change_object.shape"
   ]
  },
  {
   "cell_type": "markdown",
   "metadata": {},
   "source": [
    "### Clustering using jaccard"
   ]
  },
  {
   "cell_type": "markdown",
   "metadata": {},
   "source": [
    "##### Defining jaccard similarity function."
   ]
  },
  {
   "cell_type": "code",
   "execution_count": 5,
   "metadata": {},
   "outputs": [],
   "source": [
    "r_threshold = 8\n",
    "cutoff_threshold = 0.75"
   ]
  },
  {
   "cell_type": "code",
   "execution_count": 6,
   "metadata": {},
   "outputs": [
    {
     "name": "stdout",
     "output_type": "stream",
     "text": [
      "CPU times: user 4min 9s, sys: 916 ms, total: 4min 10s\n",
      "Wall time: 4min 9s\n"
     ]
    }
   ],
   "source": [
    "%%time\n",
    "# edit_tokens = change_object_dataframe[\"ins_tokens\"] + change_object_dataframe[\"del_tokens\"]\n",
    "left_neighbours = change_object_dataframe[\"left_context\"].apply(lambda x: x.split(\" \")[-r_threshold:])\n",
    "right_neighbours = change_object_dataframe[\"right_context\"].apply(lambda x: x.split(\" \")[:r_threshold])\n",
    "neighbour_tokens = left_neighbours + right_neighbours\n",
    "\n",
    "# bykau_change_object[\"edit_tokens\"] = edit_tokens.apply(lambda x: np.unique(x))\n",
    "neighbour_tokens_set = neighbour_tokens.apply(lambda x: np.unique(x))\n",
    "neighbour_vec = MultiLabelBinarizer().fit_transform(neighbour_tokens_set)\n",
    "\n",
    "db = DBSCAN(eps=cutoff_threshold, min_samples=5, metric='jaccard').fit(neighbour_vec)\n",
    "change_object_dataframe.loc[change_object_dataframe.index,\"bykau_cluster\"]= db.labels_"
   ]
  },
  {
   "cell_type": "markdown",
   "metadata": {},
   "source": [
    "#### Saving change object and its clusters"
   ]
  },
  {
   "cell_type": "code",
   "execution_count": 17,
   "metadata": {},
   "outputs": [],
   "source": [
    "bykau_dir =  \"../data/bykau_change_object/\"\n",
    "filename =  f\"{article_name}_without_optimization.h5\"\n",
    "\n",
    "change_object_file = os.path.join(bykau_dir, filename)\n",
    "with pd.HDFStore(change_object_file, 'w') as store:\n",
    "    store.put(\"data\", change_object_dataframe[\"bykau_cluster\"],)"
   ]
  },
  {
   "cell_type": "markdown",
   "metadata": {},
   "source": [
    "### Uncomment for seeing the content of each cluster in an ipywidget User interface"
   ]
  },
  {
   "cell_type": "code",
   "execution_count": 8,
   "metadata": {},
   "outputs": [],
   "source": [
    "# repers_first =  change_object_dataframe.groupby(\"bykau_cluster\")[[\"left_context\",\"del_string_tokens\", \"ins_string_tokens\", \"right_context\"]].apply(lambda x: x.style.render())\n",
    "# @interact( clusters_html=fixed(repers_first), group=change_object_dataframe[\"bykau_cluster\"].unique().tolist())\n",
    "# def display_clusters(clusters_html, group):\n",
    "#      return display(HTML(clusters_html.loc[group]))"
   ]
  },
  {
   "cell_type": "markdown",
   "metadata": {},
   "source": [
    "#### reading the annotation and comparing"
   ]
  },
  {
   "cell_type": "code",
   "execution_count": 9,
   "metadata": {},
   "outputs": [],
   "source": [
    "def token_in_gap(ann, gap):\n",
    "    context_gap = gap.loc[ann[['revid_ctxt', 'rev_id']]]\n",
    "    clusters = context_gap.loc[ context_gap[\"token_id\"].apply(\n",
    "            lambda x: ann[\"token_id\"] in x), [\"bykau_cluster\"]].values\n",
    "    if clusters.size >0:\n",
    "            clusters = pd.Series(clusters[0],index=[\"bykau_cluster\",])\n",
    "    else:\n",
    "        clusters = pd.Series([-10], index=[\"bykau_cluster\",])\n",
    "    return clusters"
   ]
  },
  {
   "cell_type": "code",
   "execution_count": 10,
   "metadata": {},
   "outputs": [],
   "source": [
    "file_name = article_name + \"_FULL.csv\"\n",
    "annotation_dir = \"../data/annotation/\"\n",
    "full_file_path = os.path.join(annotation_dir, file_name)\n",
    "annotation_df = pd.read_csv(full_file_path)\n",
    "\n",
    "true_labels = annotation_df[[ \"nationality\", \"birth_place\",]]\n",
    "annotation_df = annotation_df[[\"revid_ctxt\", \"rev_id\", \"token_id\",]] \n"
   ]
  },
  {
   "cell_type": "code",
   "execution_count": 11,
   "metadata": {},
   "outputs": [],
   "source": [
    "# insert array is always done in to revision so taking it and leaving other change object where \n",
    "ins_array = change_object_dataframe.reset_index().loc[\n",
    "    change_object_dataframe[\"ins_start_pos\"].values != -1, \n",
    "                  [\"to revision id\",\"ins_tokens\", 'to revision id',\"bykau_cluster\"]].values\n",
    "\n",
    "# delete array is always done in from revision so taking it and leaving other change object where delete does not come.\n",
    "del_array = change_object_dataframe.reset_index().loc[\n",
    "    change_object_dataframe[\"del_start_pos\"].values != -1, \n",
    "                  [\"from revision id\",\"del_tokens\", 'to revision id',\"bykau_cluster\"]].values\n",
    "\n",
    "gap_array = np.concatenate([ins_array,del_array], axis=0)\n",
    "gap_df = pd.DataFrame(gap_array,columns= [\"revid_ctxt\", \"token_id\", \"rev_id\",\"bykau_cluster\"])\n",
    "gap_df = gap_df.set_index(['revid_ctxt', 'rev_id'])"
   ]
  },
  {
   "cell_type": "code",
   "execution_count": 12,
   "metadata": {},
   "outputs": [],
   "source": [
    "# Finding the tokens who were in the gap.\n",
    "annotation_df[\"bykau_cluster\"] = annotation_df.apply(token_in_gap, axis=1, args=(gap_df,))"
   ]
  },
  {
   "cell_type": "code",
   "execution_count": 13,
   "metadata": {},
   "outputs": [],
   "source": [
    "nationality_cluster = np.zeros((true_labels.shape[0]))\n",
    "nationality_cluster[true_labels[\"nationality\"].str.strip() == \"Y\"] = 1"
   ]
  },
  {
   "cell_type": "code",
   "execution_count": 14,
   "metadata": {},
   "outputs": [
    {
     "name": "stderr",
     "output_type": "stream",
     "text": [
      "/home/ubuntu/anaconda3/envs/wrod2vec/lib/python3.6/site-packages/sklearn/metrics/cluster/supervised.py:732: FutureWarning: The behavior of AMI will change in version 0.22. To match the behavior of 'v_measure_score', AMI will use average_method='arithmetic' by default.\n",
      "  FutureWarning)\n",
      "/home/ubuntu/anaconda3/envs/wrod2vec/lib/python3.6/site-packages/sklearn/metrics/cluster/supervised.py:844: FutureWarning: The behavior of NMI will change in version 0.22. To match the behavior of 'v_measure_score', NMI will use average_method='arithmetic' by default.\n",
      "  FutureWarning)\n"
     ]
    },
    {
     "data": {
      "text/plain": [
       "rand          -0.001377\n",
       "mutual_info   -0.000504\n",
       "dtype: float64"
      ]
     },
     "execution_count": 14,
     "metadata": {},
     "output_type": "execute_result"
    }
   ],
   "source": [
    "evaluation_score = pd.Series(index=[\"rand\", \"mutual_info\",])\n",
    "evaluation_score[\"rand\"] = adjusted_rand_score( annotation_df[\"bykau_cluster\"], nationality_cluster)\n",
    "\n",
    "evaluation_score[\"mutual_info\"] = adjusted_mutual_info_score(nationality_cluster, \n",
    "                                            annotation_df[\"bykau_cluster\"]  )\n",
    "normalized_mutual_info_score(nationality_cluster, annotation_df[\"bykau_cluster\"])\n",
    "evaluation_score"
   ]
  },
  {
   "cell_type": "code",
   "execution_count": 15,
   "metadata": {},
   "outputs": [],
   "source": [
    "both_cluster = np.zeros((true_labels.shape[0]))\n",
    "both_cluster[true_labels[\"nationality\"].str.strip() == \"Y\"] = 1\n",
    "both_cluster[true_labels[\"birth_place\"].str.strip() == \"Y\"] = 2"
   ]
  },
  {
   "cell_type": "code",
   "execution_count": 16,
   "metadata": {},
   "outputs": [
    {
     "name": "stderr",
     "output_type": "stream",
     "text": [
      "/home/ubuntu/anaconda3/envs/wrod2vec/lib/python3.6/site-packages/sklearn/metrics/cluster/supervised.py:732: FutureWarning: The behavior of AMI will change in version 0.22. To match the behavior of 'v_measure_score', AMI will use average_method='arithmetic' by default.\n",
      "  FutureWarning)\n"
     ]
    },
    {
     "data": {
      "text/plain": [
       "rand          -0.000885\n",
       "mutual_info   -0.000371\n",
       "dtype: float64"
      ]
     },
     "execution_count": 16,
     "metadata": {},
     "output_type": "execute_result"
    }
   ],
   "source": [
    "evaluation_score = pd.Series(index=[\"rand\", \"mutual_info\",])\n",
    "evaluation_score[\"rand\"] = adjusted_rand_score( annotation_df[\"bykau_cluster\"], both_cluster)\n",
    "\n",
    "evaluation_score[\"mutual_info\"] = adjusted_mutual_info_score(both_cluster, \n",
    "                                            annotation_df[\"bykau_cluster\"]  )\n",
    "\n",
    "evaluation_score"
   ]
  },
  {
   "cell_type": "code",
   "execution_count": null,
   "metadata": {},
   "outputs": [],
   "source": []
  }
 ],
 "metadata": {
  "kernelspec": {
   "display_name": "Python 3",
   "language": "python",
   "name": "python3"
  },
  "language_info": {
   "codemirror_mode": {
    "name": "ipython",
    "version": 3
   },
   "file_extension": ".py",
   "mimetype": "text/x-python",
   "name": "python",
   "nbconvert_exporter": "python",
   "pygments_lexer": "ipython3",
   "version": "3.6.7"
  }
 },
 "nbformat": 4,
 "nbformat_minor": 2
}
