{
 "cells": [
  {
   "cell_type": "code",
   "execution_count": 1,
   "metadata": {},
   "outputs": [],
   "source": [
    "import requests\n",
    "import pandas as pd\n",
    "import os\n",
    "from pathlib import Path\n",
    "import numpy as np"
   ]
  },
  {
   "cell_type": "code",
   "execution_count": 22,
   "metadata": {},
   "outputs": [],
   "source": [
    "baseurl = \"https://api.wikiwho.net/en/api/v1.0.0-beta/\"\n",
    "content = \"Mama's_Family\"\n",
    "def _url(url, path):\n",
    "    return url + path\n",
    "revisions_url = _url( baseurl,\"rev_ids/\")\n",
    "mama_revisions_url = _url(revisions_url, content+\"/\")\n",
    "params = {\"editor\": \"true\", \"timestamp\": \"true\"}\n",
    "response = requests.get(mama_revisions_url, params= params)\n",
    "revisons = pd.DataFrame(response.json()[\"revisions\"])"
   ]
  },
  {
   "cell_type": "code",
   "execution_count": 23,
   "metadata": {},
   "outputs": [
    {
     "data": {
      "text/html": [
       "<div>\n",
       "<style scoped>\n",
       "    .dataframe tbody tr th:only-of-type {\n",
       "        vertical-align: middle;\n",
       "    }\n",
       "\n",
       "    .dataframe tbody tr th {\n",
       "        vertical-align: top;\n",
       "    }\n",
       "\n",
       "    .dataframe thead th {\n",
       "        text-align: right;\n",
       "    }\n",
       "</style>\n",
       "<table border=\"1\" class=\"dataframe\">\n",
       "  <thead>\n",
       "    <tr style=\"text-align: right;\">\n",
       "      <th></th>\n",
       "      <th>editor</th>\n",
       "      <th>id</th>\n",
       "      <th>timestamp</th>\n",
       "    </tr>\n",
       "  </thead>\n",
       "  <tbody>\n",
       "    <tr>\n",
       "      <th>0</th>\n",
       "      <td>0|172.194.5.181</td>\n",
       "      <td>3317807</td>\n",
       "      <td>2004-04-24T07:40:27Z</td>\n",
       "    </tr>\n",
       "    <tr>\n",
       "      <th>1</th>\n",
       "      <td>0|172.194.5.181</td>\n",
       "      <td>3317866</td>\n",
       "      <td>2004-04-24T07:49:11Z</td>\n",
       "    </tr>\n",
       "    <tr>\n",
       "      <th>2</th>\n",
       "      <td>41723</td>\n",
       "      <td>3317921</td>\n",
       "      <td>2004-04-24T07:58:03Z</td>\n",
       "    </tr>\n",
       "    <tr>\n",
       "      <th>3</th>\n",
       "      <td>44476</td>\n",
       "      <td>3317993</td>\n",
       "      <td>2004-04-24T08:09:12Z</td>\n",
       "    </tr>\n",
       "    <tr>\n",
       "      <th>4</th>\n",
       "      <td>41723</td>\n",
       "      <td>3493274</td>\n",
       "      <td>2004-04-24T08:21:07Z</td>\n",
       "    </tr>\n",
       "  </tbody>\n",
       "</table>\n",
       "</div>"
      ],
      "text/plain": [
       "            editor       id             timestamp\n",
       "0  0|172.194.5.181  3317807  2004-04-24T07:40:27Z\n",
       "1  0|172.194.5.181  3317866  2004-04-24T07:49:11Z\n",
       "2            41723  3317921  2004-04-24T07:58:03Z\n",
       "3            44476  3317993  2004-04-24T08:09:12Z\n",
       "4            41723  3493274  2004-04-24T08:21:07Z"
      ]
     },
     "execution_count": 23,
     "metadata": {},
     "output_type": "execute_result"
    }
   ],
   "source": [
    "revisons.head()"
   ]
  },
  {
   "cell_type": "code",
   "execution_count": 24,
   "metadata": {},
   "outputs": [
    {
     "data": {
      "text/plain": [
       "count    2.498000e+03\n",
       "mean     3.350559e+08\n",
       "std      2.327045e+08\n",
       "min      3.317807e+06\n",
       "25%      1.352418e+08\n",
       "50%      2.149066e+08\n",
       "75%      5.454177e+08\n",
       "max      8.181112e+08\n",
       "Name: id, dtype: float64"
      ]
     },
     "execution_count": 24,
     "metadata": {},
     "output_type": "execute_result"
    }
   ],
   "source": [
    "revisons[\"id\"].describe()"
   ]
  },
  {
   "cell_type": "code",
   "execution_count": 25,
   "metadata": {},
   "outputs": [
    {
     "name": "stdout",
     "output_type": "stream",
     "text": [
      "   in  o_rev_id        out str  token_id  inserted  deleted\n",
      "0  []   3317807  [3317921]  an         0      True    False\n",
      "1  []   3317807  [3317921]  80         1      True    False\n",
      "\n",
      "\n",
      "   in  o_rev_id        out str  token_id  inserted  deleted\n",
      "0  []   3317807  [3317921]  an         0     False     True\n",
      "1  []   3317807  [3317921]  80         1     False     True\n"
     ]
    }
   ],
   "source": [
    "filename = content + \".h5\"\n",
    "with pd.HDFStore( filename, 'r') as store1:\n",
    "    df_3317807 = store1.get(\"/3317807\")\n",
    "    df_3317866 = store1.get(\"3317866\")\n",
    "    print(df_3317807.head(2))\n",
    "    print(\"\\n\")   \n",
    "    print(df_3317866.head(2))"
   ]
  },
  {
   "cell_type": "code",
   "execution_count": 33,
   "metadata": {},
   "outputs": [
    {
     "data": {
      "text/html": [
       "<div>\n",
       "<style scoped>\n",
       "    .dataframe tbody tr th:only-of-type {\n",
       "        vertical-align: middle;\n",
       "    }\n",
       "\n",
       "    .dataframe tbody tr th {\n",
       "        vertical-align: top;\n",
       "    }\n",
       "\n",
       "    .dataframe thead th {\n",
       "        text-align: right;\n",
       "    }\n",
       "</style>\n",
       "<table border=\"1\" class=\"dataframe\">\n",
       "  <thead>\n",
       "    <tr style=\"text-align: right;\">\n",
       "      <th></th>\n",
       "      <th>in</th>\n",
       "      <th>o_rev_id</th>\n",
       "      <th>out</th>\n",
       "      <th>str</th>\n",
       "      <th>token_id</th>\n",
       "      <th>inserted</th>\n",
       "      <th>deleted</th>\n",
       "    </tr>\n",
       "  </thead>\n",
       "  <tbody>\n",
       "    <tr>\n",
       "      <th>0</th>\n",
       "      <td>[]</td>\n",
       "      <td>3317807</td>\n",
       "      <td>[3317921]</td>\n",
       "      <td>an</td>\n",
       "      <td>0</td>\n",
       "      <td>True</td>\n",
       "      <td>False</td>\n",
       "    </tr>\n",
       "    <tr>\n",
       "      <th>1</th>\n",
       "      <td>[]</td>\n",
       "      <td>3317807</td>\n",
       "      <td>[3317921]</td>\n",
       "      <td>80</td>\n",
       "      <td>1</td>\n",
       "      <td>True</td>\n",
       "      <td>False</td>\n",
       "    </tr>\n",
       "    <tr>\n",
       "      <th>2</th>\n",
       "      <td>[699956455, 700034288]</td>\n",
       "      <td>3317807</td>\n",
       "      <td>[699956446, 699956679]</td>\n",
       "      <td>'</td>\n",
       "      <td>2</td>\n",
       "      <td>True</td>\n",
       "      <td>False</td>\n",
       "    </tr>\n",
       "    <tr>\n",
       "      <th>3</th>\n",
       "      <td>[699956455, 700034288]</td>\n",
       "      <td>3317807</td>\n",
       "      <td>[699956446, 699956679]</td>\n",
       "      <td>s</td>\n",
       "      <td>3</td>\n",
       "      <td>True</td>\n",
       "      <td>False</td>\n",
       "    </tr>\n",
       "    <tr>\n",
       "      <th>4</th>\n",
       "      <td>[]</td>\n",
       "      <td>3317807</td>\n",
       "      <td>[3317921]</td>\n",
       "      <td>u</td>\n",
       "      <td>4</td>\n",
       "      <td>True</td>\n",
       "      <td>False</td>\n",
       "    </tr>\n",
       "  </tbody>\n",
       "</table>\n",
       "</div>"
      ],
      "text/plain": [
       "                       in  o_rev_id                     out str  token_id  \\\n",
       "0                      []   3317807               [3317921]  an         0   \n",
       "1                      []   3317807               [3317921]  80         1   \n",
       "2  [699956455, 700034288]   3317807  [699956446, 699956679]   '         2   \n",
       "3  [699956455, 700034288]   3317807  [699956446, 699956679]   s         3   \n",
       "4                      []   3317807               [3317921]   u         4   \n",
       "\n",
       "   inserted  deleted  \n",
       "0      True    False  \n",
       "1      True    False  \n",
       "2      True    False  \n",
       "3      True    False  \n",
       "4      True    False  "
      ]
     },
     "execution_count": 33,
     "metadata": {},
     "output_type": "execute_result"
    }
   ],
   "source": [
    "filename = content + \".h5\"\n",
    "revisions = []\n",
    "with pd.HDFStore( filename, 'r') as store:\n",
    "    for revision in store.keys():\n",
    "        revisions.append(store.get(str(revision)))\n",
    "revisions[0].head()"
   ]
  },
  {
   "cell_type": "markdown",
   "metadata": {},
   "source": [
    "### code to find epsillon neighbourhood"
   ]
  },
  {
   "cell_type": "code",
   "execution_count": 46,
   "metadata": {},
   "outputs": [],
   "source": [
    "contexts = []\n",
    "subjects = []\n",
    "for revision in revisions:\n",
    "    inserted_array = np.array(revision[\"inserted\"])\n",
    "    inserted_pos = np.argwhere(inserted_array == True)\n",
    "    total_tokens = np.array(revision[\"token_id\"])\n",
    "    total_tokens = total_tokens.reshape(total_tokens.shape[0],1)\n",
    "    inserted_tokens = total_tokens[inserted_pos]\n",
    "\n",
    "    pos = inserted_pos[0][0]\n",
    "    epsilon = 5\n",
    "    context =  np.concatenate((total_tokens[pos - epsilon: pos], total_tokens[pos+1: pos +epsilon]), axis=0)\n",
    "# timing to select concatinate rather than vstack\n",
    "# %timeit np.vstack((total_tokens[pos - epsilon: pos +epsilon], context))\n",
    "# %timeit np.concatenate((total_tokens[pos - epsilon: pos +epsilon], context), axis=0)\n",
    "\n",
    "    for pos in np.nditer(inserted_pos[1:]):\n",
    "        context= np.concatenate((context, total_tokens[pos - epsilon: pos], total_tokens[pos+1: pos + epsilon]), axis=0)\n",
    "    uniq_context = np.unique(context)\n",
    "    contexts.append(uniq_context.reshape(uniq_context.shape[0],1))\n",
    "    subjects.append(inserted_tokens)"
   ]
  },
  {
   "cell_type": "code",
   "execution_count": 112,
   "metadata": {},
   "outputs": [],
   "source": [
    "# %timeit set(np.unique(context))\n",
    "# %timeit set(context.flatten())\n",
    "unique_contexts = np.unique(np.concatenate( contexts, axis=0 ))\n",
    "len(revisions)\n",
    "# X = np.empty((len(revisions), unique_contexts.shape[0]))\n",
    "contexts_vec_1 = np.array(np.sum(( unique_contexts == contexts[0]), axis = 0, keepdims= True))\n",
    "contexts_vec_2 = np.array(np.sum(( unique_contexts == contexts[1]), axis = 0, keepdims= True))\n",
    "contexts_vec_3 = np.array(np.sum(( unique_contexts == contexts[2]), axis = 0, keepdims= True))"
   ]
  },
  {
   "cell_type": "code",
   "execution_count": 118,
   "metadata": {},
   "outputs": [],
   "source": [
    "points = np.concatenate((contexts_vec_1, contexts_vec_2, contexts_vec_3), axis=0)"
   ]
  },
  {
   "cell_type": "markdown",
   "metadata": {},
   "source": [
    "#### Starting clustering below"
   ]
  },
  {
   "cell_type": "code",
   "execution_count": 113,
   "metadata": {},
   "outputs": [],
   "source": [
    "from sklearn.cluster import DBSCAN\n",
    "from sklearn.metrics import pairwise"
   ]
  },
  {
   "cell_type": "code",
   "execution_count": 119,
   "metadata": {},
   "outputs": [
    {
     "name": "stderr",
     "output_type": "stream",
     "text": [
      "/Users/aadilrasheed/anaconda/lib/python3.6/site-packages/sklearn/utils/validation.py:475: DataConversionWarning: Data with input dtype int64 was converted to bool by check_pairwise_arrays.\n",
      "  warnings.warn(msg, DataConversionWarning)\n"
     ]
    }
   ],
   "source": [
    "a = np.array([[1,2,3],[2,3,4]])\n",
    "precomputd_X = pairwise.pairwise_distances(points, metric = \"jaccard\")"
   ]
  },
  {
   "cell_type": "code",
   "execution_count": 122,
   "metadata": {},
   "outputs": [
    {
     "data": {
      "text/plain": [
       "array([0, 0, 0])"
      ]
     },
     "execution_count": 122,
     "metadata": {},
     "output_type": "execute_result"
    }
   ],
   "source": [
    "db = DBSCAN(eps=5, min_samples=1, p=1).fit(precomputd_X)\n",
    "db.labels_"
   ]
  },
  {
   "cell_type": "code",
   "execution_count": 121,
   "metadata": {},
   "outputs": [],
   "source": [
    "unique_clusters = set(db.labels_) - {-1}\n"
   ]
  },
  {
   "cell_type": "code",
   "execution_count": 10,
   "metadata": {},
   "outputs": [
    {
     "name": "stdout",
     "output_type": "stream",
     "text": [
      "mama.h5                           wikiwho.ipynb\r\n",
      "mama_700034288.h5                 wikiwho_context_clustering.ipynb\r\n",
      "test.h5                           wikiwho_neighbour.ipynb\r\n"
     ]
    }
   ],
   "source": [
    "ls"
   ]
  },
  {
   "cell_type": "code",
   "execution_count": null,
   "metadata": {},
   "outputs": [],
   "source": []
  }
 ],
 "metadata": {
  "kernelspec": {
   "display_name": "Python 3",
   "language": "python",
   "name": "python3"
  },
  "language_info": {
   "codemirror_mode": {
    "name": "ipython",
    "version": 3
   },
   "file_extension": ".py",
   "mimetype": "text/x-python",
   "name": "python",
   "nbconvert_exporter": "python",
   "pygments_lexer": "ipython3",
   "version": "3.6.1"
  }
 },
 "nbformat": 4,
 "nbformat_minor": 2
}
