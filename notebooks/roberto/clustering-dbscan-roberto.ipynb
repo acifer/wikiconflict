{
 "cells": [
  {
   "cell_type": "code",
   "execution_count": 2,
   "metadata": {},
   "outputs": [],
   "source": [
    "import sys,os\n",
    "sys.path.append(\"../\")\n",
    "\n",
    "import pandas as pd\n",
    "import numpy as np\n",
    "import pickle\n",
    "from sklearn.cluster import DBSCAN\n",
    "from sklearn.metrics import mutual_info_score\n",
    "\n",
    "import matplotlib.pyplot as plt\n",
    "from IPython.display import HTML\n",
    "from ipywidgets import interact, interactive, fixed, interact_manual\n",
    "import ipywidgets as widgets\n"
   ]
  },
  {
   "cell_type": "code",
   "execution_count": 3,
   "metadata": {},
   "outputs": [],
   "source": [
    "def plot_freq(gap_freq, left_context_freq, right_context_freq, timestamp, relative_position, count = 20):\n",
    "    \n",
    "    fig2, ax = plt.subplots(nrows=1, ncols=1,figsize=(30, 7))\n",
    "    ax.scatter( np.arange(relative_position.shape[0])+1, relative_position, c=\"red\",marker=\"D\", label = \"relative position with respect to timestamp\")\n",
    "    ax.set_title(\"Time scale invariant Plot of timestamp with relative position\")\n",
    "    ax.set_xlabel(\"Position with respect to time\")\n",
    "    ax.set_ylabel(\"relative position \")\n",
    "    ax.set_xticklabels(timestamp)\n",
    "    plt.ylim(0, 1)\n",
    "    ax.legend()\n",
    "    \n",
    "    \n",
    "    fig, axs = plt.subplots(nrows=1, ncols=3,figsize=(30, 10))\n",
    "        \n",
    "    axs[0].barh( left_context_freq.index[:count][::-1], left_context_freq.values[:count][::-1])\n",
    "    axs[0].set_title(\" frequency plot of top 100 words in left context\")\n",
    "    axs[0].set_xlabel(\"frequency\")\n",
    "    axs[0].set_ylabel(\"unique words in left context \")\n",
    "    \n",
    "    axs[1].barh( gap_freq.index[:count][::-1], gap_freq.values[:count][::-1])\n",
    "    axs[1].set_title(\" frequency plot of top 100 words in gap\")\n",
    "    axs[1].set_xlabel(\"frequency\")\n",
    "    axs[1].set_ylabel(\"unique words in gap \")\n",
    "    \n",
    "    axs[2].barh( right_context_freq.index[:count][::-1], right_context_freq.values[:count][::-1])\n",
    "    axs[2].set_title(\" frequency plot of top 100 words in right context\")\n",
    "    axs[2].set_xlabel(\"frequency\")\n",
    "    axs[2].set_ylabel(\"unique words in right context \")\n",
    "#     axs[3].set_xscale(\"log\")\n",
    "#     axs[3].set_yscale(\"log\")\n",
    "\n",
    "\n",
    "    return fig\n",
    "# _= plot_freq(edited_tokens_freq_per_group.loc[1], \n",
    "#             left_context_freq_per_group.loc[1], \n",
    "#             right_context_freq_per_group.loc[1],\n",
    "#             change_grouped_by_tokens[\"timestamp\"].get_group(2).values,\n",
    "#             change_grouped_by_tokens[\"relative_position\"].get_group(2).values\n",
    "#             )\n",
    "\n",
    "def display_article_content(index, change_html_series, edited_tokens_freq_per_group, left_context_freq_per_group, right_context_freq_per_group, change_grouped_by_tokens, out):\n",
    "    with out:\n",
    "        out.clear_output()\n",
    "        \n",
    "    if index in change_html_series.index:\n",
    "        change_html = change_html_series.loc[index]\n",
    "    else:\n",
    "        change_html = \"<p>empty table according to cleanup</p>\"\n",
    "    \n",
    "    if index in left_context_freq_per_group.index:\n",
    "        left_context_freq = left_context_freq_per_group.loc[index]\n",
    "    else:\n",
    "        left_context_freq = pd.Series()\n",
    "    \n",
    "    if index in right_context_freq_per_group.index:\n",
    "        right_context_freq = right_context_freq_per_group.loc[index]\n",
    "    else:\n",
    "        right_context_freq = pd.Series()\n",
    "        \n",
    "    if index in edited_tokens_freq_per_group.index:\n",
    "        edited_tokens_freq = edited_tokens_freq_per_group.loc[index]\n",
    "    else:\n",
    "        edited_tokens_freq = pd.Series()\n",
    "    _ = plot_freq(edited_tokens_freq, left_context_freq, right_context_freq,\n",
    "            change_grouped_by_tokens[\"timestamp\"].get_group(index).values,\n",
    "            change_grouped_by_tokens[\"relative_position\"].get_group(index).values)\n",
    "    with out:\n",
    "        \n",
    "#         display(change_html)\n",
    "        display(f\"Word length distribution plot for cluster with {index}\")\n",
    "#         display(fig)\n",
    "        display(HTML(change_html))\n",
    "\n",
    "def rank_clusters(change_dataframe, cluster_by):\n",
    "\n",
    "    rank_by_size = change_dataframe.groupby(cluster_by).size().sort_values(ascending=False)\n",
    "\n",
    "    rank_by_uniq_editor = change_dataframe.reset_index().groupby(cluster_by)[\"editor\"].nunique().sort_values(ascending=False)\n",
    "\n",
    "    rank_by_period = change_dataframe.reset_index().groupby(cluster_by)[\"timestamp\"].apply(lambda x: x.max() - x.min()).sort_values(ascending=False)\n",
    "\n",
    "    rank_by_rate = change_dataframe.reset_index().groupby(cluster_by)[\"timegap\"].apply(lambda x: x.mean()).sort_values(ascending=False)\n",
    "\n",
    "#     rank_by_uniq_gaptoken = edited_tokens_freq_per_group.groupby(level=0).apply(lambda x: len(x)).sort_values(ascending=False)\n",
    "    return (rank_by_size, rank_by_uniq_editor, rank_by_period, rank_by_rate)\n",
    "\n",
    "def get_cluster_wordfreq(change_dataframe, cluster_by, vocab_set):\n",
    "    \n",
    "    edited_tokens_freq_per_group = change_dataframe.set_index(cluster_by)[\"edited_tokens\"].apply(lambda tokens: tuple(token for token in tokens if token in vocab_set)).groupby(cluster_by).apply(lambda x:  pd.Series(np.concatenate(x.values, axis=0)).value_counts(ascending=False))\n",
    "    left_context_freq_per_group = change_dataframe.set_index(cluster_by)[\"left_token\"].apply(lambda tokens: tuple(token for token in tokens if token in vocab_set)).groupby(cluster_by).apply(lambda x:  pd.Series(np.concatenate(x.values, axis=0)).value_counts(ascending=False))\n",
    "    right_context_freq_per_group = change_dataframe.set_index(cluster_by)[\"right_token\"].apply(lambda tokens: tuple(token for token in tokens if token in vocab_set)).groupby(cluster_by).apply(lambda x:  pd.Series(np.concatenate(x.values, axis=0)).value_counts(ascending=False))\n",
    "    \n",
    "    return (edited_tokens_freq_per_group, left_context_freq_per_group, right_context_freq_per_group)\n",
    "\n",
    "def create_cluster_html_cleaned(change_dataframe, groupby):\n",
    "    \n",
    "\n",
    "    \n",
    "    zero_gap_mask = ((change_dataframe[\"ins_string\"].str.len() + change_dataframe[\"del_string\"].str.len()) == 0).values\n",
    "\n",
    "    change_dataframe = change_dataframe.reset_index().set_index([\"from revision id\",\"to revision id\",\"timestamp\", \"editor\", \"level_5\"])\n",
    "    html_series =  change_dataframe.loc[~zero_gap_mask,:].groupby(cluster_by)[[\"left_cleaned\", \"del_cleaned\", \"ins_cleaned\", \"right_cleaned\"]].apply(lambda x: x.style.render())\n",
    "    change_dataframe = change_dataframe.reset_index().set_index([\"from revision id\", \"editor\", \"level_5\"])\n",
    "    return html_series\n",
    "\n",
    "def create_cluster_html(change_dataframe, groupby):\n",
    "    \n",
    "    \n",
    "    zero_gap_mask = ((change_dataframe[\"ins_string\"].str.len() + change_dataframe[\"del_string\"].str.len()) == 0).values\n",
    "\n",
    "    change_dataframe = change_dataframe.reset_index().set_index([\"from revision id\",\"to revision id\",\"timestamp\", \"editor\", \"level_5\"])\n",
    "    html_series =  change_dataframe.loc[~zero_gap_mask,:].groupby(cluster_by)[[\"left_string\", \"del_string\", \"ins_string\", \"right_string\"]].apply(lambda x: x.style.render())\n",
    "    change_dataframe = change_dataframe.reset_index().set_index([\"from revision id\", \"editor\", \"level_5\"])\n",
    "    \n",
    "    return html_series    "
   ]
  },
  {
   "cell_type": "markdown",
   "metadata": {
    "slideshow": {
     "slide_type": "slide"
    }
   },
   "source": [
    "## Reading the change object and clustering."
   ]
  },
  {
   "cell_type": "code",
   "execution_count": 102,
   "metadata": {},
   "outputs": [],
   "source": [
    "#article_name = \"Violence_against_Muslims_in_India\"\n",
    "#article_name = \"Yugoslavia\"\n",
    "#article_name = 'Truth'\n",
    "#article_name = 'Berlin_Wall'\n",
    "article_name = 'John_Logie_Baird'\n",
    "change_object_dir =  \"../data/change objects/\"\n",
    "\n",
    "change_object_file_name = f\"{article_name}_vec.npz\"\n",
    "filename =  f\"{article_name}_change.h5\"\n",
    "\n",
    "change_object_file = os.path.join(change_object_dir, filename)\n",
    "\n",
    "\n",
    "change_vector_dir = \"../data/change_vector_optimised/\"\n",
    "change_vec_filename = f\"{article_name}_comp_vec.npz\"\n",
    "change_vector_file = os.path.join(change_vector_dir, change_vec_filename)\n",
    "\n",
    "content_dir = \"../data/content/\"\n",
    "len_file = article_name + \"_rev_len.h5\"\n",
    "len_file_path = os.path.join(content_dir, len_file)\n"
   ]
  },
  {
   "cell_type": "code",
   "execution_count": 6,
   "metadata": {},
   "outputs": [],
   "source": [
    "with open(\"../../wordvectors/vocabs.pkl\", \"rb\") as file:\n",
    "    vocabs = pickle.load(file)\n",
    "with open(\"../../wordvectors/filtered_vocabs.pkl\", \"rb\") as file:\n",
    "    filtered_vocabs = pickle.load(file)\n",
    "vocabs_set = set(vocabs)\n",
    "filtered_vocabs_set = set(filtered_vocabs)"
   ]
  },
  {
   "cell_type": "code",
   "execution_count": 103,
   "metadata": {},
   "outputs": [
    {
     "name": "stdout",
     "output_type": "stream",
     "text": [
      "CPU times: user 504 ms, sys: 836 ms, total: 1.34 s\n",
      "Wall time: 1.35 s\n"
     ]
    }
   ],
   "source": [
    "%%time\n",
    "if os.path.exists(change_object_file):\n",
    "    with pd.HDFStore(change_object_file, 'r') as store:\n",
    "        change_object_dataframe = store.get(\"data\")\n",
    "else:\n",
    "    print(\"file do not exist\")\n",
    "    \n",
    "change_object_dataframe[\"edited_tokens\"] = change_object_dataframe[\"ins_tokens\"]  + change_object_dataframe[\"del_tokens\"]\n",
    "rev_len_df = pd.read_hdf(len_file_path, key = \"rev_len\")\n",
    "\n",
    "with open(change_vector_file, \"rb\") as file:\n",
    "    arrays_dict = np.load(file)\n",
    "    clean_weighted_4 = arrays_dict[\"4_clean_weighted\"]\n",
    "#     clean_not_weighted_4 = arrays_dict[\"4_clean_not_weighted\"]\n",
    "#     notclean_weighted_4 = arrays_dict[\"4_notclean_weighted\"]\n",
    "#     notclean_not_weighted_4 = arrays_dict[\"4_notclean_not_weighted\"]\n",
    "    clean_weighted_10 = arrays_dict[\"10_clean_weighted\"]\n",
    "#     clean_not_weighted_10 = arrays_dict[\"10_clean_not_weighted\"]\n",
    "#     notclean_weighted_10 = arrays_dict[\"10_notclean_weighted\"]\n",
    "#     notclean_not_weighted_10 = arrays_dict[\"10_notclean_not_weighted\"]"
   ]
  },
  {
   "cell_type": "markdown",
   "metadata": {},
   "source": [
    "### Make left, ins and delete string for visualisation"
   ]
  },
  {
   "cell_type": "code",
   "execution_count": 104,
   "metadata": {},
   "outputs": [],
   "source": [
    "change_object_dataframe[\"left_string\"] = change_object_dataframe[\"left_token\"].str.join(\" \")\n",
    "change_object_dataframe[\"ins_string\"] = change_object_dataframe[\"ins_tokens\"].str.join(\" \")\n",
    "change_object_dataframe[\"del_string\"] = change_object_dataframe[\"del_tokens\"].str.join(\" \")\n",
    "change_object_dataframe[\"right_string\"] = change_object_dataframe[\"right_token\"].str.join(\" \")\n",
    "\n",
    "change_object_dataframe[\"left_cleaned\"] = change_object_dataframe[\"left_token\"].apply(lambda tokens: tuple(token for token in tokens if token.isalnum())).str.join(\" \")\n",
    "change_object_dataframe[\"del_cleaned\"] = change_object_dataframe[\"ins_tokens\"].apply(lambda tokens: tuple(token for token in tokens if token.isalnum())).str.join(\" \")\n",
    "change_object_dataframe[\"ins_cleaned\"] = change_object_dataframe[\"del_tokens\"].apply(lambda tokens: tuple(token for token in tokens if token.isalnum())).str.join(\" \")\n",
    "change_object_dataframe[\"right_cleaned\"] = change_object_dataframe[\"right_token\"].apply(lambda tokens: tuple(token for token in tokens if token.isalnum())).str.join(\" \")\n",
    "\n"
   ]
  },
  {
   "cell_type": "markdown",
   "metadata": {},
   "source": [
    "## Finding relative positions of change object"
   ]
  },
  {
   "cell_type": "code",
   "execution_count": 105,
   "metadata": {},
   "outputs": [],
   "source": [
    "change_object_dataframe = change_object_dataframe.reset_index().set_index('from revision id')\n",
    "change_object_dataframe = change_object_dataframe.join(rev_len_df.set_index(\"rev_id\"))\n",
    "change_object_dataframe.index.name = \"from revision id\"\n",
    "\n",
    "change_object_dataframe[\"relative_position\"] =(change_object_dataframe[\"left_neigh\"]+1)/(change_object_dataframe[\"length\"])\n",
    "\n",
    "change_object_dataframe = change_object_dataframe.reset_index().set_index([\"from revision id\",\"timestamp\", \"level_5\"])\n",
    "\n"
   ]
  },
  {
   "cell_type": "markdown",
   "metadata": {},
   "source": [
    "\n",
    "## CLustering, Ranking and Visualisation of Different weighting of neighbourhood context vectors.\n",
    "\n",
    "Each change object consists of gap, right context and left context. \n",
    "\n",
    "To cluster similar words together each change object needs to be converted to a vector of fixed dimension. \n",
    "We utilised Word vectors embeddings of 300 dimension to convert change object to change vectors. Each of left and right context is seperately averaged using word embeddings and then concatinated along vector dimension to convert change object as vector of 600 dimension.\n",
    "\n",
    "Vocabulary: Is one million vocabulary from fast text embedding word vectors sorted by their frequency of occurrency in the corpus.\n",
    "\n",
    "**Cleaned** Vocabulary: Is created after cleaning the vocabulary where its top 20 ranked keywords are removed and all the word of size less than 4 is removed.\n",
    "\n",
    "We utlise these two vocabulary and its corresponding vector to average context words and create change vectors. Each word in the context is weighted according to its proximity from gap. Using different weighing mechanism we create 8 word vectors.\n",
    "\n",
    "\n",
    "Following is the description of each of them:-\n",
    "1. clean_weighted_4: Taking four nearby neighbours and intersecting with **Cleaned** vocaboulary. Vectors corresponding to   these context words were averaged after weighting them with inverse of words distance from gap. \n",
    "2. clean_not_weighted_4: Taking four nearby tokens of context and intersecting with **Cleaned** vocabulary.Vectors corresponding to   these context words were averaged without any weighting.\n",
    "3. notclean_weighted_4:   Taking four nearby neighbours and intersecting with vocaboulary. Vectors corresponding to   these context words were averaged after weighting them with inverse of words distance from gap. \n",
    "4. notclean_not_weighted_4:  Taking four nearby tokens of context and intersecting with vocabulary.Vectors corresponding to   these context words were averaged without any weighting. \n",
    "5. clean_weighted_10: Taking ten nearby neighbours and intersecting with **Cleaned** vocaboulary. Vectors corresponding to   these context words were averaged after weighting them with inverse of words distance from gap.\n",
    "6. clean_not_weighted_10: Taking ten nearby tokens of context and intersecting with **Cleaned** vocabulary.Vectors corresponding to   these context words were averaged without any weighting.\n",
    "7. notclean_weighted_10: Taking ten nearby neighbours and intersecting with vocaboulary. Vectors corresponding to   these context words were averaged after weighting them with inverse of words distance from gap.\n",
    "8. notclean_not_weighted_10: Taking ten nearby tokens of context and intersecting with vocabulary.Vectors corresponding to   these context words were averaged without any weighting.\n",
    "\n",
    "\n",
    "\n",
    "\n",
    "---\n",
    "#### Ranking\n",
    "###### Clustered groups were then ranked on following parameters.\n",
    "\n",
    "1.  Size of clusters(rank_by_size): This parameter sorts clusters by total number of data points contained in the cluster.\n",
    "2. No of unique editors is clusters(rank_by_uniq_editor): This prameter sorts cluster by number of unique editors involved in the cluster.\n",
    "3. Total period of cluster(rank_by_period): This sorts clusters based on the period  for which cluster was edited. which is the difference between edit timestamp of first cluster and edit timestamp of last cluster.\n",
    "4. Average edit rate of cluster(rank_by_period): Rate is timegap between two edits. This sorts cluster which has higest mean edit rates to lowest mean edit rates\n",
    "\n",
    "widgets.interact has a __**index=**__ parameter which can alter rankingg of clusters following 4 are the name of ranking parameter corresponding to following 4 given above please change them accordingly. It takes a variable named clean_weighted_4_drop_downs which can alter the ranking basis to use different ranking methods use different index of variable. Following list entails which parameter to use for which ranking\n",
    "\n",
    "1. rank_by_size: clean_weighted_4_drop_downs[0] \n",
    "2. rank_by_uniq_editor: clean_weighted_4_drop_downs[1]\n",
    "3. rank_by_period: clean_weighted_4_drop_downs[2]\n",
    "4. rank_by_rate: clean_weighted_4_drop_downs[3]\n",
    "\n",
    "\n",
    "\n",
    "---\n",
    "#### clustering\n",
    "\n",
    "##### DBSCAN clustering \n",
    "\n",
    "DBSCAN is a clustering method which do not have a fixed amount of clusters. DBSCAN starts with  core points which has minimu number of samples within epsilon distance then it uses epsilon distance to add new points to the clusters. It has has two main parameters minimum number of samples in a cluster and epsilon distance. Both of them control the growth of the clusters. A bigger number of minimum samples will tend to have few clusters as it will be harder to form a cluster with core samples. A smaller epsilon distance will stop addition of new points to core group thus leading to more clusters.\n",
    "\n",
    "\n",
    "\n",
    "Sickit Learns implementation has two parameters eps and min_samples. which corresponds to the minmum distance between two neighbourhood points to be considered in the same neighbourhood. As eps values will start to to increase more points will start getting added in a cluster thus forming bigger clusters.\n",
    "eps: epsilon \n",
    "min_samples: controls the minimum number of points in cluster.\n",
    "\n",
    "\n",
    "dbscan_params has five config stored as can be seen below 0 th is default. -1 gives biggeer and fewer cluster\n",
    "\n",
    "---\n",
    "---\n",
    "#### Visulaisation\n",
    "\n",
    "We have two kinds of plots first is three frequency plots tokens, namely in gap, left frequency and right frequency another is time invariant plot of relative position of change object with respect to its relative occurrence.\n",
    "\n",
    "As we have two kinds of change object vectors one where vocabulary is cleaned another is un cleaned one. We can have two kinds of frequency two one which only plots cleaned token frequency and another which plots uncleaned token frequency. Function get_cluster_wordfreq(\n",
    "    cluster_df, cluster_by, vocabs_set) has three parameter first one is cluster, second one is parameter on which clustering is done last one is vocab set to be considered for frequency. If this vocab set is changed to filtered_vocabs_set only filtered words frequency will be shown.\n",
    "    \n",
    " __CLuster strings:-__ Apart from this we also show all the elements of clusters down. As these change objects are dervied directly from wiki who they are by default not cleaned but we provide two functions one which shows clusters gap and context without removal of any special characters. Second method removes all the wikiwho tokens which is not alphanumeric to increase readability.\n",
    " Two methods are \n",
    " 1.create_cluster_html(non_neg_cluster_df, cluster_by)\n",
    " 2.create_cluster_html_cleaned(non_neg_cluster_df, cluster_by)\n",
    " \n",
    " Both have similar function signature first is default used when change vectors are cleaned second one is used when change vector is not cleaned. But as removal of non alphanumeric has not significance for change vector cleaning. All cluster viewing can be replaced to \n"
   ]
  },
  {
   "cell_type": "markdown",
   "metadata": {},
   "source": [
    "### clean_weighted_4\n",
    "\n",
    "\n",
    "\n"
   ]
  },
  {
   "cell_type": "code",
   "execution_count": 106,
   "metadata": {},
   "outputs": [],
   "source": [
    "## these are the suggested parameters first one gives quite good results last one gives few clusters.\n",
    "dbscan_params =[\n",
    "    { \"eps\": 1.5, \"min_samples\": 5 },\n",
    "    { \"eps\": 1, \"min_samples\": 5 }, \n",
    "    { \"eps\": 1.25, \"min_samples\": 5 },\n",
    "    { \"eps\": .75, \"min_samples\": 5 },  \n",
    "    { \"eps\": .1, \"min_samples\": 7 },\n",
    "    { \"eps\": .001, \"min_samples\": 10 }]"
   ]
  },
  {
   "cell_type": "code",
   "execution_count": 107,
   "metadata": {},
   "outputs": [
    {
     "name": "stdout",
     "output_type": "stream",
     "text": [
      "CPU times: user 2.25 s, sys: 0 ns, total: 2.25 s\n",
      "Wall time: 2.26 s\n"
     ]
    }
   ],
   "source": [
    "%%time \n",
    "\n",
    "params = dbscan_params[0]\n",
    "cluster_by = \"clean_weighted_4\"\n",
    "parmstr = '_'.join(str(x) for x in dbscan_params[0].values())\n",
    "\n",
    "try:\n",
    "    change_object_dataframe[cluster_by] = pd.read_pickle(f'../data/cluster_cache/{article_name}-{cluster_by}-{parmstr}.p')\n",
    "except:\n",
    "    clusters = DBSCAN(**params).fit(clean_weighted_10)\n",
    "    change_object_dataframe[cluster_by] = pd.Series(clusters.labels_, index= change_object_dataframe.index)\n",
    "    change_object_dataframe[cluster_by].to_pickle(f'../data/cluster_cache/{article_name}-{cluster_by}-{parmstr}.p')\n",
    "    \n",
    "\n",
    "non_zero_cluster_mask = (change_object_dataframe[cluster_by] != -1)\n",
    "\n",
    "non_neg_cluster_df = change_object_dataframe.loc[non_zero_cluster_mask, :]\n",
    "\n",
    "rank_by_size, rank_by_uniq_editor, rank_by_period, rank_by_rate = rank_clusters(non_neg_cluster_df, cluster_by)\n",
    "\n",
    "#uncomment the next line and comment the line afer that if you want to see frequency of words without cleaning up\n",
    "# clean_weighted_4_gap_freq, clean_weighted_4_left_context_freq, clean_weighted_4_right_context_freq = get_cluster_wordfreq(non_neg_cluster_df, cluster_by, vocabs_set)\n",
    "clean_weighted_4_gap_freq, clean_weighted_4_left_context_freq, clean_weighted_4_right_context_freq = get_cluster_wordfreq(\n",
    "    non_neg_cluster_df, cluster_by, filtered_vocabs_set)\n",
    "\n",
    "clean_weighted_4_grouped = non_neg_cluster_df.reset_index().groupby(cluster_by)\n",
    "\n",
    "clean_weighted_4_repers = create_cluster_html_cleaned(non_neg_cluster_df, cluster_by)\n",
    "\n",
    "clean_weighted_4_drop_downs = [list(zip(np.arange(rank_by_size.size), rank_by_size.index)), \n",
    "                list(zip(np.arange(rank_by_uniq_editor.size), rank_by_uniq_editor.index)),\n",
    "                list(zip(np.arange(rank_by_period.size), rank_by_period.index)),\n",
    "                list(zip(np.arange(rank_by_rate.size), rank_by_rate.index))]"
   ]
  },
  {
   "cell_type": "code",
   "execution_count": 108,
   "metadata": {},
   "outputs": [
    {
     "name": "stdout",
     "output_type": "stream",
     "text": [
      "outliers: 3097 out of 4900\n",
      "clusters: 172\n"
     ]
    },
    {
     "data": {
      "text/plain": [
       "<matplotlib.axes._subplots.AxesSubplot at 0x7f60dd95de80>"
      ]
     },
     "execution_count": 108,
     "metadata": {},
     "output_type": "execute_result"
    },
    {
     "data": {
      "image/png": "[encoded data removed]",
      "text/plain": [
       "<Figure size 2160x504 with 1 Axes>"
      ]
     },
     "metadata": {},
     "output_type": "display_data"
    }
   ],
   "source": [
    "print(f\"outliers: {sum(~non_zero_cluster_mask)} out of {len(change_object_dataframe)}\")\n",
    "print(f\"clusters: {len(non_neg_cluster_df[cluster_by].unique())}\")\n",
    "\n",
    "non_neg_cluster_df[cluster_by].value_counts().plot( figsize=(30, 7), kind='bar') #.hist(figsize=(30, 7), bins=len(set(non_neg_cluster_df[cluster_by])))"
   ]
  },
  {
   "cell_type": "code",
   "execution_count": 109,
   "metadata": {},
   "outputs": [
    {
     "data": {
      "application/vnd.jupyter.widget-view+json": {
       "model_id": "fbc7e6866d36421c9faea920de9a51e7",
       "version_major": 2,
       "version_minor": 0
      },
      "text/plain": [
       "interactive(children=(Dropdown(description='index', options=((0, 16), (1, 118), (2, 5), (3, 36), (4, 0), (5, 1…"
      ]
     },
     "metadata": {},
     "output_type": "display_data"
    }
   ],
   "source": [
    "out_clean_weighted_4 = widgets.Output(layout={'r': '1px solid black'})\n",
    "caption = widgets.Label(value='Choose parameters:')\n",
    "\n",
    "_=widgets.interact(display_article_content, index=clean_weighted_4_drop_downs[0], \n",
    "                   change_html_series= widgets.fixed(clean_weighted_4_repers),\n",
    "                   edited_tokens_freq_per_group= widgets.fixed(clean_weighted_4_gap_freq), \n",
    "                   left_context_freq_per_group= widgets.fixed(clean_weighted_4_left_context_freq), \n",
    "                   right_context_freq_per_group= widgets.fixed(clean_weighted_4_right_context_freq), \n",
    "                   change_grouped_by_tokens= widgets.fixed(clean_weighted_4_grouped), out= widgets.fixed(out_clean_weighted_4))\n",
    "\n",
    "#out_clean_weighted_4"
   ]
  },
  {
   "cell_type": "markdown",
   "metadata": {},
   "source": [
    "### clean_not_weighted_4\n"
   ]
  },
  {
   "cell_type": "code",
   "execution_count": null,
   "metadata": {},
   "outputs": [],
   "source": [
    "%%time \n",
    "clusters = DBSCAN(**dbscan_params[0], metric=\"minkowski\", p=10).fit(clean_not_weighted_4)\n",
    "\n",
    "cluster_by = \"clean_not_weighted_4\"\n",
    "\n",
    "change_object_dataframe[cluster_by] = pd.Series(clusters.labels_, index= change_object_dataframe.index)\n",
    "\n",
    "non_zero_cluster_mask = (change_object_dataframe[cluster_by] != -1)\n",
    "non_neg_cluster_df = change_object_dataframe.loc[non_zero_cluster_mask, :]\n",
    "\n",
    "rank_by_size, rank_by_uniq_editor, rank_by_period, rank_by_rate = rank_clusters(non_neg_cluster_df, cluster_by)\n",
    "clean_not_weighted_4_drop_downs = [list(zip(np.arange(rank_by_size.size), rank_by_size.index)), \n",
    "                list(zip(np.arange(rank_by_uniq_editor.size), rank_by_uniq_editor.index)),\n",
    "                list(zip(np.arange(rank_by_period.size), rank_by_period.index)),\n",
    "                list(zip(np.arange(rank_by_rate.size), rank_by_rate.index))]\n",
    "\n",
    "clean_not_weighted_4_gap_freq, clean_not_weighted_4_left_context_freq, clean_not_weighted_4_right_context_freq = get_cluster_wordfreq(\n",
    "    non_neg_cluster_df, cluster_by, filtered_vocabs_set)\n",
    "\n",
    "clean_not_weighted_4_grouped = non_neg_cluster_df.reset_index().groupby(cluster_by)\n",
    "\n",
    "\n",
    "# uncomment to see cluster string without cleaning\n",
    "# clean_not_weighted_4_repers = create_cluster_html(non_neg_cluster_df, cluster_by)\n",
    "clean_not_weighted_4_repers = create_cluster_html_cleaned(non_neg_cluster_df, cluster_by)"
   ]
  },
  {
   "cell_type": "code",
   "execution_count": null,
   "metadata": {},
   "outputs": [],
   "source": [
    "print(f\"outliers: {sum(~non_zero_cluster_mask)} out of {len(change_object_dataframe)}\")\n",
    "print(f\"clusters: {len(non_neg_cluster_df[cluster_by].unique())}\")\n",
    "\n",
    "non_neg_cluster_df[cluster_by].value_counts().plot( figsize=(30, 7), kind='bar') #.hist(figsize=(30, 7), bins=len(set(non_neg_cluster_df[cluster_by])))"
   ]
  },
  {
   "cell_type": "code",
   "execution_count": null,
   "metadata": {},
   "outputs": [],
   "source": [
    "clean_not_weighted_4_outp = widgets.Output(layout={'r': '1px solid black'})\n",
    "caption = widgets.Label(value='Choose parameters:')\n",
    "_=widgets.interact(display_article_content, index=clean_not_weighted_4_drop_downs[2], \n",
    "                   change_html_series= widgets.fixed(clean_not_weighted_4_repers),\n",
    "                   edited_tokens_freq_per_group= widgets.fixed(clean_not_weighted_4_gap_freq), \n",
    "                   left_context_freq_per_group= widgets.fixed(clean_not_weighted_4_left_context_freq), \n",
    "                   right_context_freq_per_group= widgets.fixed(clean_not_weighted_4_right_context_freq), \n",
    "                   change_grouped_by_tokens= widgets.fixed(clean_not_weighted_4_grouped), out= widgets.fixed(clean_not_weighted_4_outp))\n",
    "#clean_not_weighted_4_outp"
   ]
  },
  {
   "cell_type": "markdown",
   "metadata": {},
   "source": [
    "### notclean_weighted_4\n"
   ]
  },
  {
   "cell_type": "code",
   "execution_count": null,
   "metadata": {},
   "outputs": [],
   "source": [
    "%%time \n",
    "clusters = DBSCAN(**dbscan_params[0]).fit(notclean_weighted_4)\n",
    "\n",
    "cluster_by = \"notclean_weighted_4\"\n",
    "change_object_dataframe[cluster_by] = pd.Series(clusters.labels_, index= change_object_dataframe.index)\n",
    "\n",
    "non_zero_cluster_mask = (change_object_dataframe[cluster_by] != -1)\n",
    "non_neg_cluster_df = change_object_dataframe.loc[non_zero_cluster_mask, :]\n",
    "\n",
    "rank_by_size, rank_by_uniq_editor, rank_by_period, rank_by_rate = rank_clusters(non_neg_cluster_df, cluster_by)\n",
    "notclean_weighted_4_drop_downs = [list(zip(np.arange(rank_by_size.size), rank_by_size.index)), \n",
    "                list(zip(np.arange(rank_by_uniq_editor.size), rank_by_uniq_editor.index)),\n",
    "                list(zip(np.arange(rank_by_period.size), rank_by_period.index)),\n",
    "                list(zip(np.arange(rank_by_rate.size), rank_by_rate.index))]\n",
    "\n",
    "notclean_weighted_4_gap_freq, notclean_weighted_4_left_context_freq, notclean_weighted_4_right_context_freq = get_cluster_wordfreq(\n",
    "    non_neg_cluster_df, cluster_by, vocabs_set)\n",
    "\n",
    "notclean_weighted_4_grouped = non_neg_cluster_df.reset_index().groupby(cluster_by)\n",
    "\n",
    "# uncomment to see cluster string after cleaning\n",
    "# clean_not_weighted_4_repers = create_cluster_html_cleaned(non_neg_cluster_df, cluster_by)\n",
    "notclean_weighted_4_repers = create_cluster_html(non_neg_cluster_df, cluster_by)\n"
   ]
  },
  {
   "cell_type": "code",
   "execution_count": null,
   "metadata": {},
   "outputs": [],
   "source": [
    "print(f\"outliers: {sum(~non_zero_cluster_mask)} out of {len(change_object_dataframe)}\")\n",
    "print(f\"clusters: {len(non_neg_cluster_df[cluster_by].unique())}\")\n",
    "\n",
    "non_neg_cluster_df[cluster_by].value_counts().plot( figsize=(30, 7), kind='bar') #.hist(figsize=(30, 7), bins=len(set(non_neg_cluster_df[cluster_by])))"
   ]
  },
  {
   "cell_type": "code",
   "execution_count": null,
   "metadata": {},
   "outputs": [],
   "source": [
    "notclean_weighted_4_outp = widgets.Output(layout={'r': '1px solid black'})\n",
    "caption = widgets.Label(value='Choose parameters:')\n",
    "_=widgets.interact(display_article_content, index=notclean_weighted_4_drop_downs[2], \n",
    "                   change_html_series= widgets.fixed(notclean_weighted_4_repers),\n",
    "                   edited_tokens_freq_per_group= widgets.fixed(notclean_weighted_4_gap_freq), \n",
    "                   left_context_freq_per_group= widgets.fixed(notclean_weighted_4_left_context_freq), \n",
    "                   right_context_freq_per_group= widgets.fixed(notclean_weighted_4_right_context_freq), \n",
    "                   change_grouped_by_tokens= widgets.fixed(notclean_weighted_4_grouped), out= widgets.fixed(notclean_weighted_4_outp))\n",
    "#notclean_weighted_4_outp"
   ]
  },
  {
   "cell_type": "markdown",
   "metadata": {},
   "source": [
    "### notclean_not_weighted_4\n",
    "\n",
    "* eps=0.5, min_samples=5// 47 seems to have more noise than 10 neighbours\n",
    "* eps=1, min_samples=5 //58\n",
    "* eps=1.25, min_samples=5 // \n",
    "* eps=.75, min_samples=5// 52\n",
    "* eps=.1, min_samples=7 //\n",
    "* eps=.001, min_samples=10 // 11 samples"
   ]
  },
  {
   "cell_type": "code",
   "execution_count": null,
   "metadata": {},
   "outputs": [],
   "source": [
    "%%time \n",
    "\n",
    "\n",
    "clusters = DBSCAN(**dbscan_params[0]).fit(notclean_not_weighted_4)\n",
    "\n",
    "cluster_by = \"notclean_not_weighted_4\"\n",
    "change_object_dataframe[cluster_by] = pd.Series(clusters.labels_, index= change_object_dataframe.index)\n",
    "\n",
    "non_zero_cluster_mask = (change_object_dataframe[cluster_by] != -1)\n",
    "non_neg_cluster_df = change_object_dataframe.loc[non_zero_cluster_mask, :]\n",
    "\n",
    "rank_by_size, rank_by_uniq_editor, rank_by_period, rank_by_rate = rank_clusters(non_neg_cluster_df, cluster_by)\n",
    "notclean_not_weighted_4_drop_downs = [list(zip(np.arange(rank_by_size.size), rank_by_size.index)), \n",
    "                list(zip(np.arange(rank_by_uniq_editor.size), rank_by_uniq_editor.index)),\n",
    "                list(zip(np.arange(rank_by_period.size), rank_by_period.index)),\n",
    "                list(zip(np.arange(rank_by_rate.size), rank_by_rate.index))]\n",
    "\n",
    "notclean_not_weighted_4_gap_freq, notclean_not_weighted_4_left_context_freq, notclean_not_weighted_4_right_context_freq = get_cluster_wordfreq(\n",
    "    non_neg_cluster_df, cluster_by, vocabs_set)\n",
    "\n",
    "notclean_not_weighted_4_grouped = non_neg_cluster_df.reset_index().groupby(cluster_by)\n",
    "\n",
    "# uncomment to see cluster string after cleaning\n",
    "# clean_not_weighted_4_repers = create_cluster_html_cleaned(non_neg_cluster_df, cluster_by)\n",
    "notclean_not_weighted_4_repers = create_cluster_html(non_neg_cluster_df, cluster_by)\n",
    "\n"
   ]
  },
  {
   "cell_type": "code",
   "execution_count": null,
   "metadata": {},
   "outputs": [],
   "source": [
    "print(f\"outliers: {sum(~non_zero_cluster_mask)} out of {len(change_object_dataframe)}\")\n",
    "print(f\"clusters: {len(non_neg_cluster_df[cluster_by].unique())}\")\n",
    "\n",
    "non_neg_cluster_df[cluster_by].value_counts().plot( figsize=(30, 7), kind='bar') #.hist(figsize=(30, 7), bins=len(set(non_neg_cluster_df[cluster_by])))"
   ]
  },
  {
   "cell_type": "code",
   "execution_count": null,
   "metadata": {},
   "outputs": [],
   "source": [
    "notclean_not_weighted_4_outp = widgets.Output(layout={'r': '1px solid black'})\n",
    "caption = widgets.Label(value='Choose parameters:')\n",
    "_=widgets.interact(display_article_content, index=notclean_not_weighted_4_drop_downs[0], \n",
    "                   change_html_series= widgets.fixed(notclean_not_weighted_4_repers),\n",
    "                   edited_tokens_freq_per_group= widgets.fixed(notclean_not_weighted_4_gap_freq), \n",
    "                   left_context_freq_per_group= widgets.fixed(notclean_not_weighted_4_left_context_freq), \n",
    "                   right_context_freq_per_group= widgets.fixed(notclean_not_weighted_4_right_context_freq), \n",
    "                   change_grouped_by_tokens= widgets.fixed(notclean_not_weighted_4_grouped), out= widgets.fixed(notclean_not_weighted_4_outp))\n",
    "#notclean_not_weighted_4_outp"
   ]
  },
  {
   "cell_type": "markdown",
   "metadata": {},
   "source": [
    "### clean_weighted_10\n",
    "\n",
    "* eps=0.5, min_samples=5// 41 samples detected few neighbourhood with special character do not get clustered.\n",
    "* eps=1, min_samples=5 \n",
    "* eps=1.25, min_samples=5 // 56 clusters seems to detect better clusters then uncleaned ones. Seems vectors are better divided so for higher values of epsilon also gives better clusters\n",
    "\n",
    "* eps=.75, min_samples=5// 48 samples all were having similar relative position but quite smaller than uncleaned ones, proving the point the neighbourhood is quite seperated in vector space.\n",
    "* eps=.1, min_samples=7 // 10 clusters of exactly similar neighbourhood and relative position"
   ]
  },
  {
   "cell_type": "code",
   "execution_count": 110,
   "metadata": {},
   "outputs": [
    {
     "name": "stdout",
     "output_type": "stream",
     "text": [
      "CPU times: user 2.26 s, sys: 8 ms, total: 2.27 s\n",
      "Wall time: 2.26 s\n"
     ]
    }
   ],
   "source": [
    "%%time \n",
    "\n",
    "params = dbscan_params[0]\n",
    "cluster_by = \"clean_weighted_10\"\n",
    "parmstr = '_'.join(str(x) for x in dbscan_params[0].values())\n",
    "\n",
    "try:\n",
    "    change_object_dataframe[cluster_by] = pd.read_pickle(f'../data/cluster_cache/{article_name}-{cluster_by}-{parmstr}.p')\n",
    "except:\n",
    "    clusters = DBSCAN(**params).fit(clean_weighted_10)\n",
    "    change_object_dataframe[cluster_by] = pd.Series(clusters.labels_, index= change_object_dataframe.index)\n",
    "    change_object_dataframe[cluster_by].to_pickle(f'../data/cluster_cache/{article_name}-{cluster_by}-{parmstr}.p')\n",
    "\n",
    "non_zero_cluster_mask = (change_object_dataframe[cluster_by] != -1)\n",
    "non_neg_cluster_df = change_object_dataframe.loc[non_zero_cluster_mask, :]\n",
    "\n",
    "rank_by_size, rank_by_uniq_editor, rank_by_period, rank_by_rate = rank_clusters(non_neg_cluster_df, cluster_by)\n",
    "clean_weighted_10_drop_downs = [list(zip(np.arange(rank_by_size.size), rank_by_size.index)), \n",
    "                list(zip(np.arange(rank_by_uniq_editor.size), rank_by_uniq_editor.index)),\n",
    "                list(zip(np.arange(rank_by_period.size), rank_by_period.index)),\n",
    "                list(zip(np.arange(rank_by_rate.size), rank_by_rate.index))]\n",
    "\n",
    "clean_weighted_10_gap_freq, clean_weighted_10_left_context_freq, clean_weighted_10_right_context_freq = get_cluster_wordfreq(\n",
    "    non_neg_cluster_df, cluster_by, filtered_vocabs_set)\n",
    "\n",
    "clean_weighted_10_grouped = non_neg_cluster_df.reset_index().groupby(cluster_by)\n",
    "\n",
    "# uncomment to see cluster string without cleaning\n",
    "# clean_not_weighted_4_repers = create_cluster_html(non_neg_cluster_df, cluster_by)\n",
    "clean_weighted_10_repers = create_cluster_html_cleaned(non_neg_cluster_df, cluster_by)\n"
   ]
  },
  {
   "cell_type": "code",
   "execution_count": 114,
   "metadata": {},
   "outputs": [
    {
     "data": {
      "text/plain": [
       "to revision id                                                  203699\n",
       "timegap                                              194 days 22:14:17\n",
       "editor                                                            3646\n",
       "ins_start_pos                                                       10\n",
       "ins_end_pos                                                         30\n",
       "left_neigh                                                           9\n",
       "right_neigh                                                         10\n",
       "del_start_pos                                                       -1\n",
       "del_end_pos                                                         -1\n",
       "ins_tokens           ((, b, ., [[, august, 14, ]], [[, 1888, ]], ,,...\n",
       "del_tokens                                                          ()\n",
       "left_neigh_slice                                    slice(0, 10, None)\n",
       "right_neigh_slice                                  slice(10, 41, None)\n",
       "left_token             ({st@rt}, ', ', ', john, logie, baird, ', ', ')\n",
       "right_token          (of, scotland, (, [[, university, of, glasgow,...\n",
       "edited_tokens        ((, b, ., [[, august, 14, ]], [[, 1888, ]], ,,...\n",
       "left_string                       {st@rt} ' ' ' john logie baird ' ' '\n",
       "ins_string           ( b . [[ august 14 ]] [[ 1888 ]] , d . [[ june...\n",
       "del_string                                                            \n",
       "right_string         of scotland ( [[ university of glasgow ]] ) wa...\n",
       "left_cleaned                                          john logie baird\n",
       "del_cleaned                            b august 14 1888 d june 14 1946\n",
       "ins_cleaned                                                           \n",
       "right_cleaned        of scotland university of glasgow was the firs...\n",
       "length                                                              43\n",
       "relative_position                                             0.232558\n",
       "clean_weighted_4                                                    -1\n",
       "clean_weighted_10                                                   -1\n",
       "Name: (203693, 2002-09-08 14:05:32, 0), dtype: object"
      ]
     },
     "execution_count": 114,
     "metadata": {},
     "output_type": "execute_result"
    }
   ],
   "source": [
    "change_object_dataframe.iloc[0,:]"
   ]
  },
  {
   "cell_type": "code",
   "execution_count": 111,
   "metadata": {},
   "outputs": [
    {
     "name": "stdout",
     "output_type": "stream",
     "text": [
      "outliers: 3097 out of 4900\n",
      "clusters: 172\n"
     ]
    },
    {
     "data": {
      "text/plain": [
       "<matplotlib.axes._subplots.AxesSubplot at 0x7f60d08f6198>"
      ]
     },
     "execution_count": 111,
     "metadata": {},
     "output_type": "execute_result"
    },
    {
     "data": {
      "image/png": "[encoded data removed]",
      "text/plain": [
       "<Figure size 2160x504 with 1 Axes>"
      ]
     },
     "metadata": {},
     "output_type": "display_data"
    }
   ],
   "source": [
    "print(f\"outliers: {sum(~non_zero_cluster_mask)} out of {len(change_object_dataframe)}\")\n",
    "print(f\"clusters: {len(non_neg_cluster_df[cluster_by].unique())}\")\n",
    "\n",
    "non_neg_cluster_df[cluster_by].value_counts().plot( figsize=(30, 7), kind='bar') #.hist(figsize=(30, 7), bins=len(set(non_neg_cluster_df[cluster_by])))"
   ]
  },
  {
   "cell_type": "code",
   "execution_count": 112,
   "metadata": {},
   "outputs": [
    {
     "name": "stdout",
     "output_type": "stream",
     "text": [
      "outliers: 3097 out of 4900\n"
     ]
    },
    {
     "data": {
      "application/vnd.jupyter.widget-view+json": {
       "model_id": "c1328628961744a2b779d7dddf411a93",
       "version_major": 2,
       "version_minor": 0
      },
      "text/plain": [
       "interactive(children=(Dropdown(description='index', options=((0, 16), (1, 118), (2, 5), (3, 36), (4, 0), (5, 1…"
      ]
     },
     "metadata": {},
     "output_type": "display_data"
    }
   ],
   "source": [
    "print(f\"outliers: {sum(~non_zero_cluster_mask)} out of {len(change_object_dataframe)}\")\n",
    "\n",
    "clean_weighted_10_outp = widgets.Output(layout={'r': '1px solid black'})\n",
    "caption = widgets.Label(value='Choose parameters:')\n",
    "_=widgets.interact(display_article_content, index=clean_weighted_10_drop_downs[0], \n",
    "                   change_html_series= widgets.fixed(clean_weighted_10_repers),\n",
    "                   edited_tokens_freq_per_group= widgets.fixed(clean_weighted_10_gap_freq), \n",
    "                   left_context_freq_per_group= widgets.fixed(clean_weighted_10_left_context_freq), \n",
    "                   right_context_freq_per_group= widgets.fixed(clean_weighted_10_right_context_freq), \n",
    "                   change_grouped_by_tokens= widgets.fixed(clean_weighted_10_grouped), out= widgets.fixed(clean_weighted_10_outp))\n",
    "#clean_weighted_10_outp"
   ]
  },
  {
   "cell_type": "code",
   "execution_count": 65,
   "metadata": {},
   "outputs": [
    {
     "data": {
      "application/vnd.jupyter.widget-view+json": {
       "model_id": "4f2d16158f2646169e70c41a9a9ef733",
       "version_major": 2,
       "version_minor": 0
      },
      "text/plain": [
       "Output(outputs=({'output_type': 'display_data', 'data': {'text/plain': \"'Word length distribution plot for clu…"
      ]
     },
     "metadata": {},
     "output_type": "display_data"
    }
   ],
   "source": [
    "clean_weighted_10_outp"
   ]
  },
  {
   "cell_type": "markdown",
   "metadata": {},
   "source": [
    "### clean_not_weighted_10\n",
    "\n",
    "\n",
    "* eps=0.5, min_samples=5// 32 samples detected few neighbourhood with special character do not get clustered.\n",
    "* eps=1, min_samples=5 \n",
    "* eps=1.25, min_samples=5 // 56 clusters seems to detect better clusters then uncleaned ones. Seems vectors are better divided so for higher values of epsilon also gives better clusters\n",
    "\n",
    "* eps=.75, min_samples=5// 39 samples all were having similar relative position but quite smaller than uncleaned ones, proving the point the neighbourhood is quite seperated in vector space.\n",
    "* eps=0.01, min_samples=10 // 5 clusters of exactly similar neighbourhood and relative position\n"
   ]
  },
  {
   "cell_type": "code",
   "execution_count": null,
   "metadata": {},
   "outputs": [],
   "source": [
    "%%time \n",
    "clusters = DBSCAN(**dbscan_params[0]).fit(clean_not_weighted_10)\n",
    "\n",
    "cluster_by = \"clean_not_weighted_10\"\n",
    "change_object_dataframe[cluster_by] = pd.Series(clusters.labels_, index= change_object_dataframe.index)\n",
    "\n",
    "non_zero_cluster_mask = (change_object_dataframe[cluster_by] != -1)\n",
    "non_neg_cluster_df = change_object_dataframe.loc[non_zero_cluster_mask, :]\n",
    "\n",
    "rank_by_size, rank_by_uniq_editor, rank_by_period, rank_by_rate = rank_clusters(non_neg_cluster_df, cluster_by)\n",
    "clean_not_weighted_10_drop_downs = [list(zip(np.arange(rank_by_size.size), rank_by_size.index)), \n",
    "                list(zip(np.arange(rank_by_uniq_editor.size), rank_by_uniq_editor.index)),\n",
    "                list(zip(np.arange(rank_by_period.size), rank_by_period.index)),\n",
    "                list(zip(np.arange(rank_by_rate.size), rank_by_rate.index))]\n",
    "\n",
    "clean_not_weighted_10_freq, clean_not_weighted_10_left_context_freq, clean_not_weighted_10_right_context_freq = get_cluster_wordfreq(\n",
    "    non_neg_cluster_df, cluster_by, filtered_vocabs_set)\n",
    "\n",
    "clean_not_weighted_10_grouped = non_neg_cluster_df.reset_index().groupby(cluster_by)\n",
    "\n",
    "# uncomment to see cluster string after cleaning\n",
    "# clean_not_weighted_4_repers = create_cluster_html_cleaned(non_neg_cluster_df, cluster_by)\n",
    "clean_not_weighted_10_repers = create_cluster_html(non_neg_cluster_df, cluster_by)"
   ]
  },
  {
   "cell_type": "code",
   "execution_count": null,
   "metadata": {},
   "outputs": [],
   "source": [
    "print(f\"outliers: {sum(~non_zero_cluster_mask)} out of {len(change_object_dataframe)}\")\n",
    "print(f\"clusters: {len(non_neg_cluster_df[cluster_by].unique())}\")\n",
    "\n",
    "non_neg_cluster_df[cluster_by].value_counts().plot( figsize=(30, 7), kind='bar') #.hist(figsize=(30, 7), bins=len(set(non_neg_cluster_df[cluster_by])))"
   ]
  },
  {
   "cell_type": "code",
   "execution_count": null,
   "metadata": {},
   "outputs": [],
   "source": [
    "clean_not_weighted_10_outp = widgets.Output(layout={'r': '1px solid black'})\n",
    "caption = widgets.Label(value='Choose parameters:')\n",
    "_=widgets.interact(display_article_content, index=clean_not_weighted_10_drop_downs[0], \n",
    "                   change_html_series= widgets.fixed(clean_not_weighted_10_repers),\n",
    "                   edited_tokens_freq_per_group= widgets.fixed(clean_not_weighted_10_freq), \n",
    "                   left_context_freq_per_group= widgets.fixed(clean_not_weighted_10_left_context_freq), \n",
    "                   right_context_freq_per_group= widgets.fixed(clean_not_weighted_10_right_context_freq), \n",
    "                   change_grouped_by_tokens= widgets.fixed(clean_not_weighted_10_grouped), out= widgets.fixed(clean_not_weighted_10_outp))\n",
    "#clean_not_weighted_10_outp"
   ]
  },
  {
   "cell_type": "markdown",
   "metadata": {},
   "source": [
    "### notclean_weighted_10\n",
    "\n",
    "* eps=0.5, min_samples=5// 28 samples detected few neighbourhood with special character do not get clustered.\n",
    "* eps=1, min_samples=5 //72 quite a bit of noise\n",
    "* eps=1.25, min_samples=5 // 56\n",
    "\n",
    "* eps=.75, min_samples=5// 45 clusters\n",
    "* eps=.1, min_samples=6 // 16 clusters of exactly similar neighbourhood and relative position/"
   ]
  },
  {
   "cell_type": "code",
   "execution_count": null,
   "metadata": {},
   "outputs": [],
   "source": [
    "%%time \n",
    "clusters = DBSCAN(**dbscan_params[0]).fit(notclean_weighted_10)\n",
    "\n",
    "cluster_by = \"notclean_weighted_10\"\n",
    "change_object_dataframe[cluster_by] = pd.Series(clusters.labels_, index= change_object_dataframe.index)\n",
    "\n",
    "\n",
    "non_zero_cluster_mask = (change_object_dataframe[cluster_by] != -1)\n",
    "non_neg_cluster_df = change_object_dataframe.loc[non_zero_cluster_mask, :]\n",
    "\n",
    "rank_by_size, rank_by_uniq_editor, rank_by_period, rank_by_rate = rank_clusters(non_neg_cluster_df, cluster_by)\n",
    "notclean_weighted_10_drop_downs = [list(zip(np.arange(rank_by_size.size), rank_by_size.index)), \n",
    "                list(zip(np.arange(rank_by_uniq_editor.size), rank_by_uniq_editor.index)),\n",
    "                list(zip(np.arange(rank_by_period.size), rank_by_period.index)),\n",
    "                list(zip(np.arange(rank_by_rate.size), rank_by_rate.index))]\n",
    "\n",
    "notclean_weighted_10_freq, notclean_weighted_10_left_context_freq, notclean_weighted_10_right_context_freq = get_cluster_wordfreq(\n",
    "    non_neg_cluster_df, cluster_by, vocabs_set)\n",
    "\n",
    "notclean_weighted_10_grouped = non_neg_cluster_df.reset_index().groupby(cluster_by)\n",
    "\n",
    "# uncomment to see cluster string after cleaning\n",
    "# clean_not_weighted_4_repers = create_cluster_html_cleaned(non_neg_cluster_df, cluster_by)\n",
    "notclean_weighted_10_repers = create_cluster_html(non_neg_cluster_df, cluster_by)"
   ]
  },
  {
   "cell_type": "code",
   "execution_count": null,
   "metadata": {},
   "outputs": [],
   "source": [
    "print(f\"outliers: {sum(~non_zero_cluster_mask)} out of {len(change_object_dataframe)}\")\n",
    "print(f\"clusters: {len(non_neg_cluster_df[cluster_by].unique())}\")\n",
    "\n",
    "non_neg_cluster_df[cluster_by].value_counts().plot( figsize=(30, 7), kind='bar') #.hist(figsize=(30, 7), bins=len(set(non_neg_cluster_df[cluster_by])))"
   ]
  },
  {
   "cell_type": "code",
   "execution_count": null,
   "metadata": {},
   "outputs": [],
   "source": [
    "notclean_weighted_10_outp = widgets.Output(layout={'r': '1px solid black'})\n",
    "caption = widgets.Label(value='Choose parameters:')\n",
    "_=widgets.interact(display_article_content, index=notclean_weighted_10_drop_downs[0], \n",
    "                   change_html_series= widgets.fixed(notclean_weighted_10_repers),\n",
    "                   edited_tokens_freq_per_group= widgets.fixed(notclean_weighted_10_freq), \n",
    "                   left_context_freq_per_group= widgets.fixed(notclean_weighted_10_left_context_freq), \n",
    "                   right_context_freq_per_group= widgets.fixed(notclean_weighted_10_right_context_freq), \n",
    "                   change_grouped_by_tokens= widgets.fixed(notclean_weighted_10_grouped), out= widgets.fixed(notclean_weighted_10_outp))\n",
    "#notclean_weighted_10_outp"
   ]
  },
  {
   "cell_type": "markdown",
   "metadata": {},
   "source": [
    "### notclean_not_weighted_10\n",
    "\n",
    "\n",
    "* eps=0.5, min_samples=5// 28 samples stable neighbourhood\n",
    "* eps=1, min_samples=5 // 97 clusters as eps is high more noise\n",
    "* eps=.75, min_samples=5// 53 samples all were having similar relative position\n",
    "* eps=0.01, min_samples=10 // 5 clusters of exactly similar neighbourhood and relative position"
   ]
  },
  {
   "cell_type": "code",
   "execution_count": null,
   "metadata": {},
   "outputs": [],
   "source": [
    "%%time \n",
    "clusters = DBSCAN(**dbscan_params[0]).fit(notclean_not_weighted_10)\n",
    "\n",
    "cluster_by = \"notclean_not_weighted_10\"\n",
    "change_object_dataframe[cluster_by] = pd.Series(clusters.labels_, index= change_object_dataframe.index)\n",
    "\n",
    "\n",
    "non_zero_cluster_mask = (change_object_dataframe[cluster_by] != -1)\n",
    "non_neg_cluster_df = change_object_dataframe.loc[non_zero_cluster_mask, :]\n",
    "\n",
    "rank_by_size, rank_by_uniq_editor, rank_by_period, rank_by_rate = rank_clusters(non_neg_cluster_df, cluster_by)\n",
    "not_clean_not_weighted_10_drop_downs = [list(zip(np.arange(rank_by_size.size), rank_by_size.index)), \n",
    "                list(zip(np.arange(rank_by_uniq_editor.size), rank_by_uniq_editor.index)),\n",
    "                list(zip(np.arange(rank_by_period.size), rank_by_period.index)),\n",
    "                list(zip(np.arange(rank_by_rate.size), rank_by_rate.index))]\n",
    "\n",
    "not_clean_not_weighted_10_freq, not_clean_not_weighted_10_left_context_freq, not_clean_not_weighted_10_right_context_freq = get_cluster_wordfreq(\n",
    "    non_neg_cluster_df, cluster_by, vocabs_set)\n",
    "\n",
    "not_clean_not_weighted_10_grouped = non_neg_cluster_df.reset_index().groupby(cluster_by)\n",
    "\n",
    "# uncomment to see cluster string without cleaning and coment line after that\n",
    "# clean_not_weighted_4_repers = create_cluster_html(non_neg_cluster_df, cluster_by)\n",
    "not_clean_not_weighted_10_repers = create_cluster_html(non_neg_cluster_df, cluster_by)"
   ]
  },
  {
   "cell_type": "code",
   "execution_count": null,
   "metadata": {},
   "outputs": [],
   "source": [
    "print(f\"outliers: {sum(~non_zero_cluster_mask)} out of {len(change_object_dataframe)}\")\n",
    "print(f\"clusters: {len(non_neg_cluster_df[cluster_by].unique())}\")\n",
    "\n",
    "non_neg_cluster_df[cluster_by].value_counts().plot( figsize=(30, 7), kind='bar') #.hist(figsize=(30, 7), bins=len(set(non_neg_cluster_df[cluster_by])))"
   ]
  },
  {
   "cell_type": "code",
   "execution_count": null,
   "metadata": {},
   "outputs": [],
   "source": [
    "not_clean_not_weighted_10_outp = widgets.Output(layout={'r': '1px solid black'})\n",
    "caption = widgets.Label(value='Choose parameters:')\n",
    "_=widgets.interact(display_article_content, index=not_clean_not_weighted_10_drop_downs[0], \n",
    "                   change_html_series= widgets.fixed(not_clean_not_weighted_10_repers),\n",
    "                   edited_tokens_freq_per_group= widgets.fixed(not_clean_not_weighted_10_freq), \n",
    "                   left_context_freq_per_group= widgets.fixed(not_clean_not_weighted_10_left_context_freq), \n",
    "                   right_context_freq_per_group= widgets.fixed(not_clean_not_weighted_10_right_context_freq), \n",
    "                   change_grouped_by_tokens= widgets.fixed(not_clean_not_weighted_10_grouped), out= widgets.fixed(not_clean_not_weighted_10_outp))\n",
    "#not_clean_not_weighted_10_outp"
   ]
  },
  {
   "cell_type": "code",
   "execution_count": null,
   "metadata": {},
   "outputs": [],
   "source": [
    "change_object_dataframe[change_object_dataframe.columns[-8:]].head(2)"
   ]
  },
  {
   "cell_type": "code",
   "execution_count": null,
   "metadata": {},
   "outputs": [],
   "source": [
    "# cluster_dir = \"../data/clusters/\"\n",
    "\n",
    "# file_name = article_name + \"_dbscan_cluster.h5\"\n",
    "# full_file_path = os.path.join(cluster_dir, file_name)\n",
    "# with pd.HDFStore(full_file_path, 'w') as store:\n",
    "#     store.put(\"cluster\", change_object_dataframe[change_object_dataframe.columns[-8:]], table=False)"
   ]
  }
 ],
 "metadata": {
  "kernelspec": {
   "display_name": "Python 3",
   "language": "python",
   "name": "python3"
  },
  "language_info": {
   "codemirror_mode": {
    "name": "ipython",
    "version": 3
   },
   "file_extension": ".py",
   "mimetype": "text/x-python",
   "name": "python",
   "nbconvert_exporter": "python",
   "pygments_lexer": "ipython3",
   "version": "3.6.7"
  }
 },
 "nbformat": 4,
 "nbformat_minor": 2
}
