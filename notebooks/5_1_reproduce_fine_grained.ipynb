{
 "cells": [
  {
   "cell_type": "code",
   "execution_count": 1,
   "metadata": {},
   "outputs": [],
   "source": [
    "import sys,os\n",
    "sys.path.append(\"../\")\n",
    "\n",
    "import pandas as pd\n",
    "import numpy as np\n",
    "from sklearn.cluster import KMeans\n",
    "import matplotlib.pyplot as plt\n",
    "from IPython.display import HTML\n",
    "%matplotlib inline\n",
    "from ipywidgets import interact, interactive, fixed, interact_manual\n",
    "import ipywidgets as widgets\n",
    "from scipy import stats\n",
    "from sklearn.cluster import DBSCAN\n",
    "from sklearn.preprocessing import LabelEncoder\n",
    "from sklearn.preprocessing import OneHotEncoder\n",
    "from sklearn.preprocessing import MultiLabelBinarizer"
   ]
  },
  {
   "cell_type": "code",
   "execution_count": 2,
   "metadata": {},
   "outputs": [],
   "source": [
    "r_thrshld = 5\n",
    "k_thrshld = 5"
   ]
  },
  {
   "cell_type": "markdown",
   "metadata": {
    "slideshow": {
     "slide_type": "slide"
    }
   },
   "source": [
    "## reading the change object and clustering."
   ]
  },
  {
   "cell_type": "code",
   "execution_count": 3,
   "metadata": {},
   "outputs": [],
   "source": [
    "article_name = \"Truth\"\n",
    "change_object_dir =  \"../data/change objects/\"\n",
    "filename =  f\"{article_name}_change.h5\"\n",
    "\n",
    "change_object_file = os.path.join(change_object_dir, filename)"
   ]
  },
  {
   "cell_type": "code",
   "execution_count": 4,
   "metadata": {},
   "outputs": [
    {
     "data": {
      "text/plain": [
       "(31777, 12)"
      ]
     },
     "execution_count": 4,
     "metadata": {},
     "output_type": "execute_result"
    }
   ],
   "source": [
    "if os.path.exists(change_object_file):\n",
    "    with pd.HDFStore(change_object_file, 'r') as store:\n",
    "        change_object_dataframe = store.get(\"data\")\n",
    "else:\n",
    "    print(\"file do not exist\")\n",
    "change_object_dataframe.shape"
   ]
  },
  {
   "cell_type": "markdown",
   "metadata": {},
   "source": [
    "## Reduce the change object."
   ]
  },
  {
   "cell_type": "code",
   "execution_count": 6,
   "metadata": {},
   "outputs": [
    {
     "data": {
      "text/plain": [
       "(11562, 14)"
      ]
     },
     "metadata": {},
     "output_type": "display_data"
    },
    {
     "data": {
      "text/html": [
       "<div>\n",
       "<style scoped>\n",
       "    .dataframe tbody tr th:only-of-type {\n",
       "        vertical-align: middle;\n",
       "    }\n",
       "\n",
       "    .dataframe tbody tr th {\n",
       "        vertical-align: top;\n",
       "    }\n",
       "\n",
       "    .dataframe thead th {\n",
       "        text-align: right;\n",
       "    }\n",
       "</style>\n",
       "<table border=\"1\" class=\"dataframe\">\n",
       "  <thead>\n",
       "    <tr style=\"text-align: right;\">\n",
       "      <th></th>\n",
       "      <th></th>\n",
       "      <th></th>\n",
       "      <th></th>\n",
       "      <th></th>\n",
       "      <th></th>\n",
       "      <th>ins_start_pos</th>\n",
       "      <th>ins_end_pos</th>\n",
       "      <th>left_neigh</th>\n",
       "      <th>right_neigh</th>\n",
       "      <th>del_start_pos</th>\n",
       "      <th>del_end_pos</th>\n",
       "      <th>ins_tokens</th>\n",
       "      <th>del_tokens</th>\n",
       "      <th>left_neigh_slice</th>\n",
       "      <th>right_neigh_slice</th>\n",
       "      <th>left_token</th>\n",
       "      <th>right_token</th>\n",
       "      <th>ins_length</th>\n",
       "      <th>del_length</th>\n",
       "    </tr>\n",
       "    <tr>\n",
       "      <th>from revision id</th>\n",
       "      <th>to revision id</th>\n",
       "      <th>timestamp</th>\n",
       "      <th>timegap</th>\n",
       "      <th>editor</th>\n",
       "      <th></th>\n",
       "      <th></th>\n",
       "      <th></th>\n",
       "      <th></th>\n",
       "      <th></th>\n",
       "      <th></th>\n",
       "      <th></th>\n",
       "      <th></th>\n",
       "      <th></th>\n",
       "      <th></th>\n",
       "      <th></th>\n",
       "      <th></th>\n",
       "      <th></th>\n",
       "      <th></th>\n",
       "      <th></th>\n",
       "    </tr>\n",
       "  </thead>\n",
       "  <tbody>\n",
       "    <tr>\n",
       "      <th rowspan=\"2\" valign=\"top\">86265</th>\n",
       "      <th rowspan=\"2\" valign=\"top\">92264</th>\n",
       "      <th rowspan=\"2\" valign=\"top\">2002-06-06 01:59:44</th>\n",
       "      <th rowspan=\"2\" valign=\"top\">100 days 10:16:33</th>\n",
       "      <th rowspan=\"2\" valign=\"top\">122</th>\n",
       "      <th>2</th>\n",
       "      <td>33.0</td>\n",
       "      <td>33.0</td>\n",
       "      <td>26</td>\n",
       "      <td>30</td>\n",
       "      <td>27.0</td>\n",
       "      <td>29.0</td>\n",
       "      <td>([[,)</td>\n",
       "      <td>(&lt;, i, &gt;)</td>\n",
       "      <td>slice(0, 27, None)</td>\n",
       "      <td>slice(30, 61, None)</td>\n",
       "      <td>({st@rt}, what, is, truth, ?, we, ’, ll, look,...</td>\n",
       "      <td>(correspondence, &lt;, /, i, &gt;, &lt;, i, &gt;, theory, ...</td>\n",
       "      <td>1</td>\n",
       "      <td>3</td>\n",
       "    </tr>\n",
       "    <tr>\n",
       "      <th>3</th>\n",
       "      <td>36.0</td>\n",
       "      <td>36.0</td>\n",
       "      <td>38</td>\n",
       "      <td>43</td>\n",
       "      <td>39.0</td>\n",
       "      <td>42.0</td>\n",
       "      <td>(]],)</td>\n",
       "      <td>(&lt;, /, i, &gt;)</td>\n",
       "      <td>slice(8, 39, None)</td>\n",
       "      <td>slice(43, 74, None)</td>\n",
       "      <td>(look, at, a, number, of, answers, to, this, q...</td>\n",
       "      <td>(,, and, we, can, define, it, as, follows, :, ...</td>\n",
       "      <td>1</td>\n",
       "      <td>4</td>\n",
       "    </tr>\n",
       "  </tbody>\n",
       "</table>\n",
       "</div>"
      ],
      "text/plain": [
       "                                                                                ins_start_pos  \\\n",
       "from revision id to revision id timestamp           timegap           editor                    \n",
       "86265            92264          2002-06-06 01:59:44 100 days 10:16:33 122    2           33.0   \n",
       "                                                                             3           36.0   \n",
       "\n",
       "                                                                                ins_end_pos  \\\n",
       "from revision id to revision id timestamp           timegap           editor                  \n",
       "86265            92264          2002-06-06 01:59:44 100 days 10:16:33 122    2         33.0   \n",
       "                                                                             3         36.0   \n",
       "\n",
       "                                                                                left_neigh  \\\n",
       "from revision id to revision id timestamp           timegap           editor                 \n",
       "86265            92264          2002-06-06 01:59:44 100 days 10:16:33 122    2          26   \n",
       "                                                                             3          38   \n",
       "\n",
       "                                                                                right_neigh  \\\n",
       "from revision id to revision id timestamp           timegap           editor                  \n",
       "86265            92264          2002-06-06 01:59:44 100 days 10:16:33 122    2           30   \n",
       "                                                                             3           43   \n",
       "\n",
       "                                                                                del_start_pos  \\\n",
       "from revision id to revision id timestamp           timegap           editor                    \n",
       "86265            92264          2002-06-06 01:59:44 100 days 10:16:33 122    2           27.0   \n",
       "                                                                             3           39.0   \n",
       "\n",
       "                                                                                del_end_pos  \\\n",
       "from revision id to revision id timestamp           timegap           editor                  \n",
       "86265            92264          2002-06-06 01:59:44 100 days 10:16:33 122    2         29.0   \n",
       "                                                                             3         42.0   \n",
       "\n",
       "                                                                               ins_tokens  \\\n",
       "from revision id to revision id timestamp           timegap           editor                \n",
       "86265            92264          2002-06-06 01:59:44 100 days 10:16:33 122    2      ([[,)   \n",
       "                                                                             3      (]],)   \n",
       "\n",
       "                                                                                  del_tokens  \\\n",
       "from revision id to revision id timestamp           timegap           editor                   \n",
       "86265            92264          2002-06-06 01:59:44 100 days 10:16:33 122    2     (<, i, >)   \n",
       "                                                                             3  (<, /, i, >)   \n",
       "\n",
       "                                                                                  left_neigh_slice  \\\n",
       "from revision id to revision id timestamp           timegap           editor                         \n",
       "86265            92264          2002-06-06 01:59:44 100 days 10:16:33 122    2  slice(0, 27, None)   \n",
       "                                                                             3  slice(8, 39, None)   \n",
       "\n",
       "                                                                                  right_neigh_slice  \\\n",
       "from revision id to revision id timestamp           timegap           editor                          \n",
       "86265            92264          2002-06-06 01:59:44 100 days 10:16:33 122    2  slice(30, 61, None)   \n",
       "                                                                             3  slice(43, 74, None)   \n",
       "\n",
       "                                                                                                                       left_token  \\\n",
       "from revision id to revision id timestamp           timegap           editor                                                        \n",
       "86265            92264          2002-06-06 01:59:44 100 days 10:16:33 122    2  ({st@rt}, what, is, truth, ?, we, ’, ll, look,...   \n",
       "                                                                             3  (look, at, a, number, of, answers, to, this, q...   \n",
       "\n",
       "                                                                                                                      right_token  \\\n",
       "from revision id to revision id timestamp           timegap           editor                                                        \n",
       "86265            92264          2002-06-06 01:59:44 100 days 10:16:33 122    2  (correspondence, <, /, i, >, <, i, >, theory, ...   \n",
       "                                                                             3  (,, and, we, can, define, it, as, follows, :, ...   \n",
       "\n",
       "                                                                                ins_length  \\\n",
       "from revision id to revision id timestamp           timegap           editor                 \n",
       "86265            92264          2002-06-06 01:59:44 100 days 10:16:33 122    2           1   \n",
       "                                                                             3           1   \n",
       "\n",
       "                                                                                del_length  \n",
       "from revision id to revision id timestamp           timegap           editor                \n",
       "86265            92264          2002-06-06 01:59:44 100 days 10:16:33 122    2           3  \n",
       "                                                                             3           4  "
      ]
     },
     "execution_count": 6,
     "metadata": {},
     "output_type": "execute_result"
    }
   ],
   "source": [
    "inner_join_change_object = change_object_dataframe[(change_object_dataframe[\"ins_tokens\"]!=()) & (change_object_dataframe[\"del_tokens\"]!=())]\n",
    "display(inner_join_change_object.shape)\n",
    "inner_join_change_object.head(2)"
   ]
  },
  {
   "cell_type": "markdown",
   "metadata": {},
   "source": [
    "### Removing change object with insert or delete token size more than five."
   ]
  },
  {
   "cell_type": "code",
   "execution_count": 5,
   "metadata": {},
   "outputs": [
    {
     "data": {
      "text/html": [
       "<div>\n",
       "<style scoped>\n",
       "    .dataframe tbody tr th:only-of-type {\n",
       "        vertical-align: middle;\n",
       "    }\n",
       "\n",
       "    .dataframe tbody tr th {\n",
       "        vertical-align: top;\n",
       "    }\n",
       "\n",
       "    .dataframe thead th {\n",
       "        text-align: right;\n",
       "    }\n",
       "</style>\n",
       "<table border=\"1\" class=\"dataframe\">\n",
       "  <thead>\n",
       "    <tr style=\"text-align: right;\">\n",
       "      <th></th>\n",
       "      <th></th>\n",
       "      <th></th>\n",
       "      <th></th>\n",
       "      <th></th>\n",
       "      <th></th>\n",
       "      <th>ins_start_pos</th>\n",
       "      <th>ins_end_pos</th>\n",
       "      <th>left_neigh</th>\n",
       "      <th>right_neigh</th>\n",
       "      <th>del_start_pos</th>\n",
       "      <th>del_end_pos</th>\n",
       "      <th>ins_tokens</th>\n",
       "      <th>del_tokens</th>\n",
       "      <th>left_neigh_slice</th>\n",
       "      <th>right_neigh_slice</th>\n",
       "      <th>left_token</th>\n",
       "      <th>right_token</th>\n",
       "      <th>ins_length</th>\n",
       "      <th>del_length</th>\n",
       "    </tr>\n",
       "    <tr>\n",
       "      <th>from revision id</th>\n",
       "      <th>to revision id</th>\n",
       "      <th>timestamp</th>\n",
       "      <th>timegap</th>\n",
       "      <th>editor</th>\n",
       "      <th></th>\n",
       "      <th></th>\n",
       "      <th></th>\n",
       "      <th></th>\n",
       "      <th></th>\n",
       "      <th></th>\n",
       "      <th></th>\n",
       "      <th></th>\n",
       "      <th></th>\n",
       "      <th></th>\n",
       "      <th></th>\n",
       "      <th></th>\n",
       "      <th></th>\n",
       "      <th></th>\n",
       "      <th></th>\n",
       "    </tr>\n",
       "  </thead>\n",
       "  <tbody>\n",
       "    <tr>\n",
       "      <th rowspan=\"2\" valign=\"top\">286436</th>\n",
       "      <th rowspan=\"2\" valign=\"top\">286907</th>\n",
       "      <th rowspan=\"2\" valign=\"top\">2001-03-21 00:36:45</th>\n",
       "      <th rowspan=\"2\" valign=\"top\">46 days 20:40:01</th>\n",
       "      <th rowspan=\"2\" valign=\"top\">0|Larry_Sanger</th>\n",
       "      <th>0</th>\n",
       "      <td>4230.0</td>\n",
       "      <td>4233.0</td>\n",
       "      <td>2</td>\n",
       "      <td>1</td>\n",
       "      <td>-1.0</td>\n",
       "      <td>-1.0</td>\n",
       "      <td>(-, -, -, -)</td>\n",
       "      <td>()</td>\n",
       "      <td>slice(0, 3, None)</td>\n",
       "      <td>slice(1, 32, None)</td>\n",
       "      <td>({st@rt}, &lt;, the)</td>\n",
       "      <td>(&lt;, the, following, is, a, portion, of, larrys...</td>\n",
       "      <td>4</td>\n",
       "      <td>0</td>\n",
       "    </tr>\n",
       "    <tr>\n",
       "      <th>1</th>\n",
       "      <td>4236.0</td>\n",
       "      <td>4236.0</td>\n",
       "      <td>7</td>\n",
       "      <td>4</td>\n",
       "      <td>-1.0</td>\n",
       "      <td>-1.0</td>\n",
       "      <td>(foregoing,)</td>\n",
       "      <td>()</td>\n",
       "      <td>slice(0, 8, None)</td>\n",
       "      <td>slice(4, 35, None)</td>\n",
       "      <td>({st@rt}, &lt;, the, following, is, a, portion, of)</td>\n",
       "      <td>(is, a, portion, of, larrystext, ,, wikificati...</td>\n",
       "      <td>1</td>\n",
       "      <td>0</td>\n",
       "    </tr>\n",
       "  </tbody>\n",
       "</table>\n",
       "</div>"
      ],
      "text/plain": [
       "                                                                                       ins_start_pos  \\\n",
       "from revision id to revision id timestamp           timegap          editor                            \n",
       "286436           286907         2001-03-21 00:36:45 46 days 20:40:01 0|Larry_Sanger 0         4230.0   \n",
       "                                                                                    1         4236.0   \n",
       "\n",
       "                                                                                       ins_end_pos  \\\n",
       "from revision id to revision id timestamp           timegap          editor                          \n",
       "286436           286907         2001-03-21 00:36:45 46 days 20:40:01 0|Larry_Sanger 0       4233.0   \n",
       "                                                                                    1       4236.0   \n",
       "\n",
       "                                                                                       left_neigh  \\\n",
       "from revision id to revision id timestamp           timegap          editor                         \n",
       "286436           286907         2001-03-21 00:36:45 46 days 20:40:01 0|Larry_Sanger 0           2   \n",
       "                                                                                    1           7   \n",
       "\n",
       "                                                                                       right_neigh  \\\n",
       "from revision id to revision id timestamp           timegap          editor                          \n",
       "286436           286907         2001-03-21 00:36:45 46 days 20:40:01 0|Larry_Sanger 0            1   \n",
       "                                                                                    1            4   \n",
       "\n",
       "                                                                                       del_start_pos  \\\n",
       "from revision id to revision id timestamp           timegap          editor                            \n",
       "286436           286907         2001-03-21 00:36:45 46 days 20:40:01 0|Larry_Sanger 0           -1.0   \n",
       "                                                                                    1           -1.0   \n",
       "\n",
       "                                                                                       del_end_pos  \\\n",
       "from revision id to revision id timestamp           timegap          editor                          \n",
       "286436           286907         2001-03-21 00:36:45 46 days 20:40:01 0|Larry_Sanger 0         -1.0   \n",
       "                                                                                    1         -1.0   \n",
       "\n",
       "                                                                                         ins_tokens  \\\n",
       "from revision id to revision id timestamp           timegap          editor                           \n",
       "286436           286907         2001-03-21 00:36:45 46 days 20:40:01 0|Larry_Sanger 0  (-, -, -, -)   \n",
       "                                                                                    1  (foregoing,)   \n",
       "\n",
       "                                                                                      del_tokens  \\\n",
       "from revision id to revision id timestamp           timegap          editor                        \n",
       "286436           286907         2001-03-21 00:36:45 46 days 20:40:01 0|Larry_Sanger 0         ()   \n",
       "                                                                                    1         ()   \n",
       "\n",
       "                                                                                        left_neigh_slice  \\\n",
       "from revision id to revision id timestamp           timegap          editor                                \n",
       "286436           286907         2001-03-21 00:36:45 46 days 20:40:01 0|Larry_Sanger 0  slice(0, 3, None)   \n",
       "                                                                                    1  slice(0, 8, None)   \n",
       "\n",
       "                                                                                        right_neigh_slice  \\\n",
       "from revision id to revision id timestamp           timegap          editor                                 \n",
       "286436           286907         2001-03-21 00:36:45 46 days 20:40:01 0|Larry_Sanger 0  slice(1, 32, None)   \n",
       "                                                                                    1  slice(4, 35, None)   \n",
       "\n",
       "                                                                                                                             left_token  \\\n",
       "from revision id to revision id timestamp           timegap          editor                                                               \n",
       "286436           286907         2001-03-21 00:36:45 46 days 20:40:01 0|Larry_Sanger 0                                 ({st@rt}, <, the)   \n",
       "                                                                                    1  ({st@rt}, <, the, following, is, a, portion, of)   \n",
       "\n",
       "                                                                                                                             right_token  \\\n",
       "from revision id to revision id timestamp           timegap          editor                                                                \n",
       "286436           286907         2001-03-21 00:36:45 46 days 20:40:01 0|Larry_Sanger 0  (<, the, following, is, a, portion, of, larrys...   \n",
       "                                                                                    1  (is, a, portion, of, larrystext, ,, wikificati...   \n",
       "\n",
       "                                                                                       ins_length  \\\n",
       "from revision id to revision id timestamp           timegap          editor                         \n",
       "286436           286907         2001-03-21 00:36:45 46 days 20:40:01 0|Larry_Sanger 0           4   \n",
       "                                                                                    1           1   \n",
       "\n",
       "                                                                                       del_length  \n",
       "from revision id to revision id timestamp           timegap          editor                        \n",
       "286436           286907         2001-03-21 00:36:45 46 days 20:40:01 0|Larry_Sanger 0           0  \n",
       "                                                                                    1           0  "
      ]
     },
     "execution_count": 5,
     "metadata": {},
     "output_type": "execute_result"
    }
   ],
   "source": [
    "change_object_dataframe[\"ins_length\"]= change_object_dataframe[\"ins_tokens\"].apply(lambda x: len(x))\n",
    "change_object_dataframe[\"del_length\"]= change_object_dataframe[\"del_tokens\"].apply(lambda x: len(x))\n",
    "change_object_dataframe.head(2)"
   ]
  },
  {
   "cell_type": "code",
   "execution_count": 9,
   "metadata": {},
   "outputs": [
    {
     "data": {
      "text/plain": [
       "(6608, 14)"
      ]
     },
     "execution_count": 9,
     "metadata": {},
     "output_type": "execute_result"
    }
   ],
   "source": [
    "bykau_change_object = inner_join_change_object[~((inner_join_change_object[\"ins_length\"] >5 ) | (inner_join_change_object[\"del_length\"] >5) )]\n",
    "bykau_change_object.shape"
   ]
  },
  {
   "cell_type": "code",
   "execution_count": 10,
   "metadata": {},
   "outputs": [
    {
     "data": {
      "text/html": [
       "<div>\n",
       "<style scoped>\n",
       "    .dataframe tbody tr th:only-of-type {\n",
       "        vertical-align: middle;\n",
       "    }\n",
       "\n",
       "    .dataframe tbody tr th {\n",
       "        vertical-align: top;\n",
       "    }\n",
       "\n",
       "    .dataframe thead th {\n",
       "        text-align: right;\n",
       "    }\n",
       "</style>\n",
       "<table border=\"1\" class=\"dataframe\">\n",
       "  <thead>\n",
       "    <tr style=\"text-align: right;\">\n",
       "      <th></th>\n",
       "      <th>ins_tokens</th>\n",
       "      <th>del_tokens</th>\n",
       "    </tr>\n",
       "  </thead>\n",
       "  <tbody>\n",
       "    <tr>\n",
       "      <th>0</th>\n",
       "      <td>([[,)</td>\n",
       "      <td>(&lt;, i, &gt;)</td>\n",
       "    </tr>\n",
       "    <tr>\n",
       "      <th>1</th>\n",
       "      <td>(]],)</td>\n",
       "      <td>(&lt;, /, i, &gt;)</td>\n",
       "    </tr>\n",
       "    <tr>\n",
       "      <th>2</th>\n",
       "      <td>(note, :)</td>\n",
       "      <td>(&lt;,)</td>\n",
       "    </tr>\n",
       "  </tbody>\n",
       "</table>\n",
       "</div>"
      ],
      "text/plain": [
       "  ins_tokens    del_tokens\n",
       "0      ([[,)     (<, i, >)\n",
       "1      (]],)  (<, /, i, >)\n",
       "2  (note, :)          (<,)"
      ]
     },
     "execution_count": 10,
     "metadata": {},
     "output_type": "execute_result"
    }
   ],
   "source": [
    "bykau_change_object.reset_index(drop=True)[[\"ins_tokens\", \"del_tokens\"]].head(3)"
   ]
  },
  {
   "cell_type": "markdown",
   "metadata": {},
   "source": [
    "### Removing low user support tokens"
   ]
  },
  {
   "cell_type": "code",
   "execution_count": 11,
   "metadata": {},
   "outputs": [
    {
     "data": {
      "text/plain": [
       "(3425, 14)"
      ]
     },
     "execution_count": 11,
     "metadata": {},
     "output_type": "execute_result"
    }
   ],
   "source": [
    "# bykau_change_object = bykau_change_object.reset_index()\n",
    "bykau_change_object = bykau_change_object.groupby(\"ins_tokens\").filter(lambda x : x.index.get_level_values(\"editor\").nunique()>=2)\n",
    "bykau_change_object = bykau_change_object.groupby(\"del_tokens\").filter(lambda x : x.index.get_level_values(\"editor\").nunique()>=2)\n",
    "bykau_change_object.shape"
   ]
  },
  {
   "cell_type": "code",
   "execution_count": 13,
   "metadata": {},
   "outputs": [],
   "source": [
    "bykau_change_object[\"left_string\"] = bykau_change_object[\"left_token\"].str.join(\" \")\n",
    "bykau_change_object[\"ins_string\"] = bykau_change_object[\"ins_tokens\"].str.join(\" \")\n",
    "bykau_change_object[\"del_string\"] = bykau_change_object[\"del_tokens\"].str.join(\" \")\n",
    "bykau_change_object[\"right_string\"] = bykau_change_object[\"right_token\"].str.join(\" \")"
   ]
  },
  {
   "cell_type": "markdown",
   "metadata": {},
   "source": [
    "### Clustering using jaccard"
   ]
  },
  {
   "cell_type": "markdown",
   "metadata": {},
   "source": [
    "##### Defining jaccard similarity function."
   ]
  },
  {
   "cell_type": "code",
   "execution_count": 14,
   "metadata": {},
   "outputs": [],
   "source": [
    "edit_tokens = bykau_change_object[\"ins_tokens\"] + bykau_change_object[\"del_tokens\"]\n",
    "left_neighbours = bykau_change_object[\"left_token\"].apply(lambda x: x[-r_thrshld:])\n",
    "right_neighbours = bykau_change_object[\"right_token\"].apply(lambda x: x[:r_thrshld])\n",
    "neighbour_tokens = left_neighbours + right_neighbours\n",
    "bykau_change_object[\"edit_tokens\"] = edit_tokens.apply(lambda x: np.unique(x))\n",
    "bykau_change_object[\"neighbour_tokens\"] = neighbour_tokens.apply(lambda x: np.unique(x))\n",
    "neighbour_vec=MultiLabelBinarizer().fit_transform(bykau_change_object[\"neighbour_tokens\"])"
   ]
  },
  {
   "cell_type": "code",
   "execution_count": 17,
   "metadata": {},
   "outputs": [],
   "source": [
    "db = DBSCAN(eps=1.5, min_samples=5, metric='jaccard').fit(neighbour_vec)\n",
    "bykau_change_object[\"neighbour_clusters\"] = db.labels_\n",
    "\n",
    "repers_first = bykau_change_object.groupby(\"neighbour_clusters\")[[\"left_string\",\"del_string\", \"ins_string\", \"right_string\"]].apply(lambda x: x.style.render())\n",
    "# bykau_change_object.head(2)"
   ]
  },
  {
   "cell_type": "code",
   "execution_count": 18,
   "metadata": {},
   "outputs": [
    {
     "data": {
      "application/vnd.jupyter.widget-view+json": {
       "model_id": "f4a84ff6c96d429ca38ae3d2b8b5e302",
       "version_major": 2,
       "version_minor": 0
      },
      "text/plain": [
       "interactive(children=(Dropdown(description='group', options=(0,), value=0), Output()), _dom_classes=('widget-i…"
      ]
     },
     "metadata": {},
     "output_type": "display_data"
    }
   ],
   "source": [
    "@interact( clusters_html=fixed(repers_first), group=range(bykau_change_object.groupby(\"neighbour_clusters\").ngroups))\n",
    "def display_clusters(clusters_html, group):\n",
    "     return display(HTML(clusters_html.iloc[group]))"
   ]
  },
  {
   "cell_type": "code",
   "execution_count": 30,
   "metadata": {},
   "outputs": [],
   "source": [
    "# clustered_bykau_change_object = bykau_change_object[bykau_change_object[\"neighbour_clusters\"]!= -1]\n",
    "# group_edit_tokens = clustered_bykau_change_object.groupby(\"neighbour_clusters\")[\"edit_tokens\"].apply(lambda x: set(np.concatenate(x.values.ravel(), axis=0)))\n",
    "# context_vec = MultiLabelBinarizer().fit_transform(group_edit_tokens)\n",
    "# group_edit_dataframe = pd.DataFrame(group_edit_tokens.reset_index())\n",
    "\n",
    "# db = DBSCAN(eps=0.8, min_samples=2, metric='jaccard').fit(context_vec)\n",
    "# group_edit_dataframe[\"reclustered_group\"] = db.labels_\n",
    "# group_edit_dataframe = group_edit_dataframe[group_edit_dataframe[\"reclustered_group\"]!= -1]\n",
    "\n",
    "\n",
    "\n",
    "# final_dataframe = pd.merge( clustered_bykau_change_object, group_edit_dataframe[[\"reclustered_group\", \"neighbour_clusters\"]], how=\"left\",on=\"neighbour_clusters\")\n",
    "\n",
    "# final_dataframe.index = clustered_bykau_change_object.index"
   ]
  },
  {
   "cell_type": "markdown",
   "metadata": {},
   "source": [
    "#### Saving change object and its clusters"
   ]
  },
  {
   "cell_type": "code",
   "execution_count": 31,
   "metadata": {},
   "outputs": [
    {
     "name": "stderr",
     "output_type": "stream",
     "text": [
      "/home/ubuntu/anaconda3/envs/wrod2vec/lib/python3.6/site-packages/IPython/core/interactiveshell.py:2903: PerformanceWarning: \n",
      "your performance may suffer as PyTables will pickle object types that it cannot\n",
      "map directly to c-types [inferred_type->mixed,key->block2_values] [items->['ins_tokens', 'del_tokens', 'left_neigh_slice', 'right_neigh_slice', 'left_token', 'right_token', 'left_string', 'ins_string', 'del_string', 'right_string', 'edit_tokens', 'neighbour_tokens']]\n",
      "\n",
      "  if self.run_code(code, result):\n"
     ]
    }
   ],
   "source": [
    "bykau_dir =  \"../data/bykau_change_object/\"\n",
    "filename =  f\"{article_name}_change.h5\"\n",
    "\n",
    "change_object_file = os.path.join(bykau_dir, filename)\n",
    "with pd.HDFStore(change_object_file, 'w') as store:\n",
    "    store.put(\"data\", final_dataframe,)"
   ]
  },
  {
   "cell_type": "markdown",
   "metadata": {},
   "source": [
    "### Grouping and showing clusters"
   ]
  },
  {
   "cell_type": "code",
   "execution_count": 19,
   "metadata": {},
   "outputs": [],
   "source": [
    "final_dataframe[\"left_string\"] = final_dataframe[\"left_token\"].str.join(\" \")\n",
    "final_dataframe[\"ins_string\"] = final_dataframe[\"ins_tokens\"].str.join(\" \")\n",
    "final_dataframe[\"del_string\"] = final_dataframe[\"del_tokens\"].str.join(\" \")\n",
    "final_dataframe[\"right_string\"] = final_dataframe[\"right_token\"].str.join(\" \")"
   ]
  },
  {
   "cell_type": "code",
   "execution_count": 20,
   "metadata": {},
   "outputs": [],
   "source": [
    "final_dataframe_grouped = final_dataframe.groupby(\"reclustered_group\")"
   ]
  },
  {
   "cell_type": "code",
   "execution_count": 21,
   "metadata": {},
   "outputs": [],
   "source": [
    "repers = final_dataframe_grouped[[\"left_string\",\"del_string\", \"ins_string\", \"right_string\"]].apply(lambda x: x.style.render())"
   ]
  },
  {
   "cell_type": "code",
   "execution_count": 22,
   "metadata": {},
   "outputs": [],
   "source": [
    "# all_html = \" \".join(repers_4_full)\n",
    "# file_name = article_name + \"_4_full_\"+str(NO_OF_CLUSTERS) + \"_clusters.html\"\n",
    "# file_path = os.path.join(\"./visualisation\", file_name)\n",
    "# with open(file_path, 'wb') as f:\n",
    "#     f.write(all_html.encode())"
   ]
  },
  {
   "cell_type": "markdown",
   "metadata": {},
   "source": [
    "## Vaisualisation of clusters\n",
    "##### Rerun next cell each time this notebook is reloaded, this is a bug in current jupyterlab."
   ]
  },
  {
   "cell_type": "code",
   "execution_count": 23,
   "metadata": {},
   "outputs": [
    {
     "data": {
      "application/vnd.jupyter.widget-view+json": {
       "model_id": "ac209f57ca074552bb69a578d65fdc23",
       "version_major": 2,
       "version_minor": 0
      },
      "text/plain": [
       "interactive(children=(Dropdown(description='group', options=(), value=None), Output()), _dom_classes=('widget-…"
      ]
     },
     "metadata": {},
     "output_type": "display_data"
    }
   ],
   "source": [
    "@interact( clusters_html=fixed(repers), group=range(final_dataframe_grouped.ngroups))\n",
    "def display_clusters(clusters_html, group):\n",
    "     return display(HTML(clusters_html.iloc[group]))\n"
   ]
  },
  {
   "cell_type": "code",
   "execution_count": null,
   "metadata": {},
   "outputs": [],
   "source": []
  }
 ],
 "metadata": {
  "kernelspec": {
   "display_name": "Python 3",
   "language": "python",
   "name": "python3"
  },
  "language_info": {
   "codemirror_mode": {
    "name": "ipython",
    "version": 3
   },
   "file_extension": ".py",
   "mimetype": "text/x-python",
   "name": "python",
   "nbconvert_exporter": "python",
   "pygments_lexer": "ipython3",
   "version": "3.6.6"
  }
 },
 "nbformat": 4,
 "nbformat_minor": 2
}
