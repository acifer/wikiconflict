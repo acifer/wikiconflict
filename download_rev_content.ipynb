{
 "cells": [
  {
   "cell_type": "code",
   "execution_count": 1,
   "metadata": {},
   "outputs": [],
   "source": [
    "import requests\n",
    "import numpy as np\n",
    "import pandas as pd\n",
    "import os\n",
    "import traceback"
   ]
  },
  {
   "cell_type": "code",
   "execution_count": 2,
   "metadata": {},
   "outputs": [],
   "source": [
    "def get_contents(baseurl, content, start_rev_id, end_rev_id=\"\"):\n",
    "    content_url = os.path.join(baseurl, \"rev_content\", content, str(start_rev_id)+\"/\")\n",
    "    if end_rev_id:\n",
    "        content_url = os.path.join(content_url, str(end_rev_id)+\"/\")\n",
    "    params = { \"o_rev_id\": \"false\", \"editor\": \"false\", \"token_id\": \"true\", \"in\": \"false\", \"out\": \"false\" }\n",
    "    try:\n",
    "        response = requests.get(content_url, params= params)\n",
    "        if response.status_code == requests.codes.ok: \n",
    "            response = response.json()\n",
    "            if \"revisions\" in response.keys() :\n",
    "                return response[\"revisions\"]\n",
    "            elif \"revisions\" not in response.keys() : \n",
    "                raise AttributeError(\"Server did not return revisions key it returned \\t\"+response.keys())\n",
    "        elif response.status_code != requests.codes.ok : \n",
    "            raise AttributeError(\"Server returned bad code\\t\"+response.status_code)\n",
    "    except:\n",
    "        print(traceback.format_exc())"
   ]
  },
  {
   "cell_type": "code",
   "execution_count": 3,
   "metadata": {},
   "outputs": [],
   "source": [
    "def tokens_to_df(tokens):\n",
    "    tokens.insert(0, {'token_id':-1, 'str':  \"{st@rt}\"})\n",
    "    tokens.append({'token_id':-2, 'str': \"{$nd}\"})\n",
    "    return pd.DataFrame(tokens)"
   ]
  },
  {
   "cell_type": "code",
   "execution_count": 4,
   "metadata": {},
   "outputs": [],
   "source": [
    "def save_content(revison_series, filename, content, step=200, baseurl=\"https://api.wikiwho.net/en/api/v1.0.0-beta/\"):\n",
    "    end_index = revison_series.size\n",
    "    from_index = 0\n",
    "    with pd.HDFStore(filename, 'a') as store:\n",
    "        try:\n",
    "            for to_index in  range(0, end_index, step):    \n",
    "                rev_contents = get_contents(baseurl, content, str(revison_series[from_index]), str(revison_series[to_index]))\n",
    "                from_index = to_index\n",
    "                for rev_content in rev_contents:\n",
    "                    key = \"r\"+list(rev_content.keys())[0]\n",
    "                    df = tokens_to_df(list(rev_content.values())[0][\"tokens\"])\n",
    "                    store.put(key, df, table=False)\n",
    "            to_index = from_index + (end_index-1)%step\n",
    "            rev_contents = get_contents(baseurl, content, str(revison_series[from_index]), str(revison_series[to_index]))\n",
    "            rev_contents.extend(get_contents(baseurl, content, str(revison_series[to_index])))\n",
    "            for rev_content in rev_contents:\n",
    "                key = \"r\"+list(rev_content.keys())[0]\n",
    "                df = tokens_to_df(list(rev_content.values())[0][\"tokens\"])\n",
    "                store.put(key, df, table=False)\n",
    "        except:\n",
    "            print(\"problem \", traceback.format_exc())"
   ]
  },
  {
   "cell_type": "code",
   "execution_count": 5,
   "metadata": {},
   "outputs": [],
   "source": [
    "def save_article(article_name, baseurl=\"https://api.wikiwho.net/en/api/v1.0.0-beta/\", step=200):\n",
    "    params = {\"editor\": \"true\", \"timestamp\": \"true\"}\n",
    "    filename = article_name + \".h5\"\n",
    "    revisions_url = os.path.join( baseurl, \"rev_ids\", article_name+\"/\")\n",
    "    response = requests.get(revisions_url, params= params)\n",
    "    revisons_list = response.json()[\"revisions\"]\n",
    "    rev_list_df = pd.DataFrame(revisons_list)\n",
    "    with pd.HDFStore(filename, 'a') as store:\n",
    "        store.put(\"rev_list\", rev_list_df, table=False)\n",
    "    save_content(rev_list_df[\"id\"], filename, article_name, step=step)"
   ]
  },
  {
   "cell_type": "code",
   "execution_count": 6,
   "metadata": {},
   "outputs": [],
   "source": [
    "# baseurl = \"https://api.wikiwho.net/en/api/v1.0.0-beta/\"\n",
    "# content = \"Violence_against_Muslims_in_India\"\n",
    "# params = {\"editor\": \"true\", \"timestamp\": \"true\"}\n",
    "# filename = content + \".h5\"\n",
    "# revisions_url = os.path.join( baseurl, \"rev_ids\", content+\"/\")\n",
    "# response = requests.get(revisions_url, params= params)\n",
    "# revisons_list = response.json()[\"revisions\"]\n",
    "# rev_list_df = pd.DataFrame(revisons_list)\n",
    "# with pd.HDFStore(filename, 'a') as store:\n",
    "#     store.put(\"rev_list\", rev_list_df, table=False)\n",
    "\n",
    "# %time save_content(rev_list_df[\"id\"], filename, content, step=200)\n",
    "\n",
    "# %time save_content(rev_list_df[\"id\"], filename, content, step=50)\n",
    "\n",
    "# %time save_content(rev_list_df[\"id\"], filename, content, step=20)"
   ]
  },
  {
   "cell_type": "code",
   "execution_count": 7,
   "metadata": {},
   "outputs": [],
   "source": [
    "article_series=pd.read_csv(\"conflicted_article.csv\")[\"articles\"]"
   ]
  },
  {
   "cell_type": "code",
   "execution_count": 8,
   "metadata": {},
   "outputs": [],
   "source": [
    "save_article(\"Violence_against_Muslims_in_India\")"
   ]
  },
  {
   "cell_type": "code",
   "execution_count": null,
   "metadata": {},
   "outputs": [
    {
     "name": "stdout",
     "output_type": "stream",
     "text": [
      "Christianity\n"
     ]
    }
   ],
   "source": [
    "%%time\n",
    "for article in article_series[1:]:\n",
    "    print(article)\n",
    "    save_article(article)"
   ]
  },
  {
   "cell_type": "code",
   "execution_count": null,
   "metadata": {},
   "outputs": [],
   "source": []
  }
 ],
 "metadata": {
  "kernelspec": {
   "display_name": "Python 3",
   "language": "python",
   "name": "python3"
  },
  "language_info": {
   "codemirror_mode": {
    "name": "ipython",
    "version": 3
   },
   "file_extension": ".py",
   "mimetype": "text/x-python",
   "name": "python",
   "nbconvert_exporter": "python",
   "pygments_lexer": "ipython3",
   "version": "3.6.4"
  }
 },
 "nbformat": 4,
 "nbformat_minor": 2
}
