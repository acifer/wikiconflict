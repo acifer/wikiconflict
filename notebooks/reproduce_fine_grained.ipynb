{
 "cells": [
  {
   "cell_type": "code",
   "execution_count": 1,
   "metadata": {},
   "outputs": [],
   "source": [
    "import sys,os\n",
    "sys.path.append(\"../\")\n",
    "import gensim\n",
    "from gensim.models import KeyedVectors\n",
    "from gensim.models.fasttext import FastText as FT_gensim\n",
    "import pandas as pd\n",
    "import numpy as np\n",
    "from sklearn.cluster import KMeans\n",
    "import matplotlib.pyplot as plt\n",
    "from IPython.display import HTML\n",
    "%matplotlib inline\n",
    "from ipywidgets import interact, interactive, fixed, interact_manual\n",
    "import ipywidgets as widgets\n",
    "from scipy import stats\n",
    "from sklearn.cluster import DBSCAN\n",
    "from sklearn.preprocessing import LabelEncoder\n",
    "from sklearn.preprocessing import OneHotEncoder\n",
    "from sklearn.preprocessing import MultiLabelBinarizer"
   ]
  },
  {
   "cell_type": "markdown",
   "metadata": {
    "slideshow": {
     "slide_type": "slide"
    }
   },
   "source": [
    "## reading the change object and clustering."
   ]
  },
  {
   "cell_type": "code",
   "execution_count": 2,
   "metadata": {},
   "outputs": [],
   "source": [
    "article_name = \"Truth\"\n",
    "change_object_dir =  \"../data/change objects/\"\n",
    "filename =  f\"{article_name}_change.h5\"\n",
    "\n",
    "change_object_file = os.path.join(change_object_dir, filename)"
   ]
  },
  {
   "cell_type": "code",
   "execution_count": 3,
   "metadata": {},
   "outputs": [
    {
     "data": {
      "text/plain": [
       "(31777, 6)"
      ]
     },
     "execution_count": 3,
     "metadata": {},
     "output_type": "execute_result"
    }
   ],
   "source": [
    "if os.path.exists(change_object_file):\n",
    "    with pd.HDFStore(change_object_file, 'r') as store:\n",
    "        change_object_dataframe = store.get(\"data\")\n",
    "else:\n",
    "    print(\"file do not exist\")\n",
    "change_object_dataframe.shape"
   ]
  },
  {
   "cell_type": "markdown",
   "metadata": {},
   "source": [
    "## Reduce the change object."
   ]
  },
  {
   "cell_type": "code",
   "execution_count": 4,
   "metadata": {},
   "outputs": [
    {
     "data": {
      "text/html": [
       "<div>\n",
       "<style scoped>\n",
       "    .dataframe tbody tr th:only-of-type {\n",
       "        vertical-align: middle;\n",
       "    }\n",
       "\n",
       "    .dataframe tbody tr th {\n",
       "        vertical-align: top;\n",
       "    }\n",
       "\n",
       "    .dataframe thead th {\n",
       "        text-align: right;\n",
       "    }\n",
       "</style>\n",
       "<table border=\"1\" class=\"dataframe\">\n",
       "  <thead>\n",
       "    <tr style=\"text-align: right;\">\n",
       "      <th></th>\n",
       "      <th></th>\n",
       "      <th></th>\n",
       "      <th></th>\n",
       "      <th></th>\n",
       "      <th></th>\n",
       "      <th>ins_tokens</th>\n",
       "      <th>del_tokens</th>\n",
       "      <th>left_neigh</th>\n",
       "      <th>right_neigh</th>\n",
       "      <th>left_token</th>\n",
       "      <th>right_token</th>\n",
       "      <th>ins_length</th>\n",
       "      <th>del_length</th>\n",
       "    </tr>\n",
       "    <tr>\n",
       "      <th>from revision id</th>\n",
       "      <th>to revision id</th>\n",
       "      <th>timestamp</th>\n",
       "      <th>timegap</th>\n",
       "      <th>editor</th>\n",
       "      <th></th>\n",
       "      <th></th>\n",
       "      <th></th>\n",
       "      <th></th>\n",
       "      <th></th>\n",
       "      <th></th>\n",
       "      <th></th>\n",
       "      <th></th>\n",
       "      <th></th>\n",
       "    </tr>\n",
       "  </thead>\n",
       "  <tbody>\n",
       "    <tr>\n",
       "      <th rowspan=\"5\" valign=\"top\">286436</th>\n",
       "      <th rowspan=\"5\" valign=\"top\">286907</th>\n",
       "      <th rowspan=\"5\" valign=\"top\">2001-03-21 00:36:45</th>\n",
       "      <th rowspan=\"5\" valign=\"top\">46 days 20:40:01</th>\n",
       "      <th rowspan=\"5\" valign=\"top\">0|Larry_Sanger</th>\n",
       "      <th>0</th>\n",
       "      <td>(-, -, -, -)</td>\n",
       "      <td>()</td>\n",
       "      <td>slice(0, 3, None)</td>\n",
       "      <td>slice(1, 32, None)</td>\n",
       "      <td>({st@rt}, &lt;, the)</td>\n",
       "      <td>(&lt;, the, following, is, a, portion, of, larrys...</td>\n",
       "      <td>4</td>\n",
       "      <td>0</td>\n",
       "    </tr>\n",
       "    <tr>\n",
       "      <th>1</th>\n",
       "      <td>(foregoing,)</td>\n",
       "      <td>()</td>\n",
       "      <td>slice(0, 8, None)</td>\n",
       "      <td>slice(4, 35, None)</td>\n",
       "      <td>({st@rt}, &lt;, the, following, is, a, portion, of)</td>\n",
       "      <td>(is, a, portion, of, larrystext, ,, wikificati...</td>\n",
       "      <td>1</td>\n",
       "      <td>0</td>\n",
       "    </tr>\n",
       "    <tr>\n",
       "      <th>2</th>\n",
       "      <td>([[, larrys, text, ]], ., if, you, can, do, be...</td>\n",
       "      <td>()</td>\n",
       "      <td>slice(0, 10, None)</td>\n",
       "      <td>slice(9, 40, None)</td>\n",
       "      <td>({st@rt}, &lt;, the, following, is, a, portion, o...</td>\n",
       "      <td>(,, wikification, is, encouraged, &gt;, what, is,...</td>\n",
       "      <td>10</td>\n",
       "      <td>0</td>\n",
       "    </tr>\n",
       "    <tr>\n",
       "      <th>3</th>\n",
       "      <td>(you, can, feel, free, to, radically, update, ...</td>\n",
       "      <td>()</td>\n",
       "      <td>slice(4212, 4243, None)</td>\n",
       "      <td>slice(13, 44, None)</td>\n",
       "      <td>(to, rest, content, with, any, sort, of, relat...</td>\n",
       "      <td>(&gt;, what, is, truth, ?, we, ’, ll, look, at, a...</td>\n",
       "      <td>37</td>\n",
       "      <td>0</td>\n",
       "    </tr>\n",
       "    <tr>\n",
       "      <th>4</th>\n",
       "      <td>()</td>\n",
       "      <td>(following,)</td>\n",
       "      <td>slice(0, 3, None)</td>\n",
       "      <td>slice(4, 35, None)</td>\n",
       "      <td>({st@rt}, &lt;, the)</td>\n",
       "      <td>(is, a, portion, of, larrystext, ,, wikificati...</td>\n",
       "      <td>0</td>\n",
       "      <td>1</td>\n",
       "    </tr>\n",
       "  </tbody>\n",
       "</table>\n",
       "</div>"
      ],
      "text/plain": [
       "                                                                                                                              ins_tokens  \\\n",
       "from revision id to revision id timestamp           timegap          editor                                                                \n",
       "286436           286907         2001-03-21 00:36:45 46 days 20:40:01 0|Larry_Sanger 0                                       (-, -, -, -)   \n",
       "                                                                                    1                                       (foregoing,)   \n",
       "                                                                                    2  ([[, larrys, text, ]], ., if, you, can, do, be...   \n",
       "                                                                                    3  (you, can, feel, free, to, radically, update, ...   \n",
       "                                                                                    4                                                 ()   \n",
       "\n",
       "                                                                                         del_tokens  \\\n",
       "from revision id to revision id timestamp           timegap          editor                           \n",
       "286436           286907         2001-03-21 00:36:45 46 days 20:40:01 0|Larry_Sanger 0            ()   \n",
       "                                                                                    1            ()   \n",
       "                                                                                    2            ()   \n",
       "                                                                                    3            ()   \n",
       "                                                                                    4  (following,)   \n",
       "\n",
       "                                                                                                    left_neigh  \\\n",
       "from revision id to revision id timestamp           timegap          editor                                      \n",
       "286436           286907         2001-03-21 00:36:45 46 days 20:40:01 0|Larry_Sanger 0        slice(0, 3, None)   \n",
       "                                                                                    1        slice(0, 8, None)   \n",
       "                                                                                    2       slice(0, 10, None)   \n",
       "                                                                                    3  slice(4212, 4243, None)   \n",
       "                                                                                    4        slice(0, 3, None)   \n",
       "\n",
       "                                                                                               right_neigh  \\\n",
       "from revision id to revision id timestamp           timegap          editor                                  \n",
       "286436           286907         2001-03-21 00:36:45 46 days 20:40:01 0|Larry_Sanger 0   slice(1, 32, None)   \n",
       "                                                                                    1   slice(4, 35, None)   \n",
       "                                                                                    2   slice(9, 40, None)   \n",
       "                                                                                    3  slice(13, 44, None)   \n",
       "                                                                                    4   slice(4, 35, None)   \n",
       "\n",
       "                                                                                                                              left_token  \\\n",
       "from revision id to revision id timestamp           timegap          editor                                                                \n",
       "286436           286907         2001-03-21 00:36:45 46 days 20:40:01 0|Larry_Sanger 0                                  ({st@rt}, <, the)   \n",
       "                                                                                    1   ({st@rt}, <, the, following, is, a, portion, of)   \n",
       "                                                                                    2  ({st@rt}, <, the, following, is, a, portion, o...   \n",
       "                                                                                    3  (to, rest, content, with, any, sort, of, relat...   \n",
       "                                                                                    4                                  ({st@rt}, <, the)   \n",
       "\n",
       "                                                                                                                             right_token  \\\n",
       "from revision id to revision id timestamp           timegap          editor                                                                \n",
       "286436           286907         2001-03-21 00:36:45 46 days 20:40:01 0|Larry_Sanger 0  (<, the, following, is, a, portion, of, larrys...   \n",
       "                                                                                    1  (is, a, portion, of, larrystext, ,, wikificati...   \n",
       "                                                                                    2  (,, wikification, is, encouraged, >, what, is,...   \n",
       "                                                                                    3  (>, what, is, truth, ?, we, ’, ll, look, at, a...   \n",
       "                                                                                    4  (is, a, portion, of, larrystext, ,, wikificati...   \n",
       "\n",
       "                                                                                       ins_length  \\\n",
       "from revision id to revision id timestamp           timegap          editor                         \n",
       "286436           286907         2001-03-21 00:36:45 46 days 20:40:01 0|Larry_Sanger 0           4   \n",
       "                                                                                    1           1   \n",
       "                                                                                    2          10   \n",
       "                                                                                    3          37   \n",
       "                                                                                    4           0   \n",
       "\n",
       "                                                                                       del_length  \n",
       "from revision id to revision id timestamp           timegap          editor                        \n",
       "286436           286907         2001-03-21 00:36:45 46 days 20:40:01 0|Larry_Sanger 0           0  \n",
       "                                                                                    1           0  \n",
       "                                                                                    2           0  \n",
       "                                                                                    3           0  \n",
       "                                                                                    4           1  "
      ]
     },
     "execution_count": 4,
     "metadata": {},
     "output_type": "execute_result"
    }
   ],
   "source": [
    "change_object_dataframe[\"ins_length\"]= change_object_dataframe[\"ins_tokens\"].apply(lambda x: len(x))\n",
    "change_object_dataframe[\"del_length\"]= change_object_dataframe[\"del_tokens\"].apply(lambda x: len(x))\n",
    "change_object_dataframe.head(5)"
   ]
  },
  {
   "cell_type": "code",
   "execution_count": 5,
   "metadata": {},
   "outputs": [
    {
     "data": {
      "text/plain": [
       "(11562, 8)"
      ]
     },
     "metadata": {},
     "output_type": "display_data"
    },
    {
     "data": {
      "text/html": [
       "<div>\n",
       "<style scoped>\n",
       "    .dataframe tbody tr th:only-of-type {\n",
       "        vertical-align: middle;\n",
       "    }\n",
       "\n",
       "    .dataframe tbody tr th {\n",
       "        vertical-align: top;\n",
       "    }\n",
       "\n",
       "    .dataframe thead th {\n",
       "        text-align: right;\n",
       "    }\n",
       "</style>\n",
       "<table border=\"1\" class=\"dataframe\">\n",
       "  <thead>\n",
       "    <tr style=\"text-align: right;\">\n",
       "      <th></th>\n",
       "      <th></th>\n",
       "      <th></th>\n",
       "      <th></th>\n",
       "      <th></th>\n",
       "      <th></th>\n",
       "      <th>ins_tokens</th>\n",
       "      <th>del_tokens</th>\n",
       "      <th>left_neigh</th>\n",
       "      <th>right_neigh</th>\n",
       "      <th>left_token</th>\n",
       "      <th>right_token</th>\n",
       "      <th>ins_length</th>\n",
       "      <th>del_length</th>\n",
       "    </tr>\n",
       "    <tr>\n",
       "      <th>from revision id</th>\n",
       "      <th>to revision id</th>\n",
       "      <th>timestamp</th>\n",
       "      <th>timegap</th>\n",
       "      <th>editor</th>\n",
       "      <th></th>\n",
       "      <th></th>\n",
       "      <th></th>\n",
       "      <th></th>\n",
       "      <th></th>\n",
       "      <th></th>\n",
       "      <th></th>\n",
       "      <th></th>\n",
       "      <th></th>\n",
       "    </tr>\n",
       "  </thead>\n",
       "  <tbody>\n",
       "    <tr>\n",
       "      <th rowspan=\"3\" valign=\"top\">86265</th>\n",
       "      <th rowspan=\"3\" valign=\"top\">92264</th>\n",
       "      <th rowspan=\"3\" valign=\"top\">2002-06-06 01:59:44</th>\n",
       "      <th rowspan=\"3\" valign=\"top\">100 days 10:16:33</th>\n",
       "      <th rowspan=\"3\" valign=\"top\">122</th>\n",
       "      <th>2</th>\n",
       "      <td>([[,)</td>\n",
       "      <td>(&lt;, i, &gt;)</td>\n",
       "      <td>slice(0, 27, None)</td>\n",
       "      <td>slice(30, 61, None)</td>\n",
       "      <td>({st@rt}, what, is, truth, ?, we, ’, ll, look,...</td>\n",
       "      <td>(correspondence, &lt;, /, i, &gt;, &lt;, i, &gt;, theory, ...</td>\n",
       "      <td>1</td>\n",
       "      <td>3</td>\n",
       "    </tr>\n",
       "    <tr>\n",
       "      <th>3</th>\n",
       "      <td>(]],)</td>\n",
       "      <td>(&lt;, /, i, &gt;)</td>\n",
       "      <td>slice(8, 39, None)</td>\n",
       "      <td>slice(43, 74, None)</td>\n",
       "      <td>(look, at, a, number, of, answers, to, this, q...</td>\n",
       "      <td>(,, and, we, can, define, it, as, follows, :, ...</td>\n",
       "      <td>1</td>\n",
       "      <td>4</td>\n",
       "    </tr>\n",
       "    <tr>\n",
       "      <th>14</th>\n",
       "      <td>(note, :)</td>\n",
       "      <td>(&lt;,)</td>\n",
       "      <td>slice(4205, 4236, None)</td>\n",
       "      <td>slice(4237, 4268, None)</td>\n",
       "      <td>(any, sort, of, relativism, that, says, that, ...</td>\n",
       "      <td>(the, foregoing, is, a, portion, of, [[, larry...</td>\n",
       "      <td>2</td>\n",
       "      <td>1</td>\n",
       "    </tr>\n",
       "    <tr>\n",
       "      <th>92264</th>\n",
       "      <th>165756</th>\n",
       "      <th>2002-06-12 02:59:57</th>\n",
       "      <th>6 days 01:00:13</th>\n",
       "      <th>0|217.168.172.202</th>\n",
       "      <th>0</th>\n",
       "      <td>(peirce,)</td>\n",
       "      <td>(pierce,)</td>\n",
       "      <td>slice(2598, 2629, None)</td>\n",
       "      <td>slice(2630, 2661, None)</td>\n",
       "      <td>(of, truth, or, of, justification, ., i, ’, ll...</td>\n",
       "      <td>(]], (, pronounced, \", purse, \", ), and, [[, w...</td>\n",
       "      <td>1</td>\n",
       "      <td>1</td>\n",
       "    </tr>\n",
       "    <tr>\n",
       "      <th>353876</th>\n",
       "      <th>431091</th>\n",
       "      <th>2002-10-12 23:05:02</th>\n",
       "      <th>24 days 10:22:42</th>\n",
       "      <th>216</th>\n",
       "      <th>0</th>\n",
       "      <td>(is, the, subject, of, much, theorizing, by, p...</td>\n",
       "      <td>(?, we, ’, ll, look, at)</td>\n",
       "      <td>slice(16, 47, None)</td>\n",
       "      <td>slice(53, 84, None)</td>\n",
       "      <td>(truth, ]], ., for, other, forms, of, truth, ,...</td>\n",
       "      <td>(a, number, of, answers, to, this, question, t...</td>\n",
       "      <td>12</td>\n",
       "      <td>6</td>\n",
       "    </tr>\n",
       "  </tbody>\n",
       "</table>\n",
       "</div>"
      ],
      "text/plain": [
       "                                                                                                                                   ins_tokens  \\\n",
       "from revision id to revision id timestamp           timegap           editor                                                                    \n",
       "86265            92264          2002-06-06 01:59:44 100 days 10:16:33 122               2                                               ([[,)   \n",
       "                                                                                        3                                               (]],)   \n",
       "                                                                                        14                                          (note, :)   \n",
       "92264            165756         2002-06-12 02:59:57 6 days 01:00:13   0|217.168.172.202 0                                           (peirce,)   \n",
       "353876           431091         2002-10-12 23:05:02 24 days 10:22:42  216               0   (is, the, subject, of, much, theorizing, by, p...   \n",
       "\n",
       "                                                                                                          del_tokens  \\\n",
       "from revision id to revision id timestamp           timegap           editor                                           \n",
       "86265            92264          2002-06-06 01:59:44 100 days 10:16:33 122               2                  (<, i, >)   \n",
       "                                                                                        3               (<, /, i, >)   \n",
       "                                                                                        14                      (<,)   \n",
       "92264            165756         2002-06-12 02:59:57 6 days 01:00:13   0|217.168.172.202 0                  (pierce,)   \n",
       "353876           431091         2002-10-12 23:05:02 24 days 10:22:42  216               0   (?, we, ’, ll, look, at)   \n",
       "\n",
       "                                                                                                         left_neigh  \\\n",
       "from revision id to revision id timestamp           timegap           editor                                          \n",
       "86265            92264          2002-06-06 01:59:44 100 days 10:16:33 122               2        slice(0, 27, None)   \n",
       "                                                                                        3        slice(8, 39, None)   \n",
       "                                                                                        14  slice(4205, 4236, None)   \n",
       "92264            165756         2002-06-12 02:59:57 6 days 01:00:13   0|217.168.172.202 0   slice(2598, 2629, None)   \n",
       "353876           431091         2002-10-12 23:05:02 24 days 10:22:42  216               0       slice(16, 47, None)   \n",
       "\n",
       "                                                                                                        right_neigh  \\\n",
       "from revision id to revision id timestamp           timegap           editor                                          \n",
       "86265            92264          2002-06-06 01:59:44 100 days 10:16:33 122               2       slice(30, 61, None)   \n",
       "                                                                                        3       slice(43, 74, None)   \n",
       "                                                                                        14  slice(4237, 4268, None)   \n",
       "92264            165756         2002-06-12 02:59:57 6 days 01:00:13   0|217.168.172.202 0   slice(2630, 2661, None)   \n",
       "353876           431091         2002-10-12 23:05:02 24 days 10:22:42  216               0       slice(53, 84, None)   \n",
       "\n",
       "                                                                                                                                   left_token  \\\n",
       "from revision id to revision id timestamp           timegap           editor                                                                    \n",
       "86265            92264          2002-06-06 01:59:44 100 days 10:16:33 122               2   ({st@rt}, what, is, truth, ?, we, ’, ll, look,...   \n",
       "                                                                                        3   (look, at, a, number, of, answers, to, this, q...   \n",
       "                                                                                        14  (any, sort, of, relativism, that, says, that, ...   \n",
       "92264            165756         2002-06-12 02:59:57 6 days 01:00:13   0|217.168.172.202 0   (of, truth, or, of, justification, ., i, ’, ll...   \n",
       "353876           431091         2002-10-12 23:05:02 24 days 10:22:42  216               0   (truth, ]], ., for, other, forms, of, truth, ,...   \n",
       "\n",
       "                                                                                                                                  right_token  \\\n",
       "from revision id to revision id timestamp           timegap           editor                                                                    \n",
       "86265            92264          2002-06-06 01:59:44 100 days 10:16:33 122               2   (correspondence, <, /, i, >, <, i, >, theory, ...   \n",
       "                                                                                        3   (,, and, we, can, define, it, as, follows, :, ...   \n",
       "                                                                                        14  (the, foregoing, is, a, portion, of, [[, larry...   \n",
       "92264            165756         2002-06-12 02:59:57 6 days 01:00:13   0|217.168.172.202 0   (]], (, pronounced, \", purse, \", ), and, [[, w...   \n",
       "353876           431091         2002-10-12 23:05:02 24 days 10:22:42  216               0   (a, number, of, answers, to, this, question, t...   \n",
       "\n",
       "                                                                                            ins_length  \\\n",
       "from revision id to revision id timestamp           timegap           editor                             \n",
       "86265            92264          2002-06-06 01:59:44 100 days 10:16:33 122               2            1   \n",
       "                                                                                        3            1   \n",
       "                                                                                        14           2   \n",
       "92264            165756         2002-06-12 02:59:57 6 days 01:00:13   0|217.168.172.202 0            1   \n",
       "353876           431091         2002-10-12 23:05:02 24 days 10:22:42  216               0           12   \n",
       "\n",
       "                                                                                            del_length  \n",
       "from revision id to revision id timestamp           timegap           editor                            \n",
       "86265            92264          2002-06-06 01:59:44 100 days 10:16:33 122               2            3  \n",
       "                                                                                        3            4  \n",
       "                                                                                        14           1  \n",
       "92264            165756         2002-06-12 02:59:57 6 days 01:00:13   0|217.168.172.202 0            1  \n",
       "353876           431091         2002-10-12 23:05:02 24 days 10:22:42  216               0            6  "
      ]
     },
     "execution_count": 5,
     "metadata": {},
     "output_type": "execute_result"
    }
   ],
   "source": [
    "inner_join_change_object = change_object_dataframe[(change_object_dataframe[\"ins_tokens\"]!=()) & (change_object_dataframe[\"del_tokens\"]!=())]\n",
    "display(inner_join_change_object.shape)\n",
    "inner_join_change_object.head()"
   ]
  },
  {
   "cell_type": "markdown",
   "metadata": {},
   "source": [
    "### Removing change object with insert or delete token size more than five."
   ]
  },
  {
   "cell_type": "code",
   "execution_count": 6,
   "metadata": {},
   "outputs": [
    {
     "data": {
      "text/plain": [
       "(6608, 8)"
      ]
     },
     "execution_count": 6,
     "metadata": {},
     "output_type": "execute_result"
    }
   ],
   "source": [
    "bykau_change_object = inner_join_change_object[~((inner_join_change_object[\"ins_length\"] >5 ) | (inner_join_change_object[\"del_length\"] >5) )]\n",
    "bykau_change_object.shape"
   ]
  },
  {
   "cell_type": "code",
   "execution_count": 7,
   "metadata": {},
   "outputs": [
    {
     "data": {
      "text/html": [
       "<div>\n",
       "<style scoped>\n",
       "    .dataframe tbody tr th:only-of-type {\n",
       "        vertical-align: middle;\n",
       "    }\n",
       "\n",
       "    .dataframe tbody tr th {\n",
       "        vertical-align: top;\n",
       "    }\n",
       "\n",
       "    .dataframe thead th {\n",
       "        text-align: right;\n",
       "    }\n",
       "</style>\n",
       "<table border=\"1\" class=\"dataframe\">\n",
       "  <thead>\n",
       "    <tr style=\"text-align: right;\">\n",
       "      <th></th>\n",
       "      <th>ins_tokens</th>\n",
       "      <th>del_tokens</th>\n",
       "    </tr>\n",
       "  </thead>\n",
       "  <tbody>\n",
       "    <tr>\n",
       "      <th>0</th>\n",
       "      <td>([[,)</td>\n",
       "      <td>(&lt;, i, &gt;)</td>\n",
       "    </tr>\n",
       "    <tr>\n",
       "      <th>1</th>\n",
       "      <td>(]],)</td>\n",
       "      <td>(&lt;, /, i, &gt;)</td>\n",
       "    </tr>\n",
       "    <tr>\n",
       "      <th>2</th>\n",
       "      <td>(note, :)</td>\n",
       "      <td>(&lt;,)</td>\n",
       "    </tr>\n",
       "    <tr>\n",
       "      <th>3</th>\n",
       "      <td>(peirce,)</td>\n",
       "      <td>(pierce,)</td>\n",
       "    </tr>\n",
       "    <tr>\n",
       "      <th>4</th>\n",
       "      <td>(consider,)</td>\n",
       "      <td>(the,)</td>\n",
       "    </tr>\n",
       "    <tr>\n",
       "      <th>5</th>\n",
       "      <td>(associated, with, bertrand, russell, .)</td>\n",
       "      <td>(and,)</td>\n",
       "    </tr>\n",
       "    <tr>\n",
       "      <th>6</th>\n",
       "      <td>(deflationary,)</td>\n",
       "      <td>(redundancy,)</td>\n",
       "    </tr>\n",
       "    <tr>\n",
       "      <th>7</th>\n",
       "      <td>(deflationary,)</td>\n",
       "      <td>(redundancy,)</td>\n",
       "    </tr>\n",
       "    <tr>\n",
       "      <th>8</th>\n",
       "      <td>(deflationary,)</td>\n",
       "      <td>(redundancy,)</td>\n",
       "    </tr>\n",
       "    <tr>\n",
       "      <th>9</th>\n",
       "      <td>(deflationary,)</td>\n",
       "      <td>(redundancy,)</td>\n",
       "    </tr>\n",
       "  </tbody>\n",
       "</table>\n",
       "</div>"
      ],
      "text/plain": [
       "                                 ins_tokens     del_tokens\n",
       "0                                     ([[,)      (<, i, >)\n",
       "1                                     (]],)   (<, /, i, >)\n",
       "2                                 (note, :)           (<,)\n",
       "3                                 (peirce,)      (pierce,)\n",
       "4                               (consider,)         (the,)\n",
       "5  (associated, with, bertrand, russell, .)         (and,)\n",
       "6                           (deflationary,)  (redundancy,)\n",
       "7                           (deflationary,)  (redundancy,)\n",
       "8                           (deflationary,)  (redundancy,)\n",
       "9                           (deflationary,)  (redundancy,)"
      ]
     },
     "execution_count": 7,
     "metadata": {},
     "output_type": "execute_result"
    }
   ],
   "source": [
    "bykau_change_object.reset_index(drop=True)[[\"ins_tokens\", \"del_tokens\"]].head(10)"
   ]
  },
  {
   "cell_type": "markdown",
   "metadata": {},
   "source": [
    "### Removing low user support tokens"
   ]
  },
  {
   "cell_type": "code",
   "execution_count": 8,
   "metadata": {},
   "outputs": [
    {
     "data": {
      "text/plain": [
       "(3425, 14)"
      ]
     },
     "execution_count": 8,
     "metadata": {},
     "output_type": "execute_result"
    }
   ],
   "source": [
    "bykau_change_object = bykau_change_object.reset_index()\n",
    "bykau_change_object = bykau_change_object.groupby(\"ins_tokens\").filter(lambda x : x[\"editor\"].nunique()>=2)\n",
    "bykau_change_object = bykau_change_object.groupby(\"del_tokens\").filter(lambda x : x[\"editor\"].nunique()>=2)\n",
    "bykau_change_object.shape"
   ]
  },
  {
   "cell_type": "code",
   "execution_count": 9,
   "metadata": {},
   "outputs": [
    {
     "data": {
      "text/html": [
       "<div>\n",
       "<style scoped>\n",
       "    .dataframe tbody tr th:only-of-type {\n",
       "        vertical-align: middle;\n",
       "    }\n",
       "\n",
       "    .dataframe tbody tr th {\n",
       "        vertical-align: top;\n",
       "    }\n",
       "\n",
       "    .dataframe thead th {\n",
       "        text-align: right;\n",
       "    }\n",
       "</style>\n",
       "<table border=\"1\" class=\"dataframe\">\n",
       "  <thead>\n",
       "    <tr style=\"text-align: right;\">\n",
       "      <th></th>\n",
       "      <th>from revision id</th>\n",
       "      <th>to revision id</th>\n",
       "      <th>timestamp</th>\n",
       "      <th>timegap</th>\n",
       "      <th>editor</th>\n",
       "      <th>level_5</th>\n",
       "      <th>ins_tokens</th>\n",
       "      <th>del_tokens</th>\n",
       "      <th>left_neigh</th>\n",
       "      <th>right_neigh</th>\n",
       "      <th>left_token</th>\n",
       "      <th>right_token</th>\n",
       "      <th>ins_length</th>\n",
       "      <th>del_length</th>\n",
       "    </tr>\n",
       "  </thead>\n",
       "  <tbody>\n",
       "    <tr>\n",
       "      <th>0</th>\n",
       "      <td>86265</td>\n",
       "      <td>92264</td>\n",
       "      <td>2002-06-06 01:59:44</td>\n",
       "      <td>100 days 10:16:33</td>\n",
       "      <td>122</td>\n",
       "      <td>2</td>\n",
       "      <td>([[,)</td>\n",
       "      <td>(&lt;, i, &gt;)</td>\n",
       "      <td>slice(0, 27, None)</td>\n",
       "      <td>slice(30, 61, None)</td>\n",
       "      <td>({st@rt}, what, is, truth, ?, we, ’, ll, look,...</td>\n",
       "      <td>(correspondence, &lt;, /, i, &gt;, &lt;, i, &gt;, theory, ...</td>\n",
       "      <td>1</td>\n",
       "      <td>3</td>\n",
       "    </tr>\n",
       "    <tr>\n",
       "      <th>1</th>\n",
       "      <td>86265</td>\n",
       "      <td>92264</td>\n",
       "      <td>2002-06-06 01:59:44</td>\n",
       "      <td>100 days 10:16:33</td>\n",
       "      <td>122</td>\n",
       "      <td>3</td>\n",
       "      <td>(]],)</td>\n",
       "      <td>(&lt;, /, i, &gt;)</td>\n",
       "      <td>slice(8, 39, None)</td>\n",
       "      <td>slice(43, 74, None)</td>\n",
       "      <td>(look, at, a, number, of, answers, to, this, q...</td>\n",
       "      <td>(,, and, we, can, define, it, as, follows, :, ...</td>\n",
       "      <td>1</td>\n",
       "      <td>4</td>\n",
       "    </tr>\n",
       "    <tr>\n",
       "      <th>3</th>\n",
       "      <td>92264</td>\n",
       "      <td>165756</td>\n",
       "      <td>2002-06-12 02:59:57</td>\n",
       "      <td>6 days 01:00:13</td>\n",
       "      <td>0|217.168.172.202</td>\n",
       "      <td>0</td>\n",
       "      <td>(peirce,)</td>\n",
       "      <td>(pierce,)</td>\n",
       "      <td>slice(2598, 2629, None)</td>\n",
       "      <td>slice(2630, 2661, None)</td>\n",
       "      <td>(of, truth, or, of, justification, ., i, ’, ll...</td>\n",
       "      <td>(]], (, pronounced, \", purse, \", ), and, [[, w...</td>\n",
       "      <td>1</td>\n",
       "      <td>1</td>\n",
       "    </tr>\n",
       "    <tr>\n",
       "      <th>4</th>\n",
       "      <td>353876</td>\n",
       "      <td>431091</td>\n",
       "      <td>2002-10-12 23:05:02</td>\n",
       "      <td>24 days 10:22:42</td>\n",
       "      <td>216</td>\n",
       "      <td>2</td>\n",
       "      <td>(consider,)</td>\n",
       "      <td>(the,)</td>\n",
       "      <td>slice(34, 65, None)</td>\n",
       "      <td>slice(66, 97, None)</td>\n",
       "      <td>(truth, ]], ., ), what, is, ', ', ', truth, ',...</td>\n",
       "      <td>(first, is, called, the, [[, correspondence, t...</td>\n",
       "      <td>1</td>\n",
       "      <td>1</td>\n",
       "    </tr>\n",
       "    <tr>\n",
       "      <th>12</th>\n",
       "      <td>431091</td>\n",
       "      <td>440545</td>\n",
       "      <td>2002-11-18 04:05:56</td>\n",
       "      <td>36 days 05:00:54</td>\n",
       "      <td>0|195.92.168.167</td>\n",
       "      <td>23</td>\n",
       "      <td>(conception,)</td>\n",
       "      <td>(theory,)</td>\n",
       "      <td>slice(2152, 2183, None)</td>\n",
       "      <td>slice(2184, 2215, None)</td>\n",
       "      <td>(dispute, now, ., the, dispute, quickly, becom...</td>\n",
       "      <td>(of, truth, ,, that, differs, quite, a, bit, b...</td>\n",
       "      <td>1</td>\n",
       "      <td>1</td>\n",
       "    </tr>\n",
       "  </tbody>\n",
       "</table>\n",
       "</div>"
      ],
      "text/plain": [
       "    from revision id  to revision id           timestamp           timegap  \\\n",
       "0              86265           92264 2002-06-06 01:59:44 100 days 10:16:33   \n",
       "1              86265           92264 2002-06-06 01:59:44 100 days 10:16:33   \n",
       "3              92264          165756 2002-06-12 02:59:57   6 days 01:00:13   \n",
       "4             353876          431091 2002-10-12 23:05:02  24 days 10:22:42   \n",
       "12            431091          440545 2002-11-18 04:05:56  36 days 05:00:54   \n",
       "\n",
       "               editor  level_5     ins_tokens    del_tokens  \\\n",
       "0                 122        2          ([[,)     (<, i, >)   \n",
       "1                 122        3          (]],)  (<, /, i, >)   \n",
       "3   0|217.168.172.202        0      (peirce,)     (pierce,)   \n",
       "4                 216        2    (consider,)        (the,)   \n",
       "12   0|195.92.168.167       23  (conception,)     (theory,)   \n",
       "\n",
       "                 left_neigh              right_neigh  \\\n",
       "0        slice(0, 27, None)      slice(30, 61, None)   \n",
       "1        slice(8, 39, None)      slice(43, 74, None)   \n",
       "3   slice(2598, 2629, None)  slice(2630, 2661, None)   \n",
       "4       slice(34, 65, None)      slice(66, 97, None)   \n",
       "12  slice(2152, 2183, None)  slice(2184, 2215, None)   \n",
       "\n",
       "                                           left_token  \\\n",
       "0   ({st@rt}, what, is, truth, ?, we, ’, ll, look,...   \n",
       "1   (look, at, a, number, of, answers, to, this, q...   \n",
       "3   (of, truth, or, of, justification, ., i, ’, ll...   \n",
       "4   (truth, ]], ., ), what, is, ', ', ', truth, ',...   \n",
       "12  (dispute, now, ., the, dispute, quickly, becom...   \n",
       "\n",
       "                                          right_token  ins_length  del_length  \n",
       "0   (correspondence, <, /, i, >, <, i, >, theory, ...           1           3  \n",
       "1   (,, and, we, can, define, it, as, follows, :, ...           1           4  \n",
       "3   (]], (, pronounced, \", purse, \", ), and, [[, w...           1           1  \n",
       "4   (first, is, called, the, [[, correspondence, t...           1           1  \n",
       "12  (of, truth, ,, that, differs, quite, a, bit, b...           1           1  "
      ]
     },
     "execution_count": 9,
     "metadata": {},
     "output_type": "execute_result"
    }
   ],
   "source": [
    "bykau_change_object.head()"
   ]
  },
  {
   "cell_type": "markdown",
   "metadata": {},
   "source": [
    "### Clustering using jaccard"
   ]
  },
  {
   "cell_type": "markdown",
   "metadata": {},
   "source": [
    "##### Defining jaccard similarity function."
   ]
  },
  {
   "cell_type": "code",
   "execution_count": 11,
   "metadata": {},
   "outputs": [],
   "source": [
    "edit_tokens = bykau_change_object[\"ins_tokens\"] + bykau_change_object[\"del_tokens\"]\n",
    "neighbour_tokens = bykau_change_object[\"left_token\"] + bykau_change_object[\"right_token\"]\n",
    "bykau_change_object[\"edit_tokens\"] = edit_tokens.apply(lambda x: np.unique(x))\n",
    "bykau_change_object[\"neighbour_tokens\"] = neighbour_tokens.apply(lambda x: np.unique(x))\n",
    "neighbour_vec=MultiLabelBinarizer().fit_transform(bykau_change_object[\"neighbour_tokens\"])"
   ]
  },
  {
   "cell_type": "code",
   "execution_count": 12,
   "metadata": {},
   "outputs": [],
   "source": [
    "db = DBSCAN(eps=0.5, min_samples=5, metric='jaccard').fit(neighbour_vec)\n",
    "bykau_change_object[\"neighbour_clusters\"] = db.labels_"
   ]
  },
  {
   "cell_type": "code",
   "execution_count": 64,
   "metadata": {},
   "outputs": [],
   "source": [
    "group_edit_tokens = bykau_change_object.groupby(\"neighbour_clusters\")[\"edit_tokens\"].apply(lambda x: set(np.concatenate(x.values.ravel(), axis=0)))\n",
    "context_vec = MultiLabelBinarizer().fit_transform(group_edit_tokens[1:])\n",
    "group_edit_dataframe = pd.DataFrame(group_edit_tokens.reset_index()[1:])"
   ]
  },
  {
   "cell_type": "code",
   "execution_count": 65,
   "metadata": {},
   "outputs": [],
   "source": [
    "db = DBSCAN(eps=0.01, min_samples=2, metric='jaccard').fit(context_vec)\n",
    "group_edit_dataframe[\"reclustered_group\"] = db.labels_"
   ]
  },
  {
   "cell_type": "code",
   "execution_count": 67,
   "metadata": {},
   "outputs": [],
   "source": [
    "final_dataframe = pd.merge( bykau_change_object, group_edit_dataframe[[\"reclustered_group\", \"neighbour_clusters\"]])"
   ]
  },
  {
   "cell_type": "markdown",
   "metadata": {},
   "source": [
    "### Grouping and showing clusters"
   ]
  },
  {
   "cell_type": "code",
   "execution_count": 69,
   "metadata": {},
   "outputs": [],
   "source": [
    "final_dataframe[\"left_string\"] = final_dataframe[\"left_token\"].str.join(\" \")\n",
    "final_dataframe[\"ins_string\"] = final_dataframe[\"ins_tokens\"].str.join(\" \")\n",
    "final_dataframe[\"del_string\"] = final_dataframe[\"del_tokens\"].str.join(\" \")\n",
    "final_dataframe[\"right_string\"] = final_dataframe[\"right_token\"].str.join(\" \")"
   ]
  },
  {
   "cell_type": "code",
   "execution_count": 70,
   "metadata": {},
   "outputs": [],
   "source": [
    "final_dataframe_grouped = final_dataframe.groupby(\"reclustered_group\")"
   ]
  },
  {
   "cell_type": "code",
   "execution_count": 78,
   "metadata": {},
   "outputs": [],
   "source": [
    "repers = final_dataframe_grouped[[\"left_string\",\"del_string\", \"ins_string\", \"right_string\"]].apply(lambda x: x.style.render())"
   ]
  },
  {
   "cell_type": "code",
   "execution_count": 76,
   "metadata": {},
   "outputs": [],
   "source": [
    "# all_html = \" \".join(repers_4_full)\n",
    "# file_name = article_name + \"_4_full_\"+str(NO_OF_CLUSTERS) + \"_clusters.html\"\n",
    "# file_path = os.path.join(\"./visualisation\", file_name)\n",
    "# with open(file_path, 'wb') as f:\n",
    "#     f.write(all_html.encode())"
   ]
  },
  {
   "cell_type": "code",
   "execution_count": 82,
   "metadata": {},
   "outputs": [
    {
     "data": {
      "application/vnd.jupyter.widget-view+json": {
       "model_id": "e2c29e06c27144b989a2044395f2c2d5",
       "version_major": 2,
       "version_minor": 0
      },
      "text/plain": [
       "interactive(children=(Dropdown(description='group', options=(0, 1, 2, 3, 4, 5, 6, 7), value=0), Output()), _do…"
      ]
     },
     "metadata": {},
     "output_type": "display_data"
    }
   ],
   "source": [
    "@interact( clusters_html=fixed(repers), group=range(final_dataframe_grouped.ngroups))\n",
    "def display_clusters(clusters_html, group):\n",
    "     return display(HTML(clusters_html.iloc[group]))\n"
   ]
  },
  {
   "cell_type": "code",
   "execution_count": null,
   "metadata": {},
   "outputs": [],
   "source": []
  }
 ],
 "metadata": {
  "kernelspec": {
   "display_name": "Python 3",
   "language": "python",
   "name": "python3"
  },
  "language_info": {
   "codemirror_mode": {
    "name": "ipython",
    "version": 3
   },
   "file_extension": ".py",
   "mimetype": "text/x-python",
   "name": "python",
   "nbconvert_exporter": "python",
   "pygments_lexer": "ipython3",
   "version": "3.6.4"
  }
 },
 "nbformat": 4,
 "nbformat_minor": 2
}
