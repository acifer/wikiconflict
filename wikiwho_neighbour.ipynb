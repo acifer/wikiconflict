{
 "cells": [
  {
   "cell_type": "code",
   "execution_count": 1,
   "metadata": {},
   "outputs": [],
   "source": [
    "import requests\n",
    "import pandas as pd\n",
    "import os\n",
    "from pathlib import Path\n",
    "import numpy as np"
   ]
  },
  {
   "cell_type": "code",
   "execution_count": 2,
   "metadata": {},
   "outputs": [],
   "source": [
    "baseurl = \"https://api.wikiwho.net/en/api/v1.0.0-beta/\"\n",
    "content = \"Mama's_Family\"\n",
    "def _url(url, path):\n",
    "    return url + path\n",
    "revisions_url = _url( baseurl,\"rev_ids/\")\n",
    "mama_revisions_url = _url(revisions_url, content+\"/\")\n",
    "params = {\"editor\": \"true\", \"timestamp\": \"true\"}\n",
    "response = requests.get(mama_revisions_url, params= params)"
   ]
  },
  {
   "cell_type": "code",
   "execution_count": 3,
   "metadata": {},
   "outputs": [
    {
     "data": {
      "text/plain": [
       "\"https://api.wikiwho.net/en/api/v1.0.0-beta/rev_ids/Mama's_Family/?editor=true&timestamp=true\""
      ]
     },
     "execution_count": 3,
     "metadata": {},
     "output_type": "execute_result"
    }
   ],
   "source": [
    "response.url"
   ]
  },
  {
   "cell_type": "code",
   "execution_count": 4,
   "metadata": {},
   "outputs": [],
   "source": [
    "revisons = pd.DataFrame(response.json()[\"revisions\"])\n",
    "revisons_list = response.json()[\"revisions\"]"
   ]
  },
  {
   "cell_type": "code",
   "execution_count": 5,
   "metadata": {},
   "outputs": [
    {
     "data": {
      "text/plain": [
       "2547"
      ]
     },
     "execution_count": 5,
     "metadata": {},
     "output_type": "execute_result"
    }
   ],
   "source": [
    "len(revisons_list)"
   ]
  },
  {
   "cell_type": "code",
   "execution_count": 6,
   "metadata": {},
   "outputs": [
    {
     "data": {
      "text/plain": [
       "[{'timestamp': '2004-04-24T07:40:27Z',\n",
       "  'id': 3317807,\n",
       "  'editor': '0|172.194.5.181'},\n",
       " {'timestamp': '2004-04-24T07:49:11Z',\n",
       "  'id': 3317866,\n",
       "  'editor': '0|172.194.5.181'},\n",
       " {'timestamp': '2004-04-24T07:58:03Z', 'id': 3317921, 'editor': '41723'},\n",
       " {'timestamp': '2004-04-24T08:09:12Z', 'id': 3317993, 'editor': '44476'},\n",
       " {'timestamp': '2004-04-24T08:21:07Z', 'id': 3493274, 'editor': '41723'},\n",
       " {'timestamp': '2004-05-08T01:09:23Z', 'id': 3505327, 'editor': '37168'},\n",
       " {'timestamp': '2004-05-09T01:36:17Z',\n",
       "  'id': 3612711,\n",
       "  'editor': '0|65.164.16.179'},\n",
       " {'timestamp': '2004-05-17T03:21:05Z', 'id': 3678751, 'editor': '65491'},\n",
       " {'timestamp': '2004-05-21T21:22:27Z', 'id': 4475074, 'editor': '1591'},\n",
       " {'timestamp': '2004-07-06T18:00:40Z', 'id': 4535771, 'editor': '71081'},\n",
       " {'timestamp': '2004-07-09T22:44:48Z', 'id': 4543295, 'editor': '8551'},\n",
       " {'timestamp': '2004-07-10T12:35:17Z', 'id': 4543880, 'editor': '71081'},\n",
       " {'timestamp': '2004-07-10T13:46:11Z', 'id': 4632244, 'editor': '71081'},\n",
       " {'timestamp': '2004-07-14T15:54:19Z', 'id': 4632253, 'editor': '71825'},\n",
       " {'timestamp': '2004-07-14T15:54:52Z', 'id': 4730543, 'editor': '71825'},\n",
       " {'timestamp': '2004-07-19T18:43:33Z', 'id': 4730786, 'editor': '74099'},\n",
       " {'timestamp': '2004-07-19T19:01:18Z', 'id': 4732892, 'editor': '74099'},\n",
       " {'timestamp': '2004-07-19T21:08:04Z', 'id': 4732946, 'editor': '46736'},\n",
       " {'timestamp': '2004-07-19T21:12:31Z', 'id': 4920528, 'editor': '46736'},\n",
       " {'timestamp': '2004-07-30T17:13:20Z', 'id': 4920538, 'editor': '74099'},\n",
       " {'timestamp': '2004-07-30T17:14:02Z', 'id': 5935788, 'editor': '74099'},\n",
       " {'timestamp': '2004-09-17T02:03:39Z',\n",
       "  'id': 7474728,\n",
       "  'editor': '0|65.164.16.40'},\n",
       " {'timestamp': '2004-11-15T03:41:14Z',\n",
       "  'id': 7693642,\n",
       "  'editor': '0|208.17.68.163'},\n",
       " {'timestamp': '2004-11-20T19:15:31Z',\n",
       "  'id': 8688306,\n",
       "  'editor': '0|137.122.75.78'},\n",
       " {'timestamp': '2004-12-21T20:33:35Z',\n",
       "  'id': 8859846,\n",
       "  'editor': '0|170.35.224.64'},\n",
       " {'timestamp': '2004-12-27T17:14:33Z', 'id': 9325214, 'editor': '74041'},\n",
       " {'timestamp': '2005-01-13T00:48:20Z',\n",
       "  'id': 9325301,\n",
       "  'editor': '0|166.102.99.84'},\n",
       " {'timestamp': '2005-01-13T00:51:21Z',\n",
       "  'id': 9325328,\n",
       "  'editor': '0|166.102.99.84'},\n",
       " {'timestamp': '2005-01-13T00:52:07Z',\n",
       "  'id': 9456685,\n",
       "  'editor': '0|166.102.99.84'},\n",
       " {'timestamp': '2005-01-18T12:57:50Z',\n",
       "  'id': 9530283,\n",
       "  'editor': '0|66.129.4.10'}]"
      ]
     },
     "execution_count": 6,
     "metadata": {},
     "output_type": "execute_result"
    }
   ],
   "source": [
    "revisons_list[:30]"
   ]
  },
  {
   "cell_type": "code",
   "execution_count": 7,
   "metadata": {},
   "outputs": [
    {
     "data": {
      "text/plain": [
       "2547"
      ]
     },
     "execution_count": 7,
     "metadata": {},
     "output_type": "execute_result"
    }
   ],
   "source": [
    "revisons[\"id\"].size"
   ]
  },
  {
   "cell_type": "code",
   "execution_count": 8,
   "metadata": {},
   "outputs": [],
   "source": [
    "rev_content_url = _url(baseurl,\"rev_content/\")\n",
    "mama_rev_content_url = _url(rev_content_url, content+\"/\")\n",
    "filename = content + \".h5\""
   ]
  },
  {
   "cell_type": "code",
   "execution_count": 9,
   "metadata": {},
   "outputs": [],
   "source": [
    "all_content_ul = _url(baseurl, \"all_content/\" )\n",
    "mama_all_content_url = _url(all_content_ul, content +\"/\")\n",
    "params = { \"o_rev_id\": \"true\", \"editor\": \"false\", \"token_id\": \"true\", \"in\": \"true\", \"out\": \"true\" }\n",
    "all_rev_data = requests.get(mama_all_content_url, params= params)\n"
   ]
  },
  {
   "cell_type": "code",
   "execution_count": 10,
   "metadata": {},
   "outputs": [],
   "source": [
    "all_tokens_mama = all_rev_data.json()[\"all_tokens\"]"
   ]
  },
  {
   "cell_type": "code",
   "execution_count": 11,
   "metadata": {},
   "outputs": [
    {
     "data": {
      "text/plain": [
       "[{'o_rev_id': 3317807, 'in': [], 'token_id': 0, 'str': 'an', 'out': [3317921]},\n",
       " {'o_rev_id': 3317807, 'in': [], 'token_id': 1, 'str': '80', 'out': [3317921]},\n",
       " {'o_rev_id': 3317807,\n",
       "  'in': [699956455, 700034288],\n",
       "  'token_id': 2,\n",
       "  'str': \"'\",\n",
       "  'out': [699956446, 699956679]},\n",
       " {'o_rev_id': 3317807,\n",
       "  'in': [699956455, 700034288],\n",
       "  'token_id': 3,\n",
       "  'str': 's',\n",
       "  'out': [699956446, 699956679]},\n",
       " {'o_rev_id': 3317807, 'in': [], 'token_id': 4, 'str': 'u', 'out': [3317921]},\n",
       " {'o_rev_id': 3317807, 'in': [], 'token_id': 5, 'str': '.', 'out': [90440194]},\n",
       " {'o_rev_id': 3317807, 'in': [], 'token_id': 6, 'str': 's', 'out': [3317921]},\n",
       " {'o_rev_id': 3317807, 'in': [], 'token_id': 7, 'str': '.', 'out': [3317921]},\n",
       " {'o_rev_id': 3317807,\n",
       "  'in': [],\n",
       "  'token_id': 8,\n",
       "  'str': 'ian',\n",
       "  'out': [3317921]},\n",
       " {'o_rev_id': 3317807,\n",
       "  'in': [],\n",
       "  'token_id': 9,\n",
       "  'str': 'television',\n",
       "  'out': [3317921]}]"
      ]
     },
     "execution_count": 11,
     "metadata": {},
     "output_type": "execute_result"
    }
   ],
   "source": [
    "all_tokens_mama[:10]"
   ]
  },
  {
   "cell_type": "code",
   "execution_count": 12,
   "metadata": {},
   "outputs": [
    {
     "name": "stdout",
     "output_type": "stream",
     "text": [
      "CPU times: user 524 ms, sys: 84 ms, total: 608 ms\n",
      "Wall time: 18.7 s\n"
     ]
    }
   ],
   "source": [
    "%%time\n",
    "rev_contents = []\n",
    "params ={ \"o_rev_id\": \"false\", \"editor\": \"false\", \"token_id\": \"true\",\"in\": \"false\", \"out\": \"false\",\"string\": \"false\" }\n",
    "for i in range(15):\n",
    "    url = _url(mama_rev_content_url, str(revisons.id.tolist()[i]) + \"/\")\n",
    "    response = requests.get(url, params= params)\n",
    "    rev_contents.append(response.json()[\"revisions\"][0][str(revisons.id.tolist()[i])][\"tokens\"])"
   ]
  },
  {
   "cell_type": "code",
   "execution_count": 14,
   "metadata": {},
   "outputs": [
    {
     "data": {
      "text/plain": [
       "[{'token_id': 0, 'str': 'an'},\n",
       " {'token_id': 1, 'str': '80'},\n",
       " {'token_id': 2, 'str': \"'\"},\n",
       " {'token_id': 3, 'str': 's'},\n",
       " {'token_id': 4, 'str': 'u'},\n",
       " {'token_id': 5, 'str': '.'},\n",
       " {'token_id': 6, 'str': 's'},\n",
       " {'token_id': 7, 'str': '.'},\n",
       " {'token_id': 8, 'str': 'ian'},\n",
       " {'token_id': 9, 'str': 'television'},\n",
       " {'token_id': 10, 'str': 'show'},\n",
       " {'token_id': 11, 'str': 'that'},\n",
       " {'token_id': 12, 'str': 'focused'},\n",
       " {'token_id': 13, 'str': 'on'},\n",
       " {'token_id': 14, 'str': 'the'},\n",
       " {'token_id': 15, 'str': 'life'},\n",
       " {'token_id': 16, 'str': 'of'},\n",
       " {'token_id': 17, 'str': 'thelma'},\n",
       " {'token_id': 18, 'str': 'harper'},\n",
       " {'token_id': 19, 'str': 'and'},\n",
       " {'token_id': 20, 'str': 'the'},\n",
       " {'token_id': 21, 'str': 'antics'},\n",
       " {'token_id': 22, 'str': 'of'},\n",
       " {'token_id': 23, 'str': 'her'},\n",
       " {'token_id': 24, 'str': 'family'},\n",
       " {'token_id': 25, 'str': '.'},\n",
       " {'token_id': 26, 'str': 'it'},\n",
       " {'token_id': 27, 'str': 'guest'},\n",
       " {'token_id': 28, 'str': 'starred'},\n",
       " {'token_id': 29, 'str': 'betty'},\n",
       " {'token_id': 30, 'str': 'white'},\n",
       " {'token_id': 31, 'str': 'and'},\n",
       " {'token_id': 32, 'str': 'rue'},\n",
       " {'token_id': 33, 'str': 'mcclanahan'},\n",
       " {'token_id': 34, 'str': 'before'},\n",
       " {'token_id': 35, 'str': 'their'},\n",
       " {'token_id': 36, 'str': 'golden'},\n",
       " {'token_id': 37, 'str': 'girls'},\n",
       " {'token_id': 38, 'str': 'roles'},\n",
       " {'token_id': 39, 'str': '.'},\n",
       " {'token_id': 40, 'str': 'the'},\n",
       " {'token_id': 41, 'str': 'show'},\n",
       " {'token_id': 42, 'str': 'also'},\n",
       " {'token_id': 43, 'str': 'let'},\n",
       " {'token_id': 44, 'str': 'carrol'},\n",
       " {'token_id': 45, 'str': 'burnnet'},\n",
       " {'token_id': 46, 'str': 'play'},\n",
       " {'token_id': 47, 'str': 'the'},\n",
       " {'token_id': 48, 'str': 'role'},\n",
       " {'token_id': 49, 'str': 'of'},\n",
       " {'token_id': 50, 'str': 'eunice'},\n",
       " {'token_id': 51, 'str': '.'},\n",
       " {'token_id': 52, 'str': 'in'},\n",
       " {'token_id': 53, 'str': 'the'},\n",
       " {'token_id': 54, 'str': 'series'},\n",
       " {'token_id': 55, 'str': 'finale'},\n",
       " {'token_id': 56, 'str': ','},\n",
       " {'token_id': 57, 'str': 'all'},\n",
       " {'token_id': 58, 'str': 'the'},\n",
       " {'token_id': 59, 'str': 'different'},\n",
       " {'token_id': 60, 'str': 'family'},\n",
       " {'token_id': 61, 'str': 'members'},\n",
       " {'token_id': 62, 'str': 'went'},\n",
       " {'token_id': 63, 'str': 'their'},\n",
       " {'token_id': 64, 'str': 'separate'},\n",
       " {'token_id': 65, 'str': 'ways'},\n",
       " {'token_id': 66, 'str': '.'},\n",
       " {'token_id': 67, 'str': 'vince'},\n",
       " {'token_id': 68, 'str': 'and'},\n",
       " {'token_id': 69, 'str': 'naomi'},\n",
       " {'token_id': 70, 'str': 'moved'},\n",
       " {'token_id': 71, 'str': 'out'},\n",
       " {'token_id': 72, 'str': '.'},\n",
       " {'token_id': 73, 'str': 'bubba'},\n",
       " {'token_id': 74, 'str': 'goes'},\n",
       " {'token_id': 75, 'str': 'to'},\n",
       " {'token_id': 76, 'str': 'college'},\n",
       " {'token_id': 77, 'str': '.'},\n",
       " {'token_id': 78, 'str': 'thelma'},\n",
       " {'token_id': 79, 'str': 'gives'},\n",
       " {'token_id': 80, 'str': 'in'},\n",
       " {'token_id': 81, 'str': 'to'},\n",
       " {'token_id': 82, 'str': 'community'},\n",
       " {'token_id': 83, 'str': 'pressure'},\n",
       " {'token_id': 84, 'str': 'and'},\n",
       " {'token_id': 85, 'str': 'sells'},\n",
       " {'token_id': 86, 'str': 'her'},\n",
       " {'token_id': 87, 'str': 'house'},\n",
       " {'token_id': 88, 'str': 'to'},\n",
       " {'token_id': 89, 'str': 'a'},\n",
       " {'token_id': 90, 'str': 'developing'},\n",
       " {'token_id': 91, 'str': 'company'},\n",
       " {'token_id': 92, 'str': 'and'},\n",
       " {'token_id': 93, 'str': 'moves'},\n",
       " {'token_id': 94, 'str': 'to'},\n",
       " {'token_id': 95, 'str': 'a'},\n",
       " {'token_id': 96, 'str': 'more'},\n",
       " {'token_id': 97, 'str': 'beverly'},\n",
       " {'token_id': 98, 'str': 'hills'},\n",
       " {'token_id': 99, 'str': '-'},\n",
       " {'token_id': 100, 'str': 'like'},\n",
       " {'token_id': 101, 'str': 'residence'},\n",
       " {'token_id': 102, 'str': '.'},\n",
       " {'token_id': 103, 'str': '{{'},\n",
       " {'token_id': 104, 'str': 'msg'},\n",
       " {'token_id': 105, 'str': ':'},\n",
       " {'token_id': 106, 'str': 'stub'},\n",
       " {'token_id': 107, 'str': '}}'}]"
      ]
     },
     "execution_count": 14,
     "metadata": {},
     "output_type": "execute_result"
    }
   ],
   "source": [
    "rev_contents[0]"
   ]
  },
  {
   "cell_type": "markdown",
   "metadata": {},
   "source": [
    "#### Main cell to calculate the deleted and edited positions"
   ]
  },
  {
   "cell_type": "code",
   "execution_count": 22,
   "metadata": {},
   "outputs": [
    {
     "name": "stderr",
     "output_type": "stream",
     "text": [
      "/Users/aadilrasheed/anaconda/lib/python3.6/site-packages/tables/path.py:112: NaturalNameWarning: object name is not a valid Python identifier: '3317807'; it does not match the pattern ``^[a-zA-Z_][a-zA-Z0-9_]*$``; you will not be able to use natural naming to access this object; using ``getattr()`` will still work, though\n",
      "  NaturalNameWarning)\n",
      "/Users/aadilrasheed/anaconda/lib/python3.6/site-packages/IPython/core/interactiveshell.py:2850: PerformanceWarning: \n",
      "your performance may suffer as PyTables will pickle object types that it cannot\n",
      "map directly to c-types [inferred_type->mixed,key->block2_values] [items->['in', 'out', 'str']]\n",
      "\n",
      "  if self.run_code(code, result):\n",
      "/Users/aadilrasheed/anaconda/lib/python3.6/site-packages/tables/path.py:112: NaturalNameWarning: object name is not a valid Python identifier: '3317866'; it does not match the pattern ``^[a-zA-Z_][a-zA-Z0-9_]*$``; you will not be able to use natural naming to access this object; using ``getattr()`` will still work, though\n",
      "  NaturalNameWarning)\n",
      "/Users/aadilrasheed/anaconda/lib/python3.6/site-packages/tables/path.py:112: NaturalNameWarning: object name is not a valid Python identifier: '3317921'; it does not match the pattern ``^[a-zA-Z_][a-zA-Z0-9_]*$``; you will not be able to use natural naming to access this object; using ``getattr()`` will still work, though\n",
      "  NaturalNameWarning)\n",
      "/Users/aadilrasheed/anaconda/lib/python3.6/site-packages/tables/path.py:112: NaturalNameWarning: object name is not a valid Python identifier: '3317993'; it does not match the pattern ``^[a-zA-Z_][a-zA-Z0-9_]*$``; you will not be able to use natural naming to access this object; using ``getattr()`` will still work, though\n",
      "  NaturalNameWarning)\n",
      "/Users/aadilrasheed/anaconda/lib/python3.6/site-packages/tables/path.py:112: NaturalNameWarning: object name is not a valid Python identifier: '3493274'; it does not match the pattern ``^[a-zA-Z_][a-zA-Z0-9_]*$``; you will not be able to use natural naming to access this object; using ``getattr()`` will still work, though\n",
      "  NaturalNameWarning)\n",
      "/Users/aadilrasheed/anaconda/lib/python3.6/site-packages/tables/path.py:112: NaturalNameWarning: object name is not a valid Python identifier: '3505327'; it does not match the pattern ``^[a-zA-Z_][a-zA-Z0-9_]*$``; you will not be able to use natural naming to access this object; using ``getattr()`` will still work, though\n",
      "  NaturalNameWarning)\n",
      "/Users/aadilrasheed/anaconda/lib/python3.6/site-packages/tables/path.py:112: NaturalNameWarning: object name is not a valid Python identifier: '3612711'; it does not match the pattern ``^[a-zA-Z_][a-zA-Z0-9_]*$``; you will not be able to use natural naming to access this object; using ``getattr()`` will still work, though\n",
      "  NaturalNameWarning)\n",
      "/Users/aadilrasheed/anaconda/lib/python3.6/site-packages/tables/path.py:112: NaturalNameWarning: object name is not a valid Python identifier: '3678751'; it does not match the pattern ``^[a-zA-Z_][a-zA-Z0-9_]*$``; you will not be able to use natural naming to access this object; using ``getattr()`` will still work, though\n",
      "  NaturalNameWarning)\n",
      "/Users/aadilrasheed/anaconda/lib/python3.6/site-packages/tables/path.py:112: NaturalNameWarning: object name is not a valid Python identifier: '4475074'; it does not match the pattern ``^[a-zA-Z_][a-zA-Z0-9_]*$``; you will not be able to use natural naming to access this object; using ``getattr()`` will still work, though\n",
      "  NaturalNameWarning)\n",
      "/Users/aadilrasheed/anaconda/lib/python3.6/site-packages/tables/path.py:112: NaturalNameWarning: object name is not a valid Python identifier: '4535771'; it does not match the pattern ``^[a-zA-Z_][a-zA-Z0-9_]*$``; you will not be able to use natural naming to access this object; using ``getattr()`` will still work, though\n",
      "  NaturalNameWarning)\n",
      "/Users/aadilrasheed/anaconda/lib/python3.6/site-packages/tables/path.py:112: NaturalNameWarning: object name is not a valid Python identifier: '4543295'; it does not match the pattern ``^[a-zA-Z_][a-zA-Z0-9_]*$``; you will not be able to use natural naming to access this object; using ``getattr()`` will still work, though\n",
      "  NaturalNameWarning)\n",
      "/Users/aadilrasheed/anaconda/lib/python3.6/site-packages/tables/path.py:112: NaturalNameWarning: object name is not a valid Python identifier: '4543880'; it does not match the pattern ``^[a-zA-Z_][a-zA-Z0-9_]*$``; you will not be able to use natural naming to access this object; using ``getattr()`` will still work, though\n",
      "  NaturalNameWarning)\n",
      "/Users/aadilrasheed/anaconda/lib/python3.6/site-packages/tables/path.py:112: NaturalNameWarning: object name is not a valid Python identifier: '4632244'; it does not match the pattern ``^[a-zA-Z_][a-zA-Z0-9_]*$``; you will not be able to use natural naming to access this object; using ``getattr()`` will still work, though\n",
      "  NaturalNameWarning)\n",
      "/Users/aadilrasheed/anaconda/lib/python3.6/site-packages/tables/path.py:112: NaturalNameWarning: object name is not a valid Python identifier: '4632253'; it does not match the pattern ``^[a-zA-Z_][a-zA-Z0-9_]*$``; you will not be able to use natural naming to access this object; using ``getattr()`` will still work, though\n",
      "  NaturalNameWarning)\n",
      "/Users/aadilrasheed/anaconda/lib/python3.6/site-packages/tables/path.py:112: NaturalNameWarning: object name is not a valid Python identifier: '4730543'; it does not match the pattern ``^[a-zA-Z_][a-zA-Z0-9_]*$``; you will not be able to use natural naming to access this object; using ``getattr()`` will still work, though\n",
      "  NaturalNameWarning)\n",
      "/Users/aadilrasheed/anaconda/lib/python3.6/site-packages/tables/path.py:112: NaturalNameWarning: object name is not a valid Python identifier: '4730786'; it does not match the pattern ``^[a-zA-Z_][a-zA-Z0-9_]*$``; you will not be able to use natural naming to access this object; using ``getattr()`` will still work, though\n",
      "  NaturalNameWarning)\n",
      "/Users/aadilrasheed/anaconda/lib/python3.6/site-packages/tables/path.py:112: NaturalNameWarning: object name is not a valid Python identifier: '4732892'; it does not match the pattern ``^[a-zA-Z_][a-zA-Z0-9_]*$``; you will not be able to use natural naming to access this object; using ``getattr()`` will still work, though\n",
      "  NaturalNameWarning)\n",
      "/Users/aadilrasheed/anaconda/lib/python3.6/site-packages/tables/path.py:112: NaturalNameWarning: object name is not a valid Python identifier: '4732946'; it does not match the pattern ``^[a-zA-Z_][a-zA-Z0-9_]*$``; you will not be able to use natural naming to access this object; using ``getattr()`` will still work, though\n",
      "  NaturalNameWarning)\n",
      "/Users/aadilrasheed/anaconda/lib/python3.6/site-packages/tables/path.py:112: NaturalNameWarning: object name is not a valid Python identifier: '4920528'; it does not match the pattern ``^[a-zA-Z_][a-zA-Z0-9_]*$``; you will not be able to use natural naming to access this object; using ``getattr()`` will still work, though\n",
      "  NaturalNameWarning)\n",
      "/Users/aadilrasheed/anaconda/lib/python3.6/site-packages/tables/path.py:112: NaturalNameWarning: object name is not a valid Python identifier: '4920538'; it does not match the pattern ``^[a-zA-Z_][a-zA-Z0-9_]*$``; you will not be able to use natural naming to access this object; using ``getattr()`` will still work, though\n",
      "  NaturalNameWarning)\n",
      "/Users/aadilrasheed/anaconda/lib/python3.6/site-packages/tables/path.py:112: NaturalNameWarning: object name is not a valid Python identifier: '5935788'; it does not match the pattern ``^[a-zA-Z_][a-zA-Z0-9_]*$``; you will not be able to use natural naming to access this object; using ``getattr()`` will still work, though\n",
      "  NaturalNameWarning)\n",
      "/Users/aadilrasheed/anaconda/lib/python3.6/site-packages/tables/path.py:112: NaturalNameWarning: object name is not a valid Python identifier: '7474728'; it does not match the pattern ``^[a-zA-Z_][a-zA-Z0-9_]*$``; you will not be able to use natural naming to access this object; using ``getattr()`` will still work, though\n",
      "  NaturalNameWarning)\n",
      "/Users/aadilrasheed/anaconda/lib/python3.6/site-packages/tables/path.py:112: NaturalNameWarning: object name is not a valid Python identifier: '7693642'; it does not match the pattern ``^[a-zA-Z_][a-zA-Z0-9_]*$``; you will not be able to use natural naming to access this object; using ``getattr()`` will still work, though\n",
      "  NaturalNameWarning)\n",
      "/Users/aadilrasheed/anaconda/lib/python3.6/site-packages/tables/path.py:112: NaturalNameWarning: object name is not a valid Python identifier: '8688306'; it does not match the pattern ``^[a-zA-Z_][a-zA-Z0-9_]*$``; you will not be able to use natural naming to access this object; using ``getattr()`` will still work, though\n",
      "  NaturalNameWarning)\n",
      "/Users/aadilrasheed/anaconda/lib/python3.6/site-packages/tables/path.py:112: NaturalNameWarning: object name is not a valid Python identifier: '8859846'; it does not match the pattern ``^[a-zA-Z_][a-zA-Z0-9_]*$``; you will not be able to use natural naming to access this object; using ``getattr()`` will still work, though\n",
      "  NaturalNameWarning)\n",
      "/Users/aadilrasheed/anaconda/lib/python3.6/site-packages/tables/path.py:112: NaturalNameWarning: object name is not a valid Python identifier: '9325214'; it does not match the pattern ``^[a-zA-Z_][a-zA-Z0-9_]*$``; you will not be able to use natural naming to access this object; using ``getattr()`` will still work, though\n",
      "  NaturalNameWarning)\n",
      "/Users/aadilrasheed/anaconda/lib/python3.6/site-packages/tables/path.py:112: NaturalNameWarning: object name is not a valid Python identifier: '9325301'; it does not match the pattern ``^[a-zA-Z_][a-zA-Z0-9_]*$``; you will not be able to use natural naming to access this object; using ``getattr()`` will still work, though\n",
      "  NaturalNameWarning)\n",
      "/Users/aadilrasheed/anaconda/lib/python3.6/site-packages/tables/path.py:112: NaturalNameWarning: object name is not a valid Python identifier: '9325328'; it does not match the pattern ``^[a-zA-Z_][a-zA-Z0-9_]*$``; you will not be able to use natural naming to access this object; using ``getattr()`` will still work, though\n",
      "  NaturalNameWarning)\n",
      "/Users/aadilrasheed/anaconda/lib/python3.6/site-packages/tables/path.py:112: NaturalNameWarning: object name is not a valid Python identifier: '9456685'; it does not match the pattern ``^[a-zA-Z_][a-zA-Z0-9_]*$``; you will not be able to use natural naming to access this object; using ``getattr()`` will still work, though\n",
      "  NaturalNameWarning)\n",
      "/Users/aadilrasheed/anaconda/lib/python3.6/site-packages/tables/path.py:112: NaturalNameWarning: object name is not a valid Python identifier: '9530283'; it does not match the pattern ``^[a-zA-Z_][a-zA-Z0-9_]*$``; you will not be able to use natural naming to access this object; using ``getattr()`` will still work, though\n",
      "  NaturalNameWarning)\n",
      "/Users/aadilrasheed/anaconda/lib/python3.6/site-packages/tables/path.py:112: NaturalNameWarning: object name is not a valid Python identifier: '10092976'; it does not match the pattern ``^[a-zA-Z_][a-zA-Z0-9_]*$``; you will not be able to use natural naming to access this object; using ``getattr()`` will still work, though\n",
      "  NaturalNameWarning)\n",
      "/Users/aadilrasheed/anaconda/lib/python3.6/site-packages/tables/path.py:112: NaturalNameWarning: object name is not a valid Python identifier: '10322307'; it does not match the pattern ``^[a-zA-Z_][a-zA-Z0-9_]*$``; you will not be able to use natural naming to access this object; using ``getattr()`` will still work, though\n",
      "  NaturalNameWarning)\n",
      "/Users/aadilrasheed/anaconda/lib/python3.6/site-packages/tables/path.py:112: NaturalNameWarning: object name is not a valid Python identifier: '10451553'; it does not match the pattern ``^[a-zA-Z_][a-zA-Z0-9_]*$``; you will not be able to use natural naming to access this object; using ``getattr()`` will still work, though\n",
      "  NaturalNameWarning)\n",
      "/Users/aadilrasheed/anaconda/lib/python3.6/site-packages/tables/path.py:112: NaturalNameWarning: object name is not a valid Python identifier: '10451581'; it does not match the pattern ``^[a-zA-Z_][a-zA-Z0-9_]*$``; you will not be able to use natural naming to access this object; using ``getattr()`` will still work, though\n",
      "  NaturalNameWarning)\n",
      "/Users/aadilrasheed/anaconda/lib/python3.6/site-packages/tables/path.py:112: NaturalNameWarning: object name is not a valid Python identifier: '10451761'; it does not match the pattern ``^[a-zA-Z_][a-zA-Z0-9_]*$``; you will not be able to use natural naming to access this object; using ``getattr()`` will still work, though\n",
      "  NaturalNameWarning)\n",
      "/Users/aadilrasheed/anaconda/lib/python3.6/site-packages/tables/path.py:112: NaturalNameWarning: object name is not a valid Python identifier: '10451790'; it does not match the pattern ``^[a-zA-Z_][a-zA-Z0-9_]*$``; you will not be able to use natural naming to access this object; using ``getattr()`` will still work, though\n",
      "  NaturalNameWarning)\n",
      "/Users/aadilrasheed/anaconda/lib/python3.6/site-packages/tables/path.py:112: NaturalNameWarning: object name is not a valid Python identifier: '12234392'; it does not match the pattern ``^[a-zA-Z_][a-zA-Z0-9_]*$``; you will not be able to use natural naming to access this object; using ``getattr()`` will still work, though\n",
      "  NaturalNameWarning)\n",
      "/Users/aadilrasheed/anaconda/lib/python3.6/site-packages/tables/path.py:112: NaturalNameWarning: object name is not a valid Python identifier: '12234404'; it does not match the pattern ``^[a-zA-Z_][a-zA-Z0-9_]*$``; you will not be able to use natural naming to access this object; using ``getattr()`` will still work, though\n",
      "  NaturalNameWarning)\n",
      "/Users/aadilrasheed/anaconda/lib/python3.6/site-packages/tables/path.py:112: NaturalNameWarning: object name is not a valid Python identifier: '12236476'; it does not match the pattern ``^[a-zA-Z_][a-zA-Z0-9_]*$``; you will not be able to use natural naming to access this object; using ``getattr()`` will still work, though\n",
      "  NaturalNameWarning)\n",
      "/Users/aadilrasheed/anaconda/lib/python3.6/site-packages/tables/path.py:112: NaturalNameWarning: object name is not a valid Python identifier: '12236483'; it does not match the pattern ``^[a-zA-Z_][a-zA-Z0-9_]*$``; you will not be able to use natural naming to access this object; using ``getattr()`` will still work, though\n",
      "  NaturalNameWarning)\n",
      "/Users/aadilrasheed/anaconda/lib/python3.6/site-packages/tables/path.py:112: NaturalNameWarning: object name is not a valid Python identifier: '12355108'; it does not match the pattern ``^[a-zA-Z_][a-zA-Z0-9_]*$``; you will not be able to use natural naming to access this object; using ``getattr()`` will still work, though\n",
      "  NaturalNameWarning)\n",
      "/Users/aadilrasheed/anaconda/lib/python3.6/site-packages/tables/path.py:112: NaturalNameWarning: object name is not a valid Python identifier: '12396631'; it does not match the pattern ``^[a-zA-Z_][a-zA-Z0-9_]*$``; you will not be able to use natural naming to access this object; using ``getattr()`` will still work, though\n",
      "  NaturalNameWarning)\n",
      "/Users/aadilrasheed/anaconda/lib/python3.6/site-packages/tables/path.py:112: NaturalNameWarning: object name is not a valid Python identifier: '13047896'; it does not match the pattern ``^[a-zA-Z_][a-zA-Z0-9_]*$``; you will not be able to use natural naming to access this object; using ``getattr()`` will still work, though\n",
      "  NaturalNameWarning)\n",
      "/Users/aadilrasheed/anaconda/lib/python3.6/site-packages/tables/path.py:112: NaturalNameWarning: object name is not a valid Python identifier: '13047918'; it does not match the pattern ``^[a-zA-Z_][a-zA-Z0-9_]*$``; you will not be able to use natural naming to access this object; using ``getattr()`` will still work, though\n",
      "  NaturalNameWarning)\n",
      "/Users/aadilrasheed/anaconda/lib/python3.6/site-packages/tables/path.py:112: NaturalNameWarning: object name is not a valid Python identifier: '13050496'; it does not match the pattern ``^[a-zA-Z_][a-zA-Z0-9_]*$``; you will not be able to use natural naming to access this object; using ``getattr()`` will still work, though\n",
      "  NaturalNameWarning)\n",
      "/Users/aadilrasheed/anaconda/lib/python3.6/site-packages/tables/path.py:112: NaturalNameWarning: object name is not a valid Python identifier: '13050723'; it does not match the pattern ``^[a-zA-Z_][a-zA-Z0-9_]*$``; you will not be able to use natural naming to access this object; using ``getattr()`` will still work, though\n",
      "  NaturalNameWarning)\n",
      "/Users/aadilrasheed/anaconda/lib/python3.6/site-packages/tables/path.py:112: NaturalNameWarning: object name is not a valid Python identifier: '13050776'; it does not match the pattern ``^[a-zA-Z_][a-zA-Z0-9_]*$``; you will not be able to use natural naming to access this object; using ``getattr()`` will still work, though\n",
      "  NaturalNameWarning)\n",
      "/Users/aadilrasheed/anaconda/lib/python3.6/site-packages/tables/path.py:112: NaturalNameWarning: object name is not a valid Python identifier: '13727218'; it does not match the pattern ``^[a-zA-Z_][a-zA-Z0-9_]*$``; you will not be able to use natural naming to access this object; using ``getattr()`` will still work, though\n",
      "  NaturalNameWarning)\n",
      "/Users/aadilrasheed/anaconda/lib/python3.6/site-packages/tables/path.py:112: NaturalNameWarning: object name is not a valid Python identifier: '15127337'; it does not match the pattern ``^[a-zA-Z_][a-zA-Z0-9_]*$``; you will not be able to use natural naming to access this object; using ``getattr()`` will still work, though\n",
      "  NaturalNameWarning)\n",
      "/Users/aadilrasheed/anaconda/lib/python3.6/site-packages/tables/path.py:112: NaturalNameWarning: object name is not a valid Python identifier: '15128604'; it does not match the pattern ``^[a-zA-Z_][a-zA-Z0-9_]*$``; you will not be able to use natural naming to access this object; using ``getattr()`` will still work, though\n",
      "  NaturalNameWarning)\n"
     ]
    }
   ],
   "source": [
    "import time\n",
    "params ={ \"o_rev_id\": \"true\", \"editor\": \"false\", \"token_id\": \"true\",\"in\": \"true\", \"out\": \"true\" }\n",
    "revisions = list(revisons.head(50)[\"id\"])\n",
    "with pd.HDFStore(filename, 'a') as store:\n",
    "    for itr in range(len(revisions)):\n",
    "        revision = str(revisions[itr])\n",
    "        url = _url(mama_rev_content_url, revision+\"/\")\n",
    "        response = requests.get(url, params= params)\n",
    "        time.sleep(3)\n",
    "        if response.status_code == requests.codes.ok :\n",
    "            df = pd.DataFrame.from_dict(response.json()[\"revisions\"][0][revision][\"tokens\"])\n",
    "            df[\"inserted\"] = df[\"in\"].apply(lambda x: int(revision) in  set(x))\n",
    "            df[\"inserted\"] = np.logical_or( df[\"inserted\"].values, df[\"o_rev_id\"].values == int(revision))\n",
    "            if(itr < (len(revisions) - 1) ):\n",
    "                deleted_revision = revisions[itr + 1]\n",
    "            else :\n",
    "                deleted_revision = -1\n",
    "            df[\"deleted\"] = df[\"out\"].apply(lambda x: deleted_revision in  set(x))\n",
    "            store.put(revision, df, table=True)\n",
    "        else:\n",
    "            print(response.json())"
   ]
  },
  {
   "cell_type": "code",
   "execution_count": 237,
   "metadata": {},
   "outputs": [
    {
     "name": "stdout",
     "output_type": "stream",
     "text": [
      "   in  o_rev_id        out str  token_id  inserted  deleted\n",
      "0  []   3317807  [3317921]  an         0      True    False\n",
      "1  []   3317807  [3317921]  80         1      True    False\n",
      "\n",
      "\n",
      "   in  o_rev_id        out str  token_id  inserted  deleted\n",
      "0  []   3317807  [3317921]  an         0     False     True\n",
      "1  []   3317807  [3317921]  80         1     False     True\n"
     ]
    }
   ],
   "source": [
    "with pd.HDFStore( filename, 'r') as store1:\n",
    "    df_3317807 = store1.get(\"3317807\")\n",
    "    df_3317866 = store1.get(\"3317866\")\n",
    "    print(df_3317807.head(2))\n",
    "    print(\"\\n\")   \n",
    "    print(df_3317866.head(2))"
   ]
  },
  {
   "cell_type": "code",
   "execution_count": 142,
   "metadata": {},
   "outputs": [],
   "source": [
    "inserted_array = np.array(df_3317866[\"inserted\"])\n",
    "inserted_pos = np.argwhere(inserted_array == True)\n",
    "inserted_tokens = np.array(df_3317866 [\"token_id\"])[inserted_pos]"
   ]
  },
  {
   "cell_type": "code",
   "execution_count": null,
   "metadata": {},
   "outputs": [],
   "source": [
    "# inserted_pos = inserted_pos[0].reshape(1,108)\n",
    "inserted_pos.shape\n",
    "# inserted_tokens.shape"
   ]
  },
  {
   "cell_type": "code",
   "execution_count": 198,
   "metadata": {},
   "outputs": [
    {
     "data": {
      "text/plain": [
       "array([[108,  52],\n",
       "       [109,  53],\n",
       "       [110,  54],\n",
       "       [111,  55],\n",
       "       [112,  56],\n",
       "       [113,  57],\n",
       "       [114, 109],\n",
       "       [115, 110],\n",
       "       [116, 111],\n",
       "       [117, 112],\n",
       "       [118, 113],\n",
       "       [119, 114],\n",
       "       [120, 115],\n",
       "       [121, 116],\n",
       "       [122, 117],\n",
       "       [123, 118],\n",
       "       [124, 119],\n",
       "       [125, 120],\n",
       "       [126, 121],\n",
       "       [127, 122],\n",
       "       [128, 123],\n",
       "       [129, 124],\n",
       "       [130, 125],\n",
       "       [131, 126],\n",
       "       [132, 127],\n",
       "       [133, 128],\n",
       "       [134, 129],\n",
       "       [135, 130],\n",
       "       [136, 131],\n",
       "       [137, 132],\n",
       "       [138, 133],\n",
       "       [139, 134],\n",
       "       [140, 135],\n",
       "       [141, 136],\n",
       "       [142, 137],\n",
       "       [143, 138],\n",
       "       [144, 139],\n",
       "       [145, 140],\n",
       "       [146, 141],\n",
       "       [147, 142],\n",
       "       [148, 143],\n",
       "       [149, 144],\n",
       "       [150, 145],\n",
       "       [151, 146],\n",
       "       [152, 147],\n",
       "       [153, 148],\n",
       "       [154, 149],\n",
       "       [155, 150],\n",
       "       [156, 151],\n",
       "       [157, 152],\n",
       "       [158, 153],\n",
       "       [159, 154],\n",
       "       [160, 155]])"
      ]
     },
     "execution_count": 198,
     "metadata": {},
     "output_type": "execute_result"
    }
   ],
   "source": [
    "inserted_token_pos = np.stack((inserted_tokens, inserted_pos), axis = -1)\n",
    "inserted_token_pos = inserted_token_pos.reshape(inserted_token_pos.shape[0],2)\n",
    "inserted_token_pos"
   ]
  },
  {
   "cell_type": "markdown",
   "metadata": {},
   "source": [
    "### To cluster elements using position of there relative position in doc"
   ]
  },
  {
   "cell_type": "code",
   "execution_count": 155,
   "metadata": {},
   "outputs": [],
   "source": [
    "from sklearn.cluster import DBSCAN"
   ]
  },
  {
   "cell_type": "code",
   "execution_count": 224,
   "metadata": {},
   "outputs": [
    {
     "data": {
      "text/plain": [
       "array([[ 52],\n",
       "       [ 53],\n",
       "       [ 54],\n",
       "       [ 55],\n",
       "       [ 56],\n",
       "       [ 57],\n",
       "       [109],\n",
       "       [110],\n",
       "       [111],\n",
       "       [112],\n",
       "       [113],\n",
       "       [114],\n",
       "       [115],\n",
       "       [116],\n",
       "       [117],\n",
       "       [118],\n",
       "       [119],\n",
       "       [120],\n",
       "       [121],\n",
       "       [122],\n",
       "       [123],\n",
       "       [124],\n",
       "       [125],\n",
       "       [126],\n",
       "       [127],\n",
       "       [128],\n",
       "       [129],\n",
       "       [130],\n",
       "       [131],\n",
       "       [132],\n",
       "       [133],\n",
       "       [134],\n",
       "       [135],\n",
       "       [136],\n",
       "       [137],\n",
       "       [138],\n",
       "       [139],\n",
       "       [140],\n",
       "       [141],\n",
       "       [142],\n",
       "       [143],\n",
       "       [144],\n",
       "       [145],\n",
       "       [146],\n",
       "       [147],\n",
       "       [148],\n",
       "       [149],\n",
       "       [150],\n",
       "       [151],\n",
       "       [152],\n",
       "       [153],\n",
       "       [154],\n",
       "       [155]])"
      ]
     },
     "execution_count": 224,
     "metadata": {},
     "output_type": "execute_result"
    }
   ],
   "source": [
    "db = DBSCAN(eps=5, min_samples=1, p=1).fit(inserted_pos)\n",
    "a = db.fit_predict(inserted_pos)\n",
    "db.components_"
   ]
  },
  {
   "cell_type": "code",
   "execution_count": 225,
   "metadata": {},
   "outputs": [
    {
     "data": {
      "text/plain": [
       "{0, 1}"
      ]
     },
     "execution_count": 225,
     "metadata": {},
     "output_type": "execute_result"
    }
   ],
   "source": [
    "unique_clusters = set(db.labels_) - {-1}"
   ]
  },
  {
   "cell_type": "code",
   "execution_count": 23,
   "metadata": {},
   "outputs": [
    {
     "name": "stdout",
     "output_type": "stream",
     "text": [
      "Mama's_Family.h5                  wikiwho.ipynb\n",
      "README.md                         wikiwho_context_clustering.ipynb\n",
      "mama_700034288.h5                 wikiwho_neighbour.ipynb\n",
      "test.h5\n"
     ]
    }
   ],
   "source": [
    "ls"
   ]
  },
  {
   "cell_type": "code",
   "execution_count": 20,
   "metadata": {},
   "outputs": [],
   "source": [
    "# rm Mama*"
   ]
  },
  {
   "cell_type": "code",
   "execution_count": null,
   "metadata": {},
   "outputs": [],
   "source": []
  }
 ],
 "metadata": {
  "kernelspec": {
   "display_name": "Python 3",
   "language": "python",
   "name": "python3"
  },
  "language_info": {
   "codemirror_mode": {
    "name": "ipython",
    "version": 3
   },
   "file_extension": ".py",
   "mimetype": "text/x-python",
   "name": "python",
   "nbconvert_exporter": "python",
   "pygments_lexer": "ipython3",
   "version": "3.6.4"
  }
 },
 "nbformat": 4,
 "nbformat_minor": 2
}
