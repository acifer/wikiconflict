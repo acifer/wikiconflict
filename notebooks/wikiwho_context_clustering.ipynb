{
 "cells": [
  {
   "cell_type": "code",
   "execution_count": 2,
   "metadata": {},
   "outputs": [],
   "source": [
    "import requests\n",
    "import pandas as pd\n",
    "import os\n",
    "from pathlib import Path\n",
    "import numpy as np"
   ]
  },
  {
   "cell_type": "code",
   "execution_count": 3,
   "metadata": {},
   "outputs": [],
   "source": [
    "baseurl = \"https://api.wikiwho.net/en/api/v1.0.0-beta/\"\n",
    "content = \"Yugoslavia\"\n",
    "def _url(url, path):\n",
    "    return url + path\n",
    "revisions_url = _url( baseurl,\"rev_ids/\")\n",
    "mama_revisions_url = _url(revisions_url, content+\"/\")\n",
    "params = {\"editor\": \"true\", \"timestamp\": \"true\"}\n",
    "response = requests.get(mama_revisions_url, params= params)\n",
    "revisons = pd.DataFrame(response.json()[\"revisions\"])"
   ]
  },
  {
   "cell_type": "code",
   "execution_count": 4,
   "metadata": {},
   "outputs": [
    {
     "data": {
      "text/plain": [
       "3688"
      ]
     },
     "execution_count": 4,
     "metadata": {},
     "output_type": "execute_result"
    }
   ],
   "source": [
    "len(response.json()[\"revisions\"])"
   ]
  },
  {
   "cell_type": "code",
   "execution_count": 4,
   "metadata": {},
   "outputs": [
    {
     "data": {
      "text/plain": [
       "count    2.536000e+03\n",
       "mean     3.424353e+08\n",
       "std      2.385816e+08\n",
       "min      3.317807e+06\n",
       "25%      1.365433e+08\n",
       "50%      2.252330e+08\n",
       "75%      5.517890e+08\n",
       "max      8.412142e+08\n",
       "Name: id, dtype: float64"
      ]
     },
     "execution_count": 4,
     "metadata": {},
     "output_type": "execute_result"
    }
   ],
   "source": [
    "revisons[\"id\"].describe()"
   ]
  },
  {
   "cell_type": "code",
   "execution_count": 5,
   "metadata": {},
   "outputs": [
    {
     "name": "stdout",
     "output_type": "stream",
     "text": [
      "   in  o_rev_id        out str  token_id  inserted  deleted\n",
      "0  []   3317807  [3317921]  an         0      True    False\n",
      "1  []   3317807  [3317921]  80         1      True    False\n",
      "\n",
      "\n",
      "   in  o_rev_id        out str  token_id  inserted  deleted\n",
      "0  []   3317807  [3317921]  an         0     False     True\n",
      "1  []   3317807  [3317921]  80         1     False     True\n"
     ]
    }
   ],
   "source": [
    "filename = content + \".h5\"\n",
    "with pd.HDFStore( filename, 'r') as store1:\n",
    "    df_3317807 = store1.get(\"/3317807\")\n",
    "    df_3317866 = store1.get(\"3317866\")\n",
    "    print(df_3317807.head(2))\n",
    "    print(\"\\n\")   \n",
    "    print(df_3317866.head(2))"
   ]
  },
  {
   "cell_type": "code",
   "execution_count": 189,
   "metadata": {},
   "outputs": [],
   "source": [
    "filename = content + \".h5\"\n",
    "revisions = []\n",
    "with pd.HDFStore( filename, 'r') as store:\n",
    "    for revision in store.keys():\n",
    "        revisions.append(store.get(revision))"
   ]
  },
  {
   "cell_type": "markdown",
   "metadata": {},
   "source": [
    "### code to find epsillon neighbourhood"
   ]
  },
  {
   "cell_type": "code",
   "execution_count": 233,
   "metadata": {},
   "outputs": [],
   "source": [
    "contexts = []\n",
    "subjects = []\n",
    "for revision in revisions:\n",
    "    inserted_array = np.array(revision[\"inserted\"])\n",
    "    inserted_pos = np.argwhere(inserted_array == True)\n",
    "    if inserted_pos.shape[0] == 0:\n",
    "        continue\n",
    "    total_tokens = np.array(revision[\"token_id\"])\n",
    "    total_tokens = total_tokens.reshape(total_tokens.shape[0],1)\n",
    "    inserted_tokens = total_tokens[inserted_pos]\n",
    "    epsilon = 5\n",
    "    context =  []\n",
    "# timing to select concatinate rather than vstack\n",
    "# %timeit np.vstack((total_tokens[pos - epsilon: pos +epsilon], context))\n",
    "# %timeit np.concatenate((total_tokens[pos - epsilon: pos +epsilon], context), axis=0)\n",
    "    for pos in np.nditer(inserted_pos):\n",
    "            context.append(total_tokens[pos - epsilon: pos])\n",
    "            context.append( total_tokens[pos+1: pos + epsilon+1])\n",
    "    context= np.concatenate((context), axis=0)\n",
    "    uniq_context = np.unique(context)\n",
    "    contexts.append(uniq_context.reshape(uniq_context.shape[0],1))\n",
    "    subjects.append(inserted_tokens)"
   ]
  },
  {
   "cell_type": "code",
   "execution_count": 230,
   "metadata": {},
   "outputs": [],
   "source": [
    "# %timeit set(np.unique(context))\n",
    "# %timeit set(context.flatten())\n",
    "unique_contexts = np.unique(np.concatenate( contexts, axis=0 ))\n",
    "context_vec_list = [np.sum(( unique_contexts == con), axis = 0, keepdims= True) for con in contexts]\n",
    "# context_vectors = np.zeros((len(revisions), uniq_context.shape[0]))\n",
    "context_vectors = np.concatenate((context_vec_list), axis=0)\n",
    "# X = np.empty((len(revisions), unique_contexts.shape[0]))\n",
    "\n",
    "# contexts_vec_1 = np.array(np.sum(( unique_contexts == contexts[0]), axis = 0, keepdims= True))\n",
    "# contexts_vec_2 = np.array(np.sum(( unique_contexts == contexts[1]), axis = 0, keepdims= True))\n",
    "# contexts_vec_3 = np.array(np.sum(( unique_contexts == contexts[2]), axis = 0, keepdims= True))\n",
    "\n",
    "# points = np.concatenate((contexts_vec_1, contexts_vec_2, contexts_vec_3), axis=0)\n",
    "# context_vectors.shape"
   ]
  },
  {
   "cell_type": "code",
   "execution_count": 241,
   "metadata": {},
   "outputs": [
    {
     "data": {
      "text/plain": [
       "(43, 2434)"
      ]
     },
     "execution_count": 241,
     "metadata": {},
     "output_type": "execute_result"
    }
   ],
   "source": [
    "context_vectors.shape"
   ]
  },
  {
   "cell_type": "markdown",
   "metadata": {},
   "source": [
    "#### Starting clustering below"
   ]
  },
  {
   "cell_type": "code",
   "execution_count": null,
   "metadata": {},
   "outputs": [],
   "source": [
    "from sklearn.cluster import DBSCAN\n",
    "from sklearn.metrics import pairwise"
   ]
  },
  {
   "cell_type": "code",
   "execution_count": 248,
   "metadata": {},
   "outputs": [
    {
     "name": "stderr",
     "output_type": "stream",
     "text": [
      "/Users/aadilrasheed/anaconda/lib/python3.6/site-packages/sklearn/utils/validation.py:475: DataConversionWarning: Data with input dtype int64 was converted to bool by check_pairwise_arrays.\n",
      "  warnings.warn(msg, DataConversionWarning)\n"
     ]
    },
    {
     "data": {
      "text/plain": [
       "array([ 0.        ,  0.64705882,  0.70338983,  0.73333333,  0.7352415 ,\n",
       "        0.75      ,  0.75690608,  0.78828829,  0.79144385,  0.79166667,\n",
       "        0.80769231,  0.84615385,  0.84848485,  0.85507246,  0.86786297,\n",
       "        0.86842105,  0.87434555,  0.8757764 ,  0.8875502 ,  0.88926746,\n",
       "        0.88957055,  0.89      ,  0.89411765,  0.89423077,  0.8968254 ,\n",
       "        0.90322581,  0.90625   ,  0.90697674,  0.90825688,  0.91020408,\n",
       "        0.91647332,  0.91735537,  0.91810345,  0.92079208,  0.92134831,\n",
       "        0.92364532,  0.92789374,  0.93103448,  0.93186373,  0.93243243,\n",
       "        0.93589744,  0.93661972,  0.9382716 ,  0.94327731,  0.94392523,\n",
       "        0.94402985,  0.94565217,  0.94736842,  0.94751773,  0.94779116,\n",
       "        0.95090909,  0.95121951,  0.95169082,  0.95283019,  0.95391705,\n",
       "        0.95454545,  0.95555556,  0.95750708,  0.95833333,  0.95893224,\n",
       "        0.95934959,  0.96      ,  0.96022727,  0.96028881,  0.96111111,\n",
       "        0.96160878,  0.96222664,  0.96226415,  0.96282528,  0.96287703,\n",
       "        0.96311475,  0.96428571,  0.96447602,  0.96563574,  0.96744186,\n",
       "        0.96794872,  0.96842105,  0.97033898,  0.97413793,  0.97424893,\n",
       "        0.9744898 ,  0.97457627,  0.97477064,  0.97481108,  0.97674419,\n",
       "        0.97735849,  0.97863248,  0.97925311,  0.97938144,  0.98136646,\n",
       "        0.98165138,  0.98219585,  0.98268398,  0.98360656,  0.98467433,\n",
       "        0.98479087,  0.98496241,  0.98533724,  0.98535565,  0.9862543 ,\n",
       "        0.98697068,  0.98737374,  0.98785425,  0.98860399,  0.98861048,\n",
       "        0.98876404,  0.98947368,  0.9898167 ,  0.99076212,  0.99090909,\n",
       "        0.99253731,  0.99353796,  0.99354839,  0.99386503,  0.99401198,\n",
       "        0.99409449,  0.99446903,  0.99463327,  0.99512195,  0.99528302,\n",
       "        0.99547511,  0.9957265 ,  0.99619772,  0.99628253,  0.99647887,\n",
       "        0.99658703,  0.9969697 ,  0.99746193,  0.99770642,  0.99777778,\n",
       "        0.99787686,  1.        ])"
      ]
     },
     "execution_count": 248,
     "metadata": {},
     "output_type": "execute_result"
    }
   ],
   "source": [
    "precomputd_X = pairwise.pairwise_distances(context_vectors, metric = \"jaccard\")\n",
    "np.unique(precomputd_X)"
   ]
  },
  {
   "cell_type": "code",
   "execution_count": 253,
   "metadata": {},
   "outputs": [
    {
     "data": {
      "text/plain": [
       "array([-1, -1, -1, -1, -1, -1, -1, -1, -1, -1, -1, -1, -1, -1, -1, -1, -1,\n",
       "       -1, -1, -1, -1, -1, -1, -1, -1, -1, -1, -1, -1, -1,  0, -1, -1, -1,\n",
       "       -1, -1,  0, -1, -1, -1, -1, -1, -1])"
      ]
     },
     "execution_count": 253,
     "metadata": {},
     "output_type": "execute_result"
    }
   ],
   "source": [
    "db = DBSCAN(eps=0.01, min_samples = 2 ).fit(precomputd_X)\n",
    "db.labels_"
   ]
  },
  {
   "cell_type": "code",
   "execution_count": null,
   "metadata": {},
   "outputs": [],
   "source": [
    "unique_clusters = set(db.labels_) - {-1}\n"
   ]
  },
  {
   "cell_type": "code",
   "execution_count": 168,
   "metadata": {},
   "outputs": [
    {
     "name": "stdout",
     "output_type": "stream",
     "text": [
      "total 447904\n",
      "-rw-r--r--  1 aadilrasheed  staff  222189264 Jan  2 20:48 Mama's_Family.h5\n",
      "-rw-r--r--  1 aadilrasheed  staff         15 Jan  2 07:49 README.md\n",
      "-rw-r--r--  1 aadilrasheed  staff    1815104 Dec 29 15:49 mama_700034288.h5\n",
      "-rw-r--r--  1 aadilrasheed  staff    3522480 Dec 26 21:32 test.h5\n",
      "-rw-r--r--  1 aadilrasheed  staff    1667191 Dec 26 21:35 wikiwho.ipynb\n",
      "-rw-r--r--  1 aadilrasheed  staff      14137 Jan  2 20:48 wikiwho_context_clustering.ipynb\n",
      "-rw-r--r--  1 aadilrasheed  staff     100950 Jan  2 20:48 wikiwho_neighbour.ipynb\n"
     ]
    }
   ],
   "source": [
    "ls -l"
   ]
  },
  {
   "cell_type": "code",
   "execution_count": 172,
   "metadata": {},
   "outputs": [],
   "source": [
    "rm Mama*"
   ]
  },
  {
   "cell_type": "code",
   "execution_count": null,
   "metadata": {},
   "outputs": [],
   "source": []
  }
 ],
 "metadata": {
  "kernelspec": {
   "display_name": "Python 3",
   "language": "python",
   "name": "python3"
  },
  "language_info": {
   "codemirror_mode": {
    "name": "ipython",
    "version": 3
   },
   "file_extension": ".py",
   "mimetype": "text/x-python",
   "name": "python",
   "nbconvert_exporter": "python",
   "pygments_lexer": "ipython3",
   "version": "3.6.4"
  }
 },
 "nbformat": 4,
 "nbformat_minor": 2
}
