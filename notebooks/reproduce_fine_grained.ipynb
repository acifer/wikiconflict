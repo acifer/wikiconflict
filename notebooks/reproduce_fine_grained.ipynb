{
 "cells": [
  {
   "cell_type": "code",
   "execution_count": 1,
   "metadata": {},
   "outputs": [],
   "source": [
    "import sys,os\n",
    "sys.path.append(\"../\")\n",
    "\n",
    "import pandas as pd\n",
    "import numpy as np\n",
    "from sklearn.cluster import KMeans\n",
    "import matplotlib.pyplot as plt\n",
    "from IPython.display import HTML\n",
    "%matplotlib inline\n",
    "from ipywidgets import interact, interactive, fixed, interact_manual\n",
    "import ipywidgets as widgets\n",
    "from scipy import stats\n",
    "from sklearn.cluster import DBSCAN\n",
    "from sklearn.preprocessing import LabelEncoder\n",
    "from sklearn.preprocessing import OneHotEncoder\n",
    "from sklearn.preprocessing import MultiLabelBinarizer"
   ]
  },
  {
   "cell_type": "code",
   "execution_count": 2,
   "metadata": {},
   "outputs": [],
   "source": [
    "r_thrshld = 8\n",
    "k_thrshld = 2"
   ]
  },
  {
   "cell_type": "markdown",
   "metadata": {
    "slideshow": {
     "slide_type": "slide"
    }
   },
   "source": [
    "## reading the change object and clustering."
   ]
  },
  {
   "cell_type": "code",
   "execution_count": 15,
   "metadata": {},
   "outputs": [],
   "source": [
    "article_name = \"Yugoslavia\"\n",
    "change_object_dir =  \"../data/change objects/\"\n",
    "filename =  f\"{article_name}_change.h5\"\n",
    "\n",
    "change_object_file = os.path.join(change_object_dir, filename)"
   ]
  },
  {
   "cell_type": "code",
   "execution_count": 16,
   "metadata": {},
   "outputs": [
    {
     "data": {
      "text/plain": [
       "(11960, 12)"
      ]
     },
     "execution_count": 16,
     "metadata": {},
     "output_type": "execute_result"
    }
   ],
   "source": [
    "if os.path.exists(change_object_file):\n",
    "    with pd.HDFStore(change_object_file, 'r') as store:\n",
    "        change_object_dataframe = store.get(\"data\")\n",
    "else:\n",
    "    print(\"file do not exist\")\n",
    "change_object_dataframe.shape"
   ]
  },
  {
   "cell_type": "markdown",
   "metadata": {},
   "source": [
    "## Reduce the change object."
   ]
  },
  {
   "cell_type": "code",
   "execution_count": 17,
   "metadata": {},
   "outputs": [
    {
     "data": {
      "text/html": [
       "<div>\n",
       "<style scoped>\n",
       "    .dataframe tbody tr th:only-of-type {\n",
       "        vertical-align: middle;\n",
       "    }\n",
       "\n",
       "    .dataframe tbody tr th {\n",
       "        vertical-align: top;\n",
       "    }\n",
       "\n",
       "    .dataframe thead th {\n",
       "        text-align: right;\n",
       "    }\n",
       "</style>\n",
       "<table border=\"1\" class=\"dataframe\">\n",
       "  <thead>\n",
       "    <tr style=\"text-align: right;\">\n",
       "      <th></th>\n",
       "      <th></th>\n",
       "      <th></th>\n",
       "      <th></th>\n",
       "      <th></th>\n",
       "      <th></th>\n",
       "      <th>ins_start_pos</th>\n",
       "      <th>ins_end_pos</th>\n",
       "      <th>left_neigh</th>\n",
       "      <th>right_neigh</th>\n",
       "      <th>del_start_pos</th>\n",
       "      <th>del_end_pos</th>\n",
       "      <th>ins_tokens</th>\n",
       "      <th>del_tokens</th>\n",
       "      <th>left_neigh_slice</th>\n",
       "      <th>right_neigh_slice</th>\n",
       "      <th>left_token</th>\n",
       "      <th>right_token</th>\n",
       "      <th>ins_length</th>\n",
       "      <th>del_length</th>\n",
       "    </tr>\n",
       "    <tr>\n",
       "      <th>from revision id</th>\n",
       "      <th>to revision id</th>\n",
       "      <th>timestamp</th>\n",
       "      <th>timegap</th>\n",
       "      <th>editor</th>\n",
       "      <th></th>\n",
       "      <th></th>\n",
       "      <th></th>\n",
       "      <th></th>\n",
       "      <th></th>\n",
       "      <th></th>\n",
       "      <th></th>\n",
       "      <th></th>\n",
       "      <th></th>\n",
       "      <th></th>\n",
       "      <th></th>\n",
       "      <th></th>\n",
       "      <th></th>\n",
       "      <th></th>\n",
       "      <th></th>\n",
       "    </tr>\n",
       "  </thead>\n",
       "  <tbody>\n",
       "    <tr>\n",
       "      <th rowspan=\"2\" valign=\"top\">298089</th>\n",
       "      <th rowspan=\"2\" valign=\"top\">298090</th>\n",
       "      <th rowspan=\"2\" valign=\"top\">2001-12-05 19:43:32</th>\n",
       "      <th rowspan=\"2\" valign=\"top\">43 days 06:45:01</th>\n",
       "      <th rowspan=\"2\" valign=\"top\">0|24.12.199.xxx</th>\n",
       "      <th>0</th>\n",
       "      <td>160.0</td>\n",
       "      <td>160.0</td>\n",
       "      <td>159</td>\n",
       "      <td>160</td>\n",
       "      <td>-1.0</td>\n",
       "      <td>-1.0</td>\n",
       "      <td>([[,)</td>\n",
       "      <td>()</td>\n",
       "      <td>slice(129, 160, None)</td>\n",
       "      <td>slice(160, 191, None)</td>\n",
       "      <td>(serbian, regions, in, croatia, and, bosnia, ,...</td>\n",
       "      <td>(croatia, ,, bosnia, ,, [[, kosovo, ]], ), ., ...</td>\n",
       "      <td>1</td>\n",
       "      <td>0</td>\n",
       "    </tr>\n",
       "    <tr>\n",
       "      <th>1</th>\n",
       "      <td>162.0</td>\n",
       "      <td>162.0</td>\n",
       "      <td>160</td>\n",
       "      <td>161</td>\n",
       "      <td>-1.0</td>\n",
       "      <td>-1.0</td>\n",
       "      <td>(]],)</td>\n",
       "      <td>()</td>\n",
       "      <td>slice(130, 161, None)</td>\n",
       "      <td>slice(161, 192, None)</td>\n",
       "      <td>(regions, in, croatia, and, bosnia, ,, croatia...</td>\n",
       "      <td>(,, bosnia, ,, [[, kosovo, ]], ), ., for, more...</td>\n",
       "      <td>1</td>\n",
       "      <td>0</td>\n",
       "    </tr>\n",
       "  </tbody>\n",
       "</table>\n",
       "</div>"
      ],
      "text/plain": [
       "                                                                                        ins_start_pos  \\\n",
       "from revision id to revision id timestamp           timegap          editor                             \n",
       "298089           298090         2001-12-05 19:43:32 43 days 06:45:01 0|24.12.199.xxx 0          160.0   \n",
       "                                                                                     1          162.0   \n",
       "\n",
       "                                                                                        ins_end_pos  \\\n",
       "from revision id to revision id timestamp           timegap          editor                           \n",
       "298089           298090         2001-12-05 19:43:32 43 days 06:45:01 0|24.12.199.xxx 0        160.0   \n",
       "                                                                                     1        162.0   \n",
       "\n",
       "                                                                                        left_neigh  \\\n",
       "from revision id to revision id timestamp           timegap          editor                          \n",
       "298089           298090         2001-12-05 19:43:32 43 days 06:45:01 0|24.12.199.xxx 0         159   \n",
       "                                                                                     1         160   \n",
       "\n",
       "                                                                                        right_neigh  \\\n",
       "from revision id to revision id timestamp           timegap          editor                           \n",
       "298089           298090         2001-12-05 19:43:32 43 days 06:45:01 0|24.12.199.xxx 0          160   \n",
       "                                                                                     1          161   \n",
       "\n",
       "                                                                                        del_start_pos  \\\n",
       "from revision id to revision id timestamp           timegap          editor                             \n",
       "298089           298090         2001-12-05 19:43:32 43 days 06:45:01 0|24.12.199.xxx 0           -1.0   \n",
       "                                                                                     1           -1.0   \n",
       "\n",
       "                                                                                        del_end_pos  \\\n",
       "from revision id to revision id timestamp           timegap          editor                           \n",
       "298089           298090         2001-12-05 19:43:32 43 days 06:45:01 0|24.12.199.xxx 0         -1.0   \n",
       "                                                                                     1         -1.0   \n",
       "\n",
       "                                                                                       ins_tokens  \\\n",
       "from revision id to revision id timestamp           timegap          editor                         \n",
       "298089           298090         2001-12-05 19:43:32 43 days 06:45:01 0|24.12.199.xxx 0      ([[,)   \n",
       "                                                                                     1      (]],)   \n",
       "\n",
       "                                                                                       del_tokens  \\\n",
       "from revision id to revision id timestamp           timegap          editor                         \n",
       "298089           298090         2001-12-05 19:43:32 43 days 06:45:01 0|24.12.199.xxx 0         ()   \n",
       "                                                                                     1         ()   \n",
       "\n",
       "                                                                                             left_neigh_slice  \\\n",
       "from revision id to revision id timestamp           timegap          editor                                     \n",
       "298089           298090         2001-12-05 19:43:32 43 days 06:45:01 0|24.12.199.xxx 0  slice(129, 160, None)   \n",
       "                                                                                     1  slice(130, 161, None)   \n",
       "\n",
       "                                                                                            right_neigh_slice  \\\n",
       "from revision id to revision id timestamp           timegap          editor                                     \n",
       "298089           298090         2001-12-05 19:43:32 43 days 06:45:01 0|24.12.199.xxx 0  slice(160, 191, None)   \n",
       "                                                                                     1  slice(161, 192, None)   \n",
       "\n",
       "                                                                                                                               left_token  \\\n",
       "from revision id to revision id timestamp           timegap          editor                                                                 \n",
       "298089           298090         2001-12-05 19:43:32 43 days 06:45:01 0|24.12.199.xxx 0  (serbian, regions, in, croatia, and, bosnia, ,...   \n",
       "                                                                                     1  (regions, in, croatia, and, bosnia, ,, croatia...   \n",
       "\n",
       "                                                                                                                              right_token  \\\n",
       "from revision id to revision id timestamp           timegap          editor                                                                 \n",
       "298089           298090         2001-12-05 19:43:32 43 days 06:45:01 0|24.12.199.xxx 0  (croatia, ,, bosnia, ,, [[, kosovo, ]], ), ., ...   \n",
       "                                                                                     1  (,, bosnia, ,, [[, kosovo, ]], ), ., for, more...   \n",
       "\n",
       "                                                                                        ins_length  \\\n",
       "from revision id to revision id timestamp           timegap          editor                          \n",
       "298089           298090         2001-12-05 19:43:32 43 days 06:45:01 0|24.12.199.xxx 0           1   \n",
       "                                                                                     1           1   \n",
       "\n",
       "                                                                                        del_length  \n",
       "from revision id to revision id timestamp           timegap          editor                         \n",
       "298089           298090         2001-12-05 19:43:32 43 days 06:45:01 0|24.12.199.xxx 0           0  \n",
       "                                                                                     1           0  "
      ]
     },
     "execution_count": 17,
     "metadata": {},
     "output_type": "execute_result"
    }
   ],
   "source": [
    "change_object_dataframe[\"ins_length\"]= change_object_dataframe[\"ins_tokens\"].apply(lambda x: len(x))\n",
    "change_object_dataframe[\"del_length\"]= change_object_dataframe[\"del_tokens\"].apply(lambda x: len(x))\n",
    "change_object_dataframe.head(2)"
   ]
  },
  {
   "cell_type": "code",
   "execution_count": 18,
   "metadata": {},
   "outputs": [
    {
     "data": {
      "text/plain": [
       "(3901, 14)"
      ]
     },
     "metadata": {},
     "output_type": "display_data"
    },
    {
     "data": {
      "text/html": [
       "<div>\n",
       "<style scoped>\n",
       "    .dataframe tbody tr th:only-of-type {\n",
       "        vertical-align: middle;\n",
       "    }\n",
       "\n",
       "    .dataframe tbody tr th {\n",
       "        vertical-align: top;\n",
       "    }\n",
       "\n",
       "    .dataframe thead th {\n",
       "        text-align: right;\n",
       "    }\n",
       "</style>\n",
       "<table border=\"1\" class=\"dataframe\">\n",
       "  <thead>\n",
       "    <tr style=\"text-align: right;\">\n",
       "      <th></th>\n",
       "      <th></th>\n",
       "      <th></th>\n",
       "      <th></th>\n",
       "      <th></th>\n",
       "      <th></th>\n",
       "      <th>ins_start_pos</th>\n",
       "      <th>ins_end_pos</th>\n",
       "      <th>left_neigh</th>\n",
       "      <th>right_neigh</th>\n",
       "      <th>del_start_pos</th>\n",
       "      <th>del_end_pos</th>\n",
       "      <th>ins_tokens</th>\n",
       "      <th>del_tokens</th>\n",
       "      <th>left_neigh_slice</th>\n",
       "      <th>right_neigh_slice</th>\n",
       "      <th>left_token</th>\n",
       "      <th>right_token</th>\n",
       "      <th>ins_length</th>\n",
       "      <th>del_length</th>\n",
       "    </tr>\n",
       "    <tr>\n",
       "      <th>from revision id</th>\n",
       "      <th>to revision id</th>\n",
       "      <th>timestamp</th>\n",
       "      <th>timegap</th>\n",
       "      <th>editor</th>\n",
       "      <th></th>\n",
       "      <th></th>\n",
       "      <th></th>\n",
       "      <th></th>\n",
       "      <th></th>\n",
       "      <th></th>\n",
       "      <th></th>\n",
       "      <th></th>\n",
       "      <th></th>\n",
       "      <th></th>\n",
       "      <th></th>\n",
       "      <th></th>\n",
       "      <th></th>\n",
       "      <th></th>\n",
       "      <th></th>\n",
       "    </tr>\n",
       "  </thead>\n",
       "  <tbody>\n",
       "    <tr>\n",
       "      <th>20114</th>\n",
       "      <th>28292</th>\n",
       "      <th>2002-02-28 09:25:33</th>\n",
       "      <th>2 days 17:42:22</th>\n",
       "      <th>0|195.170.0.27</th>\n",
       "      <th>1</th>\n",
       "      <td>161.0</td>\n",
       "      <td>170.0</td>\n",
       "      <td>153</td>\n",
       "      <td>155</td>\n",
       "      <td>154.0</td>\n",
       "      <td>154.0</td>\n",
       "      <td>(f, ., y, ., r, ., o, ., m, .)</td>\n",
       "      <td>(macedonia,)</td>\n",
       "      <td>slice(123, 154, None)</td>\n",
       "      <td>slice(155, 186, None)</td>\n",
       "      <td>(kosovo, ]], still, uncertain, ., because, the...</td>\n",
       "      <td>(,, hungarian, in, serbia, ), ,, this, led, to...</td>\n",
       "      <td>10</td>\n",
       "      <td>1</td>\n",
       "    </tr>\n",
       "    <tr>\n",
       "      <th>28292</th>\n",
       "      <th>34484</th>\n",
       "      <th>2002-03-12 07:33:21</th>\n",
       "      <th>11 days 22:07:48</th>\n",
       "      <th>179</th>\n",
       "      <th>2</th>\n",
       "      <td>76.0</td>\n",
       "      <td>77.0</td>\n",
       "      <td>250</td>\n",
       "      <td>252</td>\n",
       "      <td>251.0</td>\n",
       "      <td>251.0</td>\n",
       "      <td>(warsaw, pact)</td>\n",
       "      <td>(yugoslavia,)</td>\n",
       "      <td>slice(220, 251, None)</td>\n",
       "      <td>slice(252, 283, None)</td>\n",
       "      <td>(&lt;, /, b, &gt;, yu, during, most, of, the, 20th, ...</td>\n",
       "      <td>(]], ., all, of, them, but, [[, serbia, ]], an...</td>\n",
       "      <td>2</td>\n",
       "      <td>1</td>\n",
       "    </tr>\n",
       "  </tbody>\n",
       "</table>\n",
       "</div>"
      ],
      "text/plain": [
       "                                                                                       ins_start_pos  \\\n",
       "from revision id to revision id timestamp           timegap          editor                            \n",
       "20114            28292          2002-02-28 09:25:33 2 days 17:42:22  0|195.170.0.27 1          161.0   \n",
       "28292            34484          2002-03-12 07:33:21 11 days 22:07:48 179            2           76.0   \n",
       "\n",
       "                                                                                       ins_end_pos  \\\n",
       "from revision id to revision id timestamp           timegap          editor                          \n",
       "20114            28292          2002-02-28 09:25:33 2 days 17:42:22  0|195.170.0.27 1        170.0   \n",
       "28292            34484          2002-03-12 07:33:21 11 days 22:07:48 179            2         77.0   \n",
       "\n",
       "                                                                                       left_neigh  \\\n",
       "from revision id to revision id timestamp           timegap          editor                         \n",
       "20114            28292          2002-02-28 09:25:33 2 days 17:42:22  0|195.170.0.27 1         153   \n",
       "28292            34484          2002-03-12 07:33:21 11 days 22:07:48 179            2         250   \n",
       "\n",
       "                                                                                       right_neigh  \\\n",
       "from revision id to revision id timestamp           timegap          editor                          \n",
       "20114            28292          2002-02-28 09:25:33 2 days 17:42:22  0|195.170.0.27 1          155   \n",
       "28292            34484          2002-03-12 07:33:21 11 days 22:07:48 179            2          252   \n",
       "\n",
       "                                                                                       del_start_pos  \\\n",
       "from revision id to revision id timestamp           timegap          editor                            \n",
       "20114            28292          2002-02-28 09:25:33 2 days 17:42:22  0|195.170.0.27 1          154.0   \n",
       "28292            34484          2002-03-12 07:33:21 11 days 22:07:48 179            2          251.0   \n",
       "\n",
       "                                                                                       del_end_pos  \\\n",
       "from revision id to revision id timestamp           timegap          editor                          \n",
       "20114            28292          2002-02-28 09:25:33 2 days 17:42:22  0|195.170.0.27 1        154.0   \n",
       "28292            34484          2002-03-12 07:33:21 11 days 22:07:48 179            2        251.0   \n",
       "\n",
       "                                                                                                           ins_tokens  \\\n",
       "from revision id to revision id timestamp           timegap          editor                                             \n",
       "20114            28292          2002-02-28 09:25:33 2 days 17:42:22  0|195.170.0.27 1  (f, ., y, ., r, ., o, ., m, .)   \n",
       "28292            34484          2002-03-12 07:33:21 11 days 22:07:48 179            2                  (warsaw, pact)   \n",
       "\n",
       "                                                                                          del_tokens  \\\n",
       "from revision id to revision id timestamp           timegap          editor                            \n",
       "20114            28292          2002-02-28 09:25:33 2 days 17:42:22  0|195.170.0.27 1   (macedonia,)   \n",
       "28292            34484          2002-03-12 07:33:21 11 days 22:07:48 179            2  (yugoslavia,)   \n",
       "\n",
       "                                                                                            left_neigh_slice  \\\n",
       "from revision id to revision id timestamp           timegap          editor                                    \n",
       "20114            28292          2002-02-28 09:25:33 2 days 17:42:22  0|195.170.0.27 1  slice(123, 154, None)   \n",
       "28292            34484          2002-03-12 07:33:21 11 days 22:07:48 179            2  slice(220, 251, None)   \n",
       "\n",
       "                                                                                           right_neigh_slice  \\\n",
       "from revision id to revision id timestamp           timegap          editor                                    \n",
       "20114            28292          2002-02-28 09:25:33 2 days 17:42:22  0|195.170.0.27 1  slice(155, 186, None)   \n",
       "28292            34484          2002-03-12 07:33:21 11 days 22:07:48 179            2  slice(252, 283, None)   \n",
       "\n",
       "                                                                                                                              left_token  \\\n",
       "from revision id to revision id timestamp           timegap          editor                                                                \n",
       "20114            28292          2002-02-28 09:25:33 2 days 17:42:22  0|195.170.0.27 1  (kosovo, ]], still, uncertain, ., because, the...   \n",
       "28292            34484          2002-03-12 07:33:21 11 days 22:07:48 179            2  (<, /, b, >, yu, during, most, of, the, 20th, ...   \n",
       "\n",
       "                                                                                                                             right_token  \\\n",
       "from revision id to revision id timestamp           timegap          editor                                                                \n",
       "20114            28292          2002-02-28 09:25:33 2 days 17:42:22  0|195.170.0.27 1  (,, hungarian, in, serbia, ), ,, this, led, to...   \n",
       "28292            34484          2002-03-12 07:33:21 11 days 22:07:48 179            2  (]], ., all, of, them, but, [[, serbia, ]], an...   \n",
       "\n",
       "                                                                                       ins_length  \\\n",
       "from revision id to revision id timestamp           timegap          editor                         \n",
       "20114            28292          2002-02-28 09:25:33 2 days 17:42:22  0|195.170.0.27 1          10   \n",
       "28292            34484          2002-03-12 07:33:21 11 days 22:07:48 179            2           2   \n",
       "\n",
       "                                                                                       del_length  \n",
       "from revision id to revision id timestamp           timegap          editor                        \n",
       "20114            28292          2002-02-28 09:25:33 2 days 17:42:22  0|195.170.0.27 1           1  \n",
       "28292            34484          2002-03-12 07:33:21 11 days 22:07:48 179            2           1  "
      ]
     },
     "execution_count": 18,
     "metadata": {},
     "output_type": "execute_result"
    }
   ],
   "source": [
    "inner_join_change_object = change_object_dataframe[(change_object_dataframe[\"ins_tokens\"]!=()) & (change_object_dataframe[\"del_tokens\"]!=())]\n",
    "display(inner_join_change_object.shape)\n",
    "inner_join_change_object.head(2)"
   ]
  },
  {
   "cell_type": "markdown",
   "metadata": {},
   "source": [
    "### Removing change object with insert or delete token size more than five."
   ]
  },
  {
   "cell_type": "code",
   "execution_count": 19,
   "metadata": {},
   "outputs": [
    {
     "data": {
      "text/plain": [
       "(2749, 14)"
      ]
     },
     "execution_count": 19,
     "metadata": {},
     "output_type": "execute_result"
    }
   ],
   "source": [
    "bykau_change_object = inner_join_change_object[~((inner_join_change_object[\"ins_length\"] >5 ) | (inner_join_change_object[\"del_length\"] >5) )]\n",
    "bykau_change_object.shape"
   ]
  },
  {
   "cell_type": "code",
   "execution_count": 20,
   "metadata": {},
   "outputs": [
    {
     "data": {
      "text/html": [
       "<div>\n",
       "<style scoped>\n",
       "    .dataframe tbody tr th:only-of-type {\n",
       "        vertical-align: middle;\n",
       "    }\n",
       "\n",
       "    .dataframe tbody tr th {\n",
       "        vertical-align: top;\n",
       "    }\n",
       "\n",
       "    .dataframe thead th {\n",
       "        text-align: right;\n",
       "    }\n",
       "</style>\n",
       "<table border=\"1\" class=\"dataframe\">\n",
       "  <thead>\n",
       "    <tr style=\"text-align: right;\">\n",
       "      <th></th>\n",
       "      <th>ins_tokens</th>\n",
       "      <th>del_tokens</th>\n",
       "    </tr>\n",
       "  </thead>\n",
       "  <tbody>\n",
       "    <tr>\n",
       "      <th>0</th>\n",
       "      <td>(warsaw, pact)</td>\n",
       "      <td>(yugoslavia,)</td>\n",
       "    </tr>\n",
       "    <tr>\n",
       "      <th>1</th>\n",
       "      <td>(,, with, some, wikification, :)</td>\n",
       "      <td>(., not, wikified, .)</td>\n",
       "    </tr>\n",
       "    <tr>\n",
       "      <th>2</th>\n",
       "      <td>(the, macedonian, republic)</td>\n",
       "      <td>(vardar, macedonia)</td>\n",
       "    </tr>\n",
       "  </tbody>\n",
       "</table>\n",
       "</div>"
      ],
      "text/plain": [
       "                         ins_tokens             del_tokens\n",
       "0                    (warsaw, pact)          (yugoslavia,)\n",
       "1  (,, with, some, wikification, :)  (., not, wikified, .)\n",
       "2       (the, macedonian, republic)    (vardar, macedonia)"
      ]
     },
     "execution_count": 20,
     "metadata": {},
     "output_type": "execute_result"
    }
   ],
   "source": [
    "bykau_change_object.reset_index(drop=True)[[\"ins_tokens\", \"del_tokens\"]].head(3)"
   ]
  },
  {
   "cell_type": "markdown",
   "metadata": {},
   "source": [
    "### Removing low user support tokens"
   ]
  },
  {
   "cell_type": "code",
   "execution_count": 21,
   "metadata": {},
   "outputs": [
    {
     "data": {
      "text/plain": [
       "(740, 14)"
      ]
     },
     "execution_count": 21,
     "metadata": {},
     "output_type": "execute_result"
    }
   ],
   "source": [
    "# bykau_change_object = bykau_change_object.reset_index()\n",
    "bykau_change_object = bykau_change_object.groupby(\"ins_tokens\").filter(lambda x : x.index.get_level_values(\"editor\").nunique()>=2)\n",
    "bykau_change_object = bykau_change_object.groupby(\"del_tokens\").filter(lambda x : x.index.get_level_values(\"editor\").nunique()>=2)\n",
    "bykau_change_object.shape"
   ]
  },
  {
   "cell_type": "code",
   "execution_count": 22,
   "metadata": {},
   "outputs": [
    {
     "data": {
      "text/html": [
       "<div>\n",
       "<style scoped>\n",
       "    .dataframe tbody tr th:only-of-type {\n",
       "        vertical-align: middle;\n",
       "    }\n",
       "\n",
       "    .dataframe tbody tr th {\n",
       "        vertical-align: top;\n",
       "    }\n",
       "\n",
       "    .dataframe thead th {\n",
       "        text-align: right;\n",
       "    }\n",
       "</style>\n",
       "<table border=\"1\" class=\"dataframe\">\n",
       "  <thead>\n",
       "    <tr style=\"text-align: right;\">\n",
       "      <th></th>\n",
       "      <th></th>\n",
       "      <th></th>\n",
       "      <th></th>\n",
       "      <th></th>\n",
       "      <th></th>\n",
       "      <th>ins_start_pos</th>\n",
       "      <th>ins_end_pos</th>\n",
       "      <th>left_neigh</th>\n",
       "      <th>right_neigh</th>\n",
       "      <th>del_start_pos</th>\n",
       "      <th>del_end_pos</th>\n",
       "      <th>ins_tokens</th>\n",
       "      <th>del_tokens</th>\n",
       "      <th>left_neigh_slice</th>\n",
       "      <th>right_neigh_slice</th>\n",
       "      <th>left_token</th>\n",
       "      <th>right_token</th>\n",
       "      <th>ins_length</th>\n",
       "      <th>del_length</th>\n",
       "    </tr>\n",
       "    <tr>\n",
       "      <th>from revision id</th>\n",
       "      <th>to revision id</th>\n",
       "      <th>timestamp</th>\n",
       "      <th>timegap</th>\n",
       "      <th>editor</th>\n",
       "      <th></th>\n",
       "      <th></th>\n",
       "      <th></th>\n",
       "      <th></th>\n",
       "      <th></th>\n",
       "      <th></th>\n",
       "      <th></th>\n",
       "      <th></th>\n",
       "      <th></th>\n",
       "      <th></th>\n",
       "      <th></th>\n",
       "      <th></th>\n",
       "      <th></th>\n",
       "      <th></th>\n",
       "      <th></th>\n",
       "    </tr>\n",
       "  </thead>\n",
       "  <tbody>\n",
       "    <tr>\n",
       "      <th>377336</th>\n",
       "      <th>403378</th>\n",
       "      <th>2002-10-22 18:51:34</th>\n",
       "      <th>37 days 13:31:45</th>\n",
       "      <th>4739</th>\n",
       "      <th>0</th>\n",
       "      <td>67.0</td>\n",
       "      <td>67.0</td>\n",
       "      <td>66</td>\n",
       "      <td>68</td>\n",
       "      <td>67.0</td>\n",
       "      <td>67.0</td>\n",
       "      <td>(the,)</td>\n",
       "      <td>(a,)</td>\n",
       "      <td>slice(36, 67, None)</td>\n",
       "      <td>slice(68, 99, None)</td>\n",
       "      <td>(., png, ]], &lt;, /, div, &gt;, the, federal, repub...</td>\n",
       "      <td>([[, monarchy, ]], ., after, [[, world, war, i...</td>\n",
       "      <td>1</td>\n",
       "      <td>1</td>\n",
       "    </tr>\n",
       "    <tr>\n",
       "      <th>631448</th>\n",
       "      <th>631453</th>\n",
       "      <th>2003-01-30 16:31:50</th>\n",
       "      <th>1 days 17:53:15</th>\n",
       "      <th>0|212.59.62.221</th>\n",
       "      <th>1</th>\n",
       "      <td>489.0</td>\n",
       "      <td>489.0</td>\n",
       "      <td>485</td>\n",
       "      <td>487</td>\n",
       "      <td>486.0</td>\n",
       "      <td>486.0</td>\n",
       "      <td>(the,)</td>\n",
       "      <td>(to,)</td>\n",
       "      <td>slice(455, 486, None)</td>\n",
       "      <td>slice(487, 518, None)</td>\n",
       "      <td>(united, nations, in, [[, 2000, ]], ., in, [[,...</td>\n",
       "      <td>(end, the, use, of, the, name, yugoslavia, in,...</td>\n",
       "      <td>1</td>\n",
       "      <td>1</td>\n",
       "    </tr>\n",
       "  </tbody>\n",
       "</table>\n",
       "</div>"
      ],
      "text/plain": [
       "                                                                                        ins_start_pos  \\\n",
       "from revision id to revision id timestamp           timegap          editor                             \n",
       "377336           403378         2002-10-22 18:51:34 37 days 13:31:45 4739            0           67.0   \n",
       "631448           631453         2003-01-30 16:31:50 1 days 17:53:15  0|212.59.62.221 1          489.0   \n",
       "\n",
       "                                                                                        ins_end_pos  \\\n",
       "from revision id to revision id timestamp           timegap          editor                           \n",
       "377336           403378         2002-10-22 18:51:34 37 days 13:31:45 4739            0         67.0   \n",
       "631448           631453         2003-01-30 16:31:50 1 days 17:53:15  0|212.59.62.221 1        489.0   \n",
       "\n",
       "                                                                                        left_neigh  \\\n",
       "from revision id to revision id timestamp           timegap          editor                          \n",
       "377336           403378         2002-10-22 18:51:34 37 days 13:31:45 4739            0          66   \n",
       "631448           631453         2003-01-30 16:31:50 1 days 17:53:15  0|212.59.62.221 1         485   \n",
       "\n",
       "                                                                                        right_neigh  \\\n",
       "from revision id to revision id timestamp           timegap          editor                           \n",
       "377336           403378         2002-10-22 18:51:34 37 days 13:31:45 4739            0           68   \n",
       "631448           631453         2003-01-30 16:31:50 1 days 17:53:15  0|212.59.62.221 1          487   \n",
       "\n",
       "                                                                                        del_start_pos  \\\n",
       "from revision id to revision id timestamp           timegap          editor                             \n",
       "377336           403378         2002-10-22 18:51:34 37 days 13:31:45 4739            0           67.0   \n",
       "631448           631453         2003-01-30 16:31:50 1 days 17:53:15  0|212.59.62.221 1          486.0   \n",
       "\n",
       "                                                                                        del_end_pos  \\\n",
       "from revision id to revision id timestamp           timegap          editor                           \n",
       "377336           403378         2002-10-22 18:51:34 37 days 13:31:45 4739            0         67.0   \n",
       "631448           631453         2003-01-30 16:31:50 1 days 17:53:15  0|212.59.62.221 1        486.0   \n",
       "\n",
       "                                                                                       ins_tokens  \\\n",
       "from revision id to revision id timestamp           timegap          editor                         \n",
       "377336           403378         2002-10-22 18:51:34 37 days 13:31:45 4739            0     (the,)   \n",
       "631448           631453         2003-01-30 16:31:50 1 days 17:53:15  0|212.59.62.221 1     (the,)   \n",
       "\n",
       "                                                                                       del_tokens  \\\n",
       "from revision id to revision id timestamp           timegap          editor                         \n",
       "377336           403378         2002-10-22 18:51:34 37 days 13:31:45 4739            0       (a,)   \n",
       "631448           631453         2003-01-30 16:31:50 1 days 17:53:15  0|212.59.62.221 1      (to,)   \n",
       "\n",
       "                                                                                             left_neigh_slice  \\\n",
       "from revision id to revision id timestamp           timegap          editor                                     \n",
       "377336           403378         2002-10-22 18:51:34 37 days 13:31:45 4739            0    slice(36, 67, None)   \n",
       "631448           631453         2003-01-30 16:31:50 1 days 17:53:15  0|212.59.62.221 1  slice(455, 486, None)   \n",
       "\n",
       "                                                                                            right_neigh_slice  \\\n",
       "from revision id to revision id timestamp           timegap          editor                                     \n",
       "377336           403378         2002-10-22 18:51:34 37 days 13:31:45 4739            0    slice(68, 99, None)   \n",
       "631448           631453         2003-01-30 16:31:50 1 days 17:53:15  0|212.59.62.221 1  slice(487, 518, None)   \n",
       "\n",
       "                                                                                                                               left_token  \\\n",
       "from revision id to revision id timestamp           timegap          editor                                                                 \n",
       "377336           403378         2002-10-22 18:51:34 37 days 13:31:45 4739            0  (., png, ]], <, /, div, >, the, federal, repub...   \n",
       "631448           631453         2003-01-30 16:31:50 1 days 17:53:15  0|212.59.62.221 1  (united, nations, in, [[, 2000, ]], ., in, [[,...   \n",
       "\n",
       "                                                                                                                              right_token  \\\n",
       "from revision id to revision id timestamp           timegap          editor                                                                 \n",
       "377336           403378         2002-10-22 18:51:34 37 days 13:31:45 4739            0  ([[, monarchy, ]], ., after, [[, world, war, i...   \n",
       "631448           631453         2003-01-30 16:31:50 1 days 17:53:15  0|212.59.62.221 1  (end, the, use, of, the, name, yugoslavia, in,...   \n",
       "\n",
       "                                                                                        ins_length  \\\n",
       "from revision id to revision id timestamp           timegap          editor                          \n",
       "377336           403378         2002-10-22 18:51:34 37 days 13:31:45 4739            0           1   \n",
       "631448           631453         2003-01-30 16:31:50 1 days 17:53:15  0|212.59.62.221 1           1   \n",
       "\n",
       "                                                                                        del_length  \n",
       "from revision id to revision id timestamp           timegap          editor                         \n",
       "377336           403378         2002-10-22 18:51:34 37 days 13:31:45 4739            0           1  \n",
       "631448           631453         2003-01-30 16:31:50 1 days 17:53:15  0|212.59.62.221 1           1  "
      ]
     },
     "execution_count": 22,
     "metadata": {},
     "output_type": "execute_result"
    }
   ],
   "source": [
    "bykau_change_object.head(2)"
   ]
  },
  {
   "cell_type": "code",
   "execution_count": 23,
   "metadata": {},
   "outputs": [],
   "source": [
    "bykau_change_object[\"left_string\"] = bykau_change_object[\"left_token\"].str.join(\" \")\n",
    "bykau_change_object[\"ins_string\"] = bykau_change_object[\"ins_tokens\"].str.join(\" \")\n",
    "bykau_change_object[\"del_string\"] = bykau_change_object[\"del_tokens\"].str.join(\" \")\n",
    "bykau_change_object[\"right_string\"] = bykau_change_object[\"right_token\"].str.join(\" \")"
   ]
  },
  {
   "cell_type": "markdown",
   "metadata": {},
   "source": [
    "### Clustering using jaccard"
   ]
  },
  {
   "cell_type": "markdown",
   "metadata": {},
   "source": [
    "##### Defining jaccard similarity function."
   ]
  },
  {
   "cell_type": "code",
   "execution_count": 24,
   "metadata": {},
   "outputs": [],
   "source": [
    "edit_tokens = bykau_change_object[\"ins_tokens\"] + bykau_change_object[\"del_tokens\"]\n",
    "left_neighbours = bykau_change_object[\"left_token\"].apply(lambda x: x[-r_thrshld:])\n",
    "right_neighbours = bykau_change_object[\"right_token\"].apply(lambda x: x[:r_thrshld])\n",
    "neighbour_tokens = left_neighbours + right_neighbours\n",
    "bykau_change_object[\"edit_tokens\"] = edit_tokens.apply(lambda x: np.unique(x))\n",
    "bykau_change_object[\"neighbour_tokens\"] = neighbour_tokens.apply(lambda x: np.unique(x))\n",
    "neighbour_vec=MultiLabelBinarizer().fit_transform(bykau_change_object[\"neighbour_tokens\"])"
   ]
  },
  {
   "cell_type": "code",
   "execution_count": 25,
   "metadata": {},
   "outputs": [],
   "source": [
    "db = DBSCAN(eps=0.5, min_samples=4, metric='jaccard').fit(neighbour_vec)\n",
    "bykau_change_object[\"neighbour_clusters\"] = db.labels_\n",
    "\n",
    "repers_first = bykau_change_object.groupby(\"neighbour_clusters\")[[\"left_string\",\"del_string\", \"ins_string\", \"right_string\"]].apply(lambda x: x.style.render())\n",
    "# bykau_change_object.head(2)"
   ]
  },
  {
   "cell_type": "code",
   "execution_count": 26,
   "metadata": {},
   "outputs": [
    {
     "data": {
      "application/vnd.jupyter.widget-view+json": {
       "model_id": "c86389171e674543a5c968f493d72747",
       "version_major": 2,
       "version_minor": 0
      },
      "text/plain": [
       "interactive(children=(Dropdown(description='group', options=(0, 1, 2, 3, 4, 5, 6, 7, 8, 9, 10, 11, 12, 13, 14,…"
      ]
     },
     "metadata": {},
     "output_type": "display_data"
    }
   ],
   "source": [
    "@interact( clusters_html=fixed(repers_first), group=range(bykau_change_object.groupby(\"neighbour_clusters\").ngroups))\n",
    "def display_clusters(clusters_html, group):\n",
    "     return display(HTML(clusters_html.iloc[group]))"
   ]
  },
  {
   "cell_type": "code",
   "execution_count": 27,
   "metadata": {},
   "outputs": [],
   "source": [
    "clustered_bykau_change_object = bykau_change_object[bykau_change_object[\"neighbour_clusters\"]!= -1]\n",
    "group_edit_tokens = clustered_bykau_change_object.groupby(\"neighbour_clusters\")[\"edit_tokens\"].apply(lambda x: set(np.concatenate(x.values.ravel(), axis=0)))\n",
    "context_vec = MultiLabelBinarizer().fit_transform(group_edit_tokens)\n",
    "group_edit_dataframe = pd.DataFrame(group_edit_tokens.reset_index())"
   ]
  },
  {
   "cell_type": "code",
   "execution_count": 28,
   "metadata": {},
   "outputs": [],
   "source": [
    "db = DBSCAN(eps=0.8, min_samples=2, metric='jaccard').fit(context_vec)\n",
    "group_edit_dataframe[\"reclustered_group\"] = db.labels_\n",
    "group_edit_dataframe = group_edit_dataframe[group_edit_dataframe[\"reclustered_group\"]!= -1]\n",
    "\n"
   ]
  },
  {
   "cell_type": "code",
   "execution_count": 29,
   "metadata": {},
   "outputs": [],
   "source": [
    "final_dataframe = pd.merge( clustered_bykau_change_object, group_edit_dataframe[[\"reclustered_group\", \"neighbour_clusters\"]], how=\"left\",on=\"neighbour_clusters\")"
   ]
  },
  {
   "cell_type": "code",
   "execution_count": 30,
   "metadata": {},
   "outputs": [],
   "source": [
    "final_dataframe.index = clustered_bykau_change_object.index"
   ]
  },
  {
   "cell_type": "markdown",
   "metadata": {},
   "source": [
    "#### Saving change object and its clusters"
   ]
  },
  {
   "cell_type": "code",
   "execution_count": 31,
   "metadata": {},
   "outputs": [
    {
     "name": "stderr",
     "output_type": "stream",
     "text": [
      "/home/ubuntu/anaconda3/envs/wrod2vec/lib/python3.6/site-packages/IPython/core/interactiveshell.py:2903: PerformanceWarning: \n",
      "your performance may suffer as PyTables will pickle object types that it cannot\n",
      "map directly to c-types [inferred_type->mixed,key->block2_values] [items->['ins_tokens', 'del_tokens', 'left_neigh_slice', 'right_neigh_slice', 'left_token', 'right_token', 'left_string', 'ins_string', 'del_string', 'right_string', 'edit_tokens', 'neighbour_tokens']]\n",
      "\n",
      "  if self.run_code(code, result):\n"
     ]
    }
   ],
   "source": [
    "bykau_dir =  \"../data/bykau_change_object/\"\n",
    "filename =  f\"{article_name}_change.h5\"\n",
    "\n",
    "change_object_file = os.path.join(bykau_dir, filename)\n",
    "with pd.HDFStore(change_object_file, 'w') as store:\n",
    "    store.put(\"data\", final_dataframe,)"
   ]
  },
  {
   "cell_type": "markdown",
   "metadata": {},
   "source": [
    "### Grouping and showing clusters"
   ]
  },
  {
   "cell_type": "code",
   "execution_count": 19,
   "metadata": {},
   "outputs": [],
   "source": [
    "final_dataframe[\"left_string\"] = final_dataframe[\"left_token\"].str.join(\" \")\n",
    "final_dataframe[\"ins_string\"] = final_dataframe[\"ins_tokens\"].str.join(\" \")\n",
    "final_dataframe[\"del_string\"] = final_dataframe[\"del_tokens\"].str.join(\" \")\n",
    "final_dataframe[\"right_string\"] = final_dataframe[\"right_token\"].str.join(\" \")"
   ]
  },
  {
   "cell_type": "code",
   "execution_count": 20,
   "metadata": {},
   "outputs": [],
   "source": [
    "final_dataframe_grouped = final_dataframe.groupby(\"reclustered_group\")"
   ]
  },
  {
   "cell_type": "code",
   "execution_count": 21,
   "metadata": {},
   "outputs": [],
   "source": [
    "repers = final_dataframe_grouped[[\"left_string\",\"del_string\", \"ins_string\", \"right_string\"]].apply(lambda x: x.style.render())"
   ]
  },
  {
   "cell_type": "code",
   "execution_count": 22,
   "metadata": {},
   "outputs": [],
   "source": [
    "# all_html = \" \".join(repers_4_full)\n",
    "# file_name = article_name + \"_4_full_\"+str(NO_OF_CLUSTERS) + \"_clusters.html\"\n",
    "# file_path = os.path.join(\"./visualisation\", file_name)\n",
    "# with open(file_path, 'wb') as f:\n",
    "#     f.write(all_html.encode())"
   ]
  },
  {
   "cell_type": "markdown",
   "metadata": {},
   "source": [
    "## Vaisualisation of clusters\n",
    "##### Rerun next cell each time this notebook is reloaded, this is a bug in current jupyterlab."
   ]
  },
  {
   "cell_type": "code",
   "execution_count": 23,
   "metadata": {},
   "outputs": [
    {
     "data": {
      "application/vnd.jupyter.widget-view+json": {
       "model_id": "ac209f57ca074552bb69a578d65fdc23",
       "version_major": 2,
       "version_minor": 0
      },
      "text/plain": [
       "interactive(children=(Dropdown(description='group', options=(), value=None), Output()), _dom_classes=('widget-…"
      ]
     },
     "metadata": {},
     "output_type": "display_data"
    }
   ],
   "source": [
    "@interact( clusters_html=fixed(repers), group=range(final_dataframe_grouped.ngroups))\n",
    "def display_clusters(clusters_html, group):\n",
    "     return display(HTML(clusters_html.iloc[group]))\n"
   ]
  },
  {
   "cell_type": "code",
   "execution_count": null,
   "metadata": {},
   "outputs": [],
   "source": []
  }
 ],
 "metadata": {
  "kernelspec": {
   "display_name": "Python 3",
   "language": "python",
   "name": "python3"
  },
  "language_info": {
   "codemirror_mode": {
    "name": "ipython",
    "version": 3
   },
   "file_extension": ".py",
   "mimetype": "text/x-python",
   "name": "python",
   "nbconvert_exporter": "python",
   "pygments_lexer": "ipython3",
   "version": "3.6.4"
  }
 },
 "nbformat": 4,
 "nbformat_minor": 2
}
