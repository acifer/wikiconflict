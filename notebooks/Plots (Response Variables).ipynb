{
 "cells": [
  {
   "cell_type": "code",
   "execution_count": 16,
   "metadata": {},
   "outputs": [],
   "source": [
    "import pandas as pd\n",
    "\n",
    "names = ['Truth', 'Berlin_Wall', 'Yugoslavia', 'Violence_against_Muslims_in_India', 'John_Logie_Baird']\n",
    "\n",
    "dfs = {name: pd.read_csv(f\"../data/pre_evaluation/{name}.csv\") for name in names }"
   ]
  },
  {
   "cell_type": "code",
   "execution_count": 20,
   "metadata": {
    "scrolled": false
   },
   "outputs": [],
   "source": [
    "%matplotlib inline\n",
    "\n",
    "import matplotlib.pyplot as plt\n",
    "\n",
    "#df['neighbour_size'] = df['neighbour_size'].astype(str)\n",
    "def plot2x2(name, response):\n",
    "    _df = dfs[name]\n",
    "    fig, axes = plt.subplots(nrows=2, ncols=2, figsize=(15,12))\n",
    "    \n",
    "    for i, (name, subdf) in enumerate(_df.groupby(['cleaned', 'weighted'])): \n",
    "        _ax = ax=axes[int(i/2),i%2]\n",
    "        for name2, subdf2 in subdf.groupby(['neighbour_size']): \n",
    "            subdf2.plot(x = 'eps', y=response, ax=_ax, label=str(name2), title=f'{name[0]}, {name[1]}')\n"
   ]
  },
  {
   "cell_type": "code",
   "execution_count": 22,
   "metadata": {},
   "outputs": [
    {
     "data": {
      "application/vnd.jupyter.widget-view+json": {
       "model_id": "55207bac2a644646859753a0d3b6afa9",
       "version_major": 2,
       "version_minor": 0
      },
      "text/plain": [
       "interactive(children=(Dropdown(description='name', options=('Truth', 'Berlin_Wall', 'Yugoslavia', 'Violence_ag…"
      ]
     },
     "metadata": {},
     "output_type": "display_data"
    },
    {
     "data": {
      "text/plain": [
       "<function __main__.plot2x2(name, response)>"
      ]
     },
     "execution_count": 22,
     "metadata": {},
     "output_type": "execute_result"
    }
   ],
   "source": [
    "from ipywidgets import interact\n",
    "import ipywidgets as widgets\n",
    "\n",
    "widgets.interact(plot2x2, name=names, response=df.loc[:,'top2_ratio':].columns)"
   ]
  },
  {
   "cell_type": "code",
   "execution_count": 19,
   "metadata": {},
   "outputs": [
    {
     "data": {
      "application/vnd.jupyter.widget-view+json": {
       "model_id": "801bcba800e447db9416b46c855c6bf9",
       "version_major": 2,
       "version_minor": 0
      },
      "text/plain": [
       "interactive(children=(Dropdown(description='name', options=('Truth', 'Berlin_Wall', 'Yugoslavia', 'Violence_ag…"
      ]
     },
     "metadata": {},
     "output_type": "display_data"
    },
    {
     "data": {
      "text/plain": [
       "<function __main__.plot16x16(name)>"
      ]
     },
     "execution_count": 19,
     "metadata": {},
     "output_type": "execute_result"
    }
   ],
   "source": [
    "\n",
    "def plot16x16(name):\n",
    "    _df = dfs[name]\n",
    "    subdf = _df[(_df.cleaned=='clean') & (_df.weighted=='weighted')]\n",
    "\n",
    "    cols = [\n",
    "        'no_of_clusters', 'no_of_outliers', 'relative_position_std_less_than_.1', 'standard_deviation_cluster_size',\n",
    "        'mean_cluster_size','variance_cluster_size', 'max_cluster_size', 'min_cluster_size',\n",
    "        'median_cluster_size', 'inter_quartile_range_cluster_size', 'gini', 'top2_ratio', \n",
    "        'skewness_cluster_size', 'kurtosis_cluster_size', 'token_entropy','position_entropy'\n",
    "    ]\n",
    "\n",
    "    fig, axes = plt.subplots(nrows=4, ncols=4, figsize=(16,16))\n",
    "    for i, column in enumerate(cols):\n",
    "        _ax = axes[int(i/4),i%4]\n",
    "        _ax.xaxis.label.set_visible(False)\n",
    "        #_ax.yaxis.axes.set_ylim(0,1)\n",
    "        if column in ('max_cluster_size', 'variance_cluster_size'):\n",
    "            _ax.yaxis.axes.set_ylim(0,500)\n",
    "        elif 'cluster_size' in column and 'skewness' not in column:\n",
    "            _ax.yaxis.axes.set_ylim(0,120)\n",
    "\n",
    "        for name2, subdf2 in subdf.groupby(['neighbour_size']): \n",
    "\n",
    "            subdf2.plot(x = 'eps', y=column, ax=_ax, label=str(name2), title=column, xticks=[.5,1,1.5,2,2.5,3,3.5,4])\n",
    "\n",
    "\n",
    "widgets.interact(plot16x16, name=names)\n"
   ]
  },
  {
   "cell_type": "code",
   "execution_count": null,
   "metadata": {},
   "outputs": [],
   "source": []
  }
 ],
 "metadata": {
  "kernelspec": {
   "display_name": "Python 3",
   "language": "python",
   "name": "python3"
  },
  "language_info": {
   "codemirror_mode": {
    "name": "ipython",
    "version": 3
   },
   "file_extension": ".py",
   "mimetype": "text/x-python",
   "name": "python",
   "nbconvert_exporter": "python",
   "pygments_lexer": "ipython3",
   "version": "3.6.7"
  }
 },
 "nbformat": 4,
 "nbformat_minor": 2
}
