{
 "cells": [
  {
   "cell_type": "code",
   "execution_count": 2,
   "metadata": {},
   "outputs": [],
   "source": [
    "import requests\n",
    "import numpy as np\n",
    "import pandas as pd\n",
    "import os\n",
    "import traceback"
   ]
  },
  {
   "cell_type": "code",
   "execution_count": 67,
   "metadata": {},
   "outputs": [],
   "source": [
    "def get_contents(baseurl, content, start_rev_id, end_rev_id=\"\"):\n",
    "    content_url = os.path.join(baseurl, \"rev_content\", content, str(start_rev_id)+\"/\")\n",
    "    if end_rev_id:\n",
    "        content_url = os.path.join(content_url, str(end_rev_id)+\"/\")\n",
    "    params = { \"o_rev_id\": \"false\", \"editor\": \"false\", \"token_id\": \"true\", \"in\": \"false\", \"out\": \"false\" }\n",
    "    try:\n",
    "        response = requests.get(content_url, params= params)\n",
    "        if response.status_code == requests.codes.ok: \n",
    "            response = response.json()\n",
    "            if \"revisions\" in response.keys() :\n",
    "                return response[\"revisions\"]\n",
    "            elif \"revisions\" not in response.keys() : \n",
    "                raise AttributeError(\"Server did not return revisions key it returned \\t\"+response.keys())\n",
    "        elif response.status_code != requests.codes.ok : \n",
    "            print(content_url)\n",
    "            raise AttributeError(\"Server returned bad code\\t\"+response.status_code)\n",
    "    except:\n",
    "        print(traceback.format_exc())"
   ]
  },
  {
   "cell_type": "code",
   "execution_count": 4,
   "metadata": {},
   "outputs": [],
   "source": [
    "def tokens_to_df(tokens):\n",
    "    tokens.insert(0, {'token_id':-1, 'str':  \"{st@rt}\"})\n",
    "    tokens.append({'token_id':-2, 'str': \"{$nd}\"})\n",
    "    return pd.Series(tokens)"
   ]
  },
  {
   "cell_type": "code",
   "execution_count": 17,
   "metadata": {},
   "outputs": [],
   "source": [
    "def save_content(revison_series, filename, content, step=200, baseurl=\"https://api.wikiwho.net/en/api/v1.0.0-beta/\"):\n",
    "    end_index = revison_series.size\n",
    "    from_index = 0\n",
    "    with pd.HDFStore(filename, 'a') as store:\n",
    "        try:\n",
    "            for to_index in  range(0, end_index, step):    \n",
    "                rev_contents = get_contents(baseurl, content, str(revison_series[from_index]), str(revison_series[to_index]))\n",
    "                from_index = to_index\n",
    "                for rev_content in rev_contents:\n",
    "                    key = \"r\"+list(rev_content.keys())[0]\n",
    "                    df = tokens_to_df(list(rev_content.values())[0][\"tokens\"])\n",
    "                    store.put(key, df, table=False)\n",
    "            to_index = from_index + (end_index-1)%step\n",
    "            rev_contents = get_contents(baseurl, content, str(revison_series[from_index]), str(revison_series[to_index]))\n",
    "            rev_contents.extend(get_contents(baseurl, content, str(revison_series[to_index])))\n",
    "            for rev_content in rev_contents:\n",
    "                key = \"r\"+list(rev_content.keys())[0]\n",
    "                df = tokens_to_df(list(rev_content.values())[0][\"tokens\"])\n",
    "                store.put(key, df, table=False)\n",
    "        except:\n",
    "            print(\"problem \", traceback.format_exc())"
   ]
  },
  {
   "cell_type": "code",
   "execution_count": 93,
   "metadata": {},
   "outputs": [],
   "source": [
    "def save_article(article_name, baseurl=\"https://api.wikiwho.net/en/api/v1.0.0-beta/\", save_dir = \"../data/content\", step=200):\n",
    "    params = {\"editor\": \"true\", \"timestamp\": \"true\"}\n",
    "    filename = article_name + \".h5\"\n",
    "    revisions_url = os.path.join( baseurl, \"rev_ids\", article_name+\"/\")\n",
    "    response = requests.get(revisions_url, params= params)\n",
    "    revisons_list = response.json()[\"revisions\"]\n",
    "    rev_list_df = pd.DataFrame(revisons_list)\n",
    "    save_path = os.path.join(save_dir, filename)\n",
    "    with pd.HDFStore(save_path, 'a') as store:\n",
    "        store.put(\"rev_list\", rev_list_df, table=False)\n",
    "    save_content(rev_list_df[\"id\"], save_path, article_name, step=step)"
   ]
  },
  {
   "cell_type": "code",
   "execution_count": 88,
   "metadata": {},
   "outputs": [],
   "source": [
    "def tokens_to_list(tokens):\n",
    "    token_ids =   [ token[\"token_id\"] for token in tokens ]\n",
    "\n",
    "    token_ids.insert(0, -1)\n",
    "    token_ids.append(-2)\n",
    "    return pd.DataFrame(token_ids)"
   ]
  },
  {
   "cell_type": "code",
   "execution_count": 89,
   "metadata": {},
   "outputs": [],
   "source": [
    "def save_content_list(revison_series, filename, content, step=200, baseurl=\"https://api.wikiwho.net/en/api/v1.0.0-beta/\"):\n",
    "    end_index = revison_series.size\n",
    "    from_index = 0\n",
    "    with pd.HDFStore(filename, 'a') as store:\n",
    "        try:\n",
    "            for to_index in  range(0, end_index, step):    \n",
    "                rev_contents = get_contents(baseurl, content, str(revison_series[from_index]), str(revison_series[to_index]))\n",
    "                from_index = to_index\n",
    "                for rev_content in rev_contents:\n",
    "                    key = \"r\"+list(rev_content.keys())[0]\n",
    "                    df = tokens_to_list(list(rev_content.values())[0][\"tokens\"])\n",
    "                    store.put(key, df, table=False)\n",
    "            # \n",
    "            to_index = from_index + (end_index-1)%step\n",
    "            rev_contents = get_contents(baseurl, content, str(revison_series[from_index]), str(revison_series[to_index]))\n",
    "            rev_contents.extend(get_contents(baseurl, content, str(revison_series[to_index])))\n",
    "            for rev_content in rev_contents:\n",
    "                key = \"r\"+list(rev_content.keys())[0]\n",
    "                df = tokens_to_list(list(rev_content.values())[0][\"tokens\"])\n",
    "                store.put(key, df, table=False)\n",
    "        except:\n",
    "            print(\"problem \", traceback.format_exc())"
   ]
  },
  {
   "cell_type": "code",
   "execution_count": 105,
   "metadata": {},
   "outputs": [
    {
     "name": "stdout",
     "output_type": "stream",
     "text": [
      "CPU times: user 84 ms, sys: 8 ms, total: 92 ms\n",
      "Wall time: 3.56 s\n"
     ]
    }
   ],
   "source": [
    "%%time\n",
    "baseurl = \"https://api.wikiwho.net/en/api/v1.0.0-beta/\"\n",
    "content = \"Cloning\"\n",
    "save_dir = \"../data/content\"\n",
    "params = {\"editor\": \"true\", \"timestamp\": \"true\"}\n",
    "filename = content + \"1.h5\"\n",
    "save_path = os.path.join(save_dir, filename)\n",
    "revisions_url = os.path.join( baseurl, \"rev_ids\", content+\"/\")\n",
    "response = requests.get(revisions_url, params= params)\n",
    "revisons_list = response.json()[\"revisions\"]\n",
    "rev_list_df = pd.DataFrame(revisons_list)\n",
    "# print(save_path)\n",
    "# save_content_list(rev_list_df[\"id\"], save_path, content, step=200)"
   ]
  },
  {
   "cell_type": "code",
   "execution_count": 76,
   "metadata": {},
   "outputs": [
    {
     "name": "stdout",
     "output_type": "stream",
     "text": [
      "https://api.wikiwho.net/en/api/v1.0.0-beta/rev_content/Violence_against_Muslims_in_India/561890618/\n",
      "Traceback (most recent call last):\n",
      "  File \"<ipython-input-67-cf37cfe74b70>\", line 16, in get_contents\n",
      "    raise AttributeError(\"Server returned bad code\\t\"+response.status_code)\n",
      "TypeError: must be str, not int\n",
      "\n"
     ]
    },
    {
     "ename": "TypeError",
     "evalue": "'NoneType' object is not subscriptable",
     "output_type": "error",
     "traceback": [
      "\u001b[0;31m---------------------------------------------------------------------------\u001b[0m",
      "\u001b[0;31mTypeError\u001b[0m                                 Traceback (most recent call last)",
      "\u001b[0;32m<timed exec>\u001b[0m in \u001b[0;36m<module>\u001b[0;34m()\u001b[0m\n",
      "\u001b[0;31mTypeError\u001b[0m: 'NoneType' object is not subscriptable"
     ]
    }
   ],
   "source": [
    "%%time\n",
    "rev_contents = {}\n",
    "# for revision in revisons_list[50:160]:\n",
    "#     rev_id = str(revision[\"id\"])\n",
    "#     response = get_contents(baseurl, content, rev_id)\n",
    "#     rev_contents[revision[\"id\"]] = [ token[\"token_id\"] for token in response[0][ rev_id ][\"tokens\"] ]\n",
    "# with pd.HDFStore(filename, 'a') as store:\n",
    "#     store.put(\"rev_list\", rev_list_df, table=False)\n",
    "\n",
    "# %time save_content(rev_list_df[\"id\"], filename, content, step=200)\n",
    "\n",
    "# %time save_content(rev_list_df[\"id\"], filename, content, step=50)\n",
    "\n",
    "# %time save_content(rev_list_df[\"id\"], filename, content, step=20)"
   ]
  },
  {
   "cell_type": "code",
   "execution_count": 80,
   "metadata": {},
   "outputs": [],
   "source": [
    "article_series=pd.read_csv(\"../conflicted_article.csv\")[\"articles\"]"
   ]
  },
  {
   "cell_type": "code",
   "execution_count": 94,
   "metadata": {},
   "outputs": [],
   "source": [
    "save_article(article_series[7])"
   ]
  },
  {
   "cell_type": "code",
   "execution_count": null,
   "metadata": {},
   "outputs": [
    {
     "name": "stdout",
     "output_type": "stream",
     "text": [
      "Christianity\n"
     ]
    }
   ],
   "source": [
    "%%time\n",
    "for article in article_series[1:]:\n",
    "    print(article)\n",
    "    save_article(article)"
   ]
  },
  {
   "cell_type": "code",
   "execution_count": 28,
   "metadata": {},
   "outputs": [],
   "source": [
    "article_name = article_series[]\n",
    "file_name = article_name + \".h5\"\n",
    "save_path = os.path.join(\"../data/content\", file_name)"
   ]
  },
  {
   "cell_type": "code",
   "execution_count": 30,
   "metadata": {},
   "outputs": [
    {
     "data": {
      "text/plain": [
       "0                   Friedrich_Nietzsche\n",
       "1                          Christianity\n",
       "2                              HIV/AIDS\n",
       "3                               Cloning\n",
       "4                              Gambling\n",
       "5                              Crusades\n",
       "6                       White_Americans\n",
       "7                            Yugoslavia\n",
       "8                                 Tibet\n",
       "9                   Macedonian_language\n",
       "10    Violence_against_Muslims_in_India\n",
       "11         IQ_and_the_Wealth_of_Nations\n",
       "12         Systemic_lupus_erythematosus\n",
       "13                        Human_cloning\n",
       "14                          Solar_power\n",
       "15                    Electronic_voting\n",
       "16                          Berlin_Wall\n",
       "17                           Censorship\n",
       "18                                Truth\n",
       "19                         Panama_Canal\n",
       "Name: articles, dtype: object"
      ]
     },
     "execution_count": 30,
     "metadata": {},
     "output_type": "execute_result"
    }
   ],
   "source": [
    "article_series"
   ]
  },
  {
   "cell_type": "code",
   "execution_count": null,
   "metadata": {},
   "outputs": [],
   "source": []
  }
 ],
 "metadata": {
  "kernelspec": {
   "display_name": "Python 3",
   "language": "python",
   "name": "python3"
  },
  "language_info": {
   "codemirror_mode": {
    "name": "ipython",
    "version": 3
   },
   "file_extension": ".py",
   "mimetype": "text/x-python",
   "name": "python",
   "nbconvert_exporter": "python",
   "pygments_lexer": "ipython3",
   "version": "3.6.4"
  }
 },
 "nbformat": 4,
 "nbformat_minor": 2
}
