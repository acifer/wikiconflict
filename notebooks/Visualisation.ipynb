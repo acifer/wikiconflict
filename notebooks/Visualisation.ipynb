{
 "cells": [
  {
   "cell_type": "code",
   "execution_count": 1,
   "metadata": {},
   "outputs": [
    {
     "ename": "ModuleNotFoundError",
     "evalue": "No module named 'scripts.wiki'",
     "output_type": "error",
     "traceback": [
      "\u001b[0;31m---------------------------------------------------------------------------\u001b[0m",
      "\u001b[0;31mModuleNotFoundError\u001b[0m                       Traceback (most recent call last)",
      "\u001b[0;32m<ipython-input-1-c3516aac8bd1>\u001b[0m in \u001b[0;36m<module>\u001b[0;34m()\u001b[0m\n\u001b[1;32m     12\u001b[0m \u001b[0;34m\u001b[0m\u001b[0m\n\u001b[1;32m     13\u001b[0m \u001b[0msys\u001b[0m\u001b[0;34m.\u001b[0m\u001b[0mpath\u001b[0m\u001b[0;34m.\u001b[0m\u001b[0mappend\u001b[0m\u001b[0;34m(\u001b[0m\u001b[0;34m\"../\"\u001b[0m\u001b[0;34m)\u001b[0m\u001b[0;34m\u001b[0m\u001b[0m\n\u001b[0;32m---> 14\u001b[0;31m \u001b[0;32mfrom\u001b[0m \u001b[0mscripts\u001b[0m\u001b[0;34m.\u001b[0m\u001b[0mwiki\u001b[0m \u001b[0;32mimport\u001b[0m \u001b[0mWiki\u001b[0m\u001b[0;34m,\u001b[0m\u001b[0mRevision\u001b[0m\u001b[0;34m\u001b[0m\u001b[0m\n\u001b[0m",
      "\u001b[0;31mModuleNotFoundError\u001b[0m: No module named 'scripts.wiki'"
     ]
    }
   ],
   "source": [
    "import sys\n",
    "import os\n",
    "import pickle\n",
    "\n",
    "from IPython.display import HTML\n",
    "\n",
    "# from ipywidgets import interact, interactive, fixed, interact_manual, HBox,HTML\n",
    "\n",
    "import ipywidgets as widgets\n",
    "import pandas as pd\n",
    "import numpy as np\n",
    "\n",
    "sys.path.append(\"../\")\n",
    "from scripts.wiki import Wiki,Revision\n",
    "\n"
   ]
  },
  {
   "cell_type": "markdown",
   "metadata": {},
   "source": [
    "# Visualisation for a single article \n",
    "\n",
    "All change object  between **revision ids** for an article. Given an **article_name** and a *revision id* shows change object with next *revision id*."
   ]
  },
  {
   "cell_type": "code",
   "execution_count": null,
   "metadata": {},
   "outputs": [],
   "source": [
    "table_style =     [\n",
    "    {'selector': 'table', 'props': [('border', \"6px double #696969\")]},\n",
    "    {'selector': 'th', 'props': [('border', \"2px solid #D3D3D3\"), (\"font-size\", \"100%\")]},\n",
    "    {\"selector\":\".data\", \"props\":[(\"text-align\", \"justify\"), ('border', \"1px solid #000\"), ('margin', '4px 24px 4px 24px' ), (\"font-size\", \"8pt\")]}\n",
    "] \n",
    "\n",
    "deleted_token_style = {\"color\":\"red\", \"font-weight\": \"bold\",\"font-size\": \"100px\"}\n",
    "inserted_token_style = {\"color\":\"blue\", \"font-weight\": \"bold\",\"font-size\": \"100px\"}"
   ]
  },
  {
   "cell_type": "code",
   "execution_count": null,
   "metadata": {},
   "outputs": [],
   "source": [
    "### getting the vlaue of the article to visualise data.\n",
    "article_name = \"John_Logie_Baird\""
   ]
  },
  {
   "cell_type": "markdown",
   "metadata": {},
   "source": [
    "### Show revision contents."
   ]
  },
  {
   "cell_type": "code",
   "execution_count": null,
   "metadata": {},
   "outputs": [],
   "source": [
    "change_object_dir =  \"../data/change objects/\"\n",
    "change_dataframe_path = os.path.join(change_object_dir, article_name+\"_change.h5\")\n",
    "\n",
    "change_df=pd.read_hdf(change_dataframe_path, key=\"data\")"
   ]
  },
  {
   "cell_type": "code",
   "execution_count": null,
   "metadata": {},
   "outputs": [],
   "source": [
    "bykau_dir =  \"../data/bykau_change_object/\"\n",
    "filename =  f\"{article_name}_change.h5\"\n",
    "\n",
    "change_object_file = os.path.join(bykau_dir, filename)\n",
    "bykau_change_df = pd.read_hdf(change_object_file, key=\"data\")"
   ]
  },
  {
   "cell_type": "code",
   "execution_count": null,
   "metadata": {},
   "outputs": [],
   "source": [
    "# %%time\n",
    "# change_object_dir =  \"../data/change objects/\"\n",
    "# filename = article_name + \".pkl\"\n",
    "# filepath = os.path.join(change_object_dir, filename)\n",
    "# if os.path.exists(filepath):\n",
    "#     with open(filepath, \"rb\") as file:\n",
    "#         wiki = pickle.load(file)\n",
    "# else:\n",
    "#     print(\"file do not exist\")"
   ]
  },
  {
   "cell_type": "markdown",
   "metadata": {},
   "source": [
    "##### Reading revision list"
   ]
  },
  {
   "cell_type": "code",
   "execution_count": null,
   "metadata": {},
   "outputs": [],
   "source": [
    "content_dir = \"../data/content/\"\n",
    "content_file = article_name + \".h5\"\n",
    "content_path = os.path.join(content_dir, content_file)\n",
    "\n",
    "with pd.HDFStore(content_path, 'r') as store:\n",
    "    #retrieving all rev list and change object from file\n",
    "    rev_list = store.get(\"rev_list\")"
   ]
  },
  {
   "cell_type": "code",
   "execution_count": null,
   "metadata": {},
   "outputs": [],
   "source": [
    "def display_article_content(index, rev_list, out):\n",
    "    with out:\n",
    "        out.clear_output()\n",
    "    with out:\n",
    "        display(\"Content is being loaded from hard disk please wait.\")\n",
    "    from_rev_id = str(rev_list.loc[index, \"id\"])\n",
    "    from_key = \"r\" + from_rev_id\n",
    "    to_rev_id = str(rev_list.loc[index+1, \"id\"])\n",
    "    to_key = \"r\" + to_rev_id\n",
    "    with pd.HDFStore(content_path, 'r') as store:\n",
    "        from_rev_data = store.get(from_key)\n",
    "        to_rev_data = store.get(to_key)\n",
    "    \n",
    "    #deleted positions\n",
    "    deleted_positions = change_df.loc[rev_list.loc[index,\"id\"]].reset_index(drop=True)[[\"del_start_pos\", \"del_end_pos\"]]\n",
    "    deleted_positions = deleted_positions[deleted_positions[\"del_start_pos\"]!=-1]\n",
    "    deleted_positions = deleted_positions.apply(lambda x: np.arange(x[\"del_start_pos\"], x[\"del_end_pos\"]+1) , axis=1).values\n",
    "    if deleted_positions.size !=0:\n",
    "        deleted_positions = np.concatenate(deleted_positions, axis=0)\n",
    "    else: \n",
    "        deleted_positions = np.empty(0)\n",
    "        \n",
    "    #inserted position\n",
    "    inserted_positions = change_df.loc[rev_list.loc[index,\"id\"]].reset_index(drop=True)[[\"ins_start_pos\", \"ins_end_pos\"]]\n",
    "    inserted_positions = inserted_positions[inserted_positions[\"ins_start_pos\"]!=-1]\n",
    "    inserted_positions = inserted_positions.apply(lambda x: np.arange(x[\"ins_start_pos\"], x[\"ins_end_pos\"]+1) , axis=1).values\n",
    "    if inserted_positions.size !=0:\n",
    "        inserted_positions = np.concatenate(inserted_positions, axis=0)\n",
    "    else: \n",
    "        inserted_positions = np.empty(0)\n",
    "        \n",
    "    #show deleted positions as red in revisions which was changed or from_rev.\n",
    "    from_html = widgets.HTML(from_rev_data.style.set_caption(\" Tok track tokens for revision id \"+ from_rev_id).set_table_styles(table_style).\n",
    "                             set_properties(subset= pd.IndexSlice[deleted_positions,:], **deleted_token_style).render())\n",
    "    #show inserted positions as green in revisions which was changed or to_rev.\n",
    "    to_html = widgets.HTML(to_rev_data.style.set_caption(\" Tok track tokens to revision id \"+ to_rev_id).set_table_styles(table_style).\n",
    "                           set_properties(subset= pd.IndexSlice[inserted_positions,:], **inserted_token_style ).render())\n",
    "    \n",
    "    editor = rev_list.loc[index,\"editor\"] \n",
    "    timestamp = rev_list.loc[index, \"timestamp\"]\n",
    "    change_html = widgets.HTML(change_df.loc[rev_list.loc[index,\"id\"], [\"left_token\", \"ins_tokens\", \"del_tokens\", \"right_token\"]].reset_index(drop=True).\n",
    "                               style.set_caption(f\"change object created by  {editor} at {timestamp} \" ).\n",
    "                               set_table_styles(table_style).set_properties( subset= pd.IndexSlice[:,\"ins_tokens\"], **inserted_token_style).\n",
    "                               set_properties(subset= pd.IndexSlice[:, \"del_tokens\"], **deleted_token_style ).render())\n",
    "    if rev_list.loc[index,\"id\"]  in bykau_change_df.index:\n",
    "        bykau_change_html = widgets.HTML(bykau_change_df.loc[rev_list.loc[index,\"id\"], [\"left_token\", \"ins_tokens\", \"del_tokens\", \"right_token\"]].reset_index(drop=True).\n",
    "                               style.set_caption(f\"bykau et al change object created by  {editor} at {timestamp} \" ).\n",
    "                               set_table_styles(table_style).set_properties( subset= pd.IndexSlice[:,\"ins_tokens\"], **inserted_token_style).\n",
    "                               set_properties(subset= pd.IndexSlice[:, \"del_tokens\"], **deleted_token_style ).render())\n",
    "    else:\n",
    "        bykau_change_html = widgets.HTML(\"<p>revision id do not exist in byaku change object.</p>\")\n",
    "    with out:\n",
    "        out.clear_output()\n",
    "    with out:\n",
    "        display(widgets.HBox([from_html, to_html, change_html, bykau_change_html]))"
   ]
  },
  {
   "cell_type": "code",
   "execution_count": null,
   "metadata": {},
   "outputs": [],
   "source": [
    "drop_down = list(zip(rev_list.id, rev_list.index))"
   ]
  },
  {
   "cell_type": "code",
   "execution_count": null,
   "metadata": {},
   "outputs": [],
   "source": [
    "outp = widgets.Output(layout={'border': '1px solid black'})"
   ]
  },
  {
   "cell_type": "markdown",
   "metadata": {},
   "source": [
    "## This shows change object between two revision ids\n",
    "**Please rerun next two cells each time page is reloaded**\n",
    "\n"
   ]
  },
  {
   "cell_type": "code",
   "execution_count": null,
   "metadata": {},
   "outputs": [],
   "source": [
    "widgets.interact(display_article_content, index=drop_down, rev_list= widgets.fixed(rev_list), out=widgets.fixed(outp));"
   ]
  },
  {
   "cell_type": "code",
   "execution_count": null,
   "metadata": {},
   "outputs": [],
   "source": [
    "outp"
   ]
  },
  {
   "cell_type": "code",
   "execution_count": null,
   "metadata": {},
   "outputs": [],
   "source": []
  }
 ],
 "metadata": {
  "kernelspec": {
   "display_name": "Python 3",
   "language": "python",
   "name": "python3"
  },
  "language_info": {
   "codemirror_mode": {
    "name": "ipython",
    "version": 3
   },
   "file_extension": ".py",
   "mimetype": "text/x-python",
   "name": "python",
   "nbconvert_exporter": "python",
   "pygments_lexer": "ipython3",
   "version": "3.7.0"
  }
 },
 "nbformat": 4,
 "nbformat_minor": 2
}
